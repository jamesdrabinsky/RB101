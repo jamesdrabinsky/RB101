{
 "cells": [
  {
   "cell_type": "code",
   "execution_count": null,
   "metadata": {},
   "outputs": [],
   "source": [
    "flintstones = [\"Fred\", \"Barney\", \"Wilma\", \"Betty\", \"Pebbles\", \"BamBam\"]\n",
    "\n",
    "flintstones.each_with_index.to_h"
   ]
  },
  {
   "cell_type": "code",
   "execution_count": null,
   "metadata": {},
   "outputs": [],
   "source": [
    "hsh = { apple: 'Produce', carrot: 'Produce', pear: 'Produce', broccoli: 'Produce' }\n",
    "\n",
    "\n",
    "hsh.map do |k, v|\n",
    "  if  [:apple, :pear].include?(k)\n",
    "    v = 'Fruit'\n",
    "  else\n",
    "    v = \"Vegetable\"\n",
    "  end\n",
    "end"
   ]
  },
  {
   "cell_type": "code",
   "execution_count": null,
   "metadata": {},
   "outputs": [],
   "source": [
    "numbers = [1, 2, 3, 4]\n",
    "numbers.each do |number|\n",
    "  p number\n",
    "  numbers.shift(1)\n",
    "end\n",
    "\n",
    "\n",
    "numbers = [1, 2, 3, 4]\n",
    "numbers.each do |number|\n",
    "  p number\n",
    "  numbers.pop(1)\n",
    "end"
   ]
  },
  {
   "cell_type": "markdown",
   "metadata": {},
   "source": [
    "### Practice Problems: Sorting, Nested Collections and Working with Blocks"
   ]
  },
  {
   "cell_type": "markdown",
   "metadata": {},
   "source": [
    "**5, 6**<br>\n",
    "**For a multi-dimensional collection, is the return value of the outer block execution a new transformed (or filtered) sub-array or nested hash?**\n",
    "\n",
    "```ruby\n",
    "[{ a: 'ant', b: 'elephant' }, { c: 'cat' }].select do |hash|\n",
    "  hash.all? do |key, value|\n",
    "    value[0] == key.to_s\n",
    "  end\n",
    "end\n",
    "\n",
    "\n",
    "[[1, 2], [3, 4]].map do |arr|\n",
    "  arr.map do |num|\n",
    "    num * 2\n",
    "  end\n",
    "end\n",
    "```"
   ]
  },
  {
   "cell_type": "code",
   "execution_count": 4,
   "metadata": {},
   "outputs": [
    {
     "data": {
      "text/plain": [
       "[[27], [\"apple\"]]"
      ]
     },
     "execution_count": 4,
     "metadata": {},
     "output_type": "execute_result"
    }
   ],
   "source": [
    "# 8 \n",
    "\n",
    "arr = [[8, 13, 27], ['apple', 'banana', 'cantaloupe']]\n",
    "new_arr = []\n",
    "\n",
    "arr.each do |sub_arr|\n",
    "  new_sub = sub_arr.select do |elem|  # Why do we need to assign variable to the return value of the select method call?\n",
    "                                      # Is it because the each method ignorees the resturn value of the outer block?\n",
    "    elem.is_a?(Integer) ? elem > 13 : elem.size < 6\n",
    "  end\n",
    "  new_arr << new_sub\n",
    "end\n",
    "\n",
    "new_arr"
   ]
  },
  {
   "cell_type": "markdown",
   "metadata": {},
   "source": [
    "###  Lesson 5 - Working With Blocks - 4\n",
    "\n",
    "```ruby\n",
    "my_arr = [[18, 7], [3, 12]].each do |arr|\n",
    "  arr.each do |num|\n",
    "    if num > 5\n",
    "      puts num\n",
    "    end\n",
    "  end\n",
    "end\n",
    "```\n",
    "\n",
    "- Does an `if` conditional always return `nil`\n",
    "- The inner block return `nil` but the outer block returns the sub-array?"
   ]
  },
  {
   "cell_type": "markdown",
   "metadata": {},
   "source": [
    "###  Lesson 5 - Working With Blocks - 6\n",
    "\n",
    "```ruby\n",
    "arr = [{ a: 'ant', b: 'elephant' }, { c: 'cat' }]\n",
    "\n",
    "arr.map do |hsh|\n",
    "  hsh.select do |k, v|\n",
    "    k.to_s == v[0]\n",
    "  end\n",
    "end\n",
    "```\n",
    "\n",
    "- What is the return value of the inner block?  (Boolean?)\n",
    "\n",
    "```ruby\n",
    "arr = [{ a: 'ant', b: 'elephant' }, { c: 'cat' }]\n",
    "\n",
    "arr.select do |hsh|\n",
    "  hsh.all? do |k, v|\n",
    "    k.to_s == v[0]\n",
    "  end\n",
    "end\n",
    "```\n",
    "\n",
    "- What is the return value of the inner block?\n",
    "- What is the return value of `all?`?"
   ]
  },
  {
   "cell_type": "markdown",
   "metadata": {},
   "source": [
    "### Practice Problems #7"
   ]
  },
  {
   "cell_type": "markdown",
   "metadata": {},
   "source": [
    "Given this code, what would be the final values of a and b? Try to work this out without running the code."
   ]
  },
  {
   "cell_type": "code",
   "execution_count": 2,
   "metadata": {},
   "outputs": [
    {
     "data": {
      "text/plain": [
       "[4, [3, 8]]"
      ]
     },
     "execution_count": 2,
     "metadata": {},
     "output_type": "execute_result"
    }
   ],
   "source": [
    "a = 2\n",
    "b = [5, 8]\n",
    "arr = [a, b]\n",
    "\n",
    "arr[0] += 2 \n",
    "arr[1][0] -= a\n",
    "\n",
    "arr"
   ]
  },
  {
   "cell_type": "markdown",
   "metadata": {},
   "source": [
    "### Quiz Question 7\n",
    "\n",
    "Without running the code attempt to work out what the last three lines will output."
   ]
  },
  {
   "cell_type": "code",
   "execution_count": null,
   "metadata": {},
   "outputs": [],
   "source": [
    "a = 'hi'\n",
    "english_greetings = ['hello', a, 'good morning']\n",
    "\n",
    "greetings = {\n",
    "  french: ['bonjour', 'salut', 'allo'],\n",
    "  english: english_greetings,\n",
    "  italian: ['buongiorno', 'buonasera', 'ciao']\n",
    "}\n",
    "\n",
    "greetings[:english][1] = 'hey'\n",
    "\n",
    "greetings.each do |language, greeting_list|\n",
    "  greeting_list.each { |greeting| greeting.upcase! }\n",
    "end\n",
    "\n",
    "puts a\n",
    "puts english_greetings[1]\n",
    "puts greetings[:english][1]"
   ]
  },
  {
   "cell_type": "markdown",
   "metadata": {},
   "source": [
    "### Quiz Question 10\n",
    "\n",
    "While reviewing it, you spot a bug. Identify the line causing the bug."
   ]
  },
  {
   "cell_type": "code",
   "execution_count": null,
   "metadata": {},
   "outputs": [],
   "source": [
    "fulfilled_orders = customer_orders.map do |customer|\n",
    "  {\n",
    "    customer_id: customer[:customer_id],\n",
    "    customer_name: customer[:customer_name]\n",
    "  }\n",
    "end\n",
    "\n",
    "customer_orders.each_with_index do |data, index|\n",
    "  order_value = data[:orders].reduce(0) do |total, order|\n",
    "    total + order[:order_value] if order[:order_fulfilled] # If conditional when using reduce/inject\n",
    "  end\n",
    "\n",
    "  fulfilled_orders[index][:order_value] = order_value\n",
    "end"
   ]
  },
  {
   "cell_type": "markdown",
   "metadata": {},
   "source": [
    "### Small Problems Easy_4; #2"
   ]
  },
  {
   "cell_type": "markdown",
   "metadata": {},
   "source": [
    "### Small Problems Easy_4; #3"
   ]
  },
  {
   "cell_type": "markdown",
   "metadata": {},
   "source": [
    "### Practice Problems #10"
   ]
  },
  {
   "cell_type": "markdown",
   "metadata": {},
   "source": []
  }
 ],
 "metadata": {
  "kernelspec": {
   "display_name": "Ruby 2.7.5",
   "language": "ruby",
   "name": "ruby"
  },
  "language_info": {
   "file_extension": ".rb",
   "mimetype": "application/x-ruby",
   "name": "ruby",
   "version": "2.7.5"
  },
  "orig_nbformat": 4,
  "vscode": {
   "interpreter": {
    "hash": "aee8b7b246df8f9039afb4144a1f6fd8d2ca17a180786b69acc140d282b71a49"
   }
  }
 },
 "nbformat": 4,
 "nbformat_minor": 2
}
