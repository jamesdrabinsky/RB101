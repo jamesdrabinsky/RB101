{
 "cells": [
  {
   "cell_type": "code",
   "execution_count": null,
   "metadata": {},
   "outputs": [],
   "source": [
    "flintstones = [\"Fred\", \"Barney\", \"Wilma\", \"Betty\", \"Pebbles\", \"BamBam\"]\n",
    "\n",
    "flintstones.each_with_index.to_h"
   ]
  },
  {
   "cell_type": "code",
   "execution_count": null,
   "metadata": {},
   "outputs": [],
   "source": [
    "hsh = { apple: 'Produce', carrot: 'Produce', pear: 'Produce', broccoli: 'Produce' }\n",
    "\n",
    "\n",
    "hsh.map do |k, v|\n",
    "  if  [:apple, :pear].include?(k)\n",
    "    v = 'Fruit'\n",
    "  else\n",
    "    v = \"Vegetable\"\n",
    "  end\n",
    "end"
   ]
  },
  {
   "cell_type": "code",
   "execution_count": null,
   "metadata": {},
   "outputs": [],
   "source": [
    "numbers = [1, 2, 3, 4]\n",
    "numbers.each do |number|\n",
    "  p number\n",
    "  numbers.shift(1)\n",
    "end\n",
    "\n",
    "\n",
    "numbers = [1, 2, 3, 4]\n",
    "numbers.each do |number|\n",
    "  p number\n",
    "  numbers.pop(1)\n",
    "end"
   ]
  }
 ],
 "metadata": {
  "kernelspec": {
   "display_name": "Ruby 2.7.5",
   "language": "ruby",
   "name": "ruby"
  },
  "language_info": {
   "file_extension": ".rb",
   "mimetype": "application/x-ruby",
   "name": "ruby",
   "version": "2.7.5"
  },
  "orig_nbformat": 4,
  "vscode": {
   "interpreter": {
    "hash": "aee8b7b246df8f9039afb4144a1f6fd8d2ca17a180786b69acc140d282b71a49"
   }
  }
 },
 "nbformat": 4,
 "nbformat_minor": 2
}
