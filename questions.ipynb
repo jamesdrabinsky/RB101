{
 "cells": [
  {
   "cell_type": "code",
   "execution_count": null,
   "metadata": {},
   "outputs": [],
   "source": [
    "flintstones = [\"Fred\", \"Barney\", \"Wilma\", \"Betty\", \"Pebbles\", \"BamBam\"]\n",
    "\n",
    "flintstones.each_with_index.to_h"
   ]
  },
  {
   "cell_type": "code",
   "execution_count": null,
   "metadata": {},
   "outputs": [],
   "source": [
    "hsh = { apple: 'Produce', carrot: 'Produce', pear: 'Produce', broccoli: 'Produce' }\n",
    "\n",
    "\n",
    "hsh.map do |k, v|\n",
    "  if  [:apple, :pear].include?(k)\n",
    "    v = 'Fruit'\n",
    "  else\n",
    "    v = \"Vegetable\"\n",
    "  end\n",
    "end"
   ]
  },
  {
   "cell_type": "code",
   "execution_count": null,
   "metadata": {},
   "outputs": [],
   "source": [
    "numbers = [1, 2, 3, 4]\n",
    "numbers.each do |number|\n",
    "  p number\n",
    "  numbers.shift(1)\n",
    "end\n",
    "\n",
    "\n",
    "numbers = [1, 2, 3, 4]\n",
    "numbers.each do |number|\n",
    "  p number\n",
    "  numbers.pop(1)\n",
    "end"
   ]
  },
  {
   "cell_type": "markdown",
   "metadata": {},
   "source": [
    "### Practice Problems: Sorting, Nested Collections and Working with Blocks"
   ]
  },
  {
   "cell_type": "markdown",
   "metadata": {},
   "source": [
    "**5, 6**<br>\n",
    "**For a multi-dimensional collection, is the return value of the outer block execution a new transformed (or filtered) sub-array or nested hash?**\n",
    "\n",
    "```ruby\n",
    "[{ a: 'ant', b: 'elephant' }, { c: 'cat' }].select do |hash|\n",
    "  hash.all? do |key, value|\n",
    "    value[0] == key.to_s\n",
    "  end\n",
    "end\n",
    "\n",
    "\n",
    "[[1, 2], [3, 4]].map do |arr|\n",
    "  arr.map do |num|\n",
    "    num * 2\n",
    "  end\n",
    "end\n",
    "```"
   ]
  },
  {
   "cell_type": "code",
   "execution_count": 4,
   "metadata": {},
   "outputs": [
    {
     "data": {
      "text/plain": [
       "[[27], [\"apple\"]]"
      ]
     },
     "execution_count": 4,
     "metadata": {},
     "output_type": "execute_result"
    }
   ],
   "source": [
    "# 8 \n",
    "\n",
    "arr = [[8, 13, 27], ['apple', 'banana', 'cantaloupe']]\n",
    "new_arr = []\n",
    "\n",
    "arr.each do |sub_arr|\n",
    "  new_sub = sub_arr.select do |elem|  # Why do we need to assign variable to the return value of the select method call?\n",
    "                                      # Is it because the each method ignorees the resturn value of the outer block?\n",
    "    elem.is_a?(Integer) ? elem > 13 : elem.size < 6\n",
    "  end\n",
    "  new_arr << new_sub\n",
    "end\n",
    "\n",
    "new_arr"
   ]
  },
  {
   "cell_type": "markdown",
   "metadata": {},
   "source": [
    "### Small Problems Easy_4; #2"
   ]
  },
  {
   "cell_type": "markdown",
   "metadata": {},
   "source": [
    "### Small Problems Easy_4; #3"
   ]
  },
  {
   "cell_type": "markdown",
   "metadata": {},
   "source": [
    "### Practie Problems #7"
   ]
  },
  {
   "cell_type": "markdown",
   "metadata": {},
   "source": [
    "### Practice Problems #10"
   ]
  },
  {
   "cell_type": "markdown",
   "metadata": {},
   "source": []
  }
 ],
 "metadata": {
  "kernelspec": {
   "display_name": "Ruby 2.7.5",
   "language": "ruby",
   "name": "ruby"
  },
  "language_info": {
   "file_extension": ".rb",
   "mimetype": "application/x-ruby",
   "name": "ruby",
   "version": "2.7.5"
  },
  "orig_nbformat": 4,
  "vscode": {
   "interpreter": {
    "hash": "aee8b7b246df8f9039afb4144a1f6fd8d2ca17a180786b69acc140d282b71a49"
   }
  }
 },
 "nbformat": 4,
 "nbformat_minor": 2
}
