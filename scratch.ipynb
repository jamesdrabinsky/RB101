{
 "cells": [
  {
   "cell_type": "code",
   "execution_count": 2,
   "metadata": {},
   "outputs": [
    {
     "data": {
      "text/plain": [
       "984"
      ]
     },
     "execution_count": 2,
     "metadata": {},
     "output_type": "execute_result"
    }
   ],
   "source": [
    "s = 'Four score'\n",
    "\n",
    "s.chars.reduce(0) do |total, char|\n",
    "  total += char.ord\n",
    "end"
   ]
  },
  {
   "cell_type": "code",
   "execution_count": 5,
   "metadata": {},
   "outputs": [
    {
     "ename": "ArgumentError",
     "evalue": "wrong number of arguments (given 1, expected 0)",
     "output_type": "error",
     "traceback": [
      "\u001b[31mArgumentError\u001b[0m: wrong number of arguments (given 1, expected 0)",
      "(irb):2:in `ord'",
      "(irb):2:in `each'",
      "(irb):2:in `reduce'",
      "(irb):2:in `irb_binding'"
     ]
    }
   ],
   "source": [
    "s = 'Four score'\n",
    "\n",
    "s.chars.sum(&:ord)"
   ]
  },
  {
   "cell_type": "code",
   "execution_count": 6,
   "metadata": {},
   "outputs": [
    {
     "data": {
      "text/plain": [
       "984"
      ]
     },
     "execution_count": 6,
     "metadata": {},
     "output_type": "execute_result"
    }
   ],
   "source": [
    "s = 'Four score'\n",
    "n = s.size - 1\n",
    "\n",
    "(0..n).reduce(0) { |total, idx| total += s[idx].ord}"
   ]
  },
  {
   "cell_type": "code",
   "execution_count": 7,
   "metadata": {},
   "outputs": [
    {
     "data": {
      "text/plain": [
       "984"
      ]
     },
     "execution_count": 7,
     "metadata": {},
     "output_type": "execute_result"
    }
   ],
   "source": [
    "s = 'Four score'\n",
    "n = s.size - 1\n",
    "\n",
    "(0..n).sum { |idx| s[idx].ord }"
   ]
  },
  {
   "cell_type": "code",
   "execution_count": 11,
   "metadata": {},
   "outputs": [
    {
     "data": {
      "text/plain": [
       "\"c\""
      ]
     },
     "execution_count": 11,
     "metadata": {},
     "output_type": "execute_result"
    }
   ],
   "source": [
    "'cd'.ord.chr"
   ]
  },
  {
   "cell_type": "markdown",
   "metadata": {},
   "source": [
    "__________________________"
   ]
  },
  {
   "cell_type": "code",
   "execution_count": 69,
   "metadata": {},
   "outputs": [
    {
     "data": {
      "text/plain": [
       "[-24, 3]"
      ]
     },
     "execution_count": 69,
     "metadata": {},
     "output_type": "execute_result"
    }
   ],
   "source": [
    "num = -1437\n",
    "\n",
    "minutes = 0\n",
    "hours = 0\n",
    "h, m = num.divmod(60)\n",
    "\n",
    "# _, h = h.divmod(24) if h.abs > 24\n",
    "\n",
    "# hours = h.zero? ? 0 : 24\n",
    "# new_hours = hours + h\n",
    "# new_minutes = minutes + m\n",
    "\n",
    "# \"#{'%02d' % new_hours}:#{'%02d' % new_minutes}\""
   ]
  },
  {
   "cell_type": "code",
   "execution_count": 70,
   "metadata": {},
   "outputs": [
    {
     "data": {
      "text/plain": [
       "[-1, 0]"
      ]
     },
     "execution_count": 70,
     "metadata": {},
     "output_type": "execute_result"
    }
   ],
   "source": [
    "-24.divmod(24)"
   ]
  },
  {
   "cell_type": "code",
   "execution_count": 51,
   "metadata": {},
   "outputs": [
    {
     "data": {
      "text/plain": [
       ":time_of_day"
      ]
     },
     "execution_count": 51,
     "metadata": {},
     "output_type": "execute_result"
    }
   ],
   "source": [
    "def time_of_day(num)\n",
    "  minutes = 0\n",
    "  h, m = num.divmod(60)\n",
    "\n",
    "  if h.abs > 24\n",
    "    _, h = h.divmod(24)\n",
    "  end\n",
    "\n",
    "  hours = (h.positive? || h.zero?) ? 0 : 24\n",
    "  new_hours = hours + h\n",
    "  new_minutes = minutes + m\n",
    "\n",
    "  \"#{'%02d' % new_hours}:#{'%02d' % new_minutes}\"\n",
    "end"
   ]
  },
  {
   "cell_type": "code",
   "execution_count": 52,
   "metadata": {},
   "outputs": [
    {
     "name": "stdout",
     "output_type": "stream",
     "text": [
      "\"00:00\"\n"
     ]
    },
    {
     "data": {
      "text/plain": [
       "\"00:00\""
      ]
     },
     "execution_count": 52,
     "metadata": {},
     "output_type": "execute_result"
    }
   ],
   "source": [
    "p time_of_day(0) \n",
    "# p time_of_day(-3) == \"23:57\"\n",
    "# p time_of_day(35) == \"00:35\"\n",
    "# p time_of_day(-1437) == \"00:03\"\n",
    "# p time_of_day(3000) == \"02:00\"\n",
    "# p time_of_day(800) == \"13:20\"\n",
    "# p time_of_day(-4231) == \"01:29\""
   ]
  },
  {
   "cell_type": "code",
   "execution_count": 85,
   "metadata": {},
   "outputs": [
    {
     "data": {
      "text/plain": [
       ":normalize_minutes_to_0_through_1439"
      ]
     },
     "execution_count": 85,
     "metadata": {},
     "output_type": "execute_result"
    }
   ],
   "source": [
    "MINUTES_PER_HOUR = 60\n",
    "HOURS_PER_DAY = 24\n",
    "MINUTES_PER_DAY = HOURS_PER_DAY * MINUTES_PER_HOUR\n",
    "\n",
    "def normalize_minutes_to_0_through_1439(minutes)\n",
    "  while minutes < 0\n",
    "    minutes += MINUTES_PER_DAY\n",
    "  end\n",
    "\n",
    "  minutes % MINUTES_PER_DAY\n",
    "end"
   ]
  },
  {
   "cell_type": "code",
   "execution_count": 86,
   "metadata": {},
   "outputs": [
    {
     "data": {
      "text/plain": [
       "3000"
      ]
     },
     "execution_count": 86,
     "metadata": {},
     "output_type": "execute_result"
    }
   ],
   "source": [
    "minutes = 3000\n",
    "\n",
    "while minutes < 0\n",
    "  minutes += MINUTES_PER_DAY\n",
    "end\n",
    "\n",
    "minutes"
   ]
  },
  {
   "cell_type": "code",
   "execution_count": 89,
   "metadata": {},
   "outputs": [
    {
     "data": {
      "text/plain": [
       "120"
      ]
     },
     "execution_count": 89,
     "metadata": {},
     "output_type": "execute_result"
    }
   ],
   "source": [
    "normalized_minutes = 3000 % MINUTES_PER_DAY"
   ]
  },
  {
   "cell_type": "code",
   "execution_count": 90,
   "metadata": {},
   "outputs": [
    {
     "name": "stdout",
     "output_type": "stream",
     "text": [
      "2\n",
      "0\n"
     ]
    }
   ],
   "source": [
    "hours, minutes = normalized_minutes.divmod(60)\n",
    "\n",
    "puts hours\n",
    "puts minutes"
   ]
  },
  {
   "cell_type": "code",
   "execution_count": 94,
   "metadata": {},
   "outputs": [
    {
     "data": {
      "text/plain": [
       "\"02:00\""
      ]
     },
     "execution_count": 94,
     "metadata": {},
     "output_type": "execute_result"
    }
   ],
   "source": [
    "format('%02d:%02d', hours, minutes)"
   ]
  },
  {
   "cell_type": "code",
   "execution_count": 80,
   "metadata": {},
   "outputs": [
    {
     "data": {
      "text/plain": [
       "120"
      ]
     },
     "execution_count": 80,
     "metadata": {},
     "output_type": "execute_result"
    }
   ],
   "source": [
    "minutes % MINUTES_PER_DAY"
   ]
  },
  {
   "cell_type": "code",
   "execution_count": 81,
   "metadata": {},
   "outputs": [
    {
     "data": {
      "text/plain": [
       "[2, 0]"
      ]
     },
     "execution_count": 81,
     "metadata": {},
     "output_type": "execute_result"
    }
   ],
   "source": [
    "hours, minutes = 120.divmod(60)"
   ]
  },
  {
   "cell_type": "code",
   "execution_count": 1,
   "metadata": {},
   "outputs": [
    {
     "data": {
      "text/plain": [
       "1440"
      ]
     },
     "execution_count": 1,
     "metadata": {},
     "output_type": "execute_result"
    }
   ],
   "source": [
    "MINUTES_PER_HOUR = 60\n",
    "HOURS_PER_DAY = 24\n",
    "MINUTES_PER_DAY = HOURS_PER_DAY * MINUTES_PER_HOUR"
   ]
  },
  {
   "cell_type": "code",
   "execution_count": 6,
   "metadata": {},
   "outputs": [
    {
     "data": {
      "text/plain": [
       "3"
      ]
     },
     "execution_count": 6,
     "metadata": {},
     "output_type": "execute_result"
    }
   ],
   "source": [
    "# p time_of_day(0) == \"00:00\"\n",
    "# p time_of_day(-3) == \"23:57\"\n",
    "# p time_of_day(35) == \"00:35\"\n",
    "# p time_of_day(-1437) == \"00:03\"\n",
    "# p time_of_day(3000) == \"02:00\"\n",
    "# p time_of_day(800) == \"13:20\"\n",
    "# p time_of_day(-4231) == \"01:29\"\n",
    "\n",
    "def normalize_minutes_to_0_through_1439(minutes)\n",
    "  while minutes < 0\n",
    "    minutes += MINUTES_PER_DAY\n",
    "  end\n",
    "\n",
    "  minutes % MINUTES_PER_DAY\n",
    "end\n",
    "\n",
    "normalize_minutes_to_0_through_1439(-1437)"
   ]
  },
  {
   "cell_type": "code",
   "execution_count": 7,
   "metadata": {},
   "outputs": [
    {
     "data": {
      "text/plain": [
       "3"
      ]
     },
     "execution_count": 7,
     "metadata": {},
     "output_type": "execute_result"
    }
   ],
   "source": [
    "-1437 % MINUTES_PER_DAY"
   ]
  },
  {
   "cell_type": "code",
   "execution_count": 18,
   "metadata": {},
   "outputs": [
    {
     "data": {
      "text/plain": [
       "0001-01-02 00:00:00 -0800"
      ]
     },
     "execution_count": 18,
     "metadata": {},
     "output_type": "execute_result"
    }
   ],
   "source": [
    "t = Time.new(1, 1, 1, 24, 0, 0)\n",
    "new_t = t + (-1437 * 60)\n",
    "new_t.strftime('%H:%M')"
   ]
  },
  {
   "cell_type": "code",
   "execution_count": 68,
   "metadata": {},
   "outputs": [
    {
     "data": {
      "text/plain": [
       "\"2022-10-22 12:03:00 AM\""
      ]
     },
     "execution_count": 68,
     "metadata": {},
     "output_type": "execute_result"
    }
   ],
   "source": [
    "delta_minutes = -1437\n",
    "\n",
    "t = Time.new(2022, 10,  22, 24, 0, 0)\n",
    "new_t = t + (delta_minutes * 60)\n",
    "new_t.strftime('%Y-%m-%d %I:%M:%S %p')"
   ]
  },
  {
   "cell_type": "code",
   "execution_count": 9,
   "metadata": {},
   "outputs": [
    {
     "data": {
      "text/plain": [
       "[\"2022-10-23\", \"2022-11-23\", \"2022-12-23\", \"2023-01-23\", \"2023-02-23\", \"2023-03-23\", \"2023-04-23\", \"2023-05-23\"]"
      ]
     },
     "execution_count": 9,
     "metadata": {},
     "output_type": "execute_result"
    }
   ],
   "source": [
    "t = Time.new(2022, 10,  22, 24, 0, 0)\n",
    "d = DateTime.now\n",
    "\n",
    "(0..7).map do |num|\n",
    "  # (t + (604800 * num)).strftime('%Y-%m-%d')\n",
    "  (d >> num).strftime('%Y-%m-%d')\n",
    "end"
   ]
  },
  {
   "cell_type": "markdown",
   "metadata": {},
   "source": [
    "\n",
    "_______________"
   ]
  },
  {
   "cell_type": "code",
   "execution_count": 30,
   "metadata": {},
   "outputs": [
    {
     "data": {
      "text/plain": [
       "true"
      ]
     },
     "execution_count": 30,
     "metadata": {},
     "output_type": "execute_result"
    }
   ],
   "source": [
    "def single_swap(string)\n",
    "  string[-1], string[0] = string[0], string[-1]\n",
    "  string\n",
    "end\n",
    "\n",
    "def swap(string)\n",
    "  string.split.map { |char| single_swap(char) }.join(' ')\n",
    "end\n",
    "\n",
    "# swap('Oh what a wonderful day it is') == 'hO thaw a londerfuw yad ti si'\n",
    "# swap('Abcde') == 'ebcdA'\n",
    "swap('a') == 'a'"
   ]
  },
  {
   "cell_type": "code",
   "execution_count": 31,
   "metadata": {},
   "outputs": [
    {
     "data": {
      "text/plain": [
       "\"this\""
      ]
     },
     "execution_count": 31,
     "metadata": {},
     "output_type": "execute_result"
    }
   ],
   "source": [
    "single_swap('shit')"
   ]
  },
  {
   "cell_type": "code",
   "execution_count": 32,
   "metadata": {},
   "outputs": [
    {
     "data": {
      "text/plain": [
       "[\"l\", \"w\"]"
      ]
     },
     "execution_count": 32,
     "metadata": {},
     "output_type": "execute_result"
    }
   ],
   "source": [
    "word = 'wonderful'\n",
    "\n",
    "def swap_first_last_characters(a, b)\n",
    "  a, b = b, a\n",
    "end\n",
    "\n",
    "swap_first_last_characters(word[0], word[-1])"
   ]
  },
  {
   "cell_type": "markdown",
   "metadata": {},
   "source": [
    "___________________"
   ]
  },
  {
   "cell_type": "code",
   "execution_count": 33,
   "metadata": {},
   "outputs": [
    {
     "data": {
      "text/plain": [
       "\"---what's my +*& line?\""
      ]
     },
     "execution_count": 33,
     "metadata": {},
     "output_type": "execute_result"
    }
   ],
   "source": [
    "s = \"---what's my +*& line?\"\n",
    "# ' what s my line '"
   ]
  },
  {
   "cell_type": "code",
   "execution_count": 34,
   "metadata": {},
   "outputs": [
    {
     "data": {
      "text/plain": [
       ":cleanup"
      ]
     },
     "execution_count": 34,
     "metadata": {},
     "output_type": "execute_result"
    }
   ],
   "source": [
    "def cleanup(string)\n",
    "  last = ''\n",
    "  new_string = ''\n",
    "  n = string.size - 1\n",
    "  (0..n).each do |idx|\n",
    "    if string[idx].match?(/[^A-Za-z]/)\n",
    "      new_string << ' ' if last != idx - 1\n",
    "    else\n",
    "      new_string << string[idx]\n",
    "    end\n",
    "    last = idx if string[idx].match?(/[^A-Za-z]/)\n",
    "  end\n",
    "  new_string\n",
    "end"
   ]
  },
  {
   "cell_type": "markdown",
   "metadata": {},
   "source": [
    "________"
   ]
  },
  {
   "cell_type": "code",
   "execution_count": 35,
   "metadata": {},
   "outputs": [
    {
     "data": {
      "text/plain": [
       ":word_sizes"
      ]
     },
     "execution_count": 35,
     "metadata": {},
     "output_type": "execute_result"
    }
   ],
   "source": [
    "# word_sizes('Four score and seven.')\n",
    "\n",
    "def word_sizes(string)\n",
    "  counts = Hash.new(0)\n",
    "  string.split do |word|\n",
    "    counts[word.size] += 1\n",
    "  end\n",
    "  counts.sort_by { |k, _| k }.to_h\n",
    "end"
   ]
  },
  {
   "cell_type": "code",
   "execution_count": 36,
   "metadata": {},
   "outputs": [
    {
     "data": {
      "text/plain": [
       ":word_sizes"
      ]
     },
     "execution_count": 36,
     "metadata": {},
     "output_type": "execute_result"
    }
   ],
   "source": [
    "def word_sizes(string)\n",
    "  counts = string.split.each_with_object(Hash.new(0)) do |word, hsh|\n",
    "    hsh[word.size] += 1\n",
    "  end\n",
    "  counts.sort_by { |k, _| k }.to_h\n",
    "end"
   ]
  },
  {
   "cell_type": "code",
   "execution_count": 37,
   "metadata": {},
   "outputs": [
    {
     "data": {
      "text/plain": [
       ":word_sizes"
      ]
     },
     "execution_count": 37,
     "metadata": {},
     "output_type": "execute_result"
    }
   ],
   "source": [
    "def word_sizes(string)\n",
    "  counts = {}\n",
    "  string.split.each do |word|\n",
    "    counts[word.size] = counts.fetch(word.size, 0) + 1\n",
    "  end\n",
    "  counts.sort_by { |k, _| k }.to_h\n",
    "end"
   ]
  },
  {
   "cell_type": "code",
   "execution_count": 38,
   "metadata": {},
   "outputs": [
    {
     "data": {
      "text/plain": [
       "{3=>5, 6=>1, 7=>2}"
      ]
     },
     "execution_count": 38,
     "metadata": {},
     "output_type": "execute_result"
    }
   ],
   "source": [
    "word_sizes('Hey diddle diddle, the cat and the fiddle!')"
   ]
  },
  {
   "cell_type": "markdown",
   "metadata": {},
   "source": [
    "____"
   ]
  },
  {
   "cell_type": "code",
   "execution_count": 39,
   "metadata": {},
   "outputs": [
    {
     "data": {
      "text/plain": [
       ":word_sizes"
      ]
     },
     "execution_count": 39,
     "metadata": {},
     "output_type": "execute_result"
    }
   ],
   "source": [
    "def word_sizes(string)\n",
    "  counts = Hash.new(0)\n",
    "  string.split.each do |word|\n",
    "    alpha_chars = word.gsub(/[^A-Za-z]/, '')\n",
    "    counts[alpha_chars.size] += 1\n",
    "  end\n",
    "  counts\n",
    "end"
   ]
  },
  {
   "cell_type": "code",
   "execution_count": 40,
   "metadata": {},
   "outputs": [
    {
     "data": {
      "text/plain": [
       ":word_sizes"
      ]
     },
     "execution_count": 40,
     "metadata": {},
     "output_type": "execute_result"
    }
   ],
   "source": [
    "def word_sizes(string)\n",
    "  counts = Hash.new(0)\n",
    "  string.split.each do |word|\n",
    "    alpha_chars = word.chars.select { |char| char.match?(/[A-Za-z]/) }\n",
    "    counts[alpha_chars.size] += 1\n",
    "  end\n",
    "  counts\n",
    "end"
   ]
  },
  {
   "cell_type": "code",
   "execution_count": 41,
   "metadata": {},
   "outputs": [
    {
     "data": {
      "text/plain": [
       ":word_sizes"
      ]
     },
     "execution_count": 41,
     "metadata": {},
     "output_type": "execute_result"
    }
   ],
   "source": [
    "def word_sizes(string)\n",
    "  counts = Hash.new(0)\n",
    "  string.split.each do |word|\n",
    "    counts[word.count('A-Za-z')] += 1\n",
    "  end\n",
    "  counts\n",
    "end"
   ]
  },
  {
   "cell_type": "code",
   "execution_count": 42,
   "metadata": {},
   "outputs": [
    {
     "name": "stdout",
     "output_type": "stream",
     "text": [
      "true\n",
      "true\n",
      "true\n",
      "true\n"
     ]
    },
    {
     "data": {
      "text/plain": [
       "true"
      ]
     },
     "execution_count": 42,
     "metadata": {},
     "output_type": "execute_result"
    }
   ],
   "source": [
    "p word_sizes('Four score and seven.')  == { 3 => 1, 4 => 1, 5 => 2 }\n",
    "p word_sizes('Hey diddle diddle, the cat and the fiddle!') == { 3 => 5, 6 => 3 }\n",
    "p word_sizes(\"What's up doc?\") == { 5 => 1, 2 => 1, 3 => 1 }\n",
    "p word_sizes('') == {}"
   ]
  },
  {
   "cell_type": "code",
   "execution_count": 43,
   "metadata": {},
   "outputs": [
    {
     "data": {
      "text/plain": [
       "true"
      ]
     },
     "execution_count": 43,
     "metadata": {},
     "output_type": "execute_result"
    }
   ],
   "source": [
    "'a'.match?(/[A-Za-z]/)"
   ]
  },
  {
   "cell_type": "code",
   "execution_count": 44,
   "metadata": {},
   "outputs": [
    {
     "data": {
      "text/plain": [
       "\"\""
      ]
     },
     "execution_count": 44,
     "metadata": {},
     "output_type": "execute_result"
    }
   ],
   "source": [
    "'a'.delete('A-Za-z')"
   ]
  },
  {
   "cell_type": "code",
   "execution_count": 45,
   "metadata": {},
   "outputs": [
    {
     "data": {
      "text/plain": [
       "4"
      ]
     },
     "execution_count": 45,
     "metadata": {},
     "output_type": "execute_result"
    }
   ],
   "source": [
    "'B!!!bbb'.count('A-Za-z')"
   ]
  },
  {
   "cell_type": "markdown",
   "metadata": {},
   "source": [
    "______"
   ]
  },
  {
   "cell_type": "code",
   "execution_count": 46,
   "metadata": {},
   "outputs": [
    {
     "data": {
      "text/plain": [
       "[\"zero\", \"one\", \"two\", \"three\", \"four\", \"five\", \"six\", \"seven\", \"eight\", \"nine\", \"ten\", \"eleven\", \"twelve\", \"thirteen\", \"fourteen\", \"fifteen\", \"sixteen\", \"seventeen\", \"eighteen\", \"nineteen\"]"
      ]
     },
     "execution_count": 46,
     "metadata": {},
     "output_type": "execute_result"
    }
   ],
   "source": [
    "INTEGER_WORDS = %w(zero one two three four five six seven eight nine ten eleven \n",
    "  twelve thirteen fourteen fifteen sixteen seventeen eighteen nineteen)"
   ]
  },
  {
   "cell_type": "code",
   "execution_count": 47,
   "metadata": {},
   "outputs": [
    {
     "data": {
      "text/plain": [
       ":alphabetic_number_sort"
      ]
     },
     "execution_count": 47,
     "metadata": {},
     "output_type": "execute_result"
    }
   ],
   "source": [
    "# alphabetic_number_sort((0..19).to_a) == [\n",
    "#   8, 18, 11, 15, 5, 4, 14, 9, 19, 1, 7, 17,\n",
    "#   6, 16, 10, 13, 3, 12, 2, 0\n",
    "# ]\n",
    "\n",
    "def alphabetic_number_sort(arr)\n",
    "  alpha_nums = arr.zip(INTEGER_WORDS).to_h\n",
    "  arr.sort_by { |num| alpha_nums[num] }\n",
    "end"
   ]
  },
  {
   "cell_type": "code",
   "execution_count": 48,
   "metadata": {},
   "outputs": [
    {
     "data": {
      "text/plain": [
       ":alphabetic_number_sort"
      ]
     },
     "execution_count": 48,
     "metadata": {},
     "output_type": "execute_result"
    }
   ],
   "source": [
    "def alphabetic_number_sort(arr)\n",
    "  alpha_nums = arr.zip(INTEGER_WORDS).to_h\n",
    "  arr.sort { |a, b| alpha_nums[a] <=> alpha_nums[b] }\n",
    "end"
   ]
  },
  {
   "cell_type": "code",
   "execution_count": 49,
   "metadata": {},
   "outputs": [
    {
     "data": {
      "text/plain": [
       "[8, 18, 11, 15, 5, 4, 14, 9, 19, 1, 7, 17, 6, 16, 10, 13, 3, 12, 2, 0]"
      ]
     },
     "execution_count": 49,
     "metadata": {},
     "output_type": "execute_result"
    }
   ],
   "source": [
    "alphabetic_number_sort((0..19).to_a)"
   ]
  },
  {
   "cell_type": "markdown",
   "metadata": {},
   "source": [
    "________"
   ]
  },
  {
   "cell_type": "code",
   "execution_count": 50,
   "metadata": {},
   "outputs": [
    {
     "data": {
      "text/plain": [
       ":crunch"
      ]
     },
     "execution_count": 50,
     "metadata": {},
     "output_type": "execute_result"
    }
   ],
   "source": [
    "def crunch(string)\n",
    "  new_string = ''\n",
    "  (0..(string.size - 1)).each do |idx|\n",
    "    new_string << string[idx] if string[idx] != string[idx + 1]\n",
    "  end\n",
    "  new_string\n",
    "end"
   ]
  },
  {
   "cell_type": "code",
   "execution_count": 51,
   "metadata": {},
   "outputs": [
    {
     "data": {
      "text/plain": [
       ":crunch"
      ]
     },
     "execution_count": 51,
     "metadata": {},
     "output_type": "execute_result"
    }
   ],
   "source": [
    "s = 'ddaaiillyy ddoouubbllee'\n",
    "\n",
    "def crunch(string)\n",
    "  words_deduped = string.split.map do |word|\n",
    "    word.chars.select.with_index { |char, idx| char != word[idx + 1]}.join\n",
    "  end\n",
    "  words_deduped.join(' ')\n",
    "end"
   ]
  },
  {
   "cell_type": "code",
   "execution_count": 52,
   "metadata": {},
   "outputs": [
    {
     "name": "stdout",
     "output_type": "stream",
     "text": [
      "true\n",
      "true\n",
      "true\n",
      "true\n",
      "true\n"
     ]
    },
    {
     "data": {
      "text/plain": [
       "true"
      ]
     },
     "execution_count": 52,
     "metadata": {},
     "output_type": "execute_result"
    }
   ],
   "source": [
    "p crunch('ddaaiillyy ddoouubbllee') == 'daily double'\n",
    "p crunch('4444abcabccba') == '4abcabcba'\n",
    "p crunch('ggggggggggggggg') == 'g'\n",
    "p crunch('a') == 'a'\n",
    "p crunch('') == ''"
   ]
  },
  {
   "cell_type": "code",
   "execution_count": 53,
   "metadata": {},
   "outputs": [
    {
     "data": {
      "text/plain": [
       ":crunch"
      ]
     },
     "execution_count": 53,
     "metadata": {},
     "output_type": "execute_result"
    }
   ],
   "source": [
    "def crunch(text)\n",
    "  index = 0\n",
    "  crunch_text = ''\n",
    "  while index <= text.length - 1\n",
    "    crunch_text << text[index] unless text[index] == text[index + 1]\n",
    "    index += 1\n",
    "  end\n",
    "  crunch_text\n",
    "end"
   ]
  },
  {
   "cell_type": "markdown",
   "metadata": {},
   "source": [
    "_____"
   ]
  },
  {
   "cell_type": "code",
   "execution_count": 54,
   "metadata": {},
   "outputs": [],
   "source": [
    "# print_in_box('To boldly go where no one has gone before.')\n",
    "# +--------------------------------------------+\n",
    "# |                                            |\n",
    "# | To boldly go where no one has gone before. |\n",
    "# |                                            |\n",
    "# +--------------------------------------------+"
   ]
  },
  {
   "cell_type": "code",
   "execution_count": 55,
   "metadata": {},
   "outputs": [
    {
     "data": {
      "text/plain": [
       ":print_in_box"
      ]
     },
     "execution_count": 55,
     "metadata": {},
     "output_type": "execute_result"
    }
   ],
   "source": [
    "def print_in_box(string)\n",
    "  len = string.size + 2\n",
    "  h_border = '+' + ('-' * len) + '+'\n",
    "  non_text_line = '|' + (' ' * len) + '|'\n",
    "  text_line = '|' + string.center(len) + '|'\n",
    "\n",
    "  puts(h_border)\n",
    "  puts(non_text_line)\n",
    "  puts(text_line)\n",
    "  puts(non_text_line)\n",
    "  puts(h_border)\n",
    "end"
   ]
  },
  {
   "cell_type": "code",
   "execution_count": 56,
   "metadata": {},
   "outputs": [
    {
     "name": "stdout",
     "output_type": "stream",
     "text": [
      "+--+\n",
      "|  |\n",
      "|  |\n",
      "|  |\n",
      "+--+\n"
     ]
    }
   ],
   "source": [
    "print_in_box('')"
   ]
  },
  {
   "cell_type": "markdown",
   "metadata": {},
   "source": [
    "\n",
    "______"
   ]
  },
  {
   "cell_type": "code",
   "execution_count": 57,
   "metadata": {},
   "outputs": [
    {
     "data": {
      "text/plain": [
       "\"ass\""
      ]
     },
     "execution_count": 57,
     "metadata": {},
     "output_type": "execute_result"
    }
   ],
   "source": [
    "s = 'ass'"
   ]
  },
  {
   "cell_type": "code",
   "execution_count": 58,
   "metadata": {},
   "outputs": [
    {
     "data": {
      "text/plain": [
       "\"ssa\""
      ]
     },
     "execution_count": 58,
     "metadata": {},
     "output_type": "execute_result"
    }
   ],
   "source": [
    "s.reverse!"
   ]
  },
  {
   "cell_type": "code",
   "execution_count": 59,
   "metadata": {},
   "outputs": [
    {
     "data": {
      "text/plain": [
       ":spin_me"
      ]
     },
     "execution_count": 59,
     "metadata": {},
     "output_type": "execute_result"
    }
   ],
   "source": [
    "def spin_me(str)\n",
    "  str.split.each do |word|\n",
    "    word.reverse!\n",
    "  end.join(' ')\n",
    "end"
   ]
  },
  {
   "cell_type": "code",
   "execution_count": 60,
   "metadata": {},
   "outputs": [
    {
     "data": {
      "text/plain": [
       "\"hello world\""
      ]
     },
     "execution_count": 60,
     "metadata": {},
     "output_type": "execute_result"
    }
   ],
   "source": [
    "s = 'hello world'\n",
    "\n",
    "# new_s = s.split.each do |word|\n",
    "#   word.reverse!\n",
    "# end.join(' ')"
   ]
  },
  {
   "cell_type": "code",
   "execution_count": 61,
   "metadata": {},
   "outputs": [
    {
     "data": {
      "text/plain": [
       "\"hello world\""
      ]
     },
     "execution_count": 61,
     "metadata": {},
     "output_type": "execute_result"
    }
   ],
   "source": [
    "new_s = s.split.join(' ')"
   ]
  },
  {
   "cell_type": "code",
   "execution_count": 62,
   "metadata": {},
   "outputs": [
    {
     "name": "stdout",
     "output_type": "stream",
     "text": [
      "49280\n",
      "49300\n"
     ]
    }
   ],
   "source": [
    "puts s.object_id\n",
    "puts new_s.object_id"
   ]
  },
  {
   "cell_type": "markdown",
   "metadata": {},
   "source": [
    "_____"
   ]
  },
  {
   "cell_type": "code",
   "execution_count": 13,
   "metadata": {},
   "outputs": [
    {
     "ename": "NoMethodError",
     "evalue": "undefined method `+' for nil:NilClass",
     "output_type": "error",
     "traceback": [
      "\u001b[31mNoMethodError\u001b[0m: undefined method `+' for nil:NilClass",
      "(irb):1:in `block in irb_binding'",
      "(irb):in `each'",
      "(irb):in `reduce'",
      "(irb):in `irb_binding'"
     ]
    }
   ],
   "source": [
    "(0..20).reduce(0) do |total, num|\n",
    "  total += num if num.even?\n",
    "end"
   ]
  },
  {
   "cell_type": "markdown",
   "metadata": {},
   "source": [
    "________________"
   ]
  },
  {
   "cell_type": "code",
   "execution_count": 40,
   "metadata": {},
   "outputs": [
    {
     "data": {
      "text/plain": [
       "\"°\""
      ]
     },
     "execution_count": 40,
     "metadata": {},
     "output_type": "execute_result"
    }
   ],
   "source": [
    "DEGREE = \"\\xC2\\xB0\""
   ]
  },
  {
   "cell_type": "code",
   "execution_count": 75,
   "metadata": {},
   "outputs": [
    {
     "data": {
      "text/plain": [
       "0.73"
      ]
     },
     "execution_count": 75,
     "metadata": {},
     "output_type": "execute_result"
    }
   ],
   "source": [
    "# (76.73) == %(76°43'48\")\n",
    "n = 76.73\n",
    "degrees = n.to_s.partition('.')[0]\n",
    "ms = n.to_s.partition('.')[1..].join.to_f"
   ]
  },
  {
   "cell_type": "markdown",
   "metadata": {},
   "source": [
    "_______"
   ]
  },
  {
   "cell_type": "code",
   "execution_count": 89,
   "metadata": {},
   "outputs": [
    {
     "data": {
      "text/plain": [
       "[\"ABC\", \"AEIOU\", \"XYZ\"]"
      ]
     },
     "execution_count": 89,
     "metadata": {},
     "output_type": "execute_result"
    }
   ],
   "source": [
    "arr = %w(ABC AEIOU XYZ)"
   ]
  },
  {
   "cell_type": "code",
   "execution_count": 88,
   "metadata": {},
   "outputs": [
    {
     "data": {
      "text/plain": [
       "[\"BC\", \"\", \"XYZ\"]"
      ]
     },
     "execution_count": 88,
     "metadata": {},
     "output_type": "execute_result"
    }
   ],
   "source": [
    "arr.map do |word|\n",
    "  word.delete('aeiouAEIOU')\n",
    "end"
   ]
  },
  {
   "cell_type": "code",
   "execution_count": 90,
   "metadata": {},
   "outputs": [
    {
     "data": {
      "text/plain": [
       "[\"a\", \"e\", \"i\", \"o\", \"u\", \"A\", \"E\", \"I\", \"O\", \"U\"]"
      ]
     },
     "execution_count": 90,
     "metadata": {},
     "output_type": "execute_result"
    }
   ],
   "source": [
    "VOWELS = 'aeiouAEIOU'.split('')"
   ]
  },
  {
   "cell_type": "code",
   "execution_count": 94,
   "metadata": {},
   "outputs": [
    {
     "data": {
      "text/plain": [
       "[\"BC\", \"\", \"XYZ\"]"
      ]
     },
     "execution_count": 94,
     "metadata": {},
     "output_type": "execute_result"
    }
   ],
   "source": [
    "arr.map do |word|\n",
    "  word.chars.reject { |char| VOWELS.include?(char) }.join\n",
    "end"
   ]
  },
  {
   "cell_type": "code",
   "execution_count": 104,
   "metadata": {},
   "outputs": [
    {
     "data": {
      "text/plain": [
       "[\"BC\", \"\", \"XYZ\"]"
      ]
     },
     "execution_count": 104,
     "metadata": {},
     "output_type": "execute_result"
    }
   ],
   "source": [
    "arr.map do |word|\n",
    "  word.scan(/[^aeiouAEIOU]/).join\n",
    "end"
   ]
  },
  {
   "cell_type": "markdown",
   "metadata": {},
   "source": [
    "___"
   ]
  },
  {
   "cell_type": "code",
   "execution_count": 113,
   "metadata": {},
   "outputs": [
    {
     "name": "stdout",
     "output_type": "stream",
     "text": [
      "49320\n"
     ]
    }
   ],
   "source": [
    "arr = [\"a\", \"b\", \"e\", \"d\", \"c\"]\n",
    "puts arr.object_id\n",
    "# [\"c\", \"d\", \"e\", \"b\", \"a\"]"
   ]
  },
  {
   "cell_type": "code",
   "execution_count": 117,
   "metadata": {},
   "outputs": [
    {
     "data": {
      "text/plain": [
       ":reverse!"
      ]
     },
     "execution_count": 117,
     "metadata": {},
     "output_type": "execute_result"
    }
   ],
   "source": [
    "def reverse!(arr)\n",
    "  start_, end_ = 0, arr.size - 1\n",
    "\n",
    "  while start_ < end_\n",
    "    arr[start_], arr[end_] = arr[end_], arr[start_]\n",
    "    start_ += 1\n",
    "    end_ -= 1\n",
    "  end\n",
    "  arr\n",
    "end"
   ]
  },
  {
   "cell_type": "code",
   "execution_count": 120,
   "metadata": {},
   "outputs": [
    {
     "data": {
      "text/plain": [
       "[4, 3, 2, 1]"
      ]
     },
     "execution_count": 120,
     "metadata": {},
     "output_type": "execute_result"
    }
   ],
   "source": [
    "reverse!([1,2,3,4])"
   ]
  },
  {
   "cell_type": "markdown",
   "metadata": {},
   "source": [
    "______"
   ]
  },
  {
   "cell_type": "code",
   "execution_count": 155,
   "metadata": {},
   "outputs": [
    {
     "data": {
      "text/plain": [
       ":reverse"
      ]
     },
     "execution_count": 155,
     "metadata": {},
     "output_type": "execute_result"
    }
   ],
   "source": [
    "arr = [*1..10]\n",
    "\n",
    "def reverse(arr)\n",
    "  arr.map.with_index(1) { |_, idx| arr[-idx] }\n",
    "end"
   ]
  },
  {
   "cell_type": "code",
   "execution_count": 142,
   "metadata": {},
   "outputs": [
    {
     "name": "stdout",
     "output_type": "stream",
     "text": []
    },
    {
     "data": {
      "text/plain": [
       "[nil]"
      ]
     },
     "execution_count": 142,
     "metadata": {},
     "output_type": "execute_result"
    }
   ],
   "source": [
    "[(arr.size - 1)..0].map { |idx| puts arr[idx] }"
   ]
  },
  {
   "cell_type": "code",
   "execution_count": 153,
   "metadata": {},
   "outputs": [
    {
     "data": {
      "text/plain": [
       "[10, 9, 8, 7, 6, 5, 4, 3, 2, 1]"
      ]
     },
     "execution_count": 153,
     "metadata": {},
     "output_type": "execute_result"
    }
   ],
   "source": [
    "(arr.size - 1).downto(0).map { |idx| arr[idx] }"
   ]
  },
  {
   "cell_type": "code",
   "execution_count": 157,
   "metadata": {},
   "outputs": [
    {
     "data": {
      "text/plain": [
       "[4, 3, 2, 1]"
      ]
     },
     "execution_count": 157,
     "metadata": {},
     "output_type": "execute_result"
    }
   ],
   "source": [
    "[1, 2, 3, 4].inject([]) { |array, i|  array.unshift(i) }"
   ]
  },
  {
   "cell_type": "markdown",
   "metadata": {},
   "source": [
    "________"
   ]
  },
  {
   "cell_type": "code",
   "execution_count": 6,
   "metadata": {},
   "outputs": [
    {
     "data": {
      "text/plain": [
       "[1, 3, 5, 6, 9]"
      ]
     },
     "execution_count": 6,
     "metadata": {},
     "output_type": "execute_result"
    }
   ],
   "source": [
    "# merge([1, 3, 5], [3, 6, 9]) == [1, 3, 5, 6, 9]\n",
    "\n",
    "arrays = [[1, 3, 5], [3, 6, 9]]\n",
    "\n",
    "def merge(*arrays)\n",
    "  arrays.each_with_object([]) do |sub_arr, new_arr|\n",
    "    sub_arr.each do |elem|\n",
    "      new_arr << elem if !new_arr.include?(elem)\n",
    "    end\n",
    "  end\n",
    "end\n",
    "\n",
    "merge([1, 3, 5], [3, 6, 9])"
   ]
  },
  {
   "cell_type": "code",
   "execution_count": 10,
   "metadata": {},
   "outputs": [
    {
     "ename": "NoMethodError",
     "evalue": "undefined method `^' for [1, 3, 5]:Array",
     "output_type": "error",
     "traceback": [
      "\u001b[31mNoMethodError\u001b[0m: undefined method `^' for [1, 3, 5]:Array",
      "(irb):3:in `irb_binding'"
     ]
    }
   ],
   "source": [
    "arr1 = [1, 3, 5]\n",
    "arr2 = [3, 6, 9]\n",
    "\n",
    "arr1 arr2"
   ]
  },
  {
   "cell_type": "markdown",
   "metadata": {},
   "source": [
    "__________"
   ]
  },
  {
   "cell_type": "code",
   "execution_count": 76,
   "metadata": {},
   "outputs": [
    {
     "data": {
      "text/plain": [
       "[1, 2, 3, 4]"
      ]
     },
     "execution_count": 76,
     "metadata": {},
     "output_type": "execute_result"
    }
   ],
   "source": [
    "arr = [*1..4]"
   ]
  },
  {
   "cell_type": "code",
   "execution_count": 77,
   "metadata": {},
   "outputs": [
    {
     "data": {
      "text/plain": [
       "[1, 2]"
      ]
     },
     "execution_count": 77,
     "metadata": {},
     "output_type": "execute_result"
    }
   ],
   "source": [
    "arr.take((arr.size/2.0).ceil)"
   ]
  },
  {
   "cell_type": "code",
   "execution_count": 81,
   "metadata": {},
   "outputs": [
    {
     "data": {
      "text/plain": [
       "[3, 4]"
      ]
     },
     "execution_count": 81,
     "metadata": {},
     "output_type": "execute_result"
    }
   ],
   "source": [
    "arr.drop((arr.size/2.0).ceil)"
   ]
  },
  {
   "cell_type": "code",
   "execution_count": null,
   "metadata": {},
   "outputs": [],
   "source": [
    "split_arr = []\n",
    "split_arr << arr.take((arr.size/2.0).ceil)\n",
    "split_arr << arr.drop((arr.size/2.0).ceil)"
   ]
  },
  {
   "cell_type": "code",
   "execution_count": 59,
   "metadata": {},
   "outputs": [
    {
     "data": {
      "text/plain": [
       "[1, 2]"
      ]
     },
     "execution_count": 59,
     "metadata": {},
     "output_type": "execute_result"
    }
   ],
   "source": [
    "first_half = arr[0...middle]"
   ]
  },
  {
   "cell_type": "code",
   "execution_count": 67,
   "metadata": {},
   "outputs": [
    {
     "data": {
      "text/plain": [
       "[3, 4]"
      ]
     },
     "execution_count": 67,
     "metadata": {},
     "output_type": "execute_result"
    }
   ],
   "source": [
    "second_half = arr.slice(middle, arr.size - middle)"
   ]
  },
  {
   "cell_type": "code",
   "execution_count": 7,
   "metadata": {},
   "outputs": [
    {
     "data": {
      "text/plain": [
       "[[5]]"
      ]
     },
     "execution_count": 7,
     "metadata": {},
     "output_type": "execute_result"
    }
   ],
   "source": [
    "[*[5].each_slice(2)]"
   ]
  },
  {
   "cell_type": "code",
   "execution_count": 33,
   "metadata": {},
   "outputs": [
    {
     "data": {
      "text/plain": [
       ":halvsies"
      ]
     },
     "execution_count": 33,
     "metadata": {},
     "output_type": "execute_result"
    }
   ],
   "source": [
    "def halvsies(arr)\n",
    "  return [[], []] if arr.size.zero?\n",
    "  middle = (arr.size.to_f / 2).ceil\n",
    "  split_arr = [*arr.each_slice(middle)]\n",
    "  split_arr << [] if split_arr.size < 2\n",
    "  split_arr\n",
    "end"
   ]
  },
  {
   "cell_type": "code",
   "execution_count": 34,
   "metadata": {},
   "outputs": [
    {
     "name": "stdout",
     "output_type": "stream",
     "text": [
      "true\n",
      "true\n",
      "true\n",
      "true\n"
     ]
    },
    {
     "data": {
      "text/plain": [
       "true"
      ]
     },
     "execution_count": 34,
     "metadata": {},
     "output_type": "execute_result"
    }
   ],
   "source": [
    "p halvsies([1, 2, 3, 4]) == [[1, 2], [3, 4]]\n",
    "p halvsies([1, 5, 2, 4, 3]) == [[1, 5, 2], [4, 3]]\n",
    "p halvsies([5]) == [[5], []]\n",
    "p halvsies([]) == [[], []]"
   ]
  },
  {
   "cell_type": "markdown",
   "metadata": {},
   "source": [
    "__________"
   ]
  },
  {
   "cell_type": "code",
   "execution_count": 92,
   "metadata": {},
   "outputs": [
    {
     "data": {
      "text/plain": [
       "[18, 9, 36, 96, 31, 19, 54, 75, 42, 15, 38, 25, 97, 92, 46, 69, 91, 59, 53, 27, 14, 61, 90, 81, 8, 63, 95, 99, 30, 65, 78, 76, 48, 16, 93, 77, 52, 49, 37, 29, 89, 10, 84, 1, 47, 68, 12, 33, 86, 60, 41, 44, 83, 35, 94, 73, 98, 3, 64, 82, 55, 79, 80, 21, 39, 72, 13, 50, 6, 70, 85, 87, 51, 17, 66, 20, 28, 26, 2, 22, 40, 23, 71, 62, 73, 32, 43, 24, 4, 56, 7, 34, 57, 74, 45, 11, 88, 67, 5, 58]"
      ]
     },
     "execution_count": 92,
     "metadata": {},
     "output_type": "execute_result"
    }
   ],
   "source": [
    "arr = [18,  9, 36, 96, 31, 19, 54, 75, 42, 15,\n",
    "  38, 25, 97, 92, 46, 69, 91, 59, 53, 27,\n",
    "  14, 61, 90, 81,  8, 63, 95, 99, 30, 65,\n",
    "  78, 76, 48, 16, 93, 77, 52, 49, 37, 29,\n",
    "  89, 10, 84,  1, 47, 68, 12, 33, 86, 60,\n",
    "  41, 44, 83, 35, 94, 73, 98,  3, 64, 82,\n",
    "  55, 79, 80, 21, 39, 72, 13, 50,  6, 70,\n",
    "  85, 87, 51, 17, 66, 20, 28, 26,  2, 22,\n",
    "  40, 23, 71, 62, 73, 32, 43, 24,  4, 56,\n",
    "  7,  34, 57, 74, 45, 11, 88, 67,  5, 58]"
   ]
  },
  {
   "cell_type": "code",
   "execution_count": 115,
   "metadata": {},
   "outputs": [
    {
     "data": {
      "text/plain": [
       ":find_dup"
      ]
     },
     "execution_count": 115,
     "metadata": {},
     "output_type": "execute_result"
    }
   ],
   "source": [
    "def find_dup(arr)\n",
    "  arr.each_with_object(Hash.new(0)) do |num, hsh|\n",
    "    hsh[num] += 1\n",
    "    return num if hsh[num] == 2\n",
    "  end\n",
    "end"
   ]
  },
  {
   "cell_type": "code",
   "execution_count": 116,
   "metadata": {},
   "outputs": [
    {
     "data": {
      "text/plain": [
       "73"
      ]
     },
     "execution_count": 116,
     "metadata": {},
     "output_type": "execute_result"
    }
   ],
   "source": [
    "find_dup(arr)"
   ]
  },
  {
   "cell_type": "code",
   "execution_count": 101,
   "metadata": {},
   "outputs": [
    {
     "data": {
      "text/plain": [
       ":find_dup"
      ]
     },
     "execution_count": 101,
     "metadata": {},
     "output_type": "execute_result"
    }
   ],
   "source": [
    "def find_dup(arr)\n",
    "  arr.tally.find { |_, v| v == 2 }[0]\n",
    "end"
   ]
  },
  {
   "cell_type": "code",
   "execution_count": 111,
   "metadata": {},
   "outputs": [
    {
     "data": {
      "text/plain": [
       ":find_dup"
      ]
     },
     "execution_count": 111,
     "metadata": {},
     "output_type": "execute_result"
    }
   ],
   "source": [
    "def find_dup(arr)\n",
    "  arr.tally.select { |_, v| v == 2 }.keys\n",
    "end"
   ]
  },
  {
   "cell_type": "code",
   "execution_count": 112,
   "metadata": {},
   "outputs": [
    {
     "data": {
      "text/plain": [
       "[73]"
      ]
     },
     "execution_count": 112,
     "metadata": {},
     "output_type": "execute_result"
    }
   ],
   "source": [
    "find_dup(arr)"
   ]
  },
  {
   "cell_type": "markdown",
   "metadata": {},
   "source": [
    "________"
   ]
  },
  {
   "cell_type": "code",
   "execution_count": 128,
   "metadata": {},
   "outputs": [
    {
     "data": {
      "text/plain": [
       ":include?"
      ]
     },
     "execution_count": 128,
     "metadata": {},
     "output_type": "execute_result"
    }
   ],
   "source": [
    "def include?(arr, search)\n",
    "  arr.each do |num|\n",
    "    return true if num == search\n",
    "  end  \n",
    "  false\n",
    "end"
   ]
  },
  {
   "cell_type": "code",
   "execution_count": 145,
   "metadata": {},
   "outputs": [],
   "source": [
    "[].find_index(nil)"
   ]
  },
  {
   "cell_type": "code",
   "execution_count": 131,
   "metadata": {},
   "outputs": [
    {
     "data": {
      "text/plain": [
       ":include?"
      ]
     },
     "execution_count": 131,
     "metadata": {},
     "output_type": "execute_result"
    }
   ],
   "source": [
    "def include?(arr, search)\n",
    "  arr.select { |num| num == search }.size > 0\n",
    "end"
   ]
  },
  {
   "cell_type": "code",
   "execution_count": 132,
   "metadata": {},
   "outputs": [
    {
     "name": "stdout",
     "output_type": "stream",
     "text": [
      "true\n",
      "false\n",
      "false\n",
      "true\n",
      "false\n"
     ]
    },
    {
     "data": {
      "text/plain": [
       "false"
      ]
     },
     "execution_count": 132,
     "metadata": {},
     "output_type": "execute_result"
    }
   ],
   "source": [
    "p include?([1,2,3,4,5], 3) == true\n",
    "p include?([1,2,3,4,5], 6) == false\n",
    "p include?([], 3) == false\n",
    "p include?([nil], nil) == true\n",
    "p include?([], nil) == false"
   ]
  },
  {
   "cell_type": "markdown",
   "metadata": {},
   "source": [
    "______"
   ]
  },
  {
   "cell_type": "code",
   "execution_count": 158,
   "metadata": {},
   "outputs": [
    {
     "data": {
      "text/plain": [
       "\"      ***\""
      ]
     },
     "execution_count": 158,
     "metadata": {},
     "output_type": "execute_result"
    }
   ],
   "source": [
    "stars = '*' * 3\n",
    "\"#{'%09s' % stars}\""
   ]
  },
  {
   "cell_type": "code",
   "execution_count": 162,
   "metadata": {},
   "outputs": [
    {
     "name": "stdout",
     "output_type": "stream",
     "text": [
      "    *\n",
      "   **\n",
      "  ***\n",
      " ****\n",
      "*****\n"
     ]
    },
    {
     "data": {
      "text/plain": [
       "1..5"
      ]
     },
     "execution_count": 162,
     "metadata": {},
     "output_type": "execute_result"
    }
   ],
   "source": [
    "target = 5\n",
    "(1..target).each do |num|\n",
    "  space = \"%0#{target}s\"\n",
    "  stars = '*' * num\n",
    "  puts \"#{space % stars}\"\n",
    "end"
   ]
  },
  {
   "cell_type": "code",
   "execution_count": 167,
   "metadata": {},
   "outputs": [
    {
     "name": "stdout",
     "output_type": "stream",
     "text": [
      "9\n",
      "8\n",
      "7\n",
      "6\n",
      "5\n",
      "4\n",
      "3\n",
      "2\n",
      "1\n"
     ]
    },
    {
     "data": {
      "text/plain": [
       "9"
      ]
     },
     "execution_count": 167,
     "metadata": {},
     "output_type": "execute_result"
    }
   ],
   "source": [
    "9.downto(1).each { |num| puts num }"
   ]
  },
  {
   "cell_type": "markdown",
   "metadata": {},
   "source": [
    "_______"
   ]
  },
  {
   "cell_type": "code",
   "execution_count": 177,
   "metadata": {},
   "outputs": [
    {
     "data": {
      "text/plain": [
       "[\"a\", \"b\", \"c\"]"
      ]
     },
     "execution_count": 177,
     "metadata": {},
     "output_type": "execute_result"
    }
   ],
   "source": [
    "a = [1, 2, 3]\n",
    "b = ['a', 'b', 'c']"
   ]
  },
  {
   "cell_type": "code",
   "execution_count": 183,
   "metadata": {},
   "outputs": [
    {
     "data": {
      "text/plain": [
       "[1, \"a\", 2, \"b\", 3, \"c\"]"
      ]
     },
     "execution_count": 183,
     "metadata": {},
     "output_type": "execute_result"
    }
   ],
   "source": [
    "(0..a.size - 1).each_with_object([]) do |idx, arr|\n",
    "  [a, b].each { |sub_arr| arr << sub_arr[idx] }\n",
    "  # arr << a[idx]\n",
    "  # arr << b[idx]\n",
    "end"
   ]
  },
  {
   "cell_type": "code",
   "execution_count": 186,
   "metadata": {},
   "outputs": [
    {
     "data": {
      "text/plain": [
       ":interleave"
      ]
     },
     "execution_count": 186,
     "metadata": {},
     "output_type": "execute_result"
    }
   ],
   "source": [
    "def interleave(*arrays)\n",
    "  (0..arrays[0].size - 1).each_with_object([]) do |idx, arr|\n",
    "    arrays.each { |sub_arr| arr << sub_arr[idx] }\n",
    "  end\n",
    "end"
   ]
  },
  {
   "cell_type": "code",
   "execution_count": 194,
   "metadata": {},
   "outputs": [
    {
     "data": {
      "text/plain": [
       ":interleave"
      ]
     },
     "execution_count": 194,
     "metadata": {},
     "output_type": "execute_result"
    }
   ],
   "source": [
    "def interleave(*arrays)\n",
    "  (0..arrays[0].size - 1).map do |idx|\n",
    "    arrays.map { |sub_arr| sub_arr[idx] }\n",
    "  end\n",
    "end"
   ]
  },
  {
   "cell_type": "code",
   "execution_count": 195,
   "metadata": {},
   "outputs": [
    {
     "data": {
      "text/plain": [
       "[[\"a\", 1, 7], [\"b\", 2, 8], [\"c\", 3, 9]]"
      ]
     },
     "execution_count": 195,
     "metadata": {},
     "output_type": "execute_result"
    }
   ],
   "source": [
    "interleave([*'a'..'c'], [*1..3], [*7..9])"
   ]
  },
  {
   "cell_type": "code",
   "execution_count": 198,
   "metadata": {},
   "outputs": [
    {
     "data": {
      "text/plain": [
       "[\"a\", \"b\", \"c\"]"
      ]
     },
     "execution_count": 198,
     "metadata": {},
     "output_type": "execute_result"
    }
   ],
   "source": [
    "arr1 = [*1..3]\n",
    "arr2 = [*'a'..'c']"
   ]
  },
  {
   "cell_type": "code",
   "execution_count": 200,
   "metadata": {},
   "outputs": [
    {
     "data": {
      "text/plain": [
       "[1, \"a\", 2, \"b\", 3, \"c\"]"
      ]
     },
     "execution_count": 200,
     "metadata": {},
     "output_type": "execute_result"
    }
   ],
   "source": [
    "arr1.zip(arr2).flatten"
   ]
  },
  {
   "cell_type": "markdown",
   "metadata": {},
   "source": [
    "____"
   ]
  },
  {
   "cell_type": "code",
   "execution_count": 202,
   "metadata": {},
   "outputs": [
    {
     "ename": "NoMethodError",
     "evalue": "undefined method `upcase?' for \"A\":String\nDid you mean?  upcase\n               upcase!",
     "output_type": "error",
     "traceback": [
      "\u001b[31mNoMethodError\u001b[0m: undefined method `upcase?' for \"A\":String\nDid you mean?  upcase\n               upcase!",
      "(irb):in `irb_binding'"
     ]
    }
   ],
   "source": []
  },
  {
   "cell_type": "code",
   "execution_count": null,
   "metadata": {},
   "outputs": [],
   "source": []
  }
 ],
 "metadata": {
  "kernelspec": {
   "display_name": "Ruby 2.7.5",
   "language": "ruby",
   "name": "ruby"
  },
  "language_info": {
   "file_extension": ".rb",
   "mimetype": "application/x-ruby",
   "name": "ruby",
   "version": "2.7.5"
  },
  "orig_nbformat": 4
 },
 "nbformat": 4,
 "nbformat_minor": 2
}
