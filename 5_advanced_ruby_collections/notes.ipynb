{
 "cells": [
  {
   "cell_type": "markdown",
   "metadata": {},
   "source": [
    "## Sorting\n",
    "\n",
    "### What is sorting?\n",
    "\n",
    "Sorting is setting the order of items in a collection according to a certain criterion.  "
   ]
  },
  {
   "cell_type": "code",
   "execution_count": 1,
   "metadata": {},
   "outputs": [
    {
     "data": {
      "text/plain": [
       "[1, 2, 3, 4, 5]"
      ]
     },
     "execution_count": 1,
     "metadata": {},
     "output_type": "execute_result"
    }
   ],
   "source": [
    "[2, 5, 3, 4, 1].sort"
   ]
  },
  {
   "cell_type": "markdown",
   "metadata": {},
   "source": [
    "### Comparison\n",
    "\n",
    "Sorting is essentially carried out by comparing the items in a collection with each other, and ordering them based on the result of that comparison. \n",
    "\n",
    "*Comparison is at the heart of how sorting works.*\n",
    "\n",
    "### The `<=>` Method\n",
    "\n",
    "Any object in a collection that we want to sort **must** implement a `<=>` method\n",
    "\n",
    "This method performs comparison between two objects of the same type and returns a `-1`, `0`, or `1`, depending on whether the first object is `less than`, `equal to`, or `greater than` the second object; if the two objects cannot be compared then `nil` is returned.\n",
    "\n",
    "The return value of the `<=>` method is used by `sort` to determine the order in which to place the items. If `<=>` returns `nil` to `sort` then it throws an argument error."
   ]
  },
  {
   "cell_type": "code",
   "execution_count": 2,
   "metadata": {},
   "outputs": [
    {
     "ename": "ArgumentError",
     "evalue": "comparison of String with 1 failed",
     "output_type": "error",
     "traceback": [
      "\u001b[31mArgumentError\u001b[0m: comparison of String with 1 failed",
      "(irb):in `sort'",
      "(irb):in `irb_binding'"
     ]
    }
   ],
   "source": [
    "['a', 1].sort"
   ]
  },
  {
   "cell_type": "markdown",
   "metadata": {},
   "source": [
    "If you want to sort a collection that contains particular types of objects (e.g. strings or integers) you need to know two things:\n",
    "\n",
    "1. Does that object type implement a `<=>` comparison method?\n",
    "2. If yes, what is the specific implementation of that method for that object type (e.g. `String#<=>` will be implemented differently to `Integer#<=>`).\n",
    "\n",
    "**The ASCII Table**\n",
    "\n",
    "It is this ASCII character order that determines the result if we compare one ASCII character with another using the `String#<=>` method.\n",
    "\n",
    "For example comparing uppercase `'A'` with lowercase `'a'` returns `-1` because `'A'` precedes `'a'` in ASCIIbetical order.  Similarly `!` precedes `'A'`"
   ]
  },
  {
   "cell_type": "code",
   "execution_count": 4,
   "metadata": {},
   "outputs": [
    {
     "name": "stdout",
     "output_type": "stream",
     "text": [
      "-1\n",
      "-1\n"
     ]
    }
   ],
   "source": [
    "puts 'A' <=> 'a'\n",
    "puts '!' <=> \"A\""
   ]
  },
  {
   "cell_type": "markdown",
   "metadata": {},
   "source": [
    "You can determine a string's ASCII position by calling `ord` on the string."
   ]
  },
  {
   "cell_type": "code",
   "execution_count": 5,
   "metadata": {},
   "outputs": [
    {
     "name": "stdout",
     "output_type": "stream",
     "text": [
      "98\n",
      "125\n"
     ]
    }
   ],
   "source": [
    "puts 'b'.ord \n",
    "puts '}'.ord"
   ]
  },
  {
   "cell_type": "markdown",
   "metadata": {},
   "source": [
    "Some useful rules to remember are:\n",
    "\n",
    "- Uppercase letters come before lowercase letters\n",
    "- Digits and (most) punctuation come before letters\n",
    "- There is an extended ASCII table containing accented and other characters - this comes after the main ASCII table"
   ]
  },
  {
   "cell_type": "markdown",
   "metadata": {},
   "source": [
    "### The `sort` method\n",
    "\n",
    "We can also call `sort` with a block; this gives us more control over how the items are sorted. The block needs two arguments passed to it (the two items to be compared) and the return value of the block has to be `-1`, `0`, `1` or `nil`."
   ]
  },
  {
   "cell_type": "code",
   "execution_count": 6,
   "metadata": {},
   "outputs": [
    {
     "data": {
      "text/plain": [
       "[1, 2, 3, 4, 5]"
      ]
     },
     "execution_count": 6,
     "metadata": {},
     "output_type": "execute_result"
    }
   ],
   "source": [
    "[2, 5, 3, 4, 1].sort do |a, b|\n",
    "  a <=> b\n",
    "end"
   ]
  },
  {
   "cell_type": "markdown",
   "metadata": {},
   "source": [
    "In the above example, we're just using `Integer#<=>` in the block to perform the comparison, which is exactly what `sort` would have done by itself without the block of code.\n",
    "\n",
    "By switching the order in which the items are compared the new array returned is in descending order."
   ]
  },
  {
   "cell_type": "code",
   "execution_count": 8,
   "metadata": {},
   "outputs": [
    {
     "data": {
      "text/plain": [
       "[5, 4, 3, 2, 1]"
      ]
     },
     "execution_count": 8,
     "metadata": {},
     "output_type": "execute_result"
    }
   ],
   "source": [
    "[2, 5, 3, 4, 1].sort do |a, b|\n",
    "  b <=> a\n",
    "end"
   ]
  },
  {
   "cell_type": "markdown",
   "metadata": {},
   "source": [
    "If the strings are of different lengths, and the strings are equal when compared up to the shortest length, then the longer string is considered greater than the shorter one."
   ]
  },
  {
   "cell_type": "code",
   "execution_count": 10,
   "metadata": {},
   "outputs": [
    {
     "data": {
      "text/plain": [
       "[\"ants\", \"arc\", \"bat\", \"cap\", \"cape\"]"
      ]
     },
     "execution_count": 10,
     "metadata": {},
     "output_type": "execute_result"
    }
   ],
   "source": [
    "['arc', 'bat', 'cape', 'ants', 'cap'].sort"
   ]
  },
  {
   "cell_type": "markdown",
   "metadata": {},
   "source": [
    "Arrays are compared in an “element-wise” manner; the first element of ary is compared with the first one of other_ary using the` <=>` operator, then each of the second elements, etc… As soon as the result of any such comparison is non zero (i.e. the two corresponding elements are not equal), that result is returned for the whole array comparison.\n",
    "\n",
    "If all the elements are equal, then the result is based on a comparison of the array lengths. Thus, two arrays are “equal” according to `Array#<=>` if, and only if, they have the same length and the value of each element is equal to the value of the corresponding element in the other array."
   ]
  },
  {
   "cell_type": "code",
   "execution_count": 12,
   "metadata": {},
   "outputs": [
    {
     "data": {
      "text/plain": [
       "[[\"a\", \"car\", \"d\"], [\"a\", \"car\", \"d\", 3], [\"a\", \"cat\", \"b\", \"c\"], [\"b\", 2]]"
      ]
     },
     "execution_count": 12,
     "metadata": {},
     "output_type": "execute_result"
    }
   ],
   "source": [
    "[['a', 'cat', 'b', 'c'], ['b', 2], ['a', 'car', 'd', 3], ['a', 'car', 'd']].sort"
   ]
  },
  {
   "cell_type": "markdown",
   "metadata": {},
   "source": [
    "You will have noticed that the sub-array that has `'b'` at its first index has an integer `2` at its second index. We already know that comparing an integer with a string will return `nil`, which will cause `sort` to throw an error. \n",
    "\n",
    "In this case, since `sort` did not need to compare the second item of that array to be able to establish its order, the integer does not come into play here and so no error is thrown. If the first item in that array had been an `'a'`, like the other arrays, then the integer would have come into play and an error would have been thrown.\n",
    "\n",
    "There is another sub-array which contains an integer `['a', 'car', 'd', 3]`. In this case the integer does come into play, but only in terms of comparing the length of this array with the array `['a', 'car', 'd']`. The integer itself is not compared with a string, so again no error is thrown."
   ]
  },
  {
   "cell_type": "markdown",
   "metadata": {},
   "source": [
    "### The `sort_by` method\n",
    "\n",
    "`sort_by` is similar to `sort` but is usually called with a block. The code in the block determines how the items are compared."
   ]
  },
  {
   "cell_type": "code",
   "execution_count": 13,
   "metadata": {},
   "outputs": [
    {
     "data": {
      "text/plain": [
       "[\"mat\", \"bed\", \"cot\"]"
      ]
     },
     "execution_count": 13,
     "metadata": {},
     "output_type": "execute_result"
    }
   ],
   "source": [
    "['cot', 'bed', 'mat'].sort_by do |word|\n",
    "  word[1]\n",
    "end"
   ]
  },
  {
   "cell_type": "markdown",
   "metadata": {},
   "source": [
    "Here we are sorting using the character at index `1` of each string, so only the characters` 'a'`, `'e'` and `'o'` are compared and the strings ordered according to the comparison of those characters. The other characters in the strings are ignored entirely.\n",
    "\n",
    "When calling `sort_by` on a hash, two arguments need to be passed to the block - the key and the value."
   ]
  },
  {
   "cell_type": "code",
   "execution_count": 16,
   "metadata": {},
   "outputs": [
    {
     "data": {
      "text/plain": [
       "[[:Mike, 18], [:john, 25], [:Kate, 27]]"
      ]
     },
     "execution_count": 16,
     "metadata": {},
     "output_type": "execute_result"
    }
   ],
   "source": [
    "people = { Kate: 27, john: 25, Mike:  18 }\n",
    "\n",
    "people.sort_by do |_, age|\n",
    "  age\n",
    "end"
   ]
  },
  {
   "cell_type": "markdown",
   "metadata": {},
   "source": [
    "`sort_by` always returns an array, even when called on a hash, so the result here is a new array with the key-value pairs as objects in nested arrays. If we need to convert this back into a hash we can call `Array#to_h` on it.\n",
    "\n",
    "What if we want to order the hash by name rather than age? The names in this example are symbols.  By using Symbol#<=> we are effectively comparing strings.  We therefore know that we can sort our hash by name.\n",
    "\n",
    "There's a problem though. `:john`, is not capitalized. Since strings are compared in 'ASCIIbetical' order, `:john` will come after `:Kate` and `:Mike`, which may not be what we want.  We can use the `Symbol#capitalize` method on each name within the block so that when the keys are compared they are all capitalized."
   ]
  },
  {
   "cell_type": "code",
   "execution_count": 18,
   "metadata": {},
   "outputs": [
    {
     "data": {
      "text/plain": [
       "[[:john, 25], [:Kate, 27], [:Mike, 18]]"
      ]
     },
     "execution_count": 18,
     "metadata": {},
     "output_type": "execute_result"
    }
   ],
   "source": [
    "people = { Kate: 27, john: 25, Mike:  18 }\n",
    "\n",
    "people.sort_by do |name, _|\n",
    "  name.capitalize\n",
    "end"
   ]
  },
  {
   "cell_type": "markdown",
   "metadata": {},
   "source": [
    "Note: `Array#sort` and `Array#sort_by` have a equivalent destructive methods `Array#sort!` and `Array#sort_by!`. With these methods, rather than returning a new collection, the same collection is returned but sorted. These methods are specific to arrays and are not available to hashes. "
   ]
  },
  {
   "cell_type": "markdown",
   "metadata": {},
   "source": [
    "### Other methods which use comparison\n",
    "\n",
    "- `min`\n",
    "- `max`\n",
    "- `minmax`\n",
    "- `min_by`\n",
    "- `max_by`\n",
    "- `minmax_by`"
   ]
  },
  {
   "cell_type": "markdown",
   "metadata": {},
   "source": [
    "## Nested Data Structures\n",
    "\n",
    "### Referencing collection elements\n",
    "\n",
    "Each inner array can be accessed in the same way that you'd access any other array element; the trick is to remember that it's another collection you're referencing. Let's retrieve the first inner array like we typically reference array elements."
   ]
  },
  {
   "cell_type": "code",
   "execution_count": 23,
   "metadata": {},
   "outputs": [
    {
     "data": {
      "text/plain": [
       "[1, 3]"
      ]
     },
     "execution_count": 23,
     "metadata": {},
     "output_type": "execute_result"
    }
   ],
   "source": [
    "arr = [[1, 3], [2]]\n",
    "arr[0]"
   ]
  },
  {
   "cell_type": "markdown",
   "metadata": {},
   "source": [
    "To access that inner array element, 3, we need to reference it again, chaining our element references."
   ]
  },
  {
   "cell_type": "code",
   "execution_count": 24,
   "metadata": {},
   "outputs": [
    {
     "data": {
      "text/plain": [
       "3"
      ]
     },
     "execution_count": 24,
     "metadata": {},
     "output_type": "execute_result"
    }
   ],
   "source": [
    "arr = [[1, 3], [2]]\n",
    "arr[0][1]\n"
   ]
  },
  {
   "cell_type": "markdown",
   "metadata": {},
   "source": [
    "### Updating collection elements\n",
    "\n",
    "The `arr[1] = \"hi there\"` is a destructive action that permanently changed the second element in the `arr` array; it replaced the entire `[2]` inner array with the string `\"hi there\"`."
   ]
  },
  {
   "cell_type": "code",
   "execution_count": 25,
   "metadata": {},
   "outputs": [
    {
     "data": {
      "text/plain": [
       "[[1, 3], \"hi there\"]"
      ]
     },
     "execution_count": 25,
     "metadata": {},
     "output_type": "execute_result"
    }
   ],
   "source": [
    "arr = [[1, 3], [2]]\n",
    "arr[1] = \"hi there\"\n",
    "arr"
   ]
  },
  {
   "cell_type": "markdown",
   "metadata": {},
   "source": [
    "Likewise, we can modify a value in a nested array in a similar way.\n",
    "\n",
    "It looks like a chained reference, similar to what we saw before. But it's not. The first part, `arr[0]`, is **element reference** and returns the inner array `[1, 3]`.  \n",
    "\n",
    "The second part, `[1] = 5`, is the same as `[1, 3][1] = 5`, which is **array element update**, not reference. \n",
    "\n",
    "The line `[1, 3][1] = 5` says `\"change the second element in the array [1, 3] to 5\"`. And as we saw above, this is a destructive action, so the change is permanent. So it's a **chained action**, but the first part of that chain is **element reference**, while the second part of that chain is **element update**."
   ]
  },
  {
   "cell_type": "code",
   "execution_count": 26,
   "metadata": {},
   "outputs": [
    {
     "data": {
      "text/plain": [
       "[[1, 5], [2]]"
      ]
     },
     "execution_count": 26,
     "metadata": {},
     "output_type": "execute_result"
    }
   ],
   "source": [
    "arr = [[1, 3], [2]]\n",
    "arr[0][1] = 5\n",
    "arr"
   ]
  },
  {
   "cell_type": "markdown",
   "metadata": {},
   "source": [
    "How to insert an additional element into an inner array:\n",
    "\n",
    "The line `arr[0] << 3` is again a two part chain: \n",
    "- the first part, `arr[0]` is element reference and returns `[1]`\n",
    "- and the second part can be thought of as `[1] << 3`, which destructively appends 3 into the inner array."
   ]
  },
  {
   "cell_type": "code",
   "execution_count": 27,
   "metadata": {},
   "outputs": [
    {
     "data": {
      "text/plain": [
       "[[1, 3], [2]]"
      ]
     },
     "execution_count": 27,
     "metadata": {},
     "output_type": "execute_result"
    }
   ],
   "source": [
    "arr = [[1], [2]]\n",
    "arr[0] << 3\n",
    "arr"
   ]
  },
  {
   "cell_type": "markdown",
   "metadata": {},
   "source": [
    "### Other nested structures\n",
    "\n",
    "Hashes can be nested within an array as well. \n",
    "\n",
    "Let's suppose we want to add a new key/value pair into the first inner hash. Once again, there has to be a two step process: \n",
    "- first, reference the first element in the array; \n",
    "- next, update the hash.\n",
    "\n",
    "First we use `arr[0]` to retrieve the first inner hash, so we get `{a: 'ant'}`. Next, we use the normal hash key/value creation syntax to create a new key/value pair: `{a: 'ant'}[:c] = 'cat'`. The change is destructive, so the array, `arr`, reflects the change when we inspect it."
   ]
  },
  {
   "cell_type": "code",
   "execution_count": 29,
   "metadata": {},
   "outputs": [
    {
     "data": {
      "text/plain": [
       "[{:a=>\"ant\", :c=>\"cat\"}, {:b=>\"bear\"}]"
      ]
     },
     "execution_count": 29,
     "metadata": {},
     "output_type": "execute_result"
    }
   ],
   "source": [
    "arr = [{ a: 'ant' }, { b: 'bear' }]\n",
    "arr[0][:c] = 'cat'\n",
    "arr"
   ]
  },
  {
   "cell_type": "markdown",
   "metadata": {},
   "source": [
    "### Variable reference for nested collections\n",
    "\n",
    "The local variables `a` and `b` are pointing to `Array` objects. When we place the local variables as elements in an array, it looks like the same as adding the actual `Array` objects that they're pointing to into the array. And that's true to a certain extent, but there are some edge cases we need to think about."
   ]
  },
  {
   "cell_type": "code",
   "execution_count": 32,
   "metadata": {},
   "outputs": [
    {
     "data": {
      "text/plain": [
       "[[1, 3], [2]]"
      ]
     },
     "execution_count": 32,
     "metadata": {},
     "output_type": "execute_result"
    }
   ],
   "source": [
    "a = [1, 3]\n",
    "b = [2]\n",
    "arr = [a, b]\n",
    "arr"
   ]
  },
  {
   "cell_type": "markdown",
   "metadata": {},
   "source": [
    "What happens if we modify `a` after placing it in arr?"
   ]
  },
  {
   "cell_type": "code",
   "execution_count": 33,
   "metadata": {},
   "outputs": [
    {
     "data": {
      "text/plain": [
       "[[1, 5], [2]]"
      ]
     },
     "execution_count": 33,
     "metadata": {},
     "output_type": "execute_result"
    }
   ],
   "source": [
    "a = [1, 3]\n",
    "b = [2]\n",
    "arr = [a, b]\n",
    "\n",
    "a[1] = 5\n",
    "arr "
   ]
  },
  {
   "cell_type": "markdown",
   "metadata": {},
   "source": [
    "The value of `arr` changed because `a` still points to the same `Array` object that's in `arr`. When we modified it by replacing `3` with `5`, we were modifying the `Array` object.\n",
    "\n",
    "<img src='./variables-as-pointers-1.png' width=500>"
   ]
  },
  {
   "cell_type": "markdown",
   "metadata": {},
   "source": [
    "What if we modify the first array in `arr`? Is it different than modifying `a` directly?"
   ]
  },
  {
   "cell_type": "code",
   "execution_count": 36,
   "metadata": {},
   "outputs": [
    {
     "name": "stdout",
     "output_type": "stream",
     "text": [
      "[[1, 8], [2]]\n",
      "[1, 8]\n"
     ]
    }
   ],
   "source": [
    "a = [1, 3]\n",
    "b = [2]\n",
    "arr = [a, b]\n",
    "\n",
    "arr[0][1] = 8\n",
    "puts arr.inspect \n",
    "puts a.inspect"
   ]
  },
  {
   "cell_type": "markdown",
   "metadata": {},
   "source": [
    "It produces the same result as modifying `a` directly. In both cases, we're modifying the object that `a` and `arr[0]` point to; we now have two ways to reference the same object:\n",
    "- In the first example, the object is being modified through `a`. \n",
    "- In the second example, the object is being modified through `arr[0]`.\n",
    "\n",
    "As can be seen in the diagram below, `a` and `arr[0]` are in fact two different ways of referencing the same object. The assignment `arr[0][1] = 8` would be the same as `a[1] = 8`.\n",
    "\n",
    "<img src='./variables-as-pointers-2.png' width=500>"
   ]
  },
  {
   "cell_type": "markdown",
   "metadata": {},
   "source": [
    "### Shallow Copy\n",
    "\n",
    "Ruby provides two methods that let us copy an object, including collections: `dup` and `clone`. Both of these methods create a *shallow copy* of an object. \n",
    "\n",
    "This means that **only the object that the method is called on is copied**. If the object contains other objects - like a nested array - then those objects will be **shared**, not copied. This has major impact to nested collections.\n",
    "\n",
    "`dup` allows objects within the copied object to be modified."
   ]
  },
  {
   "cell_type": "code",
   "execution_count": 38,
   "metadata": {},
   "outputs": [
    {
     "name": "stdout",
     "output_type": "stream",
     "text": [
      "[\"a\", \"B\", \"c\"]\n",
      "[\"a\", \"B\", \"c\"]\n"
     ]
    }
   ],
   "source": [
    "arr1 = [\"a\", \"b\", \"c\"]\n",
    "arr2 = arr1.dup\n",
    "arr2[1].upcase!\n",
    "\n",
    "puts arr2.inspect\n",
    "puts arr1.inspect"
   ]
  },
  {
   "cell_type": "markdown",
   "metadata": {},
   "source": [
    "`clone` works the same way."
   ]
  },
  {
   "cell_type": "code",
   "execution_count": 39,
   "metadata": {},
   "outputs": [
    {
     "name": "stdout",
     "output_type": "stream",
     "text": [
      "[\"cba\", \"def\"]\n",
      "[\"cba\", \"def\"]\n"
     ]
    }
   ],
   "source": [
    "arr1 = [\"abc\", \"def\"]\n",
    "arr2 = arr1.clone\n",
    "arr2[0].reverse!\n",
    "\n",
    "puts arr2.inspect\n",
    "puts arr1.inspect"
   ]
  },
  {
   "cell_type": "markdown",
   "metadata": {},
   "source": [
    "The reason this happens is because the destructive methods (`String#upcase!` and `String#reverse!`) were called on the object within the array rather than the array itself.\n",
    "\n",
    "Since those objects are **shared**, even if you mutate that object by referencing it from within a particular array or other collection it is the **object** you are affecting rather than the collection."
   ]
  },
  {
   "cell_type": "code",
   "execution_count": 43,
   "metadata": {},
   "outputs": [
    {
     "name": "stdout",
     "output_type": "stream",
     "text": [
      "[\"A\", \"B\", \"C\"]\n",
      "[\"a\", \"b\", \"c\"]\n"
     ]
    }
   ],
   "source": [
    "arr1 = [\"a\", \"b\", \"c\"]\n",
    "arr2 = arr1.dup\n",
    "arr2.map! do |char|\n",
    "  char.upcase\n",
    "end\n",
    "\n",
    "puts arr2.inspect\n",
    "puts arr1.inspect"
   ]
  },
  {
   "cell_type": "markdown",
   "metadata": {},
   "source": [
    "`arr2` is changed but `arr1` is not. Here, we call the destructive method `Array#map!` on `arr2`; this method modifies the array, replacing each element of `arr2` with a new value. \n",
    "\n",
    "**Since we are changing the Array, not the elements within it, `arr1` is left unchanged.**"
   ]
  },
  {
   "cell_type": "markdown",
   "metadata": {},
   "source": [
    "VS."
   ]
  },
  {
   "cell_type": "code",
   "execution_count": 44,
   "metadata": {},
   "outputs": [
    {
     "name": "stdout",
     "output_type": "stream",
     "text": [
      "[\"A\", \"B\", \"C\"]\n",
      "[\"A\", \"B\", \"C\"]\n"
     ]
    }
   ],
   "source": [
    "arr1 = [\"a\", \"b\", \"c\"]\n",
    "arr2 = arr1.dup\n",
    "arr2.each do |char|\n",
    "  char.upcase!\n",
    "end\n",
    "\n",
    "puts arr2.inspect\n",
    "puts arr1.inspect"
   ]
  },
  {
   "cell_type": "markdown",
   "metadata": {},
   "source": [
    "Both `arr1` and `arr2` are changed. Here, we call the destructive `String#upcase!` method on each element of `arr2`. However, every element of `arr2` is a reference to the object referenced by the corresponding element in `arr1`. \n",
    "\n",
    "**Thus, when `#upcase!` mutates the element in `arr2`, `arr1` is also affected; we change the Array elements, not the Array.**\n",
    "\n",
    "```\n",
    "The important thing to be aware of is exactly what level you're working at, especially when working with nested collections and using variables as pointers; \n",
    "- are you working at the level of an outer array or hash \n",
    "- or at the level of an object within that?\n",
    "```"
   ]
  },
  {
   "cell_type": "markdown",
   "metadata": {},
   "source": [
    "### Freezing Objects\n",
    "\n",
    "The main difference between `dup` and `clone` is that `clone` preserves the frozen state of the object."
   ]
  },
  {
   "cell_type": "code",
   "execution_count": 45,
   "metadata": {},
   "outputs": [
    {
     "ename": "FrozenError",
     "evalue": "can't modify frozen Array: [\"a\", \"b\", \"c\"]",
     "output_type": "error",
     "traceback": [
      "\u001b[31mFrozenError\u001b[0m: can't modify frozen Array: [\"a\", \"b\", \"c\"]",
      "(irb):2:in `irb_binding'"
     ]
    }
   ],
   "source": [
    "arr1 = [\"a\", \"b\", \"c\"].freeze\n",
    "arr2 = arr1.clone\n",
    "arr2 << \"d\""
   ]
  },
  {
   "cell_type": "markdown",
   "metadata": {},
   "source": [
    "`dup` doesn't preserve the frozen state of the object."
   ]
  },
  {
   "cell_type": "code",
   "execution_count": 46,
   "metadata": {},
   "outputs": [
    {
     "name": "stdout",
     "output_type": "stream",
     "text": [
      "[\"a\", \"b\", \"c\", \"d\"]\n",
      "[\"a\", \"b\", \"c\"]\n"
     ]
    }
   ],
   "source": [
    "arr1 = [\"a\", \"b\", \"c\"].freeze\n",
    "arr2 = arr1.dup\n",
    "arr2 << \"d\"\n",
    "\n",
    "puts arr2.inspect\n",
    "puts arr1.inspect"
   ]
  },
  {
   "cell_type": "markdown",
   "metadata": {},
   "source": [
    "In Ruby, objects can be frozen in order to prevent them from being modified.\n",
    "\n",
    "Only mutable objects can be frozen because immutable objects, like integers, are already frozen. We can check if an object is frozen with the `frozen?` method.\n",
    "\n",
    "`freeze` only freezes the object it's called on. If the object it's called on contains other objects, those objects won't be frozen. For example, if we have a nested array the nested objects can still be modified after calling `freeze`."
   ]
  },
  {
   "cell_type": "code",
   "execution_count": 47,
   "metadata": {},
   "outputs": [
    {
     "data": {
      "text/plain": [
       "[[1], [2], [3, 4]]"
      ]
     },
     "execution_count": 47,
     "metadata": {},
     "output_type": "execute_result"
    }
   ],
   "source": [
    "arr = [[1], [2], [3]].freeze\n",
    "arr[2] << 4\n",
    "arr"
   ]
  },
  {
   "cell_type": "code",
   "execution_count": 48,
   "metadata": {},
   "outputs": [
    {
     "data": {
      "text/plain": [
       "[\"a\", \"b\", \"cd\"]"
      ]
     },
     "execution_count": 48,
     "metadata": {},
     "output_type": "execute_result"
    }
   ],
   "source": [
    "arr = [\"a\", \"b\", \"c\"].freeze\n",
    "arr[2] << \"d\"\n",
    "arr"
   ]
  },
  {
   "cell_type": "markdown",
   "metadata": {},
   "source": [
    "## Working with Blocks\n",
    "\n",
    "### Example 1"
   ]
  },
  {
   "cell_type": "code",
   "execution_count": 49,
   "metadata": {},
   "outputs": [
    {
     "name": "stdout",
     "output_type": "stream",
     "text": [
      "1\n",
      "3\n"
     ]
    },
    {
     "data": {
      "text/plain": [
       "[[1, 2], [3, 4]]"
      ]
     },
     "execution_count": 49,
     "metadata": {},
     "output_type": "execute_result"
    }
   ],
   "source": [
    "[[1, 2], [3, 4]].each do |arr|\n",
    "  puts arr.first\n",
    "end"
   ]
  },
  {
   "cell_type": "markdown",
   "metadata": {},
   "source": [
    "**My explanation**\n",
    "\n",
    "- The calling collection is a nested array\n",
    "- It is invoking the `each` method.\n",
    "- On each iteration, the block outputs the first element of each nested array\n",
    "- The original nested array is returned.\n",
    "\n",
    "**LS explanation**\n",
    "\n",
    "- The `Array#each` method is being called on the multi-dimensional array\n",
    "- Each inner array is passed to the block in turn and assigned to the local variable `arr`\n",
    "- The `Array#first` method is called on `arr` and returns the object at index `0` of the current array \n",
    "- The `puts` method then outputs a string representation of the integer. `puts` returns `nil` and,<br>since this is the last evaluated statement within the block, the return value of the block is therefore `nil`. \n",
    "- `each` doesn't do anything with this returned value though, and since the return value of `each` is the calling object -  this is what is ultimately returned\n",
    "\n",
    "\n",
    "When evaluating code like this, ask the following questions:\n",
    "- What is the type of action being performed (method call, block, conditional, etc..)?\n",
    "- What is the object that action is being performed on?\n",
    "- What is the side-effect of that action (e.g. output or destructive action)?\n",
    "- What is the return value of that action?\n",
    "- Is the return value used by whatever instigated the action?\n",
    "\n",
    "<img src='./code_evaluation_table.png' width=600>"
   ]
  },
  {
   "cell_type": "markdown",
   "metadata": {},
   "source": [
    "### Example 2"
   ]
  },
  {
   "cell_type": "code",
   "execution_count": 50,
   "metadata": {},
   "outputs": [
    {
     "name": "stdout",
     "output_type": "stream",
     "text": [
      "1\n",
      "3\n"
     ]
    },
    {
     "data": {
      "text/plain": [
       "[nil, nil]"
      ]
     },
     "execution_count": 50,
     "metadata": {},
     "output_type": "execute_result"
    }
   ],
   "source": [
    "[[1, 2], [3, 4]].map do |arr|\n",
    "  puts arr.first\n",
    "end"
   ]
  },
  {
   "cell_type": "markdown",
   "metadata": {},
   "source": [
    "Line 1 \n",
    "- Action: method call `map`\n",
    "- Object: Outer array\n",
    "- Side Effect: None\n",
    "- Return Value: New array `[nil, nil]`\n",
    "- Is return value used?: No"
   ]
  },
  {
   "cell_type": "markdown",
   "metadata": {},
   "source": [
    "Line 1-3\n",
    "- Action: block exection\n",
    "- Object: Each sub-array\n",
    "- Side Effect: None\n",
    "- Return Values: `nil`\n",
    "- Is return value used: Yes, used by `map` for transformation\n",
    "\n",
    "Line 2\n",
    "\n",
    "- Action: method call `first`\n",
    "- Object: Each sub-array\n",
    "- Side Effect: None\n",
    "- Return Values: element at index 0 of each sub-array\n",
    "- Is return value used: Yes, used by `puts`\n",
    "\n",
    "Line 2\n",
    "- Action: method call `puts`\n",
    "- Object: element at index 0 of each sub-array\n",
    "- Side Effect: Outputs string representation of an integer\n",
    "- Return Values: `nil`\n",
    "- Is return value used: Yes, used to determine return value of block\n",
    "\n",
    "<img src='./code_evaluation_table_2.png' width=600>"
   ]
  },
  {
   "cell_type": "markdown",
   "metadata": {},
   "source": [
    "### Example 3"
   ]
  },
  {
   "cell_type": "code",
   "execution_count": null,
   "metadata": {},
   "outputs": [],
   "source": [
    "[[1, 2], [3, 4]].map do |arr|\n",
    "  puts arr.first\n",
    "  arr.first\n",
    "end"
   ]
  },
  {
   "cell_type": "markdown",
   "metadata": {},
   "source": [
    "Line 1 \n",
    "- Action: method call `map`\n",
    "- Object: Outer array\n",
    "- Side Effect: None\n",
    "- Return Value: New array `[1, 3]`\n",
    "- Is return value used?: No\n",
    "\n",
    "Line 1-4\n",
    "- Action: block exection\n",
    "- Object: Each sub-array\n",
    "- Side Effect: None\n",
    "- Return Values: element at index 0 of each sub-array\n",
    "- Is return value used: Yes, used by `map` for transformation\n",
    "\n",
    "Line 2\n",
    "- Action: method call `Array#first`\n",
    "- Object: Each sub-array\n",
    "- Side Effect: None\n",
    "- Return Values: element at index 0 of each sub-array\n",
    "- Is return value used: Yes, by `puts`\n",
    "\n",
    "Line 2\n",
    "- Action: method call `puts`\n",
    "- Object: element at index 0 of each sub-array\n",
    "- Side Effect: Outputs string representation of an integer\n",
    "- Return Values: `nil`\n",
    "- Is return value used: No\n",
    "\n",
    "Line 3\n",
    "- Action: method call `Array#first`\n",
    "- Object: Each sub-array\n",
    "- Side Effect: None\n",
    "- Return Values: element at index 0 of each sub-array\n",
    "- Is return value used: Yes, used to determine the return value of the block.\n",
    "\n",
    "<img src='./code_evaluation_table_3.png' width=600>\n",
    "\n",
    "The main difference to understand in this example is the return value of the block. This is because `puts` is no longer the last expression in the block, thereby changing the block's return value from `nil` to the integer returned by `arr.first.` \n",
    "\n",
    "The block's return value is then used by `map` to perform the transformation, replacing the inner array with an integer. Finally, `map` returns a new array with two integers in it."
   ]
  },
  {
   "cell_type": "markdown",
   "metadata": {},
   "source": [
    "### Example 4"
   ]
  },
  {
   "cell_type": "code",
   "execution_count": 52,
   "metadata": {},
   "outputs": [
    {
     "name": "stdout",
     "output_type": "stream",
     "text": [
      "18\n",
      "7\n",
      "12\n"
     ]
    },
    {
     "data": {
      "text/plain": [
       "[[18, 7], [3, 12]]"
      ]
     },
     "execution_count": 52,
     "metadata": {},
     "output_type": "execute_result"
    }
   ],
   "source": [
    "my_arr = [[18, 7], [3, 12]].each do |arr|\n",
    "  arr.each do |num|\n",
    "    if num > 5\n",
    "      puts num\n",
    "    end\n",
    "  end\n",
    "end"
   ]
  },
  {
   "cell_type": "markdown",
   "metadata": {},
   "source": [
    "<img src='./code_evaluation_table_4.png' width=600>"
   ]
  },
  {
   "cell_type": "markdown",
   "metadata": {},
   "source": [
    "There are 4 return values to pay attention to here: \n",
    "- the return value of both calls to `each` \n",
    "- and the return value of both blocks. \n",
    "\n",
    "When determining what these return values will be it's important to understand how the method used in the example actually works. In this case we're using `each`, which ignores the return value of the block. This lets us quickly see that the value of `my_arr` will be the array that each was called on.\n",
    "\n",
    "Because `each` ignores the block's return value, this was a relatively straight forward example."
   ]
  },
  {
   "cell_type": "markdown",
   "metadata": {},
   "source": [
    "Line 1 \n",
    "- Action: method call `each`\n",
    "- Object: `[[18, 7], [3, 12]]`\n",
    "- Side Effect: None\n",
    "- Return Value: Calling object - `[[18, 7], [3, 12]]`\n",
    "- Is return value used?: Yes, used by variable assignment to `my_array`\n",
    "\n",
    "Lines 1-7\n",
    "- Action: outer block exection\n",
    "- Object: Each sub-array\n",
    "- Side Effect: None\n",
    "- Return Values: each sub-array\n",
    "- Is return value used: No\n",
    "\n",
    "Line 2\n",
    "- Action: method call `each`\n",
    "- Object: Each sub-array\n",
    "- Side Effect: None\n",
    "- Return Value: The calling object; sub-array in current iteration\n",
    "- Is return value used?: Yes, used to determine return value of outer block\n",
    "\n",
    "Lines 2 - 6\n",
    "- Action: inner block exection\n",
    "- Object: Element of the sub-array in that iteration\n",
    "- Side Effect: None\n",
    "- Return Values: `nil`\n",
    "- Is return value used: No\n",
    "\n",
    "Line 3 \n",
    "- Action: Comparison (`>`)\n",
    "- Object: Element of the sub-array in that iteration\n",
    "- Side Effect: None\n",
    "- Return Values: Boolean\n",
    "- Is return value used: yes, evaluated by `if`\n",
    "\n",
    "Line 3-5\n",
    "- Action: Conditional (`if`)\n",
    "- Object: The result of the expression `num > 5`\n",
    "- Side Effect: None\n",
    "- Return Values: `nil`\n",
    "- Is return value used: yes, used to determine the return value of the inner block\n",
    "\n",
    "Line 3-4\n",
    "- Action: method call `puts`\n",
    "- Object:  Element of the sub-array in that iteration\n",
    "- Side Effect: Outptuts a string representation of an integer\n",
    "- Return Values: `nil`\n",
    "- Is return value used: Yes, used to determine the return value of the conditional statement if the condition is met"
   ]
  },
  {
   "cell_type": "markdown",
   "metadata": {},
   "source": [
    "### Example 5"
   ]
  },
  {
   "cell_type": "code",
   "execution_count": null,
   "metadata": {},
   "outputs": [],
   "source": [
    "[[1, 2], [3, 4]].map do |arr|\n",
    "  arr.map do |num|\n",
    "    num * 2\n",
    "  end\n",
    "end"
   ]
  },
  {
   "cell_type": "markdown",
   "metadata": {},
   "source": [
    "<img src='./code_evaluation_table_5.png' width=600>"
   ]
  },
  {
   "cell_type": "markdown",
   "metadata": {},
   "source": [
    "Line 1:\n",
    "- Action: method call `map`\n",
    "- Object: outer array `[1, 2], [3. 4]`\n",
    "- Side Effect: None\n",
    "- Return Value: New transformed array - `[[2, 4], [6, 8]]`\n",
    "- Is return value used: No\n",
    "\n",
    "Line 1-5:\n",
    "- Action: outer block execution\n",
    "- Object: each sub-array\n",
    "- Side Effect: None\n",
    "- Return Value:  New transformed array\n",
    "- Is return value used: Yes, used by top-level `map` for transformation\n",
    "\n",
    "Line 2:\n",
    "- Action: method call `map`\n",
    "- Object: each sub-array\n",
    "- Side Effect: None\n",
    "- Return Value: New transformed array\n",
    "- Is return value used: Yes, used to determine return value of outer block\n",
    "\n",
    "Lines 2-4:\n",
    "- Action: inner block execution\n",
    "- Object: The element of the sub-array in that iteration\n",
    "- Side Effect: None\n",
    "- Return Value: Integer\n",
    "- Is return value used: Yes, used by inner `map` for transformation\n",
    "\n",
    "Line 3:\n",
    "- Action: method call `Integer#*` with 2 as an argument\n",
    "- Object: The element of the sub-array in that iteration\n",
    "- Side Effect: None\n",
    "- Return Value: integer\n",
    "- Is Return Value Used: Yes, used to determine the return value of the inner block."
   ]
  },
  {
   "cell_type": "markdown",
   "metadata": {},
   "source": [
    "### Example 6"
   ]
  },
  {
   "cell_type": "code",
   "execution_count": 57,
   "metadata": {},
   "outputs": [
    {
     "data": {
      "text/plain": [
       "[{:c=>\"cat\"}]"
      ]
     },
     "execution_count": 57,
     "metadata": {},
     "output_type": "execute_result"
    }
   ],
   "source": [
    "[{ a: 'ant', b: 'elephant' }, { c: 'cat' }].select do |hash|\n",
    "  hash.all? do |key, value|\n",
    "    value[0] == key.to_s\n",
    "  end\n",
    "end"
   ]
  },
  {
   "cell_type": "markdown",
   "metadata": {},
   "source": [
    "The first thing to notice here is the use of the `all?` method within the `select` block. Since `#select` specifically cares about the truthiness of the block's return value, using a method that returns a boolean works well. \n",
    "\n",
    "`all?` will return `true` if the block passed to it never returns a value of `false` or `nil` for every key/value pair in the hash. We're using `value[0] == key.to_s` to test whether all keys match the first letter of all their associated values. Note that the only hash that meets this criteria is `{:c => 'cat'}`, and the return value is an array."
   ]
  },
  {
   "cell_type": "markdown",
   "metadata": {},
   "source": [
    "**What would happen if, instead of using all?, we used any?. Why would this affect the return value of select?**\n",
    "\n",
    "Yes, `select` would return a new array consisting of both hashes since at least one of the key/value pairs satisfies the condition that `value[0] == key.to_s` in each hash (`a: 'ant'` in the firs hash)."
   ]
  },
  {
   "cell_type": "markdown",
   "metadata": {},
   "source": [
    "Line 1:\n",
    "- Action: method call `select`\n",
    "- Object: Array of hashes `[{ a: 'ant', b: 'elephant' }, { c: 'cat' }]`\n",
    "- Side Effect: None\n",
    "- Return Value: A new filtered array - `[{ c: 'cat' }]`\n",
    "- Is Return Value used: No\n",
    "\n",
    "Line 1-5:\n",
    "- Action: outer-block execution\n",
    "- Object: Each hash\n",
    "- Side Effect: None\n",
    "- Return Value: A new filtered hash\n",
    "- Is Return Value Used: Yes, used by outer `select` for selection\n",
    "\n",
    "Line 2:\n",
    "- Action: method call `all?`\n",
    "- Object: Each hash\n",
    "- Side Effect: None\n",
    "- Return Value: Boolean\n",
    "- Is Return Value Used: Yes, used to determine the return value of the outer block.\n",
    "\n",
    "Line 2-4: \n",
    "- Action: inner-block executions\n",
    "- Object: The (key, value) pair of the hash in that iteration\n",
    "- Side Effect: None\n",
    "- Return Value: Boolean\n",
    "- Is Return Value Used: Yes, used by inner level `all?` in determining whether to return `true` or `false`.\n",
    "\n",
    "Line 3:\n",
    "- Action: comparison `==` with `value[0]` and `key.to_s` as arguments\n",
    "- Object: The (key, value) pair of the hash in that iteration\n",
    "- Side Effect: None\n",
    "- Return Value: Boolean\n",
    "- Is Return Value Used: Yes, used to determine the return value of the inner block."
   ]
  },
  {
   "cell_type": "markdown",
   "metadata": {},
   "source": [
    "### Example 7"
   ]
  },
  {
   "cell_type": "markdown",
   "metadata": {},
   "source": [
    "An array of nested arrays which contain numeric strings, and we want to sort the outer array so that the inner arrays are ordered according to the numeric value of the strings they contain. Take, for example, the following 4-element array of arrays."
   ]
  },
  {
   "cell_type": "code",
   "execution_count": 63,
   "metadata": {},
   "outputs": [
    {
     "data": {
      "text/plain": [
       "[[\"1\", \"8\", \"9\"], [\"1\", \"8\", \"11\"], [\"2\", \"6\", \"13\"], [\"2\", \"12\", \"15\"]]"
      ]
     },
     "execution_count": 63,
     "metadata": {},
     "output_type": "execute_result"
    }
   ],
   "source": [
    "arr = [['1', '8', '11'], ['2', '6', '13'], ['2', '12', '15'], ['1', '8', '9']]\n",
    "# ['1', '8', '9'], ['1', '8', '11'], ['2', '6', '13'], ['2', '12', '15']]\n",
    "\n",
    "arr.sort_by { |sub_arr| sub_arr.map(&:to_i) }"
   ]
  },
  {
   "cell_type": "markdown",
   "metadata": {},
   "source": [
    "We know that we want to sort at the level of the outer array, but we can't simply call `sort` on it. When sorting nested arrays it is important to understand that there are two sets of comparison happening:\n",
    "\n",
    "1. Each of the inner arrays is compared with the other inner arrays.\n",
    "2. The way those arrays are compared is by comparing the elements within them (the documentation refers to this as comparing in an **'element-wise'** manner)\n",
    "\n",
    "Because the elements in the arrays are strings, by calling `sort` it is string order which will ultimately determine array order:\n",
    "\n",
    "```ruby\n",
    "arr.sort # => [[\"1\", \"8\", \"11\"], [\"1\", \"8\", \"9\"], [\"2\", \"12\", \"15\"], [\"2\", \"6\", \"13\"]]\n",
    "```\n",
    "\n",
    "Since strings are compared character by character this doesn't give us a *numerical* comparison. In order to achieve this we have to perform some transformation on the inner arrays prior to comparing them."
   ]
  },
  {
   "cell_type": "code",
   "execution_count": 64,
   "metadata": {},
   "outputs": [
    {
     "data": {
      "text/plain": [
       "[[\"1\", \"8\", \"9\"], [\"1\", \"8\", \"11\"], [\"2\", \"6\", \"13\"], [\"2\", \"12\", \"15\"]]"
      ]
     },
     "execution_count": 64,
     "metadata": {},
     "output_type": "execute_result"
    }
   ],
   "source": [
    "arr.sort_by do |sub_arr|\n",
    "  sub_arr.map do |num|\n",
    "    num.to_i\n",
    "  end\n",
    "end"
   ]
  },
  {
   "cell_type": "markdown",
   "metadata": {},
   "source": [
    "The key here is understanding that when we carry out transformation within a `sort_by` block, the transformed elements are what are then used to perform the comparison.\n",
    "\n",
    "In this case:\n",
    "1. Each time the top-level block is called, we call `map` on the sub-array for that iteration\n",
    "2. Within the map block we call `to_i` on each string within that particular sub-array, which returns a new array with integers and leaves the original sub-array unmodified. \n",
    "3. This ends up sorting the outer array by comparing the transformed integers in the inner arrays, which is what we're looking to do, without any side effects."
   ]
  },
  {
   "cell_type": "markdown",
   "metadata": {},
   "source": [
    "### Example 8 "
   ]
  },
  {
   "cell_type": "markdown",
   "metadata": {},
   "source": [
    "Take the 2-element array below, where we only want to select integers greater than 13 but strings less than 6 characters."
   ]
  },
  {
   "cell_type": "code",
   "execution_count": 84,
   "metadata": {},
   "outputs": [
    {
     "data": {
      "text/plain": [
       "[[27], [\"apple\"]]"
      ]
     },
     "execution_count": 84,
     "metadata": {},
     "output_type": "execute_result"
    }
   ],
   "source": [
    "arr = [[8, 13, 27], ['apple', 'banana', 'cantaloupe']]\n",
    "\n",
    "arr.map do |sub_arr|\n",
    "  sub_arr.select do |elem|\n",
    "    elem.is_a?(Integer) ? elem > 13 : elem.size < 6\n",
    "  end\n",
    "end\n",
    "\n",
    "arr.map { |sub_arr| sub_arr.select { |elem| elem.is_a?(Integer) ? elem > 13 : elem.size < 6 } }"
   ]
  },
  {
   "cell_type": "markdown",
   "metadata": {},
   "source": [
    "At first you might think to reach for the `select` method to perform selection, but since we're working with a nested array, that won't work. We first need to access the nested arrays before we can select the value we want. \n",
    "\n",
    "In order to select the specified values in the requirement, we need to first determine if an element is an integer; there are lots of ways to do this, we just went with the imperfect `item.to_s.to_i == item` test.\n",
    "\n",
    "One of the main reasons `map` is used in this example is not only to iterate over the array and access the nested arrays, but to return a new array containing the selected values. \n",
    "\n",
    "If we used `each` instead we wouldn't have the desired return value, and would need an extra variable to collect the desired results."
   ]
  },
  {
   "cell_type": "code",
   "execution_count": 103,
   "metadata": {},
   "outputs": [
    {
     "data": {
      "text/plain": [
       "[[27], [\"apple\"]]"
      ]
     },
     "execution_count": 103,
     "metadata": {},
     "output_type": "execute_result"
    }
   ],
   "source": [
    "arr = [[8, 13, 27], ['apple', 'banana', 'cantaloupe']]\n",
    "new_arr = []\n",
    "\n",
    "arr.each do |sub_arr|\n",
    "  new_sub = sub_arr.select do |elem|\n",
    "    elem.is_a?(Integer) ? elem > 13 : elem.size < 6\n",
    "  end\n",
    "  new_arr << new_sub\n",
    "end\n",
    "\n",
    "new_arr"
   ]
  },
  {
   "cell_type": "markdown",
   "metadata": {},
   "source": [
    "### Example 9"
   ]
  },
  {
   "cell_type": "code",
   "execution_count": 122,
   "metadata": {},
   "outputs": [
    {
     "data": {
      "text/plain": [
       "[[[1], [2], [3], [4]], [[\"a\"], [\"b\"], [\"c\"]]]"
      ]
     },
     "execution_count": 122,
     "metadata": {},
     "output_type": "execute_result"
    }
   ],
   "source": [
    "arr = [[[1], [2], [3], [4]], [['a'], ['b'], ['c']]]\n",
    "\n",
    "new_arr = arr.map do |element1| # Since each is invoked on the second line, map will return a copy of the calling collection\n",
    "  element1.each do |element2| # This will return whatever the calling object is\n",
    "    element2.partition do |element3|\n",
    "      element3.size > 0\n",
    "    end\n",
    "  end\n",
    "end"
   ]
  },
  {
   "cell_type": "markdown",
   "metadata": {},
   "source": [
    "The key things to focus on with this example is understanding how `each` method works and the return value of the block. There are a total of `6` places where a return occurs: `3` methods (`map`, `each`, and `partition`) and `3` blocks (one for each method). \n",
    "\n",
    "By looking at the example, you should notice the first method call within `map` is `each`. We know that `each` doesn't care about the block's return value and it always returns the calling object. Therefore, just by looking at line 2, we can already say that the return value of `map` will be a new array that matches the value of the calling object."
   ]
  },
  {
   "cell_type": "code",
   "execution_count": 123,
   "metadata": {},
   "outputs": [
    {
     "name": "stdout",
     "output_type": "stream",
     "text": [
      "49400\n",
      "49420\n"
     ]
    }
   ],
   "source": [
    "puts arr.object_id\n",
    "puts new_arr.object_id\n",
    "# new_arr is a copy of arr"
   ]
  },
  {
   "cell_type": "code",
   "execution_count": 124,
   "metadata": {},
   "outputs": [
    {
     "name": "stdout",
     "output_type": "stream",
     "text": [
      "49440\n",
      "49460\n",
      "49440\n",
      "49460\n"
     ]
    }
   ],
   "source": [
    "puts arr.map(&:object_id)\n",
    "puts new_arr.map(&:object_id)\n",
    "# sub-arrays in new_arr reference the same objects as the sub-arrays in arr"
   ]
  },
  {
   "cell_type": "markdown",
   "metadata": {},
   "source": [
    "### Example 10"
   ]
  },
  {
   "cell_type": "markdown",
   "metadata": {},
   "source": [
    "Increment every number by 1 without changing the data structure."
   ]
  },
  {
   "cell_type": "code",
   "execution_count": 135,
   "metadata": {},
   "outputs": [
    {
     "data": {
      "text/plain": [
       "[[[1, 2], [3, 4]], [5, 6]]"
      ]
     },
     "execution_count": 135,
     "metadata": {},
     "output_type": "execute_result"
    }
   ],
   "source": [
    "arr = [\n",
    "  [[1, 2], [3, 4]], [5, 6]\n",
    "]"
   ]
  },
  {
   "cell_type": "code",
   "execution_count": 136,
   "metadata": {},
   "outputs": [
    {
     "data": {
      "text/plain": [
       "[[[2, 3], [4, 5]], [6, 7]]"
      ]
     },
     "execution_count": 136,
     "metadata": {},
     "output_type": "execute_result"
    }
   ],
   "source": [
    "arr.map do |second_elem|\n",
    "  second_elem.map do |third_elem|\n",
    "    if third_elem.is_a?(Array)\n",
    "      third_elem.map do |num|\n",
    "        num + 1 # num + 1 vs. num += 1\n",
    "      end\n",
    "    else\n",
    "      third_elem + 1\n",
    "    end\n",
    "  end\n",
    "end"
   ]
  },
  {
   "cell_type": "markdown",
   "metadata": {},
   "source": [
    "Line 1:\n",
    "- Action: method call `map`\n",
    "- Object: the outer arr (the calling object)\n",
    "- Side Effect: None\n",
    "- Return Value: A transformed array\n",
    "- Is Return Value Used?: No\n",
    "\n",
    "Lines 1-11:\n",
    "- Action: outer-block execution\n",
    "- Object: The element (array or multi-dimensional array) of that iteration\n",
    "- Side Effect: None\n",
    "- Return Value: A transformed array\n",
    "- Is Return Value Used?: Yes, it is used by `map` for transformation.\n",
    "\n",
    "Line 2: \n",
    "- Action: method call `map`\n",
    "- Object: The element (array or multi-dimensional array) of that iteration\n",
    "- Side Effect: None\n",
    "- Return Value: A transformed array\n",
    "- Is Return Value Used?: Yes, it is used to determine the outer-block's return value.\n",
    "\n",
    "Lines 2-10:\n",
    "- Action: 2nd-level block execution\n",
    "- Object: Either an array (for the first element) or an integer (for the second element)\n",
    "- Side Effect: None\n",
    "- Return Value: A transformed array or a new integer\n",
    "- Is Return Value Used?: Yes, it is used by the second-level `map` for transformation.\n",
    "\n",
    "Line 3:\n",
    "- Action: method call `is_a?`\n",
    "- Object: an sub-array or integer\n",
    "- Side Effect: None\n",
    "- Return Value: Boolean\n",
    "- Is Return Value Used?: Yes, evaluated by `if`\n",
    "\n",
    "Line 3:\n",
    "- Action: conditional `if`\n",
    "- Object: return value of `is_a?` method (Boolean)\n",
    "- Side Effect: None\n",
    "- Return Value: `nil`\n",
    "- Is Return Value Used?: Yes, to determine the return value of the 2nd-level inner block\n",
    "\n",
    "Line 4:\n",
    "- Action: method call `map`\n",
    "- Object: each sub-array\n",
    "- Side Effect: None\n",
    "- Return Value: new integers\n",
    "- Is Return Value Used?: Yes, used to determine the return value of the condtional statement if the condition is met\n",
    "\n",
    "Lines 4-6\n",
    "- Action: 3rd-level inner block execution\n",
    "- Object: Each Integer\n",
    "- Side Effect: None\n",
    "- Return Value: A new integer\n",
    "- Is Return Value Used: Yes, used by the third_level `map` for transformation\n",
    "\n",
    "Line 5:\n",
    "- Action: method call `Integer#+` method\n",
    "- Object: The element of the sub-array of that iteration\n",
    "- Side Effect: None\n",
    "- Return Value: A new integer\n",
    "- Is Return Value Used?: Yes, used to determine the return value of the third-level block.\n",
    "\n",
    "\n",
    "\n"
   ]
  },
  {
   "cell_type": "markdown",
   "metadata": {},
   "source": [
    "### Mutating Collections While Iterating \n",
    "\n",
    "**Do not mutate the collection that you're iterating through**\n",
    "\n",
    "Here's an example of what not to do:"
   ]
  },
  {
   "cell_type": "code",
   "execution_count": 3,
   "metadata": {},
   "outputs": [
    {
     "name": "stdout",
     "output_type": "stream",
     "text": [
      "[1, 1, 3, 6, 9]\n"
     ]
    }
   ],
   "source": [
    "def remove_evens!(arr)\n",
    "  arr.each do |num|\n",
    "    if num % 2 == 0\n",
    "      arr.delete(num)\n",
    "    end\n",
    "  end\n",
    "  arr\n",
    "end\n",
    "\n",
    "puts remove_evens!([1,1,2,3,4,6,8,9]).inspect\n",
    "\n",
    "# expected return value [1, 1, 3, 9]"
   ]
  },
  {
   "cell_type": "markdown",
   "metadata": {},
   "source": [
    "The `Array#delete` method is destructive, and is changing the contents of `arr` during iteration."
   ]
  },
  {
   "cell_type": "markdown",
   "metadata": {},
   "source": [
    "One way you could fix the code above is to create a shallow copy of the array and iterate through it while mutating the original array."
   ]
  },
  {
   "cell_type": "code",
   "execution_count": 6,
   "metadata": {},
   "outputs": [
    {
     "name": "stdout",
     "output_type": "stream",
     "text": [
      "[1, 1, 3, 9]\n"
     ]
    }
   ],
   "source": [
    "def remove_evens!(arr)\n",
    "  cloned_arr = arr.dup\n",
    "  cloned_arr.each do |num|\n",
    "    if num % 2 == 0\n",
    "      arr.delete(num)\n",
    "    end\n",
    "  end\n",
    "  arr\n",
    "end\n",
    "\n",
    "puts remove_evens!([1,1,2,3,4,6,8,9]).inspect"
   ]
  }
 ],
 "metadata": {
  "kernelspec": {
   "display_name": "Ruby 2.7.5",
   "language": "ruby",
   "name": "ruby"
  },
  "language_info": {
   "file_extension": ".rb",
   "mimetype": "application/x-ruby",
   "name": "ruby",
   "version": "2.7.5"
  },
  "orig_nbformat": 4
 },
 "nbformat": 4,
 "nbformat_minor": 2
}
