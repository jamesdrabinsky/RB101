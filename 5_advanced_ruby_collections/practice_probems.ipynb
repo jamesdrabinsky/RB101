{
 "cells": [
  {
   "cell_type": "markdown",
   "metadata": {},
   "source": [
    "## Practice Problems: Sorting, Nested Collections and Working with Blocks"
   ]
  },
  {
   "cell_type": "markdown",
   "metadata": {},
   "source": [
    "FOCUS ON:\n",
    "- structure of the collection object\n",
    "- the return value of blocks and methods\n",
    "- side effects of any methods."
   ]
  },
  {
   "cell_type": "markdown",
   "metadata": {},
   "source": [
    "### Practice Problem 1\n",
    "\n",
    "How would you order this array of number strings by descending numeric value?"
   ]
  },
  {
   "cell_type": "code",
   "execution_count": 385,
   "metadata": {},
   "outputs": [
    {
     "name": "stdout",
     "output_type": "stream",
     "text": [
      "[\"11\", \"10\", \"9\", \"8\", \"7\"]\n",
      "[\"11\", \"10\", \"9\", \"8\", \"7\"]\n"
     ]
    }
   ],
   "source": [
    "arr = ['10', '11', '9', '7', '8']\n",
    "\n",
    "one = arr.sort_by { |i| -i.to_i }\n",
    "\n",
    "two = arr.sort { |a, b| b.to_i <=> a.to_i }\n",
    "\n",
    "puts one.inspect\n",
    "puts two.inspect"
   ]
  },
  {
   "cell_type": "markdown",
   "metadata": {},
   "source": [
    "The key here is understanding that strings are compared character by character, so `'11'` will be evaluated to be lesser than `'7'`.\n",
    "\n",
    " In order to compare the strings as integers, we need to convert them to integers within the block."
   ]
  },
  {
   "cell_type": "markdown",
   "metadata": {},
   "source": [
    "### Practice Problem 2\n",
    "\n",
    "How would you order this array of hashes based on the year of publication of each book, from the earliest to the latest?"
   ]
  },
  {
   "cell_type": "code",
   "execution_count": 16,
   "metadata": {},
   "outputs": [
    {
     "name": "stdout",
     "output_type": "stream",
     "text": [
      "[{:title=>\"War and Peace\", :author=>\"Leo Tolstoy\", :published=>\"1869\"}, {:title=>\"Ulysses\", :author=>\"James Joyce\", :published=>\"1922\"}, {:title=>\"The Great Gatsby\", :author=>\"F. Scott Fitzgerald\", :published=>\"1925\"}, {:title=>\"One Hundred Years of Solitude\", :author=>\"Gabriel Garcia Marquez\", :published=>\"1967\"}]\n",
      "[{:title=>\"War and Peace\", :author=>\"Leo Tolstoy\", :published=>\"1869\"}, {:title=>\"Ulysses\", :author=>\"James Joyce\", :published=>\"1922\"}, {:title=>\"The Great Gatsby\", :author=>\"F. Scott Fitzgerald\", :published=>\"1925\"}, {:title=>\"One Hundred Years of Solitude\", :author=>\"Gabriel Garcia Marquez\", :published=>\"1967\"}]\n"
     ]
    }
   ],
   "source": [
    "books = [\n",
    "  {title: 'One Hundred Years of Solitude', author: 'Gabriel Garcia Marquez', published: '1967'},\n",
    "  {title: 'The Great Gatsby', author: 'F. Scott Fitzgerald', published: '1925'},\n",
    "  {title: 'War and Peace', author: 'Leo Tolstoy', published: '1869'},\n",
    "  {title: 'Ulysses', author: 'James Joyce', published: '1922'}\n",
    "]\n",
    "\n",
    "one = books.sort_by { |hsh| hsh[:published].to_i }  # Don't need to convert to integer since all are 4-character strings\n",
    "\n",
    "two = books.sort { |a,b| a[:published].to_i <=> b[:published].to_i }\n",
    "\n",
    "puts one.inspect\n",
    "puts two.inspect"
   ]
  },
  {
   "cell_type": "markdown",
   "metadata": {},
   "source": [
    "In this case, all the values for `:published` are strings so we know that we can compare them. Since all the values in question are four characters in length, in this case we can simply compare the strings without having to convert them to integers."
   ]
  },
  {
   "cell_type": "markdown",
   "metadata": {},
   "source": [
    "### Practice Problem 3\n",
    "\n",
    "For each of these collection objects demonstrate how you would reference the letter `'g'`."
   ]
  },
  {
   "cell_type": "code",
   "execution_count": 19,
   "metadata": {},
   "outputs": [
    {
     "name": "stdout",
     "output_type": "stream",
     "text": [
      "g\n",
      "g\n"
     ]
    }
   ],
   "source": [
    "arr1 = ['a', 'b', ['c', ['d', 'e', 'f', 'g']]]\n",
    "\n",
    "one = arr1[-1][-1][-1]\n",
    "\n",
    "two = arr1[2][1][3]\n",
    "\n",
    "puts one\n",
    "puts two"
   ]
  },
  {
   "cell_type": "code",
   "execution_count": 42,
   "metadata": {},
   "outputs": [
    {
     "name": "stdout",
     "output_type": "stream",
     "text": [
      "g\n",
      "g\n",
      "g\n"
     ]
    }
   ],
   "source": [
    "arr2 = [{first: ['a', 'b', 'c'], second: ['d', 'e', 'f']}, {third: ['g', 'h', 'i']}]\n",
    "\n",
    "one = arr2[-1][:third][0]\n",
    "\n",
    "two = arr2[-1].values[0][0]\n",
    "\n",
    "three = arr2[-1].each_value.next[0]\n",
    "\n",
    "puts one\n",
    "puts two\n",
    "puts three"
   ]
  },
  {
   "cell_type": "code",
   "execution_count": 81,
   "metadata": {},
   "outputs": [
    {
     "name": "stdout",
     "output_type": "stream",
     "text": [
      "g\n",
      "g\n",
      "g\n"
     ]
    }
   ],
   "source": [
    "arr3 = [['abc'], ['def'], {third: ['ghi']}]\n",
    "\n",
    "one = arr3[-1][:third][0][0]\n",
    "\n",
    "two  = arr3[-1].values.flatten[0][0]\n",
    "\n",
    "hsh = arr3.select do |item|\n",
    "  if item.is_a?(Hash)\n",
    "    item.select do |key, value|\n",
    "      value.is_a?(Array)\n",
    "    end\n",
    "  end\n",
    "end\n",
    "\n",
    "three = hsh[0][:third][0][0]\n",
    "\n",
    "puts one\n",
    "puts two\n",
    "puts three"
   ]
  },
  {
   "cell_type": "code",
   "execution_count": 99,
   "metadata": {},
   "outputs": [
    {
     "name": "stdout",
     "output_type": "stream",
     "text": [
      "g\n",
      "g\n"
     ]
    }
   ],
   "source": [
    "hsh1 = {'a' => ['d', 'e'], 'b' => ['f', 'g'], 'c' => ['h', 'i']}\n",
    "\n",
    "one = hsh1['b'][-1]\n",
    "\n",
    "two = hsh1.values.find { |v| v.include?('g')}[-1]\n",
    "\n",
    "puts one\n",
    "puts two"
   ]
  },
  {
   "cell_type": "code",
   "execution_count": 136,
   "metadata": {},
   "outputs": [
    {
     "name": "stdout",
     "output_type": "stream",
     "text": [
      "g\n",
      "g\n",
      "g\n",
      "g\n"
     ]
    }
   ],
   "source": [
    "hsh2 = {first: {'d' => 3}, second: {'e' => 2, 'f' => 1}, third: {'g' => 0}}\n",
    "\n",
    "one = hsh2[:third].key(0)\n",
    "\n",
    "two = hsh2[:third].keys[0]\n",
    "\n",
    "three = hsh2[:third].each_key.next\n",
    "\n",
    "four = hsh2.values.map(&:keys)[-1][0]\n",
    "\n",
    "puts one\n",
    "puts two\n",
    "puts three\n",
    "puts four"
   ]
  },
  {
   "cell_type": "markdown",
   "metadata": {},
   "source": [
    "### Practice Problem 4\n",
    "\n",
    "For each of these collection objects where the value `3` occurs, demonstrate how you would change this to `4`."
   ]
  },
  {
   "cell_type": "code",
   "execution_count": 137,
   "metadata": {},
   "outputs": [
    {
     "data": {
      "text/plain": [
       "[1, [2, 4], 4]"
      ]
     },
     "execution_count": 137,
     "metadata": {},
     "output_type": "execute_result"
    }
   ],
   "source": [
    "arr1 = [1, [2, 3], 4]\n",
    "\n",
    "arr1[1][-1] = 4\n",
    "\n",
    "arr1"
   ]
  },
  {
   "cell_type": "code",
   "execution_count": 139,
   "metadata": {},
   "outputs": [
    {
     "data": {
      "text/plain": [
       "[{:a=>1}, {:b=>2, :c=>[7, 6, 5], :d=>4}, 4]"
      ]
     },
     "execution_count": 139,
     "metadata": {},
     "output_type": "execute_result"
    }
   ],
   "source": [
    "arr2 = [{a: 1}, {b: 2, c: [7, 6, 5], d: 4}, 3]\n",
    "\n",
    "arr2[-1] = 4\n",
    "\n",
    "arr2"
   ]
  },
  {
   "cell_type": "code",
   "execution_count": 142,
   "metadata": {},
   "outputs": [
    {
     "data": {
      "text/plain": [
       "{:first=>[1, 2, [4]]}"
      ]
     },
     "execution_count": 142,
     "metadata": {},
     "output_type": "execute_result"
    }
   ],
   "source": [
    "hsh1 = {first: [1, 2, [3]]}\n",
    "\n",
    "hsh1[:first][-1][0] = 4\n",
    "\n",
    "hsh1"
   ]
  },
  {
   "cell_type": "code",
   "execution_count": 148,
   "metadata": {},
   "outputs": [
    {
     "data": {
      "text/plain": [
       "{[\"a\"]=>{:a=>[\"1\", :two, 4], :b=>4}, \"b\"=>5}"
      ]
     },
     "execution_count": 148,
     "metadata": {},
     "output_type": "execute_result"
    }
   ],
   "source": [
    "hsh2 = {['a'] => {a: ['1', :two, 3], b: 4}, 'b' => 5}\n",
    "\n",
    "hsh2[['a']][:a][-1] = 4\n",
    "\n",
    "hsh2"
   ]
  },
  {
   "cell_type": "markdown",
   "metadata": {},
   "source": [
    "### Practice Problem 5\n",
    "\n",
    "Given this nested Hash:\n",
    "\n",
    "figure out the total age of just the male members of the family."
   ]
  },
  {
   "cell_type": "code",
   "execution_count": 188,
   "metadata": {},
   "outputs": [
    {
     "name": "stdout",
     "output_type": "stream",
     "text": [
      "444\n",
      "444\n"
     ]
    }
   ],
   "source": [
    "munsters = {\n",
    "  \"Herman\" => { \"age\" => 32, \"gender\" => \"male\" },\n",
    "  \"Lily\" => { \"age\" => 30, \"gender\" => \"female\" },\n",
    "  \"Grandpa\" => { \"age\" => 402, \"gender\" => \"male\" },\n",
    "  \"Eddie\" => { \"age\" => 10, \"gender\" => \"male\" },\n",
    "  \"Marilyn\" => { \"age\" => 23, \"gender\" => \"female\"}\n",
    "}\n",
    "\n",
    "male_total_age1 = munsters.select { |_, v| v['gender'] == 'male'}.sum { |_, v| v['age']}\n",
    "\n",
    "male_ages = munsters.each_value.with_object([]) do |v, ages|\n",
    "  ages << v['age'] if v['gender'] == 'male'\n",
    "end\n",
    "\n",
    "male_total_age2 = male_ages.sum\n",
    "\n",
    "\n",
    "puts male_total_age1\n",
    "puts male_total_age2\n"
   ]
  },
  {
   "cell_type": "markdown",
   "metadata": {},
   "source": [
    "### Practice Problem 6\n",
    "\n",
    "Given this previously seen family hash, print out the name, age and gender of each family member like this:\n",
    "\n",
    "```\n",
    "(Name) is a (age)-year-old (male or female).\n",
    "```"
   ]
  },
  {
   "cell_type": "code",
   "execution_count": 194,
   "metadata": {},
   "outputs": [
    {
     "name": "stdout",
     "output_type": "stream",
     "text": [
      "Herman is a 32-year-old male\n",
      "Lily is a 30-year-old female\n",
      "Grandpa is a 402-year-old male\n",
      "Eddie is a 10-year-old male\n",
      "Marilyn is a 23-year-old female\n"
     ]
    },
    {
     "data": {
      "text/plain": [
       "{\"Herman\"=>{\"age\"=>32, \"gender\"=>\"male\"}, \"Lily\"=>{\"age\"=>30, \"gender\"=>\"female\"}, \"Grandpa\"=>{\"age\"=>402, \"gender\"=>\"male\"}, \"Eddie\"=>{\"age\"=>10, \"gender\"=>\"male\"}, \"Marilyn\"=>{\"age\"=>23, \"gender\"=>\"female\"}}"
      ]
     },
     "execution_count": 194,
     "metadata": {},
     "output_type": "execute_result"
    }
   ],
   "source": [
    "munsters = {\n",
    "  \"Herman\" => { \"age\" => 32, \"gender\" => \"male\" },\n",
    "  \"Lily\" => { \"age\" => 30, \"gender\" => \"female\" },\n",
    "  \"Grandpa\" => { \"age\" => 402, \"gender\" => \"male\" },\n",
    "  \"Eddie\" => { \"age\" => 10, \"gender\" => \"male\" },\n",
    "  \"Marilyn\" => { \"age\" => 23, \"gender\" => \"female\"}\n",
    "}\n",
    "\n",
    "munsters.each do |k, v|\n",
    "  puts \"#{k} is a #{v['age']}-year-old #{v['gender']}\"\n",
    "end\n",
    "\n",
    "munsters.each do |k, v|\n",
    "  age, gender = v.values\n",
    "  puts \"#{k} is a #{age}-year-old #{gender}\"\n",
    "end"
   ]
  },
  {
   "cell_type": "markdown",
   "metadata": {},
   "source": [
    "### Practice Problem 7\n",
    "\n",
    "Given this code, what would be the final values of a and b? Try to work this out without running the code."
   ]
  },
  {
   "cell_type": "code",
   "execution_count": 198,
   "metadata": {},
   "outputs": [
    {
     "data": {
      "text/plain": [
       "[4, [3, 8]]"
      ]
     },
     "execution_count": 198,
     "metadata": {},
     "output_type": "execute_result"
    }
   ],
   "source": [
    "a = 2\n",
    "b = [5, 8]\n",
    "arr = [a, b] # The first element is still referencing the same integer as variable a\n",
    "\n",
    "arr[0] += 2 # This is re-assigning the first element of arr.  It does not affect the integers that a references.\n",
    "arr[1][0] -= a\n",
    "\n",
    "# arr = [2, [5,8]]\n",
    "# arr = [4, [5,8]]\n",
    "# arr = [4, [3, 8]]\n",
    "\n",
    "arr"
   ]
  },
  {
   "cell_type": "markdown",
   "metadata": {},
   "source": [
    "The value of `a` didn't change because we are not referencing `a` at any point. This code `arr[0] += 2` was modifying the array, `arr` not `a`. \n",
    "\n",
    "In effect we are assigning a new object at that index of the array so that instead of `arr[0]` containing `a` it now contains `4`\n",
    "\n",
    "The value of `b` did change because `b` is an array and we are modifying that array by assigning a new value at index `0` of that array."
   ]
  },
  {
   "cell_type": "markdown",
   "metadata": {},
   "source": [
    "### Practice Problem 8\n",
    "\n",
    "Using the each method, write some code to output all of the vowels from the strings."
   ]
  },
  {
   "cell_type": "code",
   "execution_count": 204,
   "metadata": {},
   "outputs": [
    {
     "name": "stdout",
     "output_type": "stream",
     "text": [
      "e\n",
      "u\n",
      "i\n",
      "o\n",
      "o\n",
      "u\n",
      "e\n",
      "o\n",
      "e\n",
      "e\n",
      "a\n",
      "o\n"
     ]
    },
    {
     "data": {
      "text/plain": [
       "{:first=>[\"the\", \"quick\"], :second=>[\"brown\", \"fox\"], :third=>[\"jumped\"], :fourth=>[\"over\", \"the\", \"lazy\", \"dog\"]}"
      ]
     },
     "execution_count": 204,
     "metadata": {},
     "output_type": "execute_result"
    }
   ],
   "source": [
    "hsh = {first: ['the', 'quick'], second: ['brown', 'fox'], third: ['jumped'], fourth: ['over', 'the', 'lazy', 'dog']}\n",
    "\n",
    "hsh.each_value do |arr|\n",
    "  arr.each do |string|\n",
    "    string.chars.each do |char|\n",
    "      puts char if 'aeiou'.include?(char)\n",
    "    end\n",
    "  end\n",
    "end"
   ]
  },
  {
   "cell_type": "code",
   "execution_count": 210,
   "metadata": {},
   "outputs": [
    {
     "name": "stdout",
     "output_type": "stream",
     "text": [
      "e\n",
      "u\n",
      "i\n",
      "o\n",
      "o\n",
      "u\n",
      "e\n",
      "o\n",
      "e\n",
      "e\n",
      "a\n",
      "o\n"
     ]
    }
   ],
   "source": [
    "hsh = {first: ['the', 'quick'], second: ['brown', 'fox'], third: ['jumped'], fourth: ['over', 'the', 'lazy', 'dog']}\n",
    "\n",
    "puts hsh.values.flatten.map(&:chars).flatten.select { |char| 'aeiou'.include?(char) }"
   ]
  },
  {
   "cell_type": "markdown",
   "metadata": {},
   "source": [
    "### Practice Problem 9\n",
    "\n",
    "Given this data structure, return a new array of the same structure but with the sub arrays being ordered (alphabetically or numerically as appropriate) in descending order."
   ]
  },
  {
   "cell_type": "code",
   "execution_count": 231,
   "metadata": {},
   "outputs": [
    {
     "data": {
      "text/plain": [
       "[[\"c\", \"b\", \"a\"], [3, 2, 1], [\"green\", \"blue\", \"black\"]]"
      ]
     },
     "execution_count": 231,
     "metadata": {},
     "output_type": "execute_result"
    }
   ],
   "source": [
    "arr = [['b', 'c', 'a'], [2, 1, 3], ['blue', 'black', 'green']]\n",
    "\n",
    "one = arr.map { |sub_arr| sub_arr.sort { |a, b| b <=> a } }\n",
    "\n",
    "two = arr.map { |sub_arr| sub_arr.sort.reverse }\n",
    "\n",
    "three = arr.map { |sub_arr| sub_arr.sort_by { |v| -v.ord } }\n",
    "\n",
    "four = arr.map(&:sort).map(&:reverse)"
   ]
  },
  {
   "cell_type": "markdown",
   "metadata": {},
   "source": [
    "### Practice Problem 10\n",
    "\n",
    "Given the following data structure and without modifying the original array, use the map method to return a new array identical in structure to the original but where the value of each integer is incremented by 1."
   ]
  },
  {
   "cell_type": "code",
   "execution_count": 253,
   "metadata": {},
   "outputs": [
    {
     "data": {
      "text/plain": [
       "[{:a=>2}, {:b=>3, :c=>4}, {:d=>5, :e=>6, :f=>7}]"
      ]
     },
     "execution_count": 253,
     "metadata": {},
     "output_type": "execute_result"
    }
   ],
   "source": [
    "arr = [{a: 1}, {b: 2, c: 3}, {d: 4, e: 5, f: 6}]\n",
    "\n",
    "arr.map do |hsh|\n",
    "  incremented_hash = {}\n",
    "  hsh.each do |k, v|\n",
    "     incremented_hash[k] = v + 1\n",
    "  end\n",
    "  incremented_hash\n",
    "end\n"
   ]
  },
  {
   "cell_type": "markdown",
   "metadata": {},
   "source": [
    "Here `map` is iterating through the array. On each iteration it is \n",
    "- creating a new hash (`incremented_hash`) \n",
    "- and then iterating through the `hsh` object for that iteration in order to add key-value pairs to this hash using the original keys but values incremented by `1`. \n",
    "- The outer block then returns this `incremented_hash` to `map` which uses it to transform each element in the array."
   ]
  },
  {
   "cell_type": "markdown",
   "metadata": {},
   "source": [
    "### Practice Problem 11\n",
    "\n",
    "Given the following data structure use a combination of methods, including either the select or reject method, to return a new array identical in structure to the original but containing only the integers that are multiples of 3."
   ]
  },
  {
   "cell_type": "code",
   "execution_count": 259,
   "metadata": {},
   "outputs": [
    {
     "data": {
      "text/plain": [
       "[[], [3], [9], [15]]"
      ]
     },
     "execution_count": 259,
     "metadata": {},
     "output_type": "execute_result"
    }
   ],
   "source": [
    "arr = [[2], [3, 5, 7], [9], [11, 13, 15]]\n",
    "\n",
    "multiples_of_three =\\\n",
    "arr.map do |sub_arr|\n",
    "  sub_arr.select do |num|\n",
    "    num % 3 == 0\n",
    "  end\n",
    "end"
   ]
  },
  {
   "cell_type": "code",
   "execution_count": 260,
   "metadata": {},
   "outputs": [
    {
     "data": {
      "text/plain": [
       "[[], [3], [9], [15]]"
      ]
     },
     "execution_count": 260,
     "metadata": {},
     "output_type": "execute_result"
    }
   ],
   "source": [
    "arr = [[2], [3, 5, 7], [9], [11, 13, 15]]\n",
    "\n",
    "multiples_of_three =\\\n",
    "arr.map do |sub_arr|\n",
    "  sub_arr.reject do |num|\n",
    "    num % 3 != 0\n",
    "  end\n",
    "end"
   ]
  },
  {
   "cell_type": "markdown",
   "metadata": {},
   "source": [
    "### Practice Problem 12\n",
    "\n",
    "Given the following data structure, and without using the Array#to_h method, write some code that will return a hash where the key is the first item in each sub array and the value is the second item."
   ]
  },
  {
   "cell_type": "code",
   "execution_count": 262,
   "metadata": {},
   "outputs": [
    {
     "data": {
      "text/plain": [
       "{:a=>1, \"b\"=>\"two\", \"sea\"=>{:c=>3}, {:a=>1, :b=>2, :c=>3, :d=>4}=>\"D\"}"
      ]
     },
     "execution_count": 262,
     "metadata": {},
     "output_type": "execute_result"
    }
   ],
   "source": [
    "arr = [[:a, 1], ['b', 'two'], ['sea', {c: 3}], [{a: 1, b: 2, c: 3, d: 4}, 'D']]\n",
    "\n",
    "arr.each_with_object({}) do |sub_arr, hsh|\n",
    "  hsh[sub_arr[0]] = sub_arr[1]\n",
    "end"
   ]
  },
  {
   "cell_type": "code",
   "execution_count": 265,
   "metadata": {},
   "outputs": [
    {
     "data": {
      "text/plain": [
       "{:a=>1, \"b\"=>\"two\", \"sea\"=>{:c=>3}, {:a=>1, :b=>2, :c=>3, :d=>4}=>\"D\"}"
      ]
     },
     "execution_count": 265,
     "metadata": {},
     "output_type": "execute_result"
    }
   ],
   "source": [
    "arr = [[:a, 1], ['b', 'two'], ['sea', {c: 3}], [{a: 1, b: 2, c: 3, d: 4}, 'D']]\n",
    "new_hash = {}\n",
    "\n",
    "arr.each { |(one, two)| new_hash[one] = two }\n",
    "\n",
    "new_hash"
   ]
  },
  {
   "cell_type": "markdown",
   "metadata": {},
   "source": [
    "### Practice Problem 13\n",
    "\n",
    "Given the following data structure, return a new array containing the same sub-arrays as the original but ordered logically by only taking into consideration the odd numbers they contain.\n",
    "\n",
    "```ruby \n",
    "arr = [[1, 6, 9], [6, 1, 7], [1, 8, 3], [1, 5, 9]]\n",
    "\n",
    "[[1, 8, 3], [1, 5, 9], [6, 1, 7], [1, 6, 9]]\n",
    "```"
   ]
  },
  {
   "cell_type": "code",
   "execution_count": 270,
   "metadata": {},
   "outputs": [
    {
     "data": {
      "text/plain": [
       "[[1, 8, 3], [1, 5, 9], [6, 1, 7], [1, 6, 9]]"
      ]
     },
     "execution_count": 270,
     "metadata": {},
     "output_type": "execute_result"
    }
   ],
   "source": [
    "arr = [[1, 6, 9], [6, 1, 7], [1, 8, 3], [1, 5, 9]]\n",
    "\n",
    "arr.sort_by { |sub_arr| sub_arr.select(&:odd?) }"
   ]
  },
  {
   "cell_type": "markdown",
   "metadata": {},
   "source": [
    "Since the sub-arrays are compared in an **'element-wise'** manner when being sorted, when looking at the first element of each they are all equal. \n",
    "\n",
    "If we were to include the even integers in our comparison, the order would be different, since `6` is less than `8`.\n",
    "\n",
    "By performing selection on the sub-arrays that we are comparing, we can compare them based on the value of the odd integers alone."
   ]
  },
  {
   "cell_type": "markdown",
   "metadata": {},
   "source": [
    "### Practice Problem 14\n",
    "\n",
    "Given this data structure write some code to return an array containing the colors of the fruits and the sizes of the vegetables. \n",
    "\n",
    "The sizes should be uppercase and the colors should be capitalized.\n",
    "\n",
    "```Ruby\n",
    "[[\"Red\", \"Green\"], \"MEDIUM\", [\"Red\", \"Green\"], [\"Orange\"], \"LARGE\"]\n",
    "```"
   ]
  },
  {
   "cell_type": "code",
   "execution_count": 279,
   "metadata": {},
   "outputs": [
    {
     "data": {
      "text/plain": [
       "[[\"Red\", \"Green\"], \"MEDIUM\", [\"Red\", \"Green\"], [\"Orange\"], \"LARGE\"]"
      ]
     },
     "execution_count": 279,
     "metadata": {},
     "output_type": "execute_result"
    }
   ],
   "source": [
    "hsh = {\n",
    "  'grape' => {type: 'fruit', colors: ['red', 'green'], size: 'small'},\n",
    "  'carrot' => {type: 'vegetable', colors: ['orange'], size: 'medium'},\n",
    "  'apple' => {type: 'fruit', colors: ['red', 'green'], size: 'medium'},\n",
    "  'apricot' => {type: 'fruit', colors: ['orange'], size: 'medium'},\n",
    "  'marrow' => {type: 'vegetable', colors: ['green'], size: 'large'},\n",
    "}\n",
    "\n",
    "hsh.map do |_, v|\n",
    "  case v[:type]\n",
    "  when 'fruit' then v[:colors].map(&:capitalize)\n",
    "  else v[:size].upcase\n",
    "  end\n",
    "end"
   ]
  },
  {
   "cell_type": "code",
   "execution_count": 280,
   "metadata": {},
   "outputs": [
    {
     "data": {
      "text/plain": [
       "[[\"Red\", \"Green\"], \"MEDIUM\", [\"Red\", \"Green\"], [\"Orange\"], \"LARGE\"]"
      ]
     },
     "execution_count": 280,
     "metadata": {},
     "output_type": "execute_result"
    }
   ],
   "source": [
    "hsh = {\n",
    "  'grape' => {type: 'fruit', colors: ['red', 'green'], size: 'small'},\n",
    "  'carrot' => {type: 'vegetable', colors: ['orange'], size: 'medium'},\n",
    "  'apple' => {type: 'fruit', colors: ['red', 'green'], size: 'medium'},\n",
    "  'apricot' => {type: 'fruit', colors: ['orange'], size: 'medium'},\n",
    "  'marrow' => {type: 'vegetable', colors: ['green'], size: 'large'},\n",
    "}\n",
    "\n",
    "hsh.map { |_, v| v[:type] == 'fruit' ? v[:colors].map(&:capitalize) : v[:size].upcase }"
   ]
  },
  {
   "cell_type": "markdown",
   "metadata": {},
   "source": [
    "### Practice Problem 15\n",
    "\n",
    "Given this data structure write some code to return an array which contains only the hashes where all the integers are even."
   ]
  },
  {
   "cell_type": "code",
   "execution_count": 290,
   "metadata": {},
   "outputs": [
    {
     "data": {
      "text/plain": [
       "[{:e=>[8], :f=>[6, 10]}]"
      ]
     },
     "execution_count": 290,
     "metadata": {},
     "output_type": "execute_result"
    }
   ],
   "source": [
    "arr = [{a: [1, 2, 3]}, {b: [2, 4, 6], c: [3, 6], d: [4]}, {e: [8], f: [6, 10]}]\n",
    "\n",
    "arr.select do |hsh|\n",
    "  hsh.values.flatten.all?(&:even?)\n",
    "end"
   ]
  },
  {
   "cell_type": "code",
   "execution_count": 295,
   "metadata": {},
   "outputs": [
    {
     "data": {
      "text/plain": [
       "[{:e=>[8], :f=>[6, 10]}]"
      ]
     },
     "execution_count": 295,
     "metadata": {},
     "output_type": "execute_result"
    }
   ],
   "source": [
    "arr = [{a: [1, 2, 3]}, {b: [2, 4, 6], c: [3, 6], d: [4]}, {e: [8], f: [6, 10]}]\n",
    "\n",
    "arr.select do |hsh|\n",
    "  hsh.all? do |_, v|\n",
    "    v.all?(&:even?)\n",
    "  end\n",
    "end"
   ]
  },
  {
   "cell_type": "code",
   "execution_count": null,
   "metadata": {},
   "outputs": [],
   "source": [
    "arr = [{a: [1, 2, 3]}, {b: [2, 4, 6], c: [3, 6], d: [4]}, {e: [8], f: [6, 10]}]\n",
    "\n",
    "arr.select do |hsh|\n",
    "  hsh.all? do |_, value|\n",
    "    value.all? do |num|\n",
    "      num.even?\n",
    "    end\n",
    "  end\n",
    "end"
   ]
  },
  {
   "cell_type": "markdown",
   "metadata": {},
   "source": [
    "Since `select` will return all the elements for which the block returns `true` and we only want hashes where all the integers are even, `all?` combined with `even?` is a good choice here. The situation is complicated slightly by the fact that the integers are further nested inside the inner arrays, so we need to iterate through these first.\n",
    "\n",
    "1. If all of the integers in an inner array are even then the inner block returns `true` to the innermost call to `all?`. \n",
    "2. If all of the inner blocks for a particular hash return `true` then the middle block returns `true` to the outer call to `all?` \n",
    "3. which in turn causes the outer block to return `true` to the `select` method for that iteration."
   ]
  },
  {
   "cell_type": "markdown",
   "metadata": {},
   "source": [
    "### Practice Problem 16\n",
    "\n",
    "Each UUID consists of 32 hexadecimal characters, and is typically broken into 5 sections like this `8-4-4-4-12` and represented as a string.\n",
    "\n",
    "It looks like this: `\"f65c57f6-a6aa-17a8-faa1-a67f2dc9fa91\"`\n",
    "\n",
    "Write a method that returns one UUID when called with no parameters."
   ]
  },
  {
   "cell_type": "code",
   "execution_count": 361,
   "metadata": {},
   "outputs": [
    {
     "data": {
      "text/plain": [
       ":generate_UUID"
      ]
     },
     "execution_count": 361,
     "metadata": {},
     "output_type": "execute_result"
    }
   ],
   "source": [
    "def generate_UUID\n",
    "  characters = []\n",
    "  (0..9).each { |digit| characters << digit.to_s }\n",
    "  ('a'..'f').each { |digit| characters << digit }\n",
    "\n",
    "  uuid = \"\"\n",
    "  sections = [8, 4, 4, 4, 12]\n",
    "  sections.each_with_index do |section, index|\n",
    "    section.times { uuid += characters.sample }\n",
    "    uuid += '-' unless index >= sections.size - 1\n",
    "  end\n",
    "\n",
    "  uuid\n",
    "end"
   ]
  },
  {
   "cell_type": "code",
   "execution_count": 379,
   "metadata": {},
   "outputs": [
    {
     "data": {
      "text/plain": [
       ":generate_UUID"
      ]
     },
     "execution_count": 379,
     "metadata": {},
     "output_type": "execute_result"
    }
   ],
   "source": [
    "def generate_UUID\n",
    "  characters = (0..9).map(&:to_s) + [*('a'..'f')]\n",
    "\n",
    "  sections = [8, 4, 4, 4, 12]\n",
    "  hex_arrays = sections.map do |num|\n",
    "    num.times.with_object([]) do |_, arr|\n",
    "      arr << characters.sample\n",
    "    end\n",
    "  end\n",
    "\n",
    "  hex_arrays.map(&:join).join('-')\n",
    "end"
   ]
  },
  {
   "cell_type": "code",
   "execution_count": 343,
   "metadata": {},
   "outputs": [
    {
     "data": {
      "text/plain": [
       "\"e350e309-23cb-c1b7-e727-340f9499b9c7\""
      ]
     },
     "execution_count": 343,
     "metadata": {},
     "output_type": "execute_result"
    }
   ],
   "source": [
    "def uuid\n",
    "  sections = [8, 4, 4, 4, 12].map do |num|\n",
    "    Random.new.bytes(num/2).unpack1('H*')\n",
    "  end\n",
    "  sections.join('-')\n",
    "end\n",
    "\n",
    "uuid"
   ]
  },
  {
   "cell_type": "code",
   "execution_count": 342,
   "metadata": {},
   "outputs": [
    {
     "data": {
      "text/plain": [
       "\"f8735f20-101e-4467-8e7c-e2e0ac5389b3\""
      ]
     },
     "execution_count": 342,
     "metadata": {},
     "output_type": "execute_result"
    }
   ],
   "source": [
    "require 'securerandom'\n",
    "\n",
    "def uuid\n",
    "  SecureRandom.uuid\n",
    "end\n",
    "\n",
    "uuid"
   ]
  },
  {
   "cell_type": "code",
   "execution_count": null,
   "metadata": {},
   "outputs": [],
   "source": []
  }
 ],
 "metadata": {
  "kernelspec": {
   "display_name": "Ruby 2.7.5",
   "language": "ruby",
   "name": "ruby"
  },
  "language_info": {
   "file_extension": ".rb",
   "mimetype": "application/x-ruby",
   "name": "ruby",
   "version": "2.7.5"
  },
  "orig_nbformat": 4,
  "vscode": {
   "interpreter": {
    "hash": "aee8b7b246df8f9039afb4144a1f6fd8d2ca17a180786b69acc140d282b71a49"
   }
  }
 },
 "nbformat": 4,
 "nbformat_minor": 2
}
