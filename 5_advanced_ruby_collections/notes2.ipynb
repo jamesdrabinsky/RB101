{
 "cells": [
  {
   "cell_type": "markdown",
   "metadata": {},
   "source": [
    "## Sorting"
   ]
  },
  {
   "cell_type": "markdown",
   "metadata": {},
   "source": [
    "### The `<=>` method\n",
    "\n",
    "Any object in a collection that we want to sort **must** implement a `<=>` method\n",
    "\n",
    "This method performs comparison between two objects of the same type and a returns a `-1`, `0` or `1` depending on whether the first is `less than`, `equal to` or `greater than` the second object; if the objects cannot be compared then `nil` is returned.  \n",
    "\n",
    "The return value of the `<=>` is used by `sort` to determine the order in which to place the items.  if `<=>` returns `nil` to `sort` then it throws an argument error.\n",
    "\n",
    "If you want to sort a collection that contains a particular type of object, you need to know two things;\n",
    "1. Does the object type implement a `<=>` comparison method?\n",
    "2. If yes, what is the specific implementation of that method for that object type (eg. `String#<=>` will be implemented differently to `Integer#<=>`)\n",
    "\n",
    "**The ASCII Table**\n",
    "\n",
    "The ASCII character order determines how we compared on ASCII character with another using the `String#<=>` method.\n",
    "\n",
    "Some useful rules to remember are:\n",
    "\n",
    "- Uppercase letters come before lowercase letters\n",
    "- Digits and (most) punctuation come before letters\n",
    "- There is an extended ASCII table containing accented and other characters - this comes after the main ASCII table"
   ]
  },
  {
   "cell_type": "markdown",
   "metadata": {},
   "source": [
    "### The `sort` method\n",
    "\n",
    "Using a block with the `sort` method gives us more control over how items are sorted.\n",
    "\n",
    "The block needs two arguments passed to it (the two items to be compared) and the return value of the block has to be `-1`, `0`, `1` or `nil`.   \n",
    "\n",
    "This code uses the `Integer#<=>` method in the block to perform the comparison."
   ]
  },
  {
   "cell_type": "code",
   "execution_count": 3,
   "metadata": {},
   "outputs": [
    {
     "data": {
      "text/plain": [
       "[1, 2, 3, 4, 5]"
      ]
     },
     "execution_count": 3,
     "metadata": {},
     "output_type": "execute_result"
    }
   ],
   "source": [
    "[2, 5, 3, 4, 1].sort do |a, b|\n",
    "  a <=> b\n",
    "end"
   ]
  },
  {
   "cell_type": "markdown",
   "metadata": {},
   "source": [
    "Switching the order in which the items are compared the new array that is returned is in descending order.  "
   ]
  },
  {
   "cell_type": "code",
   "execution_count": 4,
   "metadata": {},
   "outputs": [
    {
     "data": {
      "text/plain": [
       "[5, 4, 3, 2, 1]"
      ]
     },
     "execution_count": 4,
     "metadata": {},
     "output_type": "execute_result"
    }
   ],
   "source": [
    "[2, 5, 3, 4, 1].sort do |a, b|\n",
    "  b <=> a\n",
    "end"
   ]
  },
  {
   "cell_type": "markdown",
   "metadata": {},
   "source": [
    "If the strings are of different lengths, and the strings are equal when compared up to the sortest length\n",
    "\n",
    "**then the longer string is considered greater than the shorter one.**"
   ]
  },
  {
   "cell_type": "code",
   "execution_count": 5,
   "metadata": {},
   "outputs": [
    {
     "data": {
      "text/plain": [
       "[\"ants\", \"arc\", \"bat\", \"cap\", \"cape\"]"
      ]
     },
     "execution_count": 5,
     "metadata": {},
     "output_type": "execute_result"
    }
   ],
   "source": [
    "['arc', 'bat', 'cape', 'ants', 'cap'].sort"
   ]
  },
  {
   "cell_type": "markdown",
   "metadata": {},
   "source": [
    "Arrays are compared in an \"element-wise\" manner; the first element is `array_1` is compared with the first element of the other array using the `<=>` operator, then each of the second elements etc ...  As soon as the result of any such comparison is non-zero (i.e. the two corresponding elements are not equal), that result is returned for the whole array comparison.\n",
    "\n",
    "If all the elements are equal, then the result is based on a comparison of the array lengths. \n",
    "\n",
    "```\n",
    "Thus, two arrays are “equal” according to `Array#<=>` if, and only if, they have the same length and the value of each element is equal to the value of the corresponding element in the other array.\n",
    "```"
   ]
  },
  {
   "cell_type": "code",
   "execution_count": 6,
   "metadata": {},
   "outputs": [
    {
     "data": {
      "text/plain": [
       "[[\"a\", \"car\", \"d\"], [\"a\", \"car\", \"d\", 3], [\"a\", \"cat\", \"b\", \"c\"], [\"b\", 2]]"
      ]
     },
     "execution_count": 6,
     "metadata": {},
     "output_type": "execute_result"
    }
   ],
   "source": [
    "[['a', 'cat', 'b', 'c'], ['b', 2], ['a', 'car', 'd', 3], ['a', 'car', 'd']].sort"
   ]
  },
  {
   "cell_type": "markdown",
   "metadata": {},
   "source": [
    "The sub-array with `'b'` as its first element, has a integer `2` as its second element.  Comparing an integer with a string will return `nil`, which will cause `sort` to throw an error.\n",
    "\n",
    "In this case, `sort` did not need to compare the second element of that array in order to establish its order.  If the first element of that array was `a`, then the integer would come into play and `sort` would throw an error."
   ]
  },
  {
   "cell_type": "code",
   "execution_count": 9,
   "metadata": {},
   "outputs": [
    {
     "ename": "ArgumentError",
     "evalue": "comparison of Array with Array failed",
     "output_type": "error",
     "traceback": [
      "\u001b[31mArgumentError\u001b[0m: comparison of Array with Array failed",
      "(irb):1:in `sort'",
      "(irb):1:in `irb_binding'"
     ]
    }
   ],
   "source": [
    "arrays = [['a', 'b', 'c'], ['a', 'b', 3]]\n",
    "arrays.sort"
   ]
  },
  {
   "cell_type": "markdown",
   "metadata": {},
   "source": [
    "There is another sub-array which contains an integer `['a', 'car', 'd', 3]`. This integer does come into play, but only for comparing the length of `['a', 'car', 'd', 3]` to `['a', 'car', 'd']`.  The integer itself is not compared with a string, so no error is thrown."
   ]
  },
  {
   "cell_type": "markdown",
   "metadata": {},
   "source": [
    "### The `sort_by` method"
   ]
  },
  {
   "cell_type": "markdown",
   "metadata": {},
   "source": [
    "`sort_by` is similar to `sort` but is usually called with a block.  The code in the block determines how the items are compared."
   ]
  },
  {
   "cell_type": "code",
   "execution_count": 10,
   "metadata": {},
   "outputs": [
    {
     "data": {
      "text/plain": [
       "[\"mat\", \"bed\", \"cot\"]"
      ]
     },
     "execution_count": 10,
     "metadata": {},
     "output_type": "execute_result"
    }
   ],
   "source": [
    "['cot', 'bed', 'mat'].sort_by do |word|\n",
    "  word[1]\n",
    "end"
   ]
  },
  {
   "cell_type": "markdown",
   "metadata": {},
   "source": [
    "When calling `sort_by` on a hash, two arguments need to be passes to the block - the key and the value."
   ]
  },
  {
   "cell_type": "code",
   "execution_count": 13,
   "metadata": {},
   "outputs": [
    {
     "data": {
      "text/plain": [
       "[[:Mike, 18], [:john, 25], [:Kate, 27]]"
      ]
     },
     "execution_count": 13,
     "metadata": {},
     "output_type": "execute_result"
    }
   ],
   "source": [
    "people = { Kate: 27, john: 25, Mike: 18 }\n",
    "\n",
    "people.sort_by do |_, age|\n",
    "  age\n",
    "end"
   ]
  },
  {
   "cell_type": "markdown",
   "metadata": {},
   "source": [
    "`sort_by` always return an array, even when called on a hash.  In the case of a hash it will return an array of nested arrays with key-value pairs as objects.\n",
    "\n",
    "In order to order the hash by name, `sort` is using `Symbol#<=>` to peform the comparison between each name. `Symbol#<=>` Compares symbol with other_symbol after calling `to_s` on each of the symbols.\n",
    "\n",
    "Since strings are compared in `ASCIIbetical` order, `'john` would come before `'Kate'` and `'Mike'` which may not be the desired result.  Use `String#Capitalize` on each key in the hash so when the keys are compared they are all capitalized."
   ]
  },
  {
   "cell_type": "code",
   "execution_count": 14,
   "metadata": {},
   "outputs": [
    {
     "data": {
      "text/plain": [
       "[[:john, 25], [:Kate, 27], [:Mike, 18]]"
      ]
     },
     "execution_count": 14,
     "metadata": {},
     "output_type": "execute_result"
    }
   ],
   "source": [
    "people = { Kate: 27, john: 25, Mike:  18 }\n",
    "\n",
    "people.sort_by do |name, _|\n",
    "  name.capitalize\n",
    "end"
   ]
  },
  {
   "cell_type": "markdown",
   "metadata": {},
   "source": [
    "`Array#sort!` and `Array#sort_by!` are both destructive methods that return the same array but sorted.  These methods are specific to arrays and are not available to hashes."
   ]
  },
  {
   "cell_type": "markdown",
   "metadata": {},
   "source": [
    "## Nested Data Structures\n",
    "\n",
    "### Referencing Collection Elements"
   ]
  },
  {
   "cell_type": "markdown",
   "metadata": {},
   "source": [
    "To access the inner array element `3`, we need to reference it again, chaining our element references"
   ]
  },
  {
   "cell_type": "code",
   "execution_count": 18,
   "metadata": {},
   "outputs": [
    {
     "data": {
      "text/plain": [
       "3"
      ]
     },
     "execution_count": 18,
     "metadata": {},
     "output_type": "execute_result"
    }
   ],
   "source": [
    "arr = [[1, 3], [2]]\n",
    "arr[0][1]\n"
   ]
  },
  {
   "cell_type": "markdown",
   "metadata": {},
   "source": [
    "### Updating Collection Elements"
   ]
  },
  {
   "cell_type": "markdown",
   "metadata": {},
   "source": [
    "The `arr[1] == 'hi there'` is a destructive method that permanently changed the second element in the `arr` array; it replace the array `[2]` with `'hi there'`"
   ]
  },
  {
   "cell_type": "code",
   "execution_count": 19,
   "metadata": {},
   "outputs": [
    {
     "data": {
      "text/plain": [
       "[[1, 3], \"hi there\"]"
      ]
     },
     "execution_count": 19,
     "metadata": {},
     "output_type": "execute_result"
    }
   ],
   "source": [
    "arr = [[1, 3], [2]]\n",
    "arr[1] = \"hi there\"\n",
    "arr"
   ]
  },
  {
   "cell_type": "markdown",
   "metadata": {},
   "source": [
    "Modifying an element in a nested array looks similar to a chained reference, but it is not.  \n",
    "\n",
    "The first part `arr[0]` is element reference and returns the array `[1,3]`.\n",
    "\n",
    "The second part, `[1] == 5`, is the same as `[1, 3][1] == 5`.  This is a destructive action so the change is permanent.  \n",
    "\n",
    "So, this is a chained action with two parts:\n",
    "1. Element referenceand \n",
    "2. Element update"
   ]
  },
  {
   "cell_type": "code",
   "execution_count": 20,
   "metadata": {},
   "outputs": [
    {
     "data": {
      "text/plain": [
       "[[1, 5], [2]]"
      ]
     },
     "execution_count": 20,
     "metadata": {},
     "output_type": "execute_result"
    }
   ],
   "source": [
    "arr = [[1, 3], [2]]\n",
    "arr[0][1] = 5\n",
    "arr"
   ]
  },
  {
   "cell_type": "markdown",
   "metadata": {},
   "source": [
    "In the code below, the line `arr[0] << 3` is also a two part chain:\n",
    "1. The first part is element reference, which will return `[1]`\n",
    "2. The second part is element update, and can be thought of as `[1] << 3`, which destructively appends `3` into the inner array."
   ]
  },
  {
   "cell_type": "code",
   "execution_count": 21,
   "metadata": {},
   "outputs": [
    {
     "data": {
      "text/plain": [
       "[[1, 3], [2]]"
      ]
     },
     "execution_count": 21,
     "metadata": {},
     "output_type": "execute_result"
    }
   ],
   "source": [
    "arr = [[1], [2]]\n",
    "arr[0] << 3\n",
    "arr"
   ]
  },
  {
   "cell_type": "markdown",
   "metadata": {},
   "source": [
    "### Other Nested Structures"
   ]
  },
  {
   "cell_type": "markdown",
   "metadata": {},
   "source": [
    "Updating hash nested within an array follows the same two step process:\n",
    "1. First we use `arr[0]` to reference the first hash in the array, which returns `{ a: 'ant' }`\n",
    "2. Then we use the normal key/value hash creation syntax to create a new key/value pair: `{ a: 'ant' }[:c] == 'cat'`\n",
    "\n",
    "This change is destructive and will be reflected in `arr`."
   ]
  },
  {
   "cell_type": "code",
   "execution_count": 22,
   "metadata": {},
   "outputs": [
    {
     "data": {
      "text/plain": [
       "[{:a=>\"ant\", :c=>\"cat\"}, {:b=>\"bear\"}]"
      ]
     },
     "execution_count": 22,
     "metadata": {},
     "output_type": "execute_result"
    }
   ],
   "source": [
    "arr = [{ a: 'ant' }, { b: 'bear' }]\n",
    "arr[0][:c] = 'cat'\n",
    "arr"
   ]
  },
  {
   "cell_type": "markdown",
   "metadata": {},
   "source": [
    "### Variable Reference for Nested Collections"
   ]
  },
  {
   "cell_type": "markdown",
   "metadata": {},
   "source": [
    "The local variables `a` and `b` are pointing to `Array` objects.  \n",
    "\n",
    "When we place the local variables as elements into the array, it looks the same as adding the actual array objects that they're pointing to into the array.  This is true to a certain extent."
   ]
  },
  {
   "cell_type": "code",
   "execution_count": 28,
   "metadata": {},
   "outputs": [
    {
     "data": {
      "text/plain": [
       "[[1, 3], [2]]"
      ]
     },
     "execution_count": 28,
     "metadata": {},
     "output_type": "execute_result"
    }
   ],
   "source": [
    "a = [1, 3]\n",
    "b = [2]\n",
    "arr = [a, b]\n",
    "\n",
    "arr"
   ]
  },
  {
   "cell_type": "markdown",
   "metadata": {},
   "source": [
    "If we modify `a` after placing it in the array, this will also update the first element in the arr because `a` and `arr[0]` are still pointing to the same Array object."
   ]
  },
  {
   "cell_type": "code",
   "execution_count": 29,
   "metadata": {},
   "outputs": [
    {
     "data": {
      "text/plain": [
       "[[1, 5], [2]]"
      ]
     },
     "execution_count": 29,
     "metadata": {},
     "output_type": "execute_result"
    }
   ],
   "source": [
    "a = [1, 3]\n",
    "b = [2]\n",
    "arr = [a, b]\n",
    "\n",
    "a[1] = 5\n",
    "arr "
   ]
  },
  {
   "cell_type": "markdown",
   "metadata": {},
   "source": [
    "If we modify the first array in `arr` this will also modify `a`.  In both cases, we are modifying the object that `a` and `arr[0]` are pointing to. We have two ways to reference the same object."
   ]
  },
  {
   "cell_type": "code",
   "execution_count": 30,
   "metadata": {},
   "outputs": [
    {
     "name": "stdout",
     "output_type": "stream",
     "text": [
      "[[1, 8], [2]]\n",
      "[1, 8]\n"
     ]
    }
   ],
   "source": [
    "a = [1, 3]\n",
    "b = [2]\n",
    "arr = [a, b]\n",
    "\n",
    "arr[0][1] = 8\n",
    "puts arr.inspect \n",
    "puts a.inspect"
   ]
  },
  {
   "cell_type": "markdown",
   "metadata": {},
   "source": [
    "### Shallow Copy"
   ]
  },
  {
   "cell_type": "markdown",
   "metadata": {},
   "source": [
    "Ruby provides two methods that allows us to copy an object, including collections: `dup` and `clone`. \n",
    "\n",
    "Both of these methods create a *shallow copy* of an object.  This means that \n",
    "\n",
    " ```\n",
    " only the object that the method is called on is copied.  If the object contains other objects - like a nested array - then those object will be shared, not copied.\n",
    " ```\n",
    "\n",
    "`dup` and `clone` allow objects within the copied object to be modified."
   ]
  },
  {
   "cell_type": "code",
   "execution_count": 31,
   "metadata": {},
   "outputs": [
    {
     "name": "stdout",
     "output_type": "stream",
     "text": [
      "[\"a\", \"B\", \"c\"]\n",
      "[\"a\", \"B\", \"c\"]\n"
     ]
    }
   ],
   "source": [
    "arr1 = [\"a\", \"b\", \"c\"]\n",
    "arr2 = arr1.dup\n",
    "arr2[1].upcase!\n",
    "\n",
    "puts arr2.inspect\n",
    "puts arr1.inspect"
   ]
  },
  {
   "cell_type": "markdown",
   "metadata": {},
   "source": [
    "This happens because the destructive method (`String#upcase!`) was called on the object withib the array and not the array itself.  \n",
    "\n",
    "Since those objects are `shared`, even if you mutate the object by referencing it from within a particular array or other collection, it is the `object` you are affecting rather than the collection."
   ]
  },
  {
   "cell_type": "code",
   "execution_count": null,
   "metadata": {},
   "outputs": [],
   "source": [
    "arr1 = [\"a\", \"b\", \"c\"]\n",
    "arr2 = arr1.dup\n",
    "arr2.map! do |char|\n",
    "  char.upcase\n",
    "end\n",
    "\n",
    "puts arr2.inspect\n",
    "puts arr1.inspect"
   ]
  },
  {
   "cell_type": "markdown",
   "metadata": {},
   "source": [
    "`arr2` is changed by arr1 is not.  This is because the destructive method `Array#map!` is called on `arr2`.  This method modified the array, replacing each element of the array with a new value.\n",
    "\n",
    "Since we changing the array (which is copied), and not the objects within the array (which are shared), `arr1` is left unchanged."
   ]
  },
  {
   "cell_type": "code",
   "execution_count": 32,
   "metadata": {},
   "outputs": [
    {
     "name": "stdout",
     "output_type": "stream",
     "text": [
      "[\"A\", \"B\", \"C\"]\n",
      "[\"A\", \"B\", \"C\"]\n"
     ]
    }
   ],
   "source": [
    "arr1 = [\"a\", \"b\", \"c\"]\n",
    "arr2 = arr1.dup\n",
    "arr2.each do |char|\n",
    "  char.upcase!\n",
    "end\n",
    "\n",
    "puts arr2.inspect\n",
    "puts arr1.inspect"
   ]
  },
  {
   "cell_type": "markdown",
   "metadata": {},
   "source": [
    "The destructive `String#upcase!` is called on on each element of `arr2`.  However, every element in `arr2` is a reference to the object referenced by the corresponding element in `arr1`.  "
   ]
  },
  {
   "cell_type": "markdown",
   "metadata": {},
   "source": [
    "### Freezing Objects"
   ]
  },
  {
   "cell_type": "markdown",
   "metadata": {},
   "source": [
    "The main difference between `dup` and `clone` is that `clone` preserves the frozen state of the object."
   ]
  },
  {
   "cell_type": "code",
   "execution_count": 33,
   "metadata": {},
   "outputs": [
    {
     "ename": "FrozenError",
     "evalue": "can't modify frozen Array: [\"a\", \"b\", \"c\"]",
     "output_type": "error",
     "traceback": [
      "\u001b[31mFrozenError\u001b[0m: can't modify frozen Array: [\"a\", \"b\", \"c\"]",
      "(irb):2:in `irb_binding'"
     ]
    }
   ],
   "source": [
    "arr1 = [\"a\", \"b\", \"c\"].freeze\n",
    "arr2 = arr1.clone\n",
    "arr2 << \"d\""
   ]
  },
  {
   "cell_type": "markdown",
   "metadata": {},
   "source": [
    "Only mutable objects can be frozen because immutable objects, like integers, are already frozen.  We can check if an object is frozen with the `frozen?` method.\n",
    "\n",
    "`freeze` only freezes the object is called on.  If the object its called on contains other objects, those objects won't be frozen.   "
   ]
  },
  {
   "cell_type": "code",
   "execution_count": 34,
   "metadata": {},
   "outputs": [
    {
     "data": {
      "text/plain": [
       "[[1], [2], [3, 4]]"
      ]
     },
     "execution_count": 34,
     "metadata": {},
     "output_type": "execute_result"
    }
   ],
   "source": [
    "arr = [[1], [2], [3]].freeze\n",
    "arr[2] << 4\n",
    "arr"
   ]
  },
  {
   "cell_type": "code",
   "execution_count": 35,
   "metadata": {},
   "outputs": [
    {
     "ename": "FrozenError",
     "evalue": "can't modify frozen Array: [[1], [2], [3]]",
     "output_type": "error",
     "traceback": [
      "\u001b[31mFrozenError\u001b[0m: can't modify frozen Array: [[1], [2], [3]]",
      "(irb):1:in `irb_binding'"
     ]
    }
   ],
   "source": [
    "arr = [[1], [2], [3]].freeze\n",
    "arr << [4]"
   ]
  },
  {
   "cell_type": "markdown",
   "metadata": {},
   "source": [
    "## Working with Blocks"
   ]
  },
  {
   "cell_type": "markdown",
   "metadata": {},
   "source": [
    "- Action:\n",
    "- Object:\n",
    "- Side Effect: \n",
    "- Return Value: \n",
    "- Is Return Value Used?:"
   ]
  },
  {
   "cell_type": "markdown",
   "metadata": {},
   "source": [
    "### Example 1"
   ]
  },
  {
   "cell_type": "code",
   "execution_count": 36,
   "metadata": {},
   "outputs": [
    {
     "name": "stdout",
     "output_type": "stream",
     "text": [
      "1\n",
      "3\n"
     ]
    },
    {
     "data": {
      "text/plain": [
       "[[1, 2], [3, 4]]"
      ]
     },
     "execution_count": 36,
     "metadata": {},
     "output_type": "execute_result"
    }
   ],
   "source": [
    "[[1, 2], [3, 4]].each do |arr|\n",
    "  puts arr.first\n",
    "end"
   ]
  },
  {
   "cell_type": "markdown",
   "metadata": {},
   "source": [
    "Line 1:\n",
    "- Action: method call `each`\n",
    "- Object: Outer array\n",
    "- Side Effect: None\n",
    "- Return Value: The calling object `[[1, 2], [3, 4]]`\n",
    "- Is Return Value Used?: No\n",
    "\n",
    "Lines 1 - 3:\n",
    "- Action: Block execution\n",
    "- Object: Each sub-array\n",
    "- Side Effect: None\n",
    "- Return Value: `nil`\n",
    "- Is Return Value Used?: No\n",
    "\n",
    "Line 2:\n",
    "- Action: method call `first`\n",
    "- Object: Each sub-array\n",
    "- Side Effect: None\n",
    "- Return Value: Element at index 0 of sub-array\n",
    "- Is Return Value Used?: Yes, used as argument for `puts`\n",
    "\n",
    "Line 2:\n",
    "- Action: method call `puts`\n",
    "- Object: Return value of `arr.first`\n",
    "- Side Effect: Outputs out string representation of integer\n",
    "- Return Value: `nil`\n",
    "- Is Return Value Used?: Yes, used to determine block's return value"
   ]
  },
  {
   "cell_type": "markdown",
   "metadata": {},
   "source": [
    "### Example 2"
   ]
  },
  {
   "cell_type": "code",
   "execution_count": 37,
   "metadata": {},
   "outputs": [
    {
     "name": "stdout",
     "output_type": "stream",
     "text": [
      "1\n",
      "3\n"
     ]
    },
    {
     "data": {
      "text/plain": [
       "[nil, nil]"
      ]
     },
     "execution_count": 37,
     "metadata": {},
     "output_type": "execute_result"
    }
   ],
   "source": [
    "[[1, 2], [3, 4]].map do |arr|\n",
    "  puts arr.first\n",
    "end"
   ]
  },
  {
   "cell_type": "markdown",
   "metadata": {},
   "source": [
    "Line 1:\n",
    "- Action: method call `map`\n",
    "- Object: The outer array\n",
    "- Side Effect: None\n",
    "- Return Value: New array - `[nil, nil]`\n",
    "- Is Return Value Used?: No\n",
    "\n",
    "Lines 1 - 3:\n",
    "- Action: Block execution\n",
    "- Object: Each sub-array\n",
    "- Side Effect: None\n",
    "- Return Value: `nil`\n",
    "- Is Return Value Used?: Yes, used by `map` for transformation\n",
    "\n",
    "Line 2:\n",
    "- Action: method call `first`\n",
    "- Object: Each sub-array\n",
    "- Side Effect: None\n",
    "- Return Value: The element at index 0 of each sub-array\n",
    "- Is Return Value Used?: Yes, passed as arguments to `puts`\n",
    "\n",
    "Line 2:\n",
    "- Action: method call `puts`\n",
    "- Object: The element at index 0 of each sub-array\n",
    "- Side Effect: Outputs string representation of integer\n",
    "- Return Value: `nil`\n",
    "- Is Return Value Used?: Yes, used to determine the return value of the block."
   ]
  },
  {
   "cell_type": "markdown",
   "metadata": {},
   "source": [
    "### Example 3"
   ]
  },
  {
   "cell_type": "code",
   "execution_count": 38,
   "metadata": {},
   "outputs": [
    {
     "name": "stdout",
     "output_type": "stream",
     "text": [
      "1\n",
      "3\n"
     ]
    },
    {
     "data": {
      "text/plain": [
       "[1, 3]"
      ]
     },
     "execution_count": 38,
     "metadata": {},
     "output_type": "execute_result"
    }
   ],
   "source": [
    "[[1, 2], [3, 4]].map do |arr|\n",
    "  puts arr.first\n",
    "  arr.first\n",
    "end"
   ]
  },
  {
   "cell_type": "markdown",
   "metadata": {},
   "source": [
    "Line 1:\n",
    "- Action: method call `map`\n",
    "- Object: The outer array\n",
    "- Side Effect: None\n",
    "- Return Value: New array - `[1, 3]`\n",
    "- Is Return Value Used?: No\n",
    "\n",
    "Lines 1 - 4:\n",
    "- Action: Block execution\n",
    "- Object: Each sub-array\n",
    "- Side Effect: None\n",
    "- Return Value: The element at index 0 of each sub-array\n",
    "- Is Return Value Used?: Yes, used by `map` for transformation\n",
    "\n",
    "Line 2:\n",
    "- Action: method call `first`\n",
    "- Object: Each sub-array\n",
    "- Side Effect: None\n",
    "- Return Value: Element at index 0 of each sub-array\n",
    "- Is Return Value Used?: Yes, passed as argument to `puts`\n",
    "\n",
    "Line 2:\n",
    "- Action: method call `puts`\n",
    "- Object: Element at index 0 of each sub-array\n",
    "- Side Effect: Outputs string representation of an integer\n",
    "- Return Value: `nil`\n",
    "- Is Return Value Used?: No\n",
    "\n",
    "Line 3:\n",
    "- Action: method call `first`\n",
    "- Object: Each sub-array\n",
    "- Side Effect: None\n",
    "- Return Value: Element at index 0 of each sub-array\n",
    "- Is Return Value Used?: Yes, used to determine the return value of block"
   ]
  },
  {
   "cell_type": "markdown",
   "metadata": {},
   "source": [
    "### Example 4"
   ]
  },
  {
   "cell_type": "code",
   "execution_count": null,
   "metadata": {},
   "outputs": [],
   "source": [
    "my_arr = [[18, 7], [3, 12]].each do |arr|\n",
    "  arr.each do |num|\n",
    "    if num > 5\n",
    "      puts num\n",
    "    end\n",
    "  end\n",
    "end"
   ]
  },
  {
   "cell_type": "markdown",
   "metadata": {},
   "source": [
    "Line 1:\n",
    "- Action: Variable assignment\n",
    "- Object: The outer array `[[18, 7], [3, 12]]`\n",
    "- Side Effect: None\n",
    "- Return Value: Calling object `[[18, 7], [3, 12]]`\n",
    "- Is Return Value Used?: No\n",
    "\n",
    "Line 1:\n",
    "- Action: method call `each`\n",
    "- Object: The outer array `[[18, 7], [3, 12]]`\n",
    "- Side Effect: None\n",
    "- Return Value: Calling object `[[18, 7], [3, 12]]`\n",
    "- Is Return Value Used?: Yes, used by variable assignment to `my_arr`\n",
    "\n",
    "Line 1 - 7:\n",
    "- Action: Outer block execution\n",
    "- Object: Each sub-array\n",
    "- Side Effect: None\n",
    "- Return Value: Each sub-array\n",
    "- Is Return Value Used?: No\n",
    "\n",
    "Line 2:\n",
    "- Action: method call `each`\n",
    "- Object: Each sub-array\n",
    "- Side Effect: None\n",
    "- Return Value: Calling object - the sub-array in current iteration\n",
    "- Is Return Value Used?: Yes, used to determine the return value of the outer block\n",
    "\n",
    "Lines 2 - 6:\n",
    "- Action: inner-block execution\n",
    "- Object: Each interger in the sub-array of the current iteration\n",
    "- Side Effect: None\n",
    "- Return Value: `nil`\n",
    "- Is Return Value Used?: No\n",
    "\n",
    "Line 3: \n",
    "- Action: Comparison `num > 5`\n",
    "- Object: Each interger in the sub-array of the current iteration\n",
    "- Side Effect: None\n",
    "- Return Value: Boolean\n",
    "- Is Return Value Used?: Yes, evaluated to `if`\n",
    "\n",
    "Line 3: \n",
    "- Action: Conditional `if`\n",
    "- Object: The result of `num > 5` (boolean)\n",
    "- Side Effect: None\n",
    "- Return Value: `nil`\n",
    "- Is Return Value Used?: Yes, used to determine the return value of the inner block\n",
    "\n",
    "Line 4:\n",
    "- Action: method call `puts`\n",
    "- Object: Each interger in the sub-array of the current iteration\n",
    "- Side Effect: Outputs string representation of an integer\n",
    "- Return Value: `nil`\n",
    "- Is Return Value Used?: Yes, used to determine the return value of the conditional statement if the condition is met.\n",
    "\n"
   ]
  },
  {
   "cell_type": "markdown",
   "metadata": {},
   "source": [
    "### Example 5"
   ]
  },
  {
   "cell_type": "code",
   "execution_count": null,
   "metadata": {},
   "outputs": [],
   "source": [
    "[[1, 2], [3, 4]].map do |arr|\n",
    "  arr.map do |num|\n",
    "    num * 2\n",
    "  end\n",
    "end"
   ]
  },
  {
   "cell_type": "markdown",
   "metadata": {},
   "source": [
    "Line 1:\n",
    "- Action: method call `map`\n",
    "- Object: Outer array `[[1, 2], [3, 4]]`\n",
    "- Side Effect: None\n",
    "- Return Value: New transformed array - `[[2, 4], [6, 8]]`\n",
    "- Is Return Value Used?: No\n",
    "\n",
    "Lines 1 - 5:\n",
    "- Action: Outer block execution\n",
    "- Object: Each sub-array\n",
    "- Side Effect: None\n",
    "- Return Value: The transformed sub-arrays\n",
    "- Is Return Value Used?: Yes, by top-level `map` for transformation\n",
    "\n",
    "Line 2:\n",
    "- Action: method call `map`\n",
    "- Object: Each sub-array\n",
    "- Side Effect: None\n",
    "- Return Value: New transformed sub-array of that iteration\n",
    "- Is Return Value Used?: Yes, used to determine the return value of the outer block\n",
    "\n",
    "Lines 2 - 4:\n",
    "- Action: Inner block execution\n",
    "- Object: The element in the sub-array on that iteration\n",
    "- Side Effect: None\n",
    "- Return Value: Integer\n",
    "- Is Return Value Used?: Yes, it is used by inner `map` for transformation\n",
    "\n",
    "Line 3:\n",
    "- Action: method call `Integer#*` with integer 2 as an argument\n",
    "- Object: The element in the sub-array on that iteration\n",
    "- Side Effect: None\n",
    "- Return Value: Integer\n",
    "- Is Return Value Used?: Yes, it is used to determine the return value of the inner block.\n"
   ]
  },
  {
   "cell_type": "markdown",
   "metadata": {},
   "source": [
    "### Example 6"
   ]
  },
  {
   "cell_type": "markdown",
   "metadata": {},
   "source": [
    "We want to select all elements where every key matches the first letter of the value. Note that the keys are symbols here, so we'll have to do some conversion before comparison."
   ]
  },
  {
   "cell_type": "code",
   "execution_count": 87,
   "metadata": {},
   "outputs": [
    {
     "data": {
      "text/plain": [
       "[{:c=>\"cat\"}]"
      ]
     },
     "execution_count": 87,
     "metadata": {},
     "output_type": "execute_result"
    }
   ],
   "source": [
    "arr = [{ a: 'ant', b: 'elephant' }, { c: 'cat' }]\n",
    "\n",
    "arr.select do |hsh|\n",
    "  hsh.all? do |k, v|\n",
    "    k.to_s == v[0]\n",
    "  end\n",
    "end"
   ]
  },
  {
   "cell_type": "markdown",
   "metadata": {},
   "source": [
    "Line 3:\n",
    "- Action: method call `select`\n",
    "- Object: The outer array \n",
    "- Side Effect: None\n",
    "- Return Value: A new array\n",
    "- Is Return Value Used?: No\n",
    "\n",
    "Lines 3 - 7:\n",
    "- Action: Outer block exection\n",
    "- Object: Each hash\n",
    "- Side Effect: None\n",
    "- Return Value: Boolean\n",
    "- Is Return Value Used?: Yes, used by `select` to determine selection criteria\n",
    "\n",
    "Line 4:\n",
    "- Action: method call `all?`\n",
    "- Object: Each hash\n",
    "- Side Effect: None\n",
    "- Return Value: Boolean\n",
    "- Is Return Value Used?: Yes, used to determine the return value of the outer block\n",
    "\n",
    "Lines 4 - 6:\n",
    "- Action: Inner block execution\n",
    "- Object: The key/value pairs in the hash of the current iteration\n",
    "- Side Effect: None\n",
    "- Return Value: Boolean\n",
    "- Is Return Value Used?: Yes, used by `all?` to determine truthiness\n",
    "\n",
    "Line 5:\n",
    "- Action: method call `to_s`\n",
    "- Object: The current key\n",
    "- Side Effect: None\n",
    "- Return Value: A string\n",
    "- Is Return Value Used?: Yes, used in comparison\n",
    "\n",
    "Line 5:\n",
    "- Action: Element reference `v[0]`\n",
    "- Object: The current value\n",
    "- Side Effect: None\n",
    "- Return Value: The string at index 0 of current value\n",
    "- Is Return Value Used?: Yes, used in comparison\n",
    "\n",
    "Line 5:\n",
    "- Action: Comparison `k.to_s == v[0]`\n",
    "- Object: The current key (current value is passed as argument)\n",
    "- Side Effect: None\n",
    "- Return Value: Boolean\n",
    "- Is Return Value Used?: Yes, used to determine the return value of inner block."
   ]
  },
  {
   "cell_type": "markdown",
   "metadata": {},
   "source": [
    "Store each key/value pairs where the `key.to_s == value[0]` in a separate dictionary and store it in a list"
   ]
  },
  {
   "cell_type": "code",
   "execution_count": 89,
   "metadata": {},
   "outputs": [
    {
     "data": {
      "text/plain": [
       "[{:a=>\"ant\", :d=>\"donkey\"}, {:c=>\"cat\"}]"
      ]
     },
     "execution_count": 89,
     "metadata": {},
     "output_type": "execute_result"
    }
   ],
   "source": [
    "arr = [{ a: 'ant', b: 'elephant', d: 'donkey' }, { c: 'cat' }]\n",
    "\n",
    "arr.map do |hsh|\n",
    "  hsh.select do |k, v|\n",
    "    k.to_s == v[0]\n",
    "  end\n",
    "end"
   ]
  },
  {
   "cell_type": "code",
   "execution_count": 94,
   "metadata": {},
   "outputs": [
    {
     "data": {
      "text/plain": [
       "[{:a=>\"ant\", :b=>\"elephant\", :d=>\"donkey\"}, {:c=>\"cat\"}]"
      ]
     },
     "execution_count": 94,
     "metadata": {},
     "output_type": "execute_result"
    }
   ],
   "source": [
    "arr = [{ a: 'ant', b: 'elephant', d: 'donkey' }, { c: 'cat' }]\n",
    "matches = []\n",
    "\n",
    "arr.each do |hsh|\n",
    "  hsh.each_with_object({}) do |(k, v), sub_hsh|\n",
    "    if k.to_s == v[0]\n",
    "      matches << {k => v}\n",
    "    end\n",
    "  end\n",
    "end"
   ]
  },
  {
   "cell_type": "markdown",
   "metadata": {},
   "source": [
    "### Example 7\n",
    "\n",
    "We have an array of nested arrays which contain numeric strings, and we want to sort the outer array so that the inner arrays are ordered according to the numeric value of the strings they contain. Take, for example, the following 4-element array of arrays."
   ]
  },
  {
   "cell_type": "code",
   "execution_count": 84,
   "metadata": {},
   "outputs": [
    {
     "data": {
      "text/plain": [
       "[[\"2\", \"12\", \"15\"], [\"2\", \"6\", \"13\"], [\"1\", \"8\", \"11\"], [\"1\", \"8\", \"9\"]]"
      ]
     },
     "execution_count": 84,
     "metadata": {},
     "output_type": "execute_result"
    }
   ],
   "source": [
    "arr = [['1', '8', '11'], ['2', '6', '13'], ['2', '12', '15'], ['1', '8', '9']]\n",
    "\n",
    "arr.sort_by do |sub_arr|\n",
    "  sub_arr.map(&:to_i)\n",
    "end"
   ]
  },
  {
   "cell_type": "code",
   "execution_count": 83,
   "metadata": {},
   "outputs": [
    {
     "data": {
      "text/plain": [
       "[[\"2\", \"12\", \"15\"], [\"2\", \"6\", \"13\"], [\"1\", \"8\", \"11\"], [\"1\", \"8\", \"9\"]]"
      ]
     },
     "execution_count": 83,
     "metadata": {},
     "output_type": "execute_result"
    }
   ],
   "source": [
    "arr = [['1', '8', '11'], ['2', '6', '13'], ['2', '12', '15'], ['1', '8', '9']]\n",
    "\n",
    "arr.sort_by do |sub_arr|\n",
    "  sub_arr.map do |str_num|\n",
    "    -str_num.to_i\n",
    "  end\n",
    "end"
   ]
  },
  {
   "cell_type": "markdown",
   "metadata": {},
   "source": [
    "### Example 8"
   ]
  },
  {
   "cell_type": "markdown",
   "metadata": {},
   "source": [
    "Take the 2-element array below, where we only want to select integers greater than 13 but strings less than 6 characters."
   ]
  },
  {
   "cell_type": "code",
   "execution_count": 97,
   "metadata": {},
   "outputs": [
    {
     "data": {
      "text/plain": [
       "[[27], [\"apple\"]]"
      ]
     },
     "execution_count": 97,
     "metadata": {},
     "output_type": "execute_result"
    }
   ],
   "source": [
    "arr = [[8, 13, 27], ['apple', 'banana', 'cantaloupe']]\n",
    "\n",
    "arr.map do |sub_arr|\n",
    "  sub_arr.select do |elem|\n",
    "    if elem.is_a?(Integer)\n",
    "      elem > 13\n",
    "    else\n",
    "      elem.size < 6\n",
    "    end\n",
    "  end\n",
    "end"
   ]
  },
  {
   "cell_type": "code",
   "execution_count": 98,
   "metadata": {},
   "outputs": [
    {
     "data": {
      "text/plain": [
       "[[27], [\"apple\"]]"
      ]
     },
     "execution_count": 98,
     "metadata": {},
     "output_type": "execute_result"
    }
   ],
   "source": [
    "arr.map.with_index do |sub_arr, idx|\n",
    "  sub_arr.select do |elem|\n",
    "    if idx == 0\n",
    "      elem > 13\n",
    "    else\n",
    "      elem.size < 6\n",
    "    end\n",
    "  end\n",
    "end"
   ]
  },
  {
   "cell_type": "markdown",
   "metadata": {},
   "source": [
    "### Example 10"
   ]
  },
  {
   "cell_type": "markdown",
   "metadata": {},
   "source": [
    "Increment every number by 1 without changing the data structure."
   ]
  },
  {
   "cell_type": "code",
   "execution_count": 103,
   "metadata": {},
   "outputs": [
    {
     "data": {
      "text/plain": [
       "[[[1, 2], [3, 4]], [5, 6]]"
      ]
     },
     "execution_count": 103,
     "metadata": {},
     "output_type": "execute_result"
    }
   ],
   "source": [
    "arr = [\n",
    "  [[1, 2], [3, 4]], \n",
    "  [5, 6]\n",
    "]"
   ]
  },
  {
   "cell_type": "code",
   "execution_count": 104,
   "metadata": {},
   "outputs": [
    {
     "name": "stdout",
     "output_type": "stream",
     "text": [
      "[[[1, 2], [3, 4]], [5, 6]]\n",
      "[[[2, 3], [4, 5]], [6, 7]]\n"
     ]
    }
   ],
   "source": [
    "new_arr = arr.map do |sub_arr|\n",
    "  sub_arr.map do |elem|\n",
    "    if elem.is_a?(Integer)\n",
    "      elem + 1\n",
    "    else\n",
    "      elem.map do |sub_elem|\n",
    "        sub_elem + 1\n",
    "      end\n",
    "    end\n",
    "  end\n",
    "end\n",
    "\n",
    "puts arr.inspect\n",
    "puts new_arr.inspect"
   ]
  },
  {
   "cell_type": "markdown",
   "metadata": {},
   "source": [
    "### Mutating Collections While Iterating \n",
    "\n",
    "**Do not mutate the collection that you're iterating through**\n",
    "\n",
    "Here's an example of what not to do:"
   ]
  },
  {
   "cell_type": "code",
   "execution_count": 106,
   "metadata": {},
   "outputs": [
    {
     "name": "stdout",
     "output_type": "stream",
     "text": [
      "[1, 1, 3, 6, 9]\n"
     ]
    }
   ],
   "source": [
    "def remove_evens!(arr)\n",
    "  arr.each do |num|\n",
    "    if num % 2 == 0\n",
    "      arr.delete(num)\n",
    "    end\n",
    "  end\n",
    "  arr\n",
    "end\n",
    "\n",
    "puts remove_evens!([1,1,2,3,4,6,8,9]).inspect\n",
    "\n",
    "# expected return value [1, 1, 3, 9]"
   ]
  },
  {
   "cell_type": "markdown",
   "metadata": {},
   "source": [
    "## Practice Problems"
   ]
  },
  {
   "cell_type": "markdown",
   "metadata": {},
   "source": [
    "### Practice Problem 1\n",
    "\n",
    "How would you order this array of number strings by descending numeric value?"
   ]
  },
  {
   "cell_type": "code",
   "execution_count": 110,
   "metadata": {},
   "outputs": [
    {
     "data": {
      "text/plain": [
       "[\"11\", \"10\", \"9\", \"8\", \"7\"]"
      ]
     },
     "execution_count": 110,
     "metadata": {},
     "output_type": "execute_result"
    }
   ],
   "source": [
    "arr = ['10', '11', '9', '7', '8']\n",
    "\n",
    "arr.sort_by do  |string_num| \n",
    "  -string_num.to_i\n",
    "end"
   ]
  },
  {
   "cell_type": "markdown",
   "metadata": {},
   "source": [
    "Sorting is carried out by comparing the items in a collection with each other, and ordering them based on the result of that comparison.  \n",
    "\n",
    "The `<=>` method performs comparison between two objects of the same type and returns a `-1` if the first value is less than the second, `0` if they are even, `1` if the first item is greater than the second or `nil` if the items cannot be compared.  The return value of `<=>` is used by `sort` to determine the order in which to place the items.\n",
    "\n",
    "The `sort_by` method is called on the array.  The code in the block determines how the items are compared.  In this case, we want to sort the strings within the array in descending order according to their numeric values. The ASCII character order determines the result when we compare one string with another using the `String#<=>` method ('ASCIIbetical' order).  Because of this, we must convert the strings to integers before invoking the `<=>` method.  \n",
    "\n",
    "In addtion to converting the strings to integers, we also change the sign of the integer by prepending the `'-'` symbol to the return value of `string_num.to_i`.  This negates the value of each integer and reverses the order in which the items are sorted.\n"
   ]
  },
  {
   "cell_type": "markdown",
   "metadata": {},
   "source": [
    "### Practice Problem 2\n",
    "\n",
    "How would you order this array of hashes based on the year of publication of each book, from the earliest to the latest?"
   ]
  },
  {
   "cell_type": "code",
   "execution_count": 113,
   "metadata": {},
   "outputs": [
    {
     "data": {
      "text/plain": [
       "[{:title=>\"War and Peace\", :author=>\"Leo Tolstoy\", :published=>\"1869\"}, {:title=>\"Ulysses\", :author=>\"James Joyce\", :published=>\"1922\"}, {:title=>\"The Great Gatsby\", :author=>\"F. Scott Fitzgerald\", :published=>\"1925\"}, {:title=>\"One Hundred Years of Solitude\", :author=>\"Gabriel Garcia Marquez\", :published=>\"1967\"}]"
      ]
     },
     "execution_count": 113,
     "metadata": {},
     "output_type": "execute_result"
    }
   ],
   "source": [
    "books = [\n",
    "  {title: 'One Hundred Years of Solitude', author: 'Gabriel Garcia Marquez', published: '1967'},\n",
    "  {title: 'The Great Gatsby', author: 'F. Scott Fitzgerald', published: '1925'},\n",
    "  {title: 'War and Peace', author: 'Leo Tolstoy', published: '1869'},\n",
    "  {title: 'Ulysses', author: 'James Joyce', published: '1922'}\n",
    "]\n",
    "\n",
    "books.sort_by do |hsh|\n",
    "  hsh[:published]\n",
    "end"
   ]
  },
  {
   "cell_type": "markdown",
   "metadata": {},
   "source": [
    "Sorting is carried out by comparing the items of a collection with eachother, and ordering them based on the result of that comparison.\n",
    "\n",
    "The `<=>` performs the comparison between two objects of the same type and returns:\n",
    "- `-1` if the first item is less than the second\n",
    "- `0` if the first item is equal to the second\n",
    "- `1` if the first item is greater than the second item\n",
    "- `nil` if the onbjects can't be compared.\n",
    "\n",
    "The `sort_by` method is called on the array.  The code in the block determines how the items are compared.  Each hash is passed to the block as an argument and the block returns the value associated with the `:published` key in each hash.  \n",
    "\n",
    "The string values do not need to be converted to integers because they are all four characters in length.  Since strings are compared character-by-character, we can just compared characters of each string at similar index positions."
   ]
  },
  {
   "cell_type": "markdown",
   "metadata": {},
   "source": [
    "### Practice Problem 3\n",
    "\n",
    "For each of these collection objects demonstrate how you would reference the letter `'g'`."
   ]
  },
  {
   "cell_type": "code",
   "execution_count": 117,
   "metadata": {},
   "outputs": [
    {
     "data": {
      "text/plain": [
       "\"g\""
      ]
     },
     "execution_count": 117,
     "metadata": {},
     "output_type": "execute_result"
    }
   ],
   "source": [
    "arr1 = ['a', 'b', ['c', ['d', 'e', 'f', 'g']]]\n",
    "\n",
    "arr1[2][1][-1]  # Chaining element references"
   ]
  },
  {
   "cell_type": "code",
   "execution_count": 128,
   "metadata": {},
   "outputs": [
    {
     "data": {
      "text/plain": [
       "\"g\""
      ]
     },
     "execution_count": 128,
     "metadata": {},
     "output_type": "execute_result"
    }
   ],
   "source": [
    "arr2 = [{first: ['a', 'b', 'c'], second: ['d', 'e', 'f']}, {third: ['g', 'h', 'i']}]\n",
    "\n",
    "arr2[1][:third][0]"
   ]
  },
  {
   "cell_type": "code",
   "execution_count": 130,
   "metadata": {},
   "outputs": [
    {
     "data": {
      "text/plain": [
       "\"g\""
      ]
     },
     "execution_count": 130,
     "metadata": {},
     "output_type": "execute_result"
    }
   ],
   "source": [
    "arr3 = [['abc'], ['def'], {third: ['ghi']}]\n",
    "\n",
    "arr3[2][:third][0][0]"
   ]
  },
  {
   "cell_type": "code",
   "execution_count": 132,
   "metadata": {},
   "outputs": [
    {
     "data": {
      "text/plain": [
       "\"g\""
      ]
     },
     "execution_count": 132,
     "metadata": {},
     "output_type": "execute_result"
    }
   ],
   "source": [
    "hsh1 = {'a' => ['d', 'e'], 'b' => ['f', 'g'], 'c' => ['h', 'i']}\n",
    "\n",
    "hsh1['b'][1]"
   ]
  },
  {
   "cell_type": "code",
   "execution_count": 146,
   "metadata": {},
   "outputs": [
    {
     "data": {
      "text/plain": [
       "\"g\""
      ]
     },
     "execution_count": 146,
     "metadata": {},
     "output_type": "execute_result"
    }
   ],
   "source": [
    "hsh2 = {first: {'d' => 3}, second: {'e' => 2, 'f' => 1}, third: {'g' => 0}}\n",
    "\n",
    "hsh2[:third].key(0)"
   ]
  },
  {
   "cell_type": "markdown",
   "metadata": {},
   "source": [
    "### Practice Problem 4\n",
    "\n",
    "For each of these collection objects where the value `3` occurs, demonstrate how you would change this to `4`."
   ]
  },
  {
   "cell_type": "code",
   "execution_count": 160,
   "metadata": {},
   "outputs": [
    {
     "data": {
      "text/plain": [
       "[1, [2, 4], 4]"
      ]
     },
     "execution_count": 160,
     "metadata": {},
     "output_type": "execute_result"
    }
   ],
   "source": [
    "arr1 = [1, [2, 3], 4]\n",
    "\n",
    "arr1[1][1] = 4\n",
    "\n",
    "arr1"
   ]
  },
  {
   "cell_type": "code",
   "execution_count": 159,
   "metadata": {},
   "outputs": [
    {
     "data": {
      "text/plain": [
       "[{:a=>1}, {:b=>2, :c=>[7, 6, 5], :d=>4}, 4]"
      ]
     },
     "execution_count": 159,
     "metadata": {},
     "output_type": "execute_result"
    }
   ],
   "source": [
    "arr2 = [{a: 1}, {b: 2, c: [7, 6, 5], d: 4}, 3]\n",
    "\n",
    "arr2[2] = 4\n",
    "\n",
    "arr2"
   ]
  },
  {
   "cell_type": "code",
   "execution_count": 158,
   "metadata": {},
   "outputs": [
    {
     "data": {
      "text/plain": [
       "{:first=>[1, 2, [4]]}"
      ]
     },
     "execution_count": 158,
     "metadata": {},
     "output_type": "execute_result"
    }
   ],
   "source": [
    "hsh1 = {first: [1, 2, [3]]}\n",
    "\n",
    "hsh1[:first][2][0] = 4\n",
    "\n",
    "hsh1"
   ]
  },
  {
   "cell_type": "code",
   "execution_count": 157,
   "metadata": {},
   "outputs": [
    {
     "data": {
      "text/plain": [
       "{[\"a\"]=>{:a=>[\"1\", :two, 4], :b=>4}, \"b\"=>5}"
      ]
     },
     "execution_count": 157,
     "metadata": {},
     "output_type": "execute_result"
    }
   ],
   "source": [
    "hsh2 = {['a'] => {a: ['1', :two, 3], b: 4}, 'b' => 5}\n",
    "\n",
    "hsh2[['a']][:a][2] = 4\n",
    "\n",
    "hsh2"
   ]
  },
  {
   "cell_type": "markdown",
   "metadata": {},
   "source": [
    "### Practice Problem 5\n",
    "\n",
    "Given this nested Hash:\n",
    "\n",
    "figure out the total age of just the male members of the family."
   ]
  },
  {
   "cell_type": "code",
   "execution_count": 174,
   "metadata": {},
   "outputs": [
    {
     "data": {
      "text/plain": [
       "444"
      ]
     },
     "execution_count": 174,
     "metadata": {},
     "output_type": "execute_result"
    }
   ],
   "source": [
    "munsters = {\n",
    "  \"Herman\" => { \"age\" => 32, \"gender\" => \"male\" },\n",
    "  \"Lily\" => { \"age\" => 30, \"gender\" => \"female\" },\n",
    "  \"Grandpa\" => { \"age\" => 402, \"gender\" => \"male\" },\n",
    "  \"Eddie\" => { \"age\" => 10, \"gender\" => \"male\" },\n",
    "  \"Marilyn\" => { \"age\" => 23, \"gender\" => \"female\"}\n",
    "}\n",
    "\n",
    "men = munsters.each_value.select do |v|\n",
    "  v['gender'] == 'male'\n",
    "end\n",
    "\n",
    "men.sum { |hsh| hsh['age'] }"
   ]
  },
  {
   "cell_type": "code",
   "execution_count": 167,
   "metadata": {},
   "outputs": [
    {
     "data": {
      "text/plain": [
       "444"
      ]
     },
     "execution_count": 167,
     "metadata": {},
     "output_type": "execute_result"
    }
   ],
   "source": [
    "munsters = {\n",
    "  \"Herman\" => { \"age\" => 32, \"gender\" => \"male\" },\n",
    "  \"Lily\" => { \"age\" => 30, \"gender\" => \"female\" },\n",
    "  \"Grandpa\" => { \"age\" => 402, \"gender\" => \"male\" },\n",
    "  \"Eddie\" => { \"age\" => 10, \"gender\" => \"male\" },\n",
    "  \"Marilyn\" => { \"age\" => 23, \"gender\" => \"female\"}\n",
    "}\n",
    "\n",
    "total = 0\n",
    "\n",
    "munsters.each_value do |v|\n",
    "  total += v['age'] if v['gender'] == 'male'\n",
    "end\n",
    "\n",
    "total"
   ]
  },
  {
   "cell_type": "code",
   "execution_count": 172,
   "metadata": {},
   "outputs": [
    {
     "data": {
      "text/plain": [
       "444"
      ]
     },
     "execution_count": 172,
     "metadata": {},
     "output_type": "execute_result"
    }
   ],
   "source": [
    "male_ages = munsters.each_with_object([]) do |(_, v), arr|\n",
    "  arr << v['age'] if v['gender'] == 'male'\n",
    "end\n",
    "\n",
    "male_ages.sum"
   ]
  },
  {
   "cell_type": "markdown",
   "metadata": {},
   "source": [
    "### Practice Problem 6\n",
    "\n",
    "Given this previously seen family hash, print out the name, age and gender of each family member like this:\n",
    "\n",
    "```\n",
    "(Name) is a (age)-year-old (male or female).\n",
    "```"
   ]
  },
  {
   "cell_type": "code",
   "execution_count": 177,
   "metadata": {},
   "outputs": [
    {
     "name": "stdout",
     "output_type": "stream",
     "text": [
      "Herman is a 32-year-old male.\n",
      "Lily is a 30-year-old female.\n",
      "Grandpa is a 402-year-old male.\n",
      "Eddie is a 10-year-old male.\n",
      "Marilyn is a 23-year-old female.\n"
     ]
    },
    {
     "data": {
      "text/plain": [
       "{\"Herman\"=>{\"age\"=>32, \"gender\"=>\"male\"}, \"Lily\"=>{\"age\"=>30, \"gender\"=>\"female\"}, \"Grandpa\"=>{\"age\"=>402, \"gender\"=>\"male\"}, \"Eddie\"=>{\"age\"=>10, \"gender\"=>\"male\"}, \"Marilyn\"=>{\"age\"=>23, \"gender\"=>\"female\"}}"
      ]
     },
     "execution_count": 177,
     "metadata": {},
     "output_type": "execute_result"
    }
   ],
   "source": [
    "munsters = {\n",
    "  \"Herman\" => { \"age\" => 32, \"gender\" => \"male\" },\n",
    "  \"Lily\" => { \"age\" => 30, \"gender\" => \"female\" },\n",
    "  \"Grandpa\" => { \"age\" => 402, \"gender\" => \"male\" },\n",
    "  \"Eddie\" => { \"age\" => 10, \"gender\" => \"male\" },\n",
    "  \"Marilyn\" => { \"age\" => 23, \"gender\" => \"female\"}\n",
    "}\n",
    "\n",
    "munsters.each do |k, v|\n",
    "  age, gender = v.values\n",
    "  puts \"#{k} is a #{age}-year-old #{gender}.\"\n",
    "end"
   ]
  },
  {
   "cell_type": "markdown",
   "metadata": {},
   "source": [
    "### Practice Problem 7\n",
    "\n",
    "Given this code, what would be the final values of a and b? Try to work this out without running the code."
   ]
  },
  {
   "cell_type": "code",
   "execution_count": 178,
   "metadata": {},
   "outputs": [
    {
     "data": {
      "text/plain": [
       "[4, [3, 8]]"
      ]
     },
     "execution_count": 178,
     "metadata": {},
     "output_type": "execute_result"
    }
   ],
   "source": [
    "a = 2\n",
    "b = [5, 8]\n",
    "arr = [a, b] \n",
    "\n",
    "arr[0] += 2 \n",
    "arr[1][0] -= a\n",
    "\n",
    "arr"
   ]
  },
  {
   "cell_type": "markdown",
   "metadata": {},
   "source": [
    "### Practice Problem 8\n",
    "\n",
    "Using the each method, write some code to output all of the vowels from the strings."
   ]
  },
  {
   "cell_type": "code",
   "execution_count": 180,
   "metadata": {},
   "outputs": [
    {
     "name": "stdout",
     "output_type": "stream",
     "text": [
      "e\n",
      "u\n",
      "i\n",
      "o\n",
      "o\n",
      "u\n",
      "e\n",
      "o\n",
      "e\n",
      "e\n",
      "a\n",
      "o\n"
     ]
    },
    {
     "data": {
      "text/plain": [
       "{:first=>[\"the\", \"quick\"], :second=>[\"brown\", \"fox\"], :third=>[\"jumped\"], :fourth=>[\"over\", \"the\", \"lazy\", \"dog\"]}"
      ]
     },
     "execution_count": 180,
     "metadata": {},
     "output_type": "execute_result"
    }
   ],
   "source": [
    "hsh = {first: ['the', 'quick'], second: ['brown', 'fox'], third: ['jumped'], fourth: ['over', 'the', 'lazy', 'dog']}\n",
    "\n",
    "hsh.each do |_, v|\n",
    "  v.each do |string|\n",
    "    string.chars.each do |char|\n",
    "      puts char if 'aeiou'.include?(char)\n",
    "    end\n",
    "  end\n",
    "end\n"
   ]
  },
  {
   "cell_type": "code",
   "execution_count": null,
   "metadata": {},
   "outputs": [],
   "source": [
    "hsh = {first: ['the', 'quick'], second: ['brown', 'fox'], third: ['jumped'], fourth: ['over', 'the', 'lazy', 'dog']}\n",
    "\n",
    "hsh.each_value do |arr|\n",
    "  arr.each do |string|\n",
    "    puts string.chars.select { |char| 'aeiou'.include?(char) }\n",
    "  end\n",
    "end"
   ]
  },
  {
   "cell_type": "markdown",
   "metadata": {},
   "source": [
    "### Practice Problem 9\n",
    "\n",
    "Given this data structure, return a new array of the same structure but with the sub arrays being ordered (alphabetically or numerically as appropriate) in descending order."
   ]
  },
  {
   "cell_type": "code",
   "execution_count": 192,
   "metadata": {},
   "outputs": [
    {
     "data": {
      "text/plain": [
       "[[\"c\", \"b\", \"a\"], [3, 2, 1], [\"green\", \"blue\", \"black\"]]"
      ]
     },
     "execution_count": 192,
     "metadata": {},
     "output_type": "execute_result"
    }
   ],
   "source": [
    "arr = [['b', 'c', 'a'], [2, 1, 3], ['blue', 'black', 'green']]\n",
    "\n",
    "arr.map do |sub_arr|\n",
    "  sub_arr.sort_by do |char|\n",
    "    -char.ord\n",
    "  end\n",
    "end"
   ]
  },
  {
   "cell_type": "code",
   "execution_count": 190,
   "metadata": {},
   "outputs": [
    {
     "data": {
      "text/plain": [
       "[[\"c\", \"b\", \"a\"], [3, 2, 1], [\"green\", \"blue\", \"black\"]]"
      ]
     },
     "execution_count": 190,
     "metadata": {},
     "output_type": "execute_result"
    }
   ],
   "source": [
    "arr = [['b', 'c', 'a'], [2, 1, 3], ['blue', 'black', 'green']]\n",
    "\n",
    "arr.map do |sub_arr|\n",
    "  if sub_arr.all?{ |char| char.is_a?(Integer) }\n",
    "    sub_arr.sort_by { |char| -char }\n",
    "  else\n",
    "    sub_arr.sort_by { |char| -char.ord }d\n",
    "  end\n",
    "end"
   ]
  },
  {
   "cell_type": "code",
   "execution_count": 193,
   "metadata": {},
   "outputs": [
    {
     "data": {
      "text/plain": [
       "[[\"c\", \"b\", \"a\"], [3, 2, 1], [\"green\", \"blue\", \"black\"]]"
      ]
     },
     "execution_count": 193,
     "metadata": {},
     "output_type": "execute_result"
    }
   ],
   "source": [
    "arr = [['b', 'c', 'a'], [2, 1, 3], ['blue', 'black', 'green']]\n",
    "\n",
    "arr.map do |sub_arr|\n",
    "  sub_arr.sort do |a, b|\n",
    "    b <=> a\n",
    "  end\n",
    "end"
   ]
  },
  {
   "cell_type": "markdown",
   "metadata": {},
   "source": [
    "### Practice Problem 10\n",
    "\n",
    "Given the following data structure and without modifying the original array, use the map method to return a new array identical in structure to the original but where the value of each integer is incremented by 1."
   ]
  },
  {
   "cell_type": "code",
   "execution_count": 198,
   "metadata": {},
   "outputs": [
    {
     "data": {
      "text/plain": [
       "[{:a=>2}, {:b=>3, :c=>4}, {:d=>5, :e=>6, :f=>7}]"
      ]
     },
     "execution_count": 198,
     "metadata": {},
     "output_type": "execute_result"
    }
   ],
   "source": [
    "arr = [{a: 1}, {b: 2, c: 3}, {d: 4, e: 5, f: 6}]\n",
    "\n",
    "arr.map do |hash|\n",
    "  hash.each_with_object({}) do |(k, v), hsh|\n",
    "    hsh[k] = v + 1\n",
    "  end\n",
    "end"
   ]
  },
  {
   "cell_type": "code",
   "execution_count": 201,
   "metadata": {},
   "outputs": [
    {
     "data": {
      "text/plain": [
       "[{:a=>2}, {:b=>3, :c=>4}, {:d=>5, :e=>6, :f=>7}]"
      ]
     },
     "execution_count": 201,
     "metadata": {},
     "output_type": "execute_result"
    }
   ],
   "source": [
    "arr = [{a: 1}, {b: 2, c: 3}, {d: 4, e: 5, f: 6}]\n",
    "\n",
    "arr.map do |hash|\n",
    "  temp_hash = {}\n",
    "  hash.each do |k, v|\n",
    "    temp_hash[k] = v + 1\n",
    "  end\n",
    "  temp_hash\n",
    "end"
   ]
  },
  {
   "cell_type": "markdown",
   "metadata": {},
   "source": [
    "### Practice Problem 11\n",
    "\n",
    "Given the following data structure use a combination of methods, including either the select or reject method, to return a new array identical in structure to the original but containing only the integers that are multiples of 3."
   ]
  },
  {
   "cell_type": "code",
   "execution_count": 202,
   "metadata": {},
   "outputs": [
    {
     "data": {
      "text/plain": [
       "[[], [3], [9], [15]]"
      ]
     },
     "execution_count": 202,
     "metadata": {},
     "output_type": "execute_result"
    }
   ],
   "source": [
    "arr = [[2], [3, 5, 7], [9], [11, 13, 15]]\n",
    "\n",
    "arr.map do |sub_arr|\n",
    "  sub_arr.select do |num|\n",
    "    num % 3 == 0\n",
    "  end\n",
    "end"
   ]
  },
  {
   "cell_type": "code",
   "execution_count": 203,
   "metadata": {},
   "outputs": [
    {
     "data": {
      "text/plain": [
       "[[], [3], [9], [15]]"
      ]
     },
     "execution_count": 203,
     "metadata": {},
     "output_type": "execute_result"
    }
   ],
   "source": [
    "arr = [[2], [3, 5, 7], [9], [11, 13, 15]]\n",
    "\n",
    "arr.map do |sub_arr|\n",
    "  sub_arr.reject do |num|\n",
    "    num % 3 != 0 \n",
    "  end\n",
    "end"
   ]
  },
  {
   "cell_type": "markdown",
   "metadata": {},
   "source": [
    "### Practice Problem 12\n",
    "\n",
    "Given the following data structure, and without using the Array#to_h method, write some code that will return a hash where the key is the first item in each sub array and the value is the second item."
   ]
  },
  {
   "cell_type": "code",
   "execution_count": null,
   "metadata": {},
   "outputs": [],
   "source": [
    "arr = [[:a, 1], ['b', 'two'], ['sea', {c: 3}], [{a: 1, b: 2, c: 3, d: 4}, 'D']]\n",
    "\n",
    "arr.each_with_object({}) do |(one, two), hsh|\n",
    "  hsh[one] = two\n",
    "end"
   ]
  },
  {
   "cell_type": "code",
   "execution_count": 211,
   "metadata": {},
   "outputs": [
    {
     "data": {
      "text/plain": [
       "{:a=>1, \"b\"=>\"two\", \"sea\"=>{:c=>3}, {:a=>1, :b=>2, :c=>3, :d=>4}=>\"D\"}"
      ]
     },
     "execution_count": 211,
     "metadata": {},
     "output_type": "execute_result"
    }
   ],
   "source": [
    "arr = [[:a, 1], ['b', 'two'], ['sea', {c: 3}], [{a: 1, b: 2, c: 3, d: 4}, 'D']]\n",
    "\n",
    "arr.each_with_object({}) do |sub_arr, hsh|\n",
    "  hsh[sub_arr[0]] = sub_arr[1]\n",
    "end"
   ]
  },
  {
   "cell_type": "code",
   "execution_count": 214,
   "metadata": {},
   "outputs": [
    {
     "data": {
      "text/plain": [
       "{:a=>1, \"b\"=>\"two\", \"sea\"=>{:c=>3}, {:a=>1, :b=>2, :c=>3, :d=>4}=>\"D\"}"
      ]
     },
     "execution_count": 214,
     "metadata": {},
     "output_type": "execute_result"
    }
   ],
   "source": [
    "arr = [[:a, 1], ['b', 'two'], ['sea', {c: 3}], [{a: 1, b: 2, c: 3, d: 4}, 'D']]\n",
    "new_hash = {}\n",
    "\n",
    "arr.each do |sub_arr|\n",
    "  new_hash[sub_arr[0]] = sub_arr[1]\n",
    "end\n",
    "\n",
    "new_hash"
   ]
  },
  {
   "cell_type": "markdown",
   "metadata": {},
   "source": [
    "### Practice Problem 13\n",
    "\n",
    "Given the following data structure, return a new array containing the same sub-arrays as the original but ordered logically by only taking into consideration the odd numbers they contain.\n",
    "\n",
    "```ruby \n",
    "arr = [[1, 6, 9], [6, 1, 7], [1, 8, 3], [1, 5, 9]]\n",
    "\n",
    "[[1, 8, 3], [1, 5, 9], [6, 1, 7], [1, 6, 9]]\n",
    "```"
   ]
  },
  {
   "cell_type": "code",
   "execution_count": 217,
   "metadata": {},
   "outputs": [
    {
     "data": {
      "text/plain": [
       "[[1, 8, 3], [1, 5, 9], [6, 1, 7], [1, 6, 9]]"
      ]
     },
     "execution_count": 217,
     "metadata": {},
     "output_type": "execute_result"
    }
   ],
   "source": [
    "arr = [[1, 6, 9], [6, 1, 7], [1, 8, 3], [1, 5, 9]]\n",
    "\n",
    "arr.sort_by do |sub_arr|\n",
    "  sub_arr.select do |num|\n",
    "    num.odd?\n",
    "  end\n",
    "end"
   ]
  },
  {
   "cell_type": "code",
   "execution_count": 218,
   "metadata": {},
   "outputs": [
    {
     "data": {
      "text/plain": [
       "[[1, 8, 3], [1, 5, 9], [6, 1, 7], [1, 6, 9]]"
      ]
     },
     "execution_count": 218,
     "metadata": {},
     "output_type": "execute_result"
    }
   ],
   "source": [
    "arr = [[1, 6, 9], [6, 1, 7], [1, 8, 3], [1, 5, 9]]\n",
    "\n",
    "arr.sort_by { |sub_arr| sub_arr.select(&:odd?) }"
   ]
  },
  {
   "cell_type": "markdown",
   "metadata": {},
   "source": [
    "### Practice Problem 14\n",
    "\n",
    "Given this data structure write some code to return an array containing the colors of the fruits and the sizes of the vegetables. \n",
    "\n",
    "The sizes should be uppercase and the colors should be capitalized.\n",
    "\n",
    "```Ruby\n",
    "[[\"Red\", \"Green\"], \"MEDIUM\", [\"Red\", \"Green\"], [\"Orange\"], \"LARGE\"]\n",
    "```"
   ]
  },
  {
   "cell_type": "code",
   "execution_count": 219,
   "metadata": {},
   "outputs": [
    {
     "data": {
      "text/plain": [
       "[[\"Red\", \"Green\"], \"MEDIUM\", [\"Red\", \"Green\"], [\"Orange\"], \"LARGE\"]"
      ]
     },
     "execution_count": 219,
     "metadata": {},
     "output_type": "execute_result"
    }
   ],
   "source": [
    "hsh = {\n",
    "  'grape' => {type: 'fruit', colors: ['red', 'green'], size: 'small'},\n",
    "  'carrot' => {type: 'vegetable', colors: ['orange'], size: 'medium'},\n",
    "  'apple' => {type: 'fruit', colors: ['red', 'green'], size: 'medium'},\n",
    "  'apricot' => {type: 'fruit', colors: ['orange'], size: 'medium'},\n",
    "  'marrow' => {type: 'vegetable', colors: ['green'], size: 'large'},\n",
    "}\n",
    "\n",
    "hsh.map do |k, v|\n",
    "  if v[:type] == 'fruit'\n",
    "    v[:colors].map(&:capitalize)\n",
    "  else\n",
    "    v[:size].upcase\n",
    "  end\n",
    "end"
   ]
  },
  {
   "cell_type": "markdown",
   "metadata": {},
   "source": [
    "### Practice Problem 15\n",
    "\n",
    "Given this data structure write some code to return an array which contains only the hashes where all the integers are even."
   ]
  },
  {
   "cell_type": "code",
   "execution_count": 220,
   "metadata": {},
   "outputs": [
    {
     "data": {
      "text/plain": [
       "[{:e=>[8], :f=>[6, 10]}]"
      ]
     },
     "execution_count": 220,
     "metadata": {},
     "output_type": "execute_result"
    }
   ],
   "source": [
    "arr = [{a: [1, 2, 3]}, {b: [2, 4, 6], c: [3, 6], d: [4]}, {e: [8], f: [6, 10]}]\n",
    "\n",
    "arr.select do |hsh|\n",
    "  hsh.all? do |_, v|\n",
    "    v.all? do |num|\n",
    "      num.even?\n",
    "    end\n",
    "  end\n",
    "end"
   ]
  },
  {
   "cell_type": "code",
   "execution_count": 221,
   "metadata": {},
   "outputs": [
    {
     "data": {
      "text/plain": [
       "[{:e=>[8], :f=>[6, 10]}]"
      ]
     },
     "execution_count": 221,
     "metadata": {},
     "output_type": "execute_result"
    }
   ],
   "source": [
    "arr = [{a: [1, 2, 3]}, {b: [2, 4, 6], c: [3, 6], d: [4]}, {e: [8], f: [6, 10]}]\n",
    "\n",
    "arr.select do |hsh|\n",
    "  hsh.all? do |_, v|\n",
    "    v.all?(&:even?)\n",
    "  end\n",
    "end"
   ]
  }
 ],
 "metadata": {
  "kernelspec": {
   "display_name": "Ruby 2.7.5",
   "language": "ruby",
   "name": "ruby"
  },
  "language_info": {
   "file_extension": ".rb",
   "mimetype": "application/x-ruby",
   "name": "ruby",
   "version": "2.7.5"
  },
  "orig_nbformat": 4,
  "vscode": {
   "interpreter": {
    "hash": "aee8b7b246df8f9039afb4144a1f6fd8d2ca17a180786b69acc140d282b71a49"
   }
  }
 },
 "nbformat": 4,
 "nbformat_minor": 2
}
