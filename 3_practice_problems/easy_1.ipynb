{
 "cells": [
  {
   "cell_type": "markdown",
   "metadata": {},
   "source": [
    "**Question 1<br><br>\n",
    "What would you expect the code below to print out?**"
   ]
  },
  {
   "cell_type": "code",
   "execution_count": 4,
   "metadata": {},
   "outputs": [
    {
     "name": "stdout",
     "output_type": "stream",
     "text": [
      "1\n",
      "2\n",
      "2\n",
      "3\n"
     ]
    }
   ],
   "source": [
    "numbers = [1, 2, 2, 3]\n",
    "numbers.uniq\n",
    "\n",
    "puts numbers  # 1 2 2 3"
   ]
  },
  {
   "cell_type": "markdown",
   "metadata": {},
   "source": [
    "Additional note: had the last line been `p` numbers instead, the output would have been `[1, 2, 2, 3]` because the `p` method automatically calls inspect on its argument, which gives a different formatting on the output. Furthermore, we could have also done `puts numbers.inspect` and the output would have been the same as using the `p` method."
   ]
  },
  {
   "cell_type": "markdown",
   "metadata": {},
   "source": [
    "<b>\n",
    "Question 2\n",
    "Describe the difference between ! and ? in Ruby. And explain what would happen in the following scenarios:<br><br>\n",
    "\n",
    "```\n",
    "what is != and where should you use it?<br>\n",
    "put ! before something, like !user_name<br>\n",
    "put ! after something, like words.uniq!<br>\n",
    "put ? before something<br>\n",
    "put ? after something<br>\n",
    "put !! before something, like !!user_name<br>\n",
    "```\n",
    "</b>"
   ]
  },
  {
   "cell_type": "markdown",
   "metadata": {},
   "source": [
    "<!-- `!` is prepended to some methods in Ruby to make them destructive or so that they mutate their caller.\n",
    "\n",
    "`?` is appended to some methods in Ruby when the return value is a boolean. -->\n",
    "\n",
    "Just to clarify, if you see ! or ? at the end of the method, it's actually part of the method name, and not Ruby syntax. Therefore, you really don't know what the method is doing, even if it ends in those characters -- it depends on the method implementation.\n",
    "\n",
    "`!=` is used when comparing two objects.  It indicates that the two objects are not equal.\n",
    "\n",
    "`!` Putting this before a variable or object will return the oppositive boolean value.\n",
    "\n",
    "`?:` is used before an operand in a ternary expression.\n",
    "\n",
    "`!!` Putting this before a variable or object will return its booolean value."
   ]
  },
  {
   "cell_type": "markdown",
   "metadata": {},
   "source": [
    "<b>Question 3<br><br>\n",
    "Replace the word \"important\" with \"urgent\" in this string:</b>"
   ]
  },
  {
   "cell_type": "code",
   "execution_count": 14,
   "metadata": {},
   "outputs": [
    {
     "name": "stdout",
     "output_type": "stream",
     "text": [
      "Few things in life are as urgent as house training your pet dinosaur."
     ]
    }
   ],
   "source": [
    "advice = \"Few things in life are as important as house training your pet dinosaur.\"\n",
    "advice.gsub!('important', 'urgent')\n",
    "print advice"
   ]
  },
  {
   "cell_type": "markdown",
   "metadata": {},
   "source": [
    "<b>Question 4<br><br>\n",
    "The Ruby Array class has several methods for removing items from the array. Two of them have very similar names. Let's see how they differ:\n",
    "\n",
    "What do the following method calls do (assume we reset numbers to the original array between method calls)?</b>"
   ]
  },
  {
   "cell_type": "code",
   "execution_count": 15,
   "metadata": {},
   "outputs": [
    {
     "name": "stdout",
     "output_type": "stream",
     "text": [
      "[1, 3, 4, 5]"
     ]
    }
   ],
   "source": [
    "numbers = [1, 2, 3, 4, 5]\n",
    "\n",
    "numbers.delete_at(1)  # Deletes the elements at index 1\n",
    "print numbers"
   ]
  },
  {
   "cell_type": "code",
   "execution_count": 18,
   "metadata": {},
   "outputs": [
    {
     "name": "stdout",
     "output_type": "stream",
     "text": [
      "[2, 3, 4, 5]"
     ]
    }
   ],
   "source": [
    "numbers = [1, 2, 3, 4, 5]\n",
    "\n",
    "numbers.delete(1) # Deletes all instances of 1 in the list\n",
    "print numbers"
   ]
  },
  {
   "cell_type": "markdown",
   "metadata": {},
   "source": [
    "<b>Question 5<br><br>\n",
    "\n",
    "Programmatically determine if 42 lies between 10 and 100.</b>"
   ]
  },
  {
   "cell_type": "code",
   "execution_count": 25,
   "metadata": {},
   "outputs": [
    {
     "name": "stdout",
     "output_type": "stream",
     "text": [
      "true\n",
      "true\n",
      "true\n",
      "true\n"
     ]
    }
   ],
   "source": [
    "puts (10..100).include?(42)\n",
    "puts (10..100).member?(42)\n",
    "puts (10..100).cover?(42)\n",
    "puts 42.between?(10, 100)"
   ]
  },
  {
   "cell_type": "markdown",
   "metadata": {},
   "source": [
    "<b>\n",
    "Question 6<br><br>\n",
    "Starting with the string:<br><br>\n",
    "<code>famous_words = \"seven years ago...\"</code><br><br>\n",
    "show two different ways to put the expected \"Four score and \" in front of it.\n",
    "</b>"
   ]
  },
  {
   "cell_type": "code",
   "execution_count": 41,
   "metadata": {},
   "outputs": [
    {
     "name": "stdout",
     "output_type": "stream",
     "text": [
      "Four score and seven years ago..."
     ]
    }
   ],
   "source": [
    "famous_words = \"seven years ago...\"\n",
    "print \"Four score and \" + famous_words"
   ]
  },
  {
   "cell_type": "code",
   "execution_count": 42,
   "metadata": {},
   "outputs": [
    {
     "name": "stdout",
     "output_type": "stream",
     "text": [
      "Four score and seven years ago..."
     ]
    }
   ],
   "source": [
    "famous_words = \"seven years ago...\"\n",
    "print \"Four score and #{famous_words}\""
   ]
  },
  {
   "cell_type": "code",
   "execution_count": 43,
   "metadata": {},
   "outputs": [
    {
     "name": "stdout",
     "output_type": "stream",
     "text": [
      "Four score and seven years ago..."
     ]
    }
   ],
   "source": [
    "famous_words = \"seven years ago...\"\n",
    "print famous_words.split.unshift(\"Four score and\").join(' ')"
   ]
  },
  {
   "cell_type": "code",
   "execution_count": 44,
   "metadata": {},
   "outputs": [
    {
     "name": "stdout",
     "output_type": "stream",
     "text": [
      "Four score and seven years ago..."
     ]
    }
   ],
   "source": [
    "famous_words = \"seven years ago...\"\n",
    "print famous_words.prepend(\"Four score and \")"
   ]
  },
  {
   "cell_type": "markdown",
   "metadata": {},
   "source": [
    "<b>Question 7<br><br>\n",
    "\n",
    "Make this into an un-nested array.\n",
    "</b>\n"
   ]
  },
  {
   "cell_type": "code",
   "execution_count": 46,
   "metadata": {},
   "outputs": [
    {
     "name": "stdout",
     "output_type": "stream",
     "text": [
      "[\"Fred\", \"Wilma\", [\"Barney\", \"Betty\"], [\"BamBam\", \"Pebbles\"]]"
     ]
    }
   ],
   "source": [
    "flintstones = [\"Fred\", \"Wilma\"]\n",
    "flintstones << [\"Barney\", \"Betty\"]\n",
    "flintstones << [\"BamBam\", \"Pebbles\"]\n",
    "print flintstones"
   ]
  },
  {
   "cell_type": "code",
   "execution_count": 47,
   "metadata": {},
   "outputs": [
    {
     "name": "stdout",
     "output_type": "stream",
     "text": [
      "[\"Fred\", \"Wilma\", \"Barney\", \"Betty\", \"BamBam\", \"Pebbles\"]"
     ]
    }
   ],
   "source": [
    "flintstones = [\"Fred\", \"Wilma\", [\"Barney\", \"Betty\"], [\"BamBam\", \"Pebbles\"]]\n",
    "flintstones.flatten!\n",
    "print flintstones"
   ]
  },
  {
   "cell_type": "code",
   "execution_count": 11,
   "metadata": {},
   "outputs": [
    {
     "name": "stdout",
     "output_type": "stream",
     "text": [
      "[\"Fred\", \"Wilma\", \"Barney\", \"Betty\", \"BamBam\", \"Pebbles\"]"
     ]
    }
   ],
   "source": [
    "flintstones = [\"Fred\", \"Wilma\", [\"Barney\", \"Betty\"], [\"BamBam\", \"Pebbles\"]]\n",
    "\n",
    "result = []\n",
    "flintstones.each do |element|\n",
    "  if element.is_a? Array\n",
    "    element.each { |string| result << string }\n",
    "  else\n",
    "    result << element\n",
    "  end\n",
    "end\n",
    "\n",
    "print result"
   ]
  },
  {
   "cell_type": "code",
   "execution_count": 20,
   "metadata": {},
   "outputs": [
    {
     "data": {
      "text/plain": [
       "[\"Fred\", \"Wilma\", \"Barney\", \"BamBam\"]"
      ]
     },
     "execution_count": 20,
     "metadata": {},
     "output_type": "execute_result"
    }
   ],
   "source": [
    "flintstones.map { |elem, string| elem.is_a?(Array) ? elem.map(string) : elem }"
   ]
  },
  {
   "cell_type": "markdown",
   "metadata": {},
   "source": [
    "<b>\n",
    "Question 8<br><br>\n",
    "Given the hash below<br>\n",
    "\n",
    "Turn this into an array containing only two elements: Barney's name and Barney's number</b>"
   ]
  },
  {
   "cell_type": "code",
   "execution_count": 9,
   "metadata": {},
   "outputs": [
    {
     "name": "stdout",
     "output_type": "stream",
     "text": [
      "[\"Barney\", 2]\n",
      "[\"Barney\", 2]\n",
      "[\"Barney\", 2]"
     ]
    }
   ],
   "source": [
    "flintstones = { \"Fred\" => 0, \"Wilma\" => 1, \"Barney\" => 2, \"Betty\" => 3, \"BamBam\" => 4, \"Pebbles\" => 5 }\n",
    "\n",
    "print flintstones.select { |k, _| k == 'Barney' }.to_a.flatten\n",
    "print(\"\\n\")\n",
    "print flintstones.find { |k, _| k == \"Barney\" }\n",
    "print(\"\\n\")\n",
    "print flintstones.assoc(\"Barney\")"
   ]
  },
  {
   "cell_type": "code",
   "execution_count": 10,
   "metadata": {},
   "outputs": [
    {
     "data": {
      "text/plain": [
       "[\"Fred\", \"Wilma\", [\"Barney\", \"Betty\"], [\"BamBam\", \"Pebbles\"]]"
      ]
     },
     "execution_count": 10,
     "metadata": {},
     "output_type": "execute_result"
    }
   ],
   "source": [
    "flintstones = [\"Fred\", \"Wilma\", [\"Barney\", \"Betty\"], [\"BamBam\", \"Pebbles\"]]"
   ]
  },
  {
   "cell_type": "code",
   "execution_count": null,
   "metadata": {},
   "outputs": [],
   "source": []
  }
 ],
 "metadata": {
  "kernelspec": {
   "display_name": "Ruby 2.7.5",
   "language": "ruby",
   "name": "ruby"
  },
  "language_info": {
   "file_extension": ".rb",
   "mimetype": "application/x-ruby",
   "name": "ruby",
   "version": "2.7.5"
  },
  "orig_nbformat": 4
 },
 "nbformat": 4,
 "nbformat_minor": 2
}
