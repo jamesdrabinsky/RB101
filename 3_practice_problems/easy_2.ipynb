{
 "cells": [
  {
   "cell_type": "markdown",
   "metadata": {},
   "source": [
    "<b>\n",
    "Question 1<br><br>\n",
    "In this hash of people and their age<br><br>\n",
    "see if \"Spot\" is present.\n",
    "</b>"
   ]
  },
  {
   "cell_type": "code",
   "execution_count": 9,
   "metadata": {},
   "outputs": [
    {
     "name": "stdout",
     "output_type": "stream",
     "text": [
      "false\n",
      "false\n",
      "false\n",
      "false\n"
     ]
    }
   ],
   "source": [
    "ages = { \"Herman\" => 32, \"Lily\" => 30, \"Grandpa\" => 402, \"Eddie\" => 10 }\n",
    "\n",
    "puts ages.fetch(\"Spot\") { |k| false }\n",
    "puts ages.member?(\"Spot\")\n",
    "puts ages.include?(\"Spot\")\n",
    "puts ages.has_key?(\"Spot\")"
   ]
  },
  {
   "cell_type": "markdown",
   "metadata": {},
   "source": [
    "<b>\n",
    "Question 2<br><br>\n",
    "Starting with this string:<br><br>\n",
    "Convert the string in the following ways (code will be executed on original munsters_description above):\n",
    "</b>\n",
    "\n",
    "```\n",
    "\"tHE mUNSTERS ARE CREEPY IN A GOOD WAY.\"\n",
    "\"The munsters are creepy in a good way.\"\n",
    "\"the munsters are creepy in a good way.\"\n",
    "\"THE MUNSTERS ARE CREEPY IN A GOOD WAY.\"\n",
    "```"
   ]
  },
  {
   "cell_type": "code",
   "execution_count": 10,
   "metadata": {},
   "outputs": [
    {
     "data": {
      "text/plain": [
       "\"The Munsters are creepy in a good way.\""
      ]
     },
     "execution_count": 10,
     "metadata": {},
     "output_type": "execute_result"
    }
   ],
   "source": [
    "munsters_description = \"The Munsters are creepy in a good way.\""
   ]
  },
  {
   "cell_type": "code",
   "execution_count": 64,
   "metadata": {},
   "outputs": [
    {
     "name": "stdout",
     "output_type": "stream",
     "text": [
      "tHE mUNSTERS ARE CREEPY IN A GOOD WAY.\n",
      "The munsters are creepy in a good way.\n",
      "the munsters are creepy in a good way.\n",
      "THE MUNSTERS ARE CREEPY IN A GOOD WAY.\n"
     ]
    }
   ],
   "source": [
    "puts munsters_description.swapcase\n",
    "puts munsters_description.capitalize\n",
    "puts munsters_description.downcase\n",
    "puts munsters_description.upcase"
   ]
  },
  {
   "cell_type": "code",
   "execution_count": 66,
   "metadata": {},
   "outputs": [
    {
     "name": "stdout",
     "output_type": "stream",
     "text": [
      "tHE mUNSTERS ARE CREEPY IN A GOOD WAY.\n",
      "The munsters are creepy in a good way.\n",
      "the munsters are creepy in a good way.\n",
      "THE MUNSTERS ARE CREEPY IN A GOOD WAY.\n"
     ]
    }
   ],
   "source": [
    "puts munsters_description.split.map.with_index { |word, idx| idx > 1 ? word.upcase : word.swapcase }.join(' ')\n",
    "puts munsters_description.split.map.with_index { |word, idx| idx > 0 ? word.downcase : word }.join(' ')\n",
    "puts munsters_description.split.map(&:downcase).join(' ')\n",
    "puts munsters_description.split.map(&:upcase).join(' ')"
   ]
  },
  {
   "cell_type": "markdown",
   "metadata": {},
   "source": [
    "<b>\n",
    "Question 3<br><br>\n",
    "We have most of the Munster family in our age hash:<br><br>\n",
    "add ages for Marilyn and Spot to the existing hash\n",
    "</b>"
   ]
  },
  {
   "cell_type": "code",
   "execution_count": 57,
   "metadata": {},
   "outputs": [
    {
     "name": "stdout",
     "output_type": "stream",
     "text": [
      "{\"Herman\"=>32, \"Lily\"=>30, \"Grandpa\"=>5843, \"Eddie\"=>10, \"Marilyn\"=>22, \"Spot\"=>237}"
     ]
    }
   ],
   "source": [
    "ages = { \"Herman\" => 32, \"Lily\" => 30, \"Grandpa\" => 5843, \"Eddie\" => 10 }\n",
    "additional_ages = { \"Marilyn\" => 22, \"Spot\" => 237 }\n",
    "ages.merge!(additional_ages)\n",
    "print ages\n",
    "\n",
    "# ages.merge(['Marilyn', 'Spot'].zip([22, 37]).to_h)"
   ]
  },
  {
   "cell_type": "markdown",
   "metadata": {},
   "source": [
    "<b>\n",
    "Question 4<br><br>\n",
    "See if the name \"Dino\" appears in the string below:\n",
    "</b>"
   ]
  },
  {
   "cell_type": "code",
   "execution_count": 67,
   "metadata": {},
   "outputs": [
    {
     "name": "stdout",
     "output_type": "stream",
     "text": [
      "false\n",
      "false\n"
     ]
    }
   ],
   "source": [
    "advice = \"Few things in life are as important as house training your pet dinosaur.\"\n",
    "puts advice.include?(\"Dino\")\n",
    "puts advice.match?(\"Dino\")"
   ]
  },
  {
   "cell_type": "markdown",
   "metadata": {},
   "source": [
    "<b>\n",
    "Question 5<br><br>\n",
    "Show an easier way to write this array:\n",
    "</b>"
   ]
  },
  {
   "cell_type": "code",
   "execution_count": 68,
   "metadata": {},
   "outputs": [
    {
     "data": {
      "text/plain": [
       "[\"Fred\", \"Barney\", \"Wilma\", \"Betty\", \"BamBam\", \"Pebbles\"]"
      ]
     },
     "execution_count": 68,
     "metadata": {},
     "output_type": "execute_result"
    }
   ],
   "source": [
    "flintstones = [\"Fred\", \"Barney\", \"Wilma\", \"Betty\", \"BamBam\", \"Pebbles\"]"
   ]
  },
  {
   "cell_type": "code",
   "execution_count": 69,
   "metadata": {},
   "outputs": [
    {
     "data": {
      "text/plain": [
       "[\"Fred\", \"Barney\", \"Wilma\", \"Betty\", \"BamBam\", \"Pebbles\"]"
      ]
     },
     "execution_count": 69,
     "metadata": {},
     "output_type": "execute_result"
    }
   ],
   "source": [
    "flinstones = %w(Fred Barney Wilma Betty BamBam Pebbles)"
   ]
  },
  {
   "cell_type": "markdown",
   "metadata": {},
   "source": [
    "<b>\n",
    "Question 6<br><br>\n",
    "How can we add the family pet \"Dino\" to our usual array:\n",
    "</b>\n"
   ]
  },
  {
   "cell_type": "code",
   "execution_count": 77,
   "metadata": {},
   "outputs": [
    {
     "name": "stdout",
     "output_type": "stream",
     "text": [
      "[\"Fred\", \"Barney\", \"Wilma\", \"Betty\", \"BamBam\", \"Pebbles\", \"Dino\"]"
     ]
    }
   ],
   "source": [
    "flintstones = %w(Fred Barney Wilma Betty BamBam Pebbles)\n",
    "flintstones.push(\"Dino\")\n",
    "# flintsones << \"Dino\"\n",
    "print flintstones"
   ]
  },
  {
   "cell_type": "markdown",
   "metadata": {},
   "source": [
    "<b>\n",
    "Question 7<br><br>\n",
    "How can we add multiple items to our array? (Dino and Hoppy)\n",
    "</b>"
   ]
  },
  {
   "cell_type": "code",
   "execution_count": 82,
   "metadata": {},
   "outputs": [
    {
     "data": {
      "text/plain": [
       "[\"Fred\", \"Barney\", \"Wilma\", \"Betty\", \"BamBam\", \"Pebbles\", \"Dino\", \"Hoppy\"]"
      ]
     },
     "execution_count": 82,
     "metadata": {},
     "output_type": "execute_result"
    }
   ],
   "source": [
    "flintstones = %w(Fred Barney Wilma Betty BamBam Pebbles)\n",
    "# flintstones.push('Dino', 'Hoppy')\n",
    "flintstones.push(\"Dino\").push(\"Hoppy\")   # push returns the array so we can chain"
   ]
  },
  {
   "cell_type": "markdown",
   "metadata": {},
   "source": [
    "<b>\n",
    "Question 8<br><br>\n",
    "Shorten the following sentence:\n",
    "\n",
    "Review the String#slice! documentation, and use that method to make the return value \"Few things in life are as important as \". But leave the advice variable as \"house training your pet dinosaur.\".\n",
    "\n",
    "As a bonus, what happens if you use the String#slice method instead?\n",
    "<b>"
   ]
  },
  {
   "cell_type": "code",
   "execution_count": 97,
   "metadata": {},
   "outputs": [
    {
     "data": {
      "text/plain": [
       "\"Few things in life are as important as \""
      ]
     },
     "execution_count": 97,
     "metadata": {},
     "output_type": "execute_result"
    }
   ],
   "source": [
    "advice = \"Few things in life are as important as house training your pet dinosaur.\"\n",
    "# print advice.slice!(..38)\n",
    "advice.slice!(...advice.index('house'))"
   ]
  },
  {
   "cell_type": "code",
   "execution_count": 94,
   "metadata": {},
   "outputs": [
    {
     "name": "stdout",
     "output_type": "stream",
     "text": [
      "house training your pet dinosaur."
     ]
    }
   ],
   "source": [
    "print advice"
   ]
  },
  {
   "cell_type": "markdown",
   "metadata": {},
   "source": [
    "Bonus: Using `slice`, the non-destructive version of `slice!`, would return a new string with the same text (\"Few things in life are as important as \") but the `advice` variable would remain the same, pointing to the original string (\"Few things in life are as important as house training your pet dinosaur.\")."
   ]
  },
  {
   "cell_type": "markdown",
   "metadata": {},
   "source": [
    "<b>\n",
    "Question 9<br><br>\n",
    "Write a one-liner to count the number of lower-case 't' characters in the following string:\n",
    "</b>"
   ]
  },
  {
   "cell_type": "code",
   "execution_count": 102,
   "metadata": {},
   "outputs": [
    {
     "name": "stdout",
     "output_type": "stream",
     "text": [
      "2\n",
      "2\n"
     ]
    }
   ],
   "source": [
    "statement = \"The Flintstones Rock!\"\n",
    "\n",
    "puts statement.count('t')\n",
    "puts statement.chars.select { |char| char == 't' }.size"
   ]
  },
  {
   "cell_type": "markdown",
   "metadata": {},
   "source": [
    "<b>\n",
    "Question 10<br><br>\n",
    "Back in the stone age (before CSS) we used spaces to align things on the screen.<br>\n",
    "If we had a table of Flintstone family members that was forty characters in width, how could we easily center that title above the table with spaces?\n",
    "</b>"
   ]
  },
  {
   "cell_type": "code",
   "execution_count": 106,
   "metadata": {},
   "outputs": [
    {
     "data": {
      "text/plain": [
       "\"       Flintstone Family Members        \""
      ]
     },
     "execution_count": 106,
     "metadata": {},
     "output_type": "execute_result"
    }
   ],
   "source": [
    "title = \"Flintstone Family Members\"\n",
    "title.center 40"
   ]
  },
  {
   "cell_type": "code",
   "execution_count": null,
   "metadata": {},
   "outputs": [],
   "source": []
  }
 ],
 "metadata": {
  "kernelspec": {
   "display_name": "Ruby 2.7.5",
   "language": "ruby",
   "name": "ruby"
  },
  "language_info": {
   "file_extension": ".rb",
   "mimetype": "application/x-ruby",
   "name": "ruby",
   "version": "2.7.5"
  },
  "orig_nbformat": 4,
  "vscode": {
   "interpreter": {
    "hash": "aee8b7b246df8f9039afb4144a1f6fd8d2ca17a180786b69acc140d282b71a49"
   }
  }
 },
 "nbformat": 4,
 "nbformat_minor": 2
}
