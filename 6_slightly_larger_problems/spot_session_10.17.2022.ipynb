{
 "cells": [
  {
   "cell_type": "markdown",
   "metadata": {},
   "source": [
    "Given a string, multiply each letter by the most recent preceding number in the string. Return a new string containing only the letters, multiplied by their preceding number.\n",
    "\n",
    "```ruby\n",
    "p mult_string('3abc') == 'aaabbbccc'\n",
    "p mult_string('123abc') == 'aaabbbccc'\n",
    "p mult_string('2g4ab13t0gh') == 'ggaaaabbbbttt'\n",
    "p mult_string('1a5b20hi3cw') == 'abbbbbcccwww'\n",
    "```"
   ]
  },
  {
   "cell_type": "markdown",
   "metadata": {},
   "source": []
  },
  {
   "cell_type": "markdown",
   "metadata": {},
   "source": [
    "What does the following code return? What does it output? Why? What concept does it demonstrate?\n",
    "\n",
    "```ruby\n",
    "a = 4\n",
    "\n",
    "loop do  \n",
    "  a = 5  \n",
    "  b = 3\n",
    "\n",
    "  break\n",
    "end\n",
    "\n",
    "puts a\n",
    "puts b\n",
    "```"
   ]
  },
  {
   "cell_type": "code",
   "execution_count": 7,
   "metadata": {},
   "outputs": [
    {
     "name": "stdout",
     "output_type": "stream",
     "text": [
      "5\n"
     ]
    },
    {
     "ename": "NameError",
     "evalue": "undefined local variable or method `b' for #<Object:0x00007fda22124360>",
     "output_type": "error",
     "traceback": [
      "\u001b[31mNameError\u001b[0m: undefined local variable or method `b' for #<Object:0x00007fda22124360>",
      "(irb):10:in `irb_binding'"
     ]
    }
   ],
   "source": [
    "a = 4\n",
    "\n",
    "loop do\n",
    "  a = 5 # Local variable is re-assigned to the integer 5\n",
    "  b = 3\n",
    "\n",
    "  break\n",
    "end\n",
    "\n",
    "puts a\n",
    "puts b"
   ]
  },
  {
   "cell_type": "markdown",
   "metadata": {},
   "source": [
    "Variables initialized outside the scope of a block are accessible within a block\n",
    "\n",
    "Variables initialized inside a block are not accessible in the outer scope."
   ]
  },
  {
   "cell_type": "markdown",
   "metadata": {},
   "source": [
    "What does the following code return? What does it output? Why? What concept does it demonstrate?\n",
    "\n",
    "```ruby\n",
    "arr = [1, 2, 3, 4, 5, 6, 7, 8, 9, 10]\n",
    "new_array = arr.select do |n|\n",
    "  n + 1\n",
    "  puts n\n",
    "end\n",
    "\n",
    "p new_array\n",
    "```"
   ]
  },
  {
   "cell_type": "markdown",
   "metadata": {},
   "source": [
    "Initializing local variable `arr` **to** this object\n",
    "\n",
    "Initalize new_array to the return of the `select` method\n",
    "\n",
    "We invoke `select` on the `arr` object that is referenced by `arr`\n",
    "\n",
    "We invoke `puts` and pass in `n` "
   ]
  },
  {
   "cell_type": "markdown",
   "metadata": {},
   "source": [
    "\n",
    "What is output, what's the return of the each_with_object()\n",
    "\n",
    "```ruby\n",
    "{ a: \"ant\", b: \"bear\", c: \"cat\" }.each_with_object({}) do |(key, value), hash|\n",
    "   hash[value] = key\n",
    "end\n",
    "```"
   ]
  },
  {
   "cell_type": "code",
   "execution_count": 8,
   "metadata": {},
   "outputs": [
    {
     "data": {
      "text/plain": [
       "{\"ant\"=>:a, \"bear\"=>:b, \"cat\"=>:c}"
      ]
     },
     "execution_count": 8,
     "metadata": {},
     "output_type": "execute_result"
    }
   ],
   "source": [
    "{ a: \"ant\", b: \"bear\", c: \"cat\" }.each_with_object({}) do |(key, value), hash|\n",
    "  hash[value] = key\n",
    "end"
   ]
  },
  {
   "cell_type": "markdown",
   "metadata": {},
   "source": [
    "string referenced by value\n",
    "\n",
    "symbol referenced by key"
   ]
  },
  {
   "cell_type": "code",
   "execution_count": 71,
   "metadata": {},
   "outputs": [
    {
     "data": {
      "text/plain": [
       ":solve"
      ]
     },
     "execution_count": 71,
     "metadata": {},
     "output_type": "execute_result"
    }
   ],
   "source": [
    "def solve(s)\n",
    "  arr = []  \n",
    "  (0...s.size).each do |idx|\n",
    "    (idx...s.size).each do |idx2|\n",
    "      current_str = s[idx..idx2].to_i\n",
    "      arr << current_str if current_str.odd?\n",
    "    end\n",
    "  end\n",
    "  arr\n",
    "end"
   ]
  },
  {
   "cell_type": "code",
   "execution_count": 69,
   "metadata": {},
   "outputs": [
    {
     "data": {
      "text/plain": [
       "[1, 13, 1341, 3, 341, 41, 1]"
      ]
     },
     "execution_count": 69,
     "metadata": {},
     "output_type": "execute_result"
    }
   ],
   "source": [
    "solve(\"1341\") \n"
   ]
  },
  {
   "cell_type": "code",
   "execution_count": 75,
   "metadata": {},
   "outputs": [
    {
     "data": {
      "text/plain": [
       "\"1341\""
      ]
     },
     "execution_count": 75,
     "metadata": {},
     "output_type": "execute_result"
    }
   ],
   "source": [
    "\"1341\"[0, 4]"
   ]
  },
  {
   "cell_type": "code",
   "execution_count": 76,
   "metadata": {},
   "outputs": [
    {
     "data": {
      "text/plain": [
       "\"1341\""
      ]
     },
     "execution_count": 76,
     "metadata": {},
     "output_type": "execute_result"
    }
   ],
   "source": [
    "s"
   ]
  },
  {
   "cell_type": "code",
   "execution_count": 72,
   "metadata": {},
   "outputs": [
    {
     "data": {
      "text/plain": [
       "[[0, 1, 3], [1, 3], [3], [3]]"
      ]
     },
     "execution_count": 72,
     "metadata": {},
     "output_type": "execute_result"
    }
   ],
   "source": [
    "\n",
    "nested_list = (0...s.size).map do |idx|\n",
    "  (idx...s.size).select do |idx2|\n",
    "    s[idx..idx2].to_i.odd?\n",
    "  end\n",
    "end\n",
    "\n",
    "nested_list"
   ]
  },
  {
   "cell_type": "code",
   "execution_count": 29,
   "metadata": {},
   "outputs": [
    {
     "data": {
      "text/plain": [
       "134"
      ]
     },
     "execution_count": 29,
     "metadata": {},
     "output_type": "execute_result"
    }
   ],
   "source": [
    "s[0..2].to_i"
   ]
  },
  {
   "cell_type": "code",
   "execution_count": 25,
   "metadata": {},
   "outputs": [
    {
     "name": "stdout",
     "output_type": "stream",
     "text": [
      "true\n",
      "true\n",
      "true\n",
      "true\n",
      "true\n",
      "true\n"
     ]
    },
    {
     "data": {
      "text/plain": [
       "true"
      ]
     },
     "execution_count": 25,
     "metadata": {},
     "output_type": "execute_result"
    }
   ],
   "source": [
    "p solve(\"1341\") == 7\n",
    "p solve(\"1357\") == 10\n",
    "p solve(\"13471\") == 12\n",
    "p solve(\"134721\") == 13\n",
    "p solve(\"1347231\") == 20\n",
    "p solve(\"13472315\") == 28"
   ]
  },
  {
   "cell_type": "code",
   "execution_count": null,
   "metadata": {},
   "outputs": [],
   "source": []
  }
 ],
 "metadata": {
  "kernelspec": {
   "display_name": "Ruby 2.7.5",
   "language": "ruby",
   "name": "ruby"
  },
  "language_info": {
   "file_extension": ".rb",
   "mimetype": "application/x-ruby",
   "name": "ruby",
   "version": "2.7.5"
  },
  "orig_nbformat": 4,
  "vscode": {
   "interpreter": {
    "hash": "aee8b7b246df8f9039afb4144a1f6fd8d2ca17a180786b69acc140d282b71a49"
   }
  }
 },
 "nbformat": 4,
 "nbformat_minor": 2
}
