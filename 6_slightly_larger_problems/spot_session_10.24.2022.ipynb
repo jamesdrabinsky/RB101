{
 "cells": [
  {
   "cell_type": "markdown",
   "metadata": {},
   "source": [
    "AGENDA - WRITTEN ASSESSMENT\n",
    "\n",
    "- introduction\n",
    "- assessment format:\n",
    "  - 3-hour time limit\n",
    "  - 20-23 questions (ish) (9-10 minutes per question)\n",
    "  - text box you write your answers in\n",
    "  - save your answers\n",
    "  - using Markdown\n",
    "- tips and tricks:\n",
    "  - manage your time\n",
    "  - brevity and clarity in all things, but don't leave out key details, precise terminology, or fundamental concepts\n",
    "     - The local variable that references ...\n",
    "     - Method call instead of method ...\n",
    "- questions?\n",
    "- practice code snippets\n",
    "- work with others\n",
    "- Dry run with a practice test"
   ]
  },
  {
   "cell_type": "code",
   "execution_count": 1,
   "metadata": {},
   "outputs": [
    {
     "name": "stdout",
     "output_type": "stream",
     "text": [
      "Hi Sarah.\n"
     ]
    }
   ],
   "source": [
    "name = 'Sarah'\n",
    "  \n",
    "if name\n",
    "  puts \"Hi #{name}.\"\n",
    "else\n",
    "  puts \"Nobody's there.\"\n",
    "end\n",
    "\n",
    "# What will be output and why?"
   ]
  },
  {
   "cell_type": "markdown",
   "metadata": {},
   "source": [
    "- Anything that is not `false` or `nil` evaluates to `true` in ruby.  "
   ]
  },
  {
   "cell_type": "code",
   "execution_count": 2,
   "metadata": {},
   "outputs": [
    {
     "ename": "NameError",
     "evalue": "undefined local variable or method `color' for #<Object:0x00007fa8361adb60>",
     "output_type": "error",
     "traceback": [
      "\u001b[31mNameError\u001b[0m: undefined local variable or method `color' for #<Object:0x00007fa8361adb60>",
      "(irb):8:in `irb_binding'"
     ]
    }
   ],
   "source": [
    "fruit = 'apple'\n",
    "\n",
    "loop do\n",
    "  fruit = 'cherry'\n",
    "  color = 'red'\n",
    "  break\n",
    "end\n",
    "\n",
    "puts \"I'd like a #{color} #{fruit} please.\"\n",
    "\n",
    "# Explain the following code, and identify the output. What underlying concepts does this demonstrate?"
   ]
  },
  {
   "cell_type": "markdown",
   "metadata": {},
   "source": [
    "- `loop` method is invoked and we are passing a `do..end` block\n",
    "- `color` was initialized within the loop block's scope and it is being used outside the scope so it will throw an error.\n",
    "- Variable initialized in the inner scope is not accessible in the outer scope."
   ]
  },
  {
   "cell_type": "code",
   "execution_count": 3,
   "metadata": {},
   "outputs": [
    {
     "name": "stdout",
     "output_type": "stream",
     "text": [
      "Hello!\n"
     ]
    }
   ],
   "source": [
    "def say_hi\n",
    "  puts 'Hello!'\n",
    "end\n",
    "  \n",
    "greeting = say_hi\n",
    "word = ''\n",
    "  \n",
    "if greeting\n",
    "  word = 'Something'\n",
    "elsif greeting == false\n",
    "  word = 'Something else'\n",
    "else\n",
    "  word = greeting\n",
    "end\n",
    "  \n",
    "p \"Wow\" if word"
   ]
  },
  {
   "cell_type": "markdown",
   "metadata": {},
   "source": [
    "- Initialized local variable pointing to / referencing ...\n",
    "- `greeting` points to the return value of the `say_hi` invocation\n",
    "- Line 5 outputs `Hello!` because the `say_hi` method outputs `Hello!` "
   ]
  },
  {
   "cell_type": "code",
   "execution_count": null,
   "metadata": {},
   "outputs": [],
   "source": [
    "letters = ['a', 'b', 'c', 'd', 'e']\n",
    "\n",
    "capitals = letters.select do |letter|\n",
    "  letter.upcase\n",
    "end\n",
    "\n",
    "puts capitals\n",
    "\n",
    "# Explain the following code, and identify the output. What underlying concepts does this demonstrate?"
   ]
  },
  {
   "cell_type": "markdown",
   "metadata": {},
   "source": [
    "- local variable letters is initialized to an array\n",
    "- local variable capitals is initialized to the return value of the select method which is called on letters\n",
    "- The select method will look at the truthiness of the block's return value.\n",
    "- The return value of String#upcase will evaluate as true\n",
    "- `select` will return the a new array with all the elements\n",
    "- **the elements in both arrays reference the same object**\n",
    "- **the arrays themselves are different with different object id**"
   ]
  },
  {
   "cell_type": "markdown",
   "metadata": {},
   "source": [
    "- Integers are immutable"
   ]
  },
  {
   "cell_type": "code",
   "execution_count": 5,
   "metadata": {},
   "outputs": [
    {
     "name": "stdout",
     "output_type": "stream",
     "text": [
      "49260\n",
      "hello\n",
      "49260\n"
     ]
    }
   ],
   "source": [
    "def a_method(string)\n",
    "  string = string + 'world'\n",
    "end\n",
    "\n",
    "a = 'hello'\n",
    "puts a.object_id\n",
    "a_method(a)\n",
    "puts a \n",
    "puts a.object_id"
   ]
  },
  {
   "cell_type": "markdown",
   "metadata": {},
   "source": [
    "- Define method `a_method` \n",
    "- Pass in local variable (object) referenced by `a` into method\n",
    "- Both `a` and `string` are pointing to the same object \n",
    "- Local variable `a` is passed into `a_method`    \n",
    "- Parameter string is re-assigned to `string + 'world'`<br><br>\n",
    "- This is an example of `pass by value`\n",
    "- Re-assignment is non-mutating\n",
    "- Ruby is a `pass by reference value` language<br><br>\n",
    "- If the method mutates the object, Ruby acts like it `pass by reference`\n",
    "- If the method is non-mutating or the object is immutable (integers) it is `pass by value`"
   ]
  },
  {
   "cell_type": "markdown",
   "metadata": {},
   "source": []
  }
 ],
 "metadata": {
  "kernelspec": {
   "display_name": "Ruby 2.7.5",
   "language": "ruby",
   "name": "ruby"
  },
  "language_info": {
   "file_extension": ".rb",
   "mimetype": "application/x-ruby",
   "name": "ruby",
   "version": "2.7.5"
  },
  "orig_nbformat": 4
 },
 "nbformat": 4,
 "nbformat_minor": 2
}
