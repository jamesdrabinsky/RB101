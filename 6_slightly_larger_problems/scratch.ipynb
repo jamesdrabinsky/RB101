{
 "cells": [
  {
   "cell_type": "code",
   "execution_count": 1,
   "metadata": {},
   "outputs": [
    {
     "data": {
      "text/plain": [
       "[[1, 2, 3], [4, 5, 6], [7, 8, 9], [1, 4, 7], [2, 5, 8], [3, 6, 9], [1, 5, 9], [3, 5, 7]]"
      ]
     },
     "execution_count": 1,
     "metadata": {},
     "output_type": "execute_result"
    }
   ],
   "source": [
    "INITIAL_MARKER =  ' '\n",
    "PLAYER_MARKER = 'X'\n",
    "COMPUTER_MARKER = 'O'\n",
    "\n",
    "WINNING_LINES = [\n",
    "  [1, 2, 3], [4, 5, 6], [7, 8, 9],  # rows\n",
    "  [1, 4, 7], [2, 5, 8], [3, 6, 9],  # columns\n",
    "  [1, 5, 9], [3, 5, 7]              # diagonals\n",
    "]"
   ]
  },
  {
   "cell_type": "code",
   "execution_count": 2,
   "metadata": {},
   "outputs": [
    {
     "data": {
      "text/plain": [
       "{1=>\" \", 2=>\" \", 3=>\" \", 4=>\" \", 5=>\" \", 6=>\" \", 7=>\" \", 8=>\" \", 9=>\" \"}"
      ]
     },
     "execution_count": 2,
     "metadata": {},
     "output_type": "execute_result"
    }
   ],
   "source": [
    "board = (1..9).zip([INITIAL_MARKER] * 9).to_h"
   ]
  },
  {
   "cell_type": "code",
   "execution_count": 10,
   "metadata": {},
   "outputs": [
    {
     "data": {
      "text/plain": [
       "{1=>\"X\", 2=>\" \", 3=>\"X\", 4=>\" \", 5=>\" \", 6=>\" \", 7=>\" \", 8=>\" \", 9=>\" \"}"
      ]
     },
     "execution_count": 10,
     "metadata": {},
     "output_type": "execute_result"
    }
   ],
   "source": [
    "[1, 3].each do |key|\n",
    "  board[key] = PLAYER_MARKER\n",
    "end\n",
    "board"
   ]
  },
  {
   "cell_type": "code",
   "execution_count": 16,
   "metadata": {},
   "outputs": [
    {
     "data": {
      "text/plain": [
       "{2=>\" \"}"
      ]
     },
     "execution_count": 16,
     "metadata": {},
     "output_type": "execute_result"
    }
   ],
   "source": [
    "# def find_at_risk_square(line, board)\n",
    "#   if board.values_at(*line).count('X') == 2\n",
    "#     board.select{|k,v| line.include?(k) && v == ' '}.keys.first\n",
    "#   else\n",
    "#     nil\n",
    "#   end\n",
    "# end\n",
    "\n",
    "line = [1, 2, 3]\n",
    "\n",
    "board.select{ |k, v| line.include?(k) && v == ' ' }\n"
   ]
  },
  {
   "cell_type": "code",
   "execution_count": 7,
   "metadata": {},
   "outputs": [
    {
     "data": {
      "text/plain": [
       ":find_computer_square"
      ]
     },
     "execution_count": 7,
     "metadata": {},
     "output_type": "execute_result"
    }
   ],
   "source": [
    "def find_computer_square(brd, attack = true)\n",
    "  marker = attack ? COMPUTER_MARKER : PLAYER_MARKER\n",
    "  line = WINNING_LINES.find do |line|\n",
    "    line_values = brd.values_at(*line)\n",
    "    line_values.count(marker) == 2 && \n",
    "    line_values.count(INITIAL_MARKER) == 1\n",
    "  end\n",
    "  line.find { |num| brd[num] == INITIAL_MARKER } if line\n",
    "end"
   ]
  },
  {
   "cell_type": "code",
   "execution_count": 9,
   "metadata": {},
   "outputs": [
    {
     "data": {
      "text/plain": [
       "2"
      ]
     },
     "execution_count": 9,
     "metadata": {},
     "output_type": "execute_result"
    }
   ],
   "source": [
    "find_computer_square(board)"
   ]
  },
  {
   "cell_type": "markdown",
   "metadata": {},
   "source": [
    "A pangram is a sentence that contains every single letter of the alphabet at least once. For example, the sentence \"The quick brown fox jumps over the lazy dog\" is a pangram, because it uses the letters A-Z at least once (case is irrelevant).\n",
    "\n",
    "Given a string, detect whether or not it is a pangram. Return True if it is, False if not. Ignore numbers and punctuation.\n",
    "\n",
    "Problem\n",
    "Return true if every letter of thr alphabet is present in a given string."
   ]
  },
  {
   "cell_type": "code",
   "execution_count": 45,
   "metadata": {},
   "outputs": [
    {
     "data": {
      "text/plain": [
       "true"
      ]
     },
     "execution_count": 45,
     "metadata": {},
     "output_type": "execute_result"
    }
   ],
   "source": [
    "s = \"The quick brown fox jumps over the lazy dog.\"\n",
    "\n",
    "alphabet_hash = ('a'..'z').each_with_object({}) { |letter, hsh|  hsh[letter] = 1 } \n",
    "s_array = s.downcase.gsub(/[^a-z]/, '').chars\n",
    "s_array.each { |char| alphabet_hash[char] -= 1 }\n",
    "alphabet_hash.values.all? { |v| v < 1 }\n",
    "\n",
    "# ('a'..'z').zip([1]*26).to_h\n"
   ]
  },
  {
   "cell_type": "code",
   "execution_count": 9,
   "metadata": {},
   "outputs": [
    {
     "data": {
      "text/plain": [
       "{\"a\"=>1, \"b\"=>1, \"c\"=>1, \"d\"=>1, \"e\"=>1, \"f\"=>1, \"g\"=>1, \"h\"=>1, \"i\"=>1, \"j\"=>1, \"k\"=>1, \"l\"=>1, \"m\"=>1, \"n\"=>1, \"o\"=>1, \"p\"=>1, \"q\"=>1, \"r\"=>1, \"s\"=>1, \"t\"=>1, \"u\"=>1, \"v\"=>1, \"w\"=>1, \"x\"=>1, \"y\"=>1, \"z\"=>1}"
      ]
     },
     "execution_count": 9,
     "metadata": {},
     "output_type": "execute_result"
    }
   ],
   "source": [
    "# ('a'..'z').zip([1]*26).to_h\n",
    "alphabet_hash = ('a'..'z').each_with_object({}) { |letter, hsh|  hsh[letter] = 1 } "
   ]
  },
  {
   "cell_type": "code",
   "execution_count": 10,
   "metadata": {},
   "outputs": [
    {
     "ename": "NoMethodError",
     "evalue": "undefined method `-' for nil:NilClass",
     "output_type": "error",
     "traceback": [
      "\u001b[31mNoMethodError\u001b[0m: undefined method `-' for nil:NilClass",
      "(irb):in `block in irb_binding'",
      "(irb):in `each'",
      "(irb):in `irb_binding'"
     ]
    }
   ],
   "source": [
    "modified_string = s.chars.split.join\n",
    "# .map(&:downcase).each { |char| alphabet_hash[char] -= 1 }\n",
    "# alphabet_hash.values.all? "
   ]
  },
  {
   "cell_type": "code",
   "execution_count": 7,
   "metadata": {},
   "outputs": [
    {
     "data": {
      "text/plain": [
       "[1, 0]"
      ]
     },
     "execution_count": 7,
     "metadata": {},
     "output_type": "execute_result"
    }
   ],
   "source": [
    "# possible_new_states = [\n",
    "#   state - take for take in (1, 2, 3) if take <= state\n",
    "# ]\n",
    "\n",
    "state = 2\n",
    "\n",
    "(1..3).select { |take| take <= state }.map { |take| state - take }"
   ]
  },
  {
   "cell_type": "code",
   "execution_count": 54,
   "metadata": {},
   "outputs": [
    {
     "data": {
      "text/plain": [
       "[1, 7, 13, 19, 25]"
      ]
     },
     "execution_count": 54,
     "metadata": {},
     "output_type": "execute_result"
    }
   ],
   "source": [
    "[*1..size].each_slice(num + 1).map { |arr| arr[0] }"
   ]
  },
  {
   "cell_type": "markdown",
   "metadata": {},
   "source": [
    "#### Size of Board"
   ]
  },
  {
   "cell_type": "code",
   "execution_count": 87,
   "metadata": {},
   "outputs": [
    {
     "data": {
      "text/plain": [
       "[[[1, 2, 3, 4, 5, 6, 7, 8, 9], [10, 11, 12, 13, 14, 15, 16, 17, 18], [19, 20, 21, 22, 23, 24, 25, 26, 27], [28, 29, 30, 31, 32, 33, 34, 35, 36], [37, 38, 39, 40, 41, 42, 43, 44, 45], [46, 47, 48, 49, 50, 51, 52, 53, 54], [55, 56, 57, 58, 59, 60, 61, 62, 63], [64, 65, 66, 67, 68, 69, 70, 71, 72], [73, 74, 75, 76, 77, 78, 79, 80, 81]], [[1, 10, 19, 28, 37, 46, 55, 64, 73], [2, 11, 20, 29, 38, 47, 56, 65, 74], [3, 12, 21, 30, 39, 48, 57, 66, 75], [4, 13, 22, 31, 40, 49, 58, 67, 76], [5, 14, 23, 32, 41, 50, 59, 68, 77], [6, 15, 24, 33, 42, 51, 60, 69, 78], [7, 16, 25, 34, 43, 52, 61, 70, 79], [8, 17, 26, 35, 44, 53, 62, 71, 80], [9, 18, 27, 36, 45, 54, 63, 72, 81]], [[1, 11, 21, 31, 41, 51, 61, 71, 81], [9, 17, 25, 33, 41, 49, 57, 65, 73]]]"
      ]
     },
     "execution_count": 87,
     "metadata": {},
     "output_type": "execute_result"
    }
   ],
   "source": [
    "num = 5\n",
    "size = num ** 2\n",
    "\n",
    "def winning_lines_list(dimension)\n",
    "  size = dimension ** 2\n",
    "  rows = [*(1..size).each_slice(dimension)]\n",
    "  cols = rows.transpose\n",
    "  diagonals = [rows, rows.map(&:reverse)].map do |arr|\n",
    "    arr.map.with_index { |arr, idx| arr[idx] }\n",
    "  end\n",
    "  [rows, cols, diagonals]\n",
    "end"
   ]
  },
  {
   "cell_type": "code",
   "execution_count": null,
   "metadata": {},
   "outputs": [],
   "source": [
    "# [*1..size].each_slice(num + 1).map { |arr| arr[0] }\n",
    "\n",
    "# rows.map.with_index { |arr, idx| arr[-(idx + 1)] }\n",
    "\n",
    "# diagonal_1 = rows.map.with_index { |arr, idx| arr[idx] }\n",
    "# diagonal_2 = rows.map(&:reverse).map.with_index { |arr, idx| arr[idx] }\n",
    "# diagonals = [diagonal_1, diagonal_2]"
   ]
  },
  {
   "cell_type": "code",
   "execution_count": 63,
   "metadata": {},
   "outputs": [
    {
     "data": {
      "text/plain": [
       "[[1, 2, 3, 4, 5], [6, 7, 8, 9, 10], [11, 12, 13, 14, 15], [16, 17, 18, 19, 20], [21, 22, 23, 24, 25]]"
      ]
     },
     "execution_count": 63,
     "metadata": {},
     "output_type": "execute_result"
    }
   ],
   "source": [
    "# [*1..25].each_slice(5).each_with_object([]) do |slice, arr|\n",
    "#   arr << slice\n",
    "# end\n",
    "\n",
    "# [*(1..size).step(5)].each_with_object([]) do |start, arr|\n",
    "#   arr << [start..]\n",
    "# end\n",
    "\n",
    "# num = 5\n",
    "# size = num ** 2\n",
    "\n",
    "# [*(0..size).step(5)].each_with_object([]) do |start, arr|\n",
    "#   arr << [*(start + 1..start + num)] if start + 1 <= size\n",
    "# end"
   ]
  },
  {
   "cell_type": "code",
   "execution_count": 90,
   "metadata": {},
   "outputs": [
    {
     "data": {
      "text/plain": [
       "{1=>\"X\", 2=>\"X\", 3=>\"X\", 4=>\"X\", 5=>\"X\", 6=>\"X\", 7=>\"X\", 8=>\"X\", 9=>\"X\"}"
      ]
     },
     "execution_count": 90,
     "metadata": {},
     "output_type": "execute_result"
    }
   ],
   "source": [
    "brd = (1..9).zip(['X'] * 9).to_h"
   ]
  },
  {
   "cell_type": "code",
   "execution_count": 132,
   "metadata": {},
   "outputs": [
    {
     "ename": "ArgumentError",
     "evalue": "wrong number of arguments (given 1, expected 0)",
     "output_type": "error",
     "traceback": [
      "\u001b[31mArgumentError\u001b[0m: wrong number of arguments (given 1, expected 0)",
      "(irb):11:in `strip'",
      "(irb):11:in `irb_binding'"
     ]
    }
   ],
   "source": [
    "square = <<-eos\n",
    "      |  \n",
    "   #{brd[1]}  |\n",
    "      |     \n",
    "------+\n",
    "eos\n",
    "\n",
    "row = <<-eos\n",
    "#{square * 3} \n",
    "eos\n",
    "\n",
    "print row.strip('\\n')\n"
   ]
  },
  {
   "cell_type": "code",
   "execution_count": 134,
   "metadata": {},
   "outputs": [
    {
     "data": {
      "text/plain": [
       "{1=>\"\", 2=>\"\", 3=>\"\", 4=>\"\", 5=>\"\", 6=>\"\", 7=>\"\", 8=>\"\", 9=>\"\"}"
      ]
     },
     "execution_count": 134,
     "metadata": {},
     "output_type": "execute_result"
    }
   ],
   "source": [
    "(1..9).zip([''] * 9).to_h"
   ]
  },
  {
   "cell_type": "code",
   "execution_count": 136,
   "metadata": {},
   "outputs": [
    {
     "data": {
      "text/plain": [
       "{1=>1, 2=>2, 3=>3, 4=>4, 5=>5, 6=>6, 7=>7, 8=>8, 9=>9}"
      ]
     },
     "execution_count": 136,
     "metadata": {},
     "output_type": "execute_result"
    }
   ],
   "source": [
    "brd = (1..9).each_with_object({}) do |num, hash|\n",
    "  hash[num] = num\n",
    "end"
   ]
  },
  {
   "cell_type": "code",
   "execution_count": 148,
   "metadata": {},
   "outputs": [
    {
     "data": {
      "text/plain": [
       "[1, 2, 3, 4, 5, 6, 7, 8, 9]"
      ]
     },
     "execution_count": 148,
     "metadata": {},
     "output_type": "execute_result"
    }
   ],
   "source": [
    "brd.values.reject { |v| v.is_a?(String) }"
   ]
  },
  {
   "cell_type": "code",
   "execution_count": 143,
   "metadata": {},
   "outputs": [
    {
     "data": {
      "text/plain": [
       "true"
      ]
     },
     "execution_count": 143,
     "metadata": {},
     "output_type": "execute_result"
    }
   ],
   "source": [
    "'99'.match?(/\\d+/)"
   ]
  },
  {
   "cell_type": "code",
   "execution_count": 155,
   "metadata": {},
   "outputs": [
    {
     "data": {
      "text/plain": [
       ":valid_name?"
      ]
     },
     "execution_count": 155,
     "metadata": {},
     "output_type": "execute_result"
    }
   ],
   "source": [
    "def valid_name?(name)\n",
    "  !name.strip.empty?\n",
    "end"
   ]
  },
  {
   "cell_type": "code",
   "execution_count": 156,
   "metadata": {},
   "outputs": [
    {
     "data": {
      "text/plain": [
       "false"
      ]
     },
     "execution_count": 156,
     "metadata": {},
     "output_type": "execute_result"
    }
   ],
   "source": [
    "valid_name?(\" \")"
   ]
  },
  {
   "cell_type": "code",
   "execution_count": 162,
   "metadata": {},
   "outputs": [
    {
     "data": {
      "text/plain": [
       "false"
      ]
     },
     "execution_count": 162,
     "metadata": {},
     "output_type": "execute_result"
    }
   ],
   "source": [
    "''.match?(/[A-Za-z]/)"
   ]
  },
  {
   "cell_type": "markdown",
   "metadata": {},
   "source": [
    "______"
   ]
  },
  {
   "cell_type": "code",
   "execution_count": 21,
   "metadata": {},
   "outputs": [
    {
     "data": {
      "text/plain": [
       "{1=>4, 2=>4, 3=>4, 4=>4, 5=>4, 6=>4, 7=>4, 8=>4, 9=>4, 10=>16, :\"?\"=>4}"
      ]
     },
     "execution_count": 21,
     "metadata": {},
     "output_type": "execute_result"
    }
   ],
   "source": [
    "cards = (1..10).map { |num| num < 10 ? [num, 4] : [num, 16] }.to_h.merge({ '?': 4 })"
   ]
  },
  {
   "cell_type": "code",
   "execution_count": 7,
   "metadata": {},
   "outputs": [
    {
     "data": {
      "text/plain": [
       "[[\"H\", \"2\"], [\"H\", \"3\"], [\"H\", \"4\"], [\"H\", \"5\"], [\"H\", \"6\"], [\"H\", \"7\"], [\"H\", \"8\"], [\"H\", \"9\"], [\"H\", \"10\"], [\"H\", \"J\"], [\"H\", \"Q\"], [\"H\", \"K\"], [\"H\", \"A\"], [\"D\", \"2\"], [\"D\", \"3\"], [\"D\", \"4\"], [\"D\", \"5\"], [\"D\", \"6\"], [\"D\", \"7\"], [\"D\", \"8\"], [\"D\", \"9\"], [\"D\", \"10\"], [\"D\", \"J\"], [\"D\", \"Q\"], [\"D\", \"K\"], [\"D\", \"A\"], [\"C\", \"2\"], [\"C\", \"3\"], [\"C\", \"4\"], [\"C\", \"5\"], [\"C\", \"6\"], [\"C\", \"7\"], [\"C\", \"8\"], [\"C\", \"9\"], [\"C\", \"10\"], [\"C\", \"J\"], [\"C\", \"Q\"], [\"C\", \"K\"], [\"C\", \"A\"], [\"S\", \"2\"], [\"S\", \"3\"], [\"S\", \"4\"], [\"S\", \"5\"], [\"S\", \"6\"], [\"S\", \"7\"], [\"S\", \"8\"], [\"S\", \"9\"], [\"S\", \"10\"], [\"S\", \"J\"], [\"S\", \"Q\"], [\"S\", \"K\"], [\"S\", \"A\"]]"
      ]
     },
     "execution_count": 7,
     "metadata": {},
     "output_type": "execute_result"
    }
   ],
   "source": [
    "suits = ['H', 'D', 'C', 'S']\n",
    "values = (2..10).map(&:to_s) + ['J', 'Q', 'K', 'A']\n",
    "cards = suits.each_with_object([]) do |s, arr|\n",
    "  values.map { |v| arr.append([s, v]) }\n",
    "end\n",
    "\n",
    "cards"
   ]
  },
  {
   "cell_type": "code",
   "execution_count": 141,
   "metadata": {},
   "outputs": [
    {
     "data": {
      "text/plain": [
       "[[[\"H\", \"2\"], [\"H\", \"3\"]], [[\"H\", \"4\"], [\"H\", \"5\"]]]"
      ]
     },
     "execution_count": 141,
     "metadata": {},
     "output_type": "execute_result"
    }
   ],
   "source": [
    "player, dealer = [*cards.shift(4).each_slice(2)]"
   ]
  },
  {
   "cell_type": "code",
   "execution_count": 129,
   "metadata": {},
   "outputs": [
    {
     "data": {
      "text/plain": [
       "[[[\"S\", \"J\"], [\"C\", \"3\"]], [[\"D\", \"Q\"], [\"D\", \"7\"]]]"
      ]
     },
     "execution_count": 129,
     "metadata": {},
     "output_type": "execute_result"
    }
   ],
   "source": [
    "player, dealer = [*cards.shuffle[..3].each_slice(2)]"
   ]
  },
  {
   "cell_type": "code",
   "execution_count": 127,
   "metadata": {},
   "outputs": [
    {
     "data": {
      "text/plain": [
       "[\"D\", \"J\"]"
      ]
     },
     "execution_count": 127,
     "metadata": {},
     "output_type": "execute_result"
    }
   ],
   "source": [
    "cards.shuffle[..3].slice(2)"
   ]
  },
  {
   "cell_type": "code",
   "execution_count": 138,
   "metadata": {},
   "outputs": [
    {
     "data": {
      "text/plain": [
       "[1, 2, 3, 4]"
      ]
     },
     "execution_count": 138,
     "metadata": {},
     "output_type": "execute_result"
    }
   ],
   "source": [
    "[1, 2, 3, 4].shift(4)"
   ]
  },
  {
   "cell_type": "code",
   "execution_count": 94,
   "metadata": {},
   "outputs": [
    {
     "data": {
      "text/plain": [
       "{\"1\"=>1, \"2\"=>2, \"3\"=>3, \"4\"=>4, \"5\"=>5, \"6\"=>6, \"7\"=>7, \"8\"=>8, \"9\"=>9, \"10\"=>10, \"J\"=>10, \"Q\"=>10, \"K\"=>10}"
      ]
     },
     "execution_count": 94,
     "metadata": {},
     "output_type": "execute_result"
    }
   ],
   "source": [
    "def card_values\n",
    "  number_cards = (1..10).map { |num| [num.to_s, num] }\n",
    "  face_cards = ['J', 'Q', 'K'].map { |face| [face, 10] }\n",
    "  (number_cards + face_cards).to_h\n",
    "end\n",
    "\n",
    "card_hash = card_values"
   ]
  },
  {
   "cell_type": "code",
   "execution_count": 58,
   "metadata": {},
   "outputs": [
    {
     "data": {
      "text/plain": [
       "[[\"S\", \"A\"], [\"D\", \"10\"], [\"C\", \"9\"]]"
      ]
     },
     "execution_count": 58,
     "metadata": {},
     "output_type": "execute_result"
    }
   ],
   "source": [
    "selected_cards = cards.sample(3)"
   ]
  },
  {
   "cell_type": "code",
   "execution_count": 97,
   "metadata": {},
   "outputs": [
    {
     "data": {
      "text/plain": [
       "19"
      ]
     },
     "execution_count": 97,
     "metadata": {},
     "output_type": "execute_result"
    }
   ],
   "source": [
    "non_aces_sum = selected_cards.reduce(0) do |total, card|\n",
    "  total += card_hash.fetch(card.last) { 0 }\n",
    "end\n",
    "\n"
   ]
  },
  {
   "cell_type": "code",
   "execution_count": 98,
   "metadata": {},
   "outputs": [
    {
     "data": {
      "text/plain": [
       "19"
      ]
     },
     "execution_count": 98,
     "metadata": {},
     "output_type": "execute_result"
    }
   ],
   "source": [
    "selected_cards.sum { |card| card_hash.fetch(card[1], 0) }"
   ]
  },
  {
   "cell_type": "code",
   "execution_count": 100,
   "metadata": {},
   "outputs": [
    {
     "data": {
      "text/plain": [
       "[[\"S\", \"A\"], [\"D\", \"10\"], [\"C\", \"9\"], [\"C\", \"A\"]]"
      ]
     },
     "execution_count": 100,
     "metadata": {},
     "output_type": "execute_result"
    }
   ],
   "source": [
    "hand = [[\"S\", \"A\"], [\"D\", \"10\"], [\"C\", \"9\"], [\"C\", \"A\"]]"
   ]
  },
  {
   "cell_type": "code",
   "execution_count": 101,
   "metadata": {},
   "outputs": [
    {
     "data": {
      "text/plain": [
       "2"
      ]
     },
     "execution_count": 101,
     "metadata": {},
     "output_type": "execute_result"
    }
   ],
   "source": [
    "hand.count { |sub_arr| sub_arr[1] == 'A' }"
   ]
  },
  {
   "cell_type": "code",
   "execution_count": 102,
   "metadata": {},
   "outputs": [
    {
     "data": {
      "text/plain": [
       "1"
      ]
     },
     "execution_count": 102,
     "metadata": {},
     "output_type": "execute_result"
    }
   ],
   "source": [
    "1.ord"
   ]
  },
  {
   "cell_type": "code",
   "execution_count": 107,
   "metadata": {},
   "outputs": [
    {
     "data": {
      "text/plain": [
       "50"
      ]
     },
     "execution_count": 107,
     "metadata": {},
     "output_type": "execute_result"
    }
   ],
   "source": [
    "'222'.ord"
   ]
  },
  {
   "cell_type": "code",
   "execution_count": 109,
   "metadata": {},
   "outputs": [
    {
     "data": {
      "text/plain": [
       "74"
      ]
     },
     "execution_count": 109,
     "metadata": {},
     "output_type": "execute_result"
    }
   ],
   "source": [
    "'J'.ord"
   ]
  },
  {
   "cell_type": "code",
   "execution_count": 144,
   "metadata": {},
   "outputs": [
    {
     "data": {
      "text/plain": [
       ":busted?"
      ]
     },
     "execution_count": 144,
     "metadata": {},
     "output_type": "execute_result"
    }
   ],
   "source": [
    "def busted?(hand_sum)\n",
    "  hand_sum > 21\n",
    "end"
   ]
  },
  {
   "cell_type": "code",
   "execution_count": 148,
   "metadata": {},
   "outputs": [
    {
     "data": {
      "text/plain": [
       "[[\"H\", \"3\"], [\"S\", \"4\"], [\"H\", \"J\"]]"
      ]
     },
     "execution_count": 148,
     "metadata": {},
     "output_type": "execute_result"
    }
   ],
   "source": [
    "[['H', '3'], ['S', '4']] << ['H', 'J']"
   ]
  },
  {
   "cell_type": "code",
   "execution_count": 146,
   "metadata": {},
   "outputs": [
    {
     "name": "stdout",
     "output_type": "stream",
     "text": [
      "Your call total equal 21.  You win!\n"
     ]
    },
    {
     "data": {
      "text/plain": [
       "1"
      ]
     },
     "execution_count": 146,
     "metadata": {},
     "output_type": "execute_result"
    }
   ],
   "source": [
    "def hand_result(hand_total)\n",
    "  res = case\n",
    "        when busted?(hand_total)\n",
    "          puts 'Your card total exceeds 21!'\n",
    "          -1\n",
    "        when hand_total == 21 \n",
    "          puts 'Your call total equal 21.  You win!'\n",
    "          1\n",
    "        else \n",
    "          puts 'You chose to stay'\n",
    "          0\n",
    "        end\n",
    "end\n",
    "\n",
    "v = hand_result(21)"
   ]
  },
  {
   "cell_type": "code",
   "execution_count": 5,
   "metadata": {},
   "outputs": [
    {
     "data": {
      "text/plain": [
       "17"
      ]
     },
     "execution_count": 5,
     "metadata": {},
     "output_type": "execute_result"
    }
   ],
   "source": [
    "[1, 3].count.times.reduce(6) do |(total, _), _|\n",
    "  total < (21 - 10) ? total += 10 : total += 1\n",
    "end"
   ]
  },
  {
   "cell_type": "code",
   "execution_count": null,
   "metadata": {},
   "outputs": [],
   "source": []
  },
  {
   "cell_type": "code",
   "execution_count": 8,
   "metadata": {},
   "outputs": [
    {
     "data": {
      "text/plain": [
       "4"
      ]
     },
     "execution_count": 8,
     "metadata": {},
     "output_type": "execute_result"
    }
   ],
   "source": [
    "cards.count { |c| c[1] == 'A' }"
   ]
  },
  {
   "cell_type": "code",
   "execution_count": 9,
   "metadata": {},
   "outputs": [
    {
     "name": "stdout",
     "output_type": "stream",
     "text": [
      "Yeah\n",
      "Yeah\n",
      "Yeah\n",
      "Yeah\n"
     ]
    },
    {
     "data": {
      "text/plain": [
       "4"
      ]
     },
     "execution_count": 9,
     "metadata": {},
     "output_type": "execute_result"
    }
   ],
   "source": [
    "cards.count { |card| card[1] == 'A' }.times do\n",
    "  puts \"Yeah\"\n",
    "end"
   ]
  },
  {
   "cell_type": "code",
   "execution_count": 11,
   "metadata": {},
   "outputs": [
    {
     "data": {
      "text/plain": [
       "false"
      ]
     },
     "execution_count": 11,
     "metadata": {},
     "output_type": "execute_result"
    }
   ],
   "source": [
    "!!nil"
   ]
  },
  {
   "cell_type": "code",
   "execution_count": 15,
   "metadata": {},
   "outputs": [
    {
     "name": "stdout",
     "output_type": "stream",
     "text": [
      "You chose to stay\n"
     ]
    }
   ],
   "source": [
    "def hand_result_msg(result)\n",
    "  puts case result\n",
    "       when -1  then 'Your card total exceeds 21!  Busted!'\n",
    "       when 1 then 'Your card total is 21.  You win!'\n",
    "       else 'You chose to stay'\n",
    "       end\n",
    "end\n",
    "\n",
    "hand_result_msg(nil)"
   ]
  },
  {
   "cell_type": "code",
   "execution_count": 16,
   "metadata": {},
   "outputs": [
    {
     "data": {
      "text/plain": [
       "20"
      ]
     },
     "execution_count": 16,
     "metadata": {},
     "output_type": "execute_result"
    }
   ],
   "source": [
    "[17, 20].max"
   ]
  },
  {
   "cell_type": "code",
   "execution_count": 17,
   "metadata": {},
   "outputs": [
    {
     "data": {
      "text/plain": [
       "\"Player\""
      ]
     },
     "execution_count": 17,
     "metadata": {},
     "output_type": "execute_result"
    }
   ],
   "source": [
    "def player_dealer\n",
    "  \n",
    "end"
   ]
  },
  {
   "cell_type": "code",
   "execution_count": 28,
   "metadata": {},
   "outputs": [
    {
     "data": {
      "text/plain": [
       "\"dealer\""
      ]
     },
     "execution_count": 28,
     "metadata": {},
     "output_type": "execute_result"
    }
   ],
   "source": [
    "player = 'player'\n",
    "dealer = 'dealer'"
   ]
  },
  {
   "cell_type": "code",
   "execution_count": 29,
   "metadata": {},
   "outputs": [
    {
     "ename": "SyntaxError",
     "evalue": "(irb): syntax error, unexpected '='\nplayer ~= dealer\n        ^\n",
     "output_type": "error",
     "traceback": [
      "\u001b[31mSyntaxError\u001b[0m: (irb): syntax error, unexpected '='\nplayer ~= dealer\n        ^\n"
     ]
    }
   ],
   "source": [
    "player ~= dealer"
   ]
  },
  {
   "cell_type": "code",
   "execution_count": 32,
   "metadata": {},
   "outputs": [
    {
     "name": "stdout",
     "output_type": "stream",
     "text": [
      "3 4"
     ]
    }
   ],
   "source": [
    "print([3, 4].join(' '))"
   ]
  },
  {
   "cell_type": "code",
   "execution_count": 33,
   "metadata": {},
   "outputs": [
    {
     "data": {
      "text/plain": [
       "{\"1\"=>1, \"2\"=>2, \"3\"=>3, \"4\"=>4, \"5\"=>5, \"6\"=>6, \"7\"=>7, \"8\"=>8, \"9\"=>9, \"10\"=>10, \"J\"=>10, \"Q\"=>10, \"K\"=>10}"
      ]
     },
     "execution_count": 33,
     "metadata": {},
     "output_type": "execute_result"
    }
   ],
   "source": [
    "def card_hash\n",
    "  number_cards = (1..10).map { |num| [num.to_s, num] }\n",
    "  face_cards = ['J', 'Q', 'K'].map { |face| [face, 10] }\n",
    "  (number_cards + face_cards).to_h\n",
    "end\n",
    "\n",
    "card_hash"
   ]
  },
  {
   "cell_type": "code",
   "execution_count": 1,
   "metadata": {},
   "outputs": [
    {
     "data": {
      "text/plain": [
       "[[\"H\", \"2\"], [\"S\", \"A\"], [\"C\", \"Q\"], [\"S\", \"1\"]]"
      ]
     },
     "execution_count": 1,
     "metadata": {},
     "output_type": "execute_result"
    }
   ],
   "source": [
    "SUITS = { H: 'Hearts', D: 'Diamonds', C: 'Clubs', S: 'Spades' }\n",
    "FACES = { J: 'Jack', Q: 'Queen', K: 'King', A: 'Ace' }\n",
    "\n",
    "cards = [[\"H\", \"2\"], [\"S\", \"A\"], [\"C\", \"Q\"], [\"S\", \"1\"]]\n",
    "\n",
    "# cards.each_with_object([]) do |card, arr|\n",
    "#   arr << \"#{FACES.fetch(card[1].to_sym, card[1])} of #{SUITS[card[0].to_sym]}\" \n",
    "# end"
   ]
  },
  {
   "cell_type": "code",
   "execution_count": 11,
   "metadata": {},
   "outputs": [
    {
     "name": "stdout",
     "output_type": "stream",
     "text": [
      "2 of Hearts\n",
      "and\n",
      "Ace of Spades"
     ]
    }
   ],
   "source": [
    "full_names = cards.map do |suit, value|\n",
    "  \"#{FACES.fetch(value.to_sym, value)} of #{SUITS[suit.to_sym]}\"\n",
    "end\n",
    "\n",
    "full_names.join(\"\\nand\\n\")"
   ]
  },
  {
   "cell_type": "code",
   "execution_count": 8,
   "metadata": {},
   "outputs": [
    {
     "data": {
      "text/plain": [
       ":full_suit_and_value"
      ]
     },
     "execution_count": 8,
     "metadata": {},
     "output_type": "execute_result"
    }
   ],
   "source": [
    "def full_suit_and_value(card)\n",
    "  card.map do |suit, value|\n",
    "    \"#{FACES.fetch(value.to_sym, value)} of #{SUITS[suit.to_sym]}\"\n",
    "  end\n",
    "end"
   ]
  },
  {
   "cell_type": "code",
   "execution_count": 49,
   "metadata": {},
   "outputs": [
    {
     "data": {
      "text/plain": [
       "[[\"H\", \"2\"], [\"S\", \"A\"], [\"C\", \"Q\"], [\"S\", \"1\"]]"
      ]
     },
     "execution_count": 49,
     "metadata": {},
     "output_type": "execute_result"
    }
   ],
   "source": [
    "# cards.map do |card|\n",
    "#   card.map(&:full_suit_and_value)\n",
    "# end\n",
    "\n",
    "cards"
   ]
  },
  {
   "cell_type": "code",
   "execution_count": 52,
   "metadata": {},
   "outputs": [
    {
     "data": {
      "text/plain": [
       ":full_suit_and_value"
      ]
     },
     "execution_count": 52,
     "metadata": {},
     "output_type": "execute_result"
    }
   ],
   "source": [
    "def full_suit_and_value(suit, value)\n",
    "  \"#{FACES.fetch(value.to_sym, card[1])} of #{SUITS[suit.to_sym]}\"\n",
    "end"
   ]
  },
  {
   "cell_type": "code",
   "execution_count": 53,
   "metadata": {},
   "outputs": [
    {
     "ename": "NoMethodError",
     "evalue": "undefined method `full_suit_and_value' for [\"H\", \"2\"]:Array",
     "output_type": "error",
     "traceback": [
      "\u001b[31mNoMethodError\u001b[0m: undefined method `full_suit_and_value' for [\"H\", \"2\"]:Array",
      "(irb):4:in `map'",
      "(irb):4:in `irb_binding'"
     ]
    }
   ],
   "source": [
    "# cards.map do |suit, value|\n",
    "#   \"#{FACES.fetch(value.to_sym, value)} of #{SUITS[suit.to_sym]}\"\n",
    "# end\n",
    "\n",
    "cards.map(&:full_suit_and_value)"
   ]
  },
  {
   "cell_type": "code",
   "execution_count": 17,
   "metadata": {},
   "outputs": [
    {
     "data": {
      "text/plain": [
       "[\"2 of Hearts\"]"
      ]
     },
     "execution_count": 17,
     "metadata": {},
     "output_type": "execute_result"
    }
   ],
   "source": [
    "# SUITS = { H: 'Hearts', D: 'Diamonds', C: 'Clubs', S: 'Spades' }\n",
    "# FACES = { J: 'Jack', Q: 'Queen', K: 'King', A: 'Ace' }\n",
    "\n",
    "[[\"H\", \"2\"]].map do |suit, value|\n",
    "  \"#{FACES.fetch(value.to_sym, value)} of #{SUITS[suit.to_sym]}\"\n",
    "end"
   ]
  },
  {
   "cell_type": "code",
   "execution_count": 33,
   "metadata": {},
   "outputs": [
    {
     "data": {
      "text/plain": [
       "\"2 of Hearts\""
      ]
     },
     "execution_count": 33,
     "metadata": {},
     "output_type": "execute_result"
    }
   ],
   "source": [
    "def full_suit_and_value(card)\n",
    "  \"#{FACES.fetch(card[1].to_sym, card[1])} of #{SUITS[card[0].to_sym]}\"\n",
    "end\n",
    "\n",
    "full_suit_and_value(['H', '2'])"
   ]
  },
  {
   "cell_type": "code",
   "execution_count": 39,
   "metadata": {},
   "outputs": [
    {
     "data": {
      "text/plain": [
       "[\"H\", \"S\", \"C\", \"S\"]"
      ]
     },
     "execution_count": 39,
     "metadata": {},
     "output_type": "execute_result"
    }
   ],
   "source": [
    "cards.map(&:first)"
   ]
  },
  {
   "cell_type": "code",
   "execution_count": 47,
   "metadata": {},
   "outputs": [
    {
     "data": {
      "text/plain": [
       ":msg_after_dealing"
      ]
     },
     "execution_count": 47,
     "metadata": {},
     "output_type": "execute_result"
    }
   ],
   "source": [
    "def msg_after_dealing(cards)\n",
    "  full_card_names = cards.map do |card|\n",
    "    full_suit_and_value(card)\n",
    "  end\n",
    "  puts \"Player hand: #{full_card_names[0..1].join(' and ')}\"\n",
    "  puts \"Dealer hand: #{full_card_names[2]} and ?\"\n",
    "end"
   ]
  },
  {
   "cell_type": "code",
   "execution_count": 48,
   "metadata": {},
   "outputs": [
    {
     "name": "stdout",
     "output_type": "stream",
     "text": [
      "Player hand: 2 of Hearts and Ace of Spades\n",
      "Dealer hand: Queen of Clubs and ?\n"
     ]
    }
   ],
   "source": [
    "msg_after_dealing(cards)"
   ]
  },
  {
   "cell_type": "code",
   "execution_count": 64,
   "metadata": {},
   "outputs": [
    {
     "data": {
      "text/plain": [
       ":full_suit_and_value"
      ]
     },
     "execution_count": 64,
     "metadata": {},
     "output_type": "execute_result"
    }
   ],
   "source": [
    "def full_suit_and_value(card)\n",
    "  \"#{FACES.fetch(card[1].to_sym, card[1])} of #{SUITS[card[0].to_sym]}\"\n",
    "end"
   ]
  },
  {
   "cell_type": "code",
   "execution_count": 66,
   "metadata": {},
   "outputs": [
    {
     "data": {
      "text/plain": [
       "[[\"2 of Hearts\", \"Ace of Spades\"]]"
      ]
     },
     "execution_count": 66,
     "metadata": {},
     "output_type": "execute_result"
    }
   ],
   "source": [
    "\n",
    "hand1 = [[\"H\", \"2\"], [\"S\", \"A\"]]\n",
    "hand2 = [[\"C\", \"Q\"], [\"S\", \"1\"]]\n",
    "\n",
    "hands = [hand1, ]\n",
    "\n",
    "hands.map do |hand|\n",
    "  hand.map do |card|\n",
    "    full_suit_and_value(card)\n",
    "  end\n",
    "end"
   ]
  },
  {
   "cell_type": "code",
   "execution_count": 57,
   "metadata": {},
   "outputs": [
    {
     "ename": "ArgumentError",
     "evalue": "wrong number of arguments (given 1, expected 2)",
     "output_type": "error",
     "traceback": [
      "\u001b[31mArgumentError\u001b[0m: wrong number of arguments (given 1, expected 2)",
      "(irb):in `full_suit_and_value'",
      "(irb):7:in `block (2 levels) in irb_binding'",
      "(irb):6:in `map'",
      "(irb):6:in `block in irb_binding'",
      "(irb):5:in `map'",
      "(irb):5:in `irb_binding'"
     ]
    }
   ],
   "source": [
    "cards\n",
    "\n",
    "hand1 = [[\"H\", \"2\"], [\"S\", \"A\"]]\n",
    "hand2 = [[\"C\", \"Q\"], [\"S\", \"1\"]]\n",
    "\n",
    "(hand1 + hand2).map do |hand|\n",
    "  hand.map do |card|\n",
    "    full_suit_and_value(card)\n",
    "  end\n",
    "end"
   ]
  },
  {
   "cell_type": "code",
   "execution_count": 95,
   "metadata": {},
   "outputs": [
    {
     "data": {
      "text/plain": [
       ":display_hand"
      ]
     },
     "execution_count": 95,
     "metadata": {},
     "output_type": "execute_result"
    }
   ],
   "source": [
    "def display_hand(turn = 'player', start = false, *hands)\n",
    "  player = turn == 'player' ? 'Player' : 'Dealer'\n",
    "  full_card_names = hands.map do |hand|\n",
    "    hand.map do |card|\n",
    "      full_suit_and_value(card)\n",
    "    end\n",
    "  end\n",
    "  if start\n",
    "    puts \"Player's hand is:\\n\\t#{full_card_names[0].join(\"\\n\\t\")}\\n\\n\"\n",
    "    puts \"Dealer's hand is:\\n\\t#{full_card_names[1][0]}\\n\\t?\\n\\n\"\n",
    "  else\n",
    "    puts \"#{player}'s hand is:\\n\\t#{full_card_names.join(\"\\n\\t\")}\\n\\n\"\n",
    "  end\n",
    "end"
   ]
  },
  {
   "cell_type": "code",
   "execution_count": 100,
   "metadata": {},
   "outputs": [
    {
     "name": "stdout",
     "output_type": "stream",
     "text": [
      "Player's hand is:\n",
      "\t2 of Hearts\n",
      "\tAce of Spades\n",
      "\n"
     ]
    }
   ],
   "source": [
    "hand1 = [[\"H\", \"2\"], [\"S\", \"A\"]]\n",
    "hand2 = [[\"C\", \"Q\"], [\"S\", \"1\"]]\n",
    "\n",
    "display_hand('player', false, hand1)\n"
   ]
  },
  {
   "cell_type": "code",
   "execution_count": 103,
   "metadata": {},
   "outputs": [
    {
     "data": {
      "text/plain": [
       "[[\"C\", \"Q\"], [\"S\", \"1\"]]"
      ]
     },
     "execution_count": 103,
     "metadata": {},
     "output_type": "execute_result"
    }
   ],
   "source": [
    "hand1 = [[\"H\", \"2\"], [\"S\", \"A\"]]\n",
    "hand2 = [[\"C\", \"Q\"], [\"S\", \"1\"]]"
   ]
  },
  {
   "cell_type": "code",
   "execution_count": 138,
   "metadata": {},
   "outputs": [
    {
     "data": {
      "text/plain": [
       ":full_suits_and_values"
      ]
     },
     "execution_count": 138,
     "metadata": {},
     "output_type": "execute_result"
    }
   ],
   "source": [
    "# def full_suits_and_values(*hands)\n",
    "#   hands.map do |hand|\n",
    "#     hand.map do |suit, value|\n",
    "#       \"#{FACES.fetch(value.to_sym, value)} of #{SUITS[suit.to_sym]}\"\n",
    "#     end\n",
    "#   end\n",
    "# end\n",
    "\n",
    "def full_suits_and_values(hand)\n",
    "  hand.map do |suit, value|\n",
    "    \"#{FACES.fetch(value.to_sym, value)} of #{SUITS[suit.to_sym]}\"\n",
    "  end\n",
    "end\n",
    "\n",
    "# new_cards = full_suits_and_values(hand1, hand2)"
   ]
  },
  {
   "cell_type": "code",
   "execution_count": 139,
   "metadata": {},
   "outputs": [
    {
     "data": {
      "text/plain": [
       "[\"2 of Hearts\", \"Ace of Spades\"]"
      ]
     },
     "execution_count": 139,
     "metadata": {},
     "output_type": "execute_result"
    }
   ],
   "source": [
    "hand1 = [[\"H\", \"2\"], [\"S\", \"A\"]]\n",
    "# hand2 = [[\"C\", \"Q\"], [\"S\", \"1\"]]\n",
    "\n",
    "full_suits_and_values(hand1)"
   ]
  },
  {
   "cell_type": "code",
   "execution_count": 120,
   "metadata": {},
   "outputs": [
    {
     "data": {
      "text/plain": [
       ":calculate_sum"
      ]
     },
     "execution_count": 120,
     "metadata": {},
     "output_type": "execute_result"
    }
   ],
   "source": [
    "# rubocop:disable Style/ConditionalAssignment\n",
    "def calculate_sum(cards, card_hash, target = 21)\n",
    "  sum = cards.sum { |card| card_hash.fetch(card[1], 0) }\n",
    "  cards.count { |card| card[1] == 'A' }.times do\n",
    "    if sum < (target - 10)\n",
    "      sum += 10\n",
    "    else\n",
    "      sum += 1\n",
    "    end\n",
    "  end\n",
    "  sum\n",
    "end\n",
    "# rubocop:enable Style/ConditionalAssignment"
   ]
  },
  {
   "cell_type": "code",
   "execution_count": 128,
   "metadata": {},
   "outputs": [
    {
     "data": {
      "text/plain": [
       ":card_hash"
      ]
     },
     "execution_count": 128,
     "metadata": {},
     "output_type": "execute_result"
    }
   ],
   "source": [
    "def card_hash\n",
    "  number_cards = (1..10).map { |num| [num.to_s, num] }\n",
    "  face_cards = ['J', 'Q', 'K'].map { |face| [face, 10] }\n",
    "  (number_cards + face_cards).to_h\n",
    "end"
   ]
  },
  {
   "cell_type": "code",
   "execution_count": 136,
   "metadata": {},
   "outputs": [
    {
     "data": {
      "text/plain": [
       ":display_hand"
      ]
     },
     "execution_count": 136,
     "metadata": {},
     "output_type": "execute_result"
    }
   ],
   "source": [
    "def display_hand(hand, turn, hsh, start = false)\n",
    "  player = turn == 'player' ? 'Player' : 'Dealer'\n",
    "  full_names = full_suits_and_values(hand)\n",
    "  total = calculate_sum(hand, hsh)\n",
    "  \n",
    "  if start\n",
    "    puts \"#{player}'s hand is:\\n\\t#{full_names[0][0]}\\n\\t?\\n\\n\"\n",
    "  else\n",
    "    puts \"#{player}'s hand is:\\n\\t#{full_names.join(\"\\n\\t\")}\\n\\n\"\n",
    "    puts \"For a total of: #{total}\\n\\n\"\n",
    "  end\n",
    "end\n"
   ]
  },
  {
   "cell_type": "code",
   "execution_count": 137,
   "metadata": {},
   "outputs": [
    {
     "name": "stdout",
     "output_type": "stream",
     "text": [
      "Player's hand is:\n",
      "\t2 of Hearts\n",
      "\tAce of Spades\n",
      "\n",
      "For a total of: 12\n",
      "\n",
      "Dealer's hand is:\n",
      "\tQueen of Clubs\n",
      "\t?\n",
      "\n"
     ]
    }
   ],
   "source": [
    "# [[\"2 of Hearts\", \"Ace of Spades\"], [\"Queen of Clubs\", \"1 of Spades\"]]\n",
    "# hand1 = [\"2 of Hearts\", \"Ace of Spades\"]\n",
    "hand1 = [[\"H\", \"2\"], [\"S\", \"A\"]]\n",
    "hand2 = [[\"C\", \"Q\"], [\"S\", \"1\"]]\n",
    "\n",
    "display_hand(hand1, 'player', card_hash)\n",
    "display_hand(hand2, 'dealer', card_hash, true)"
   ]
  },
  {
   "cell_type": "code",
   "execution_count": 140,
   "metadata": {},
   "outputs": [
    {
     "data": {
      "text/plain": [
       "{\"1\"=>1, \"2\"=>2, \"3\"=>3, \"4\"=>4, \"5\"=>5, \"6\"=>6, \"7\"=>7, \"8\"=>8, \"9\"=>9, \"10\"=>10, \"J\"=>10, \"Q\"=>10, \"K\"=>10}"
      ]
     },
     "execution_count": 140,
     "metadata": {},
     "output_type": "execute_result"
    }
   ],
   "source": [
    "number_cards = (1..10).map { |num| [num.to_s, num] }\n",
    "face_cards = ['J', 'Q', 'K'].map { |face| [face, 10] }\n",
    "CARD_HASH = (number_cards + face_cards).to_h"
   ]
  },
  {
   "cell_type": "code",
   "execution_count": 145,
   "metadata": {},
   "outputs": [
    {
     "data": {
      "text/plain": [
       ":add_to_total"
      ]
     },
     "execution_count": 145,
     "metadata": {},
     "output_type": "execute_result"
    }
   ],
   "source": [
    "def add_to_total(card, total, target = 21)\n",
    "  total + CARD_HASH[card[1]]\n",
    "end"
   ]
  },
  {
   "cell_type": "code",
   "execution_count": 146,
   "metadata": {},
   "outputs": [
    {
     "data": {
      "text/plain": [
       "12"
      ]
     },
     "execution_count": 146,
     "metadata": {},
     "output_type": "execute_result"
    }
   ],
   "source": [
    "add_to_total(['S', '2'], 10)"
   ]
  },
  {
   "cell_type": "code",
   "execution_count": null,
   "metadata": {},
   "outputs": [],
   "source": [
    "crunch('ddaaiillyy ddoouubbllee') == 'daily double'\n"
   ]
  },
  {
   "cell_type": "code",
   "execution_count": 147,
   "metadata": {},
   "outputs": [
    {
     "ename": "NoMethodError",
     "evalue": "undefined method `uniq' for \"ddaaiillyy ddoouubbllee\":String",
     "output_type": "error",
     "traceback": [
      "\u001b[31mNoMethodError\u001b[0m: undefined method `uniq' for \"ddaaiillyy ddoouubbllee\":String",
      "(irb):in `irb_binding'"
     ]
    }
   ],
   "source": [
    "'ddaaiillyy ddoouubbllee'.uniq"
   ]
  },
  {
   "cell_type": "code",
   "execution_count": 148,
   "metadata": {},
   "outputs": [
    {
     "name": "stdout",
     "output_type": "stream",
     "text": [
      "[0, 1, 2, 3, 4, 5, 6, 7, 8, 9, \"a\", \"b\", \"c\", \"d\", \"e\", \"f\"]\n"
     ]
    },
    {
     "ename": "NoMethodError",
     "evalue": "undefined method `map' for 8:Integer\nDid you mean?  tap",
     "output_type": "error",
     "traceback": [
      "\u001b[31mNoMethodError\u001b[0m: undefined method `map' for 8:Integer\nDid you mean?  tap",
      "(irb):5:in `block in irb_binding'",
      "(irb):4:in `each'",
      "(irb):4:in `each_with_object'",
      "(irb):4:in `irb_binding'"
     ]
    }
   ],
   "source": [
    "hex_characters = (0..9).to_a + (\"a\"..\"f\").to_a\n",
    "p hex_characters\n",
    "groups = [8, 4, 4, 4, 12]\n",
    "\n",
    "groups.each_with_object([]) do |num, arr|\n",
    "  num.map.times do \n",
    "    arr << hex_characters.sample\n",
    "  end\n",
    "end"
   ]
  },
  {
   "cell_type": "code",
   "execution_count": 3,
   "metadata": {},
   "outputs": [
    {
     "data": {
      "text/plain": [
       "[0, 1, 2, 3, 4, 5, 6, 7, 8, 9, \"a\", \"b\", \"c\", \"d\", \"e\", \"f\"]"
      ]
     },
     "execution_count": 3,
     "metadata": {},
     "output_type": "execute_result"
    }
   ],
   "source": [
    "[*(0..9), *(\"a\"..\"f\")]"
   ]
  },
  {
   "cell_type": "code",
   "execution_count": 2,
   "metadata": {},
   "outputs": [
    {
     "data": {
      "text/plain": [
       "\"ddaaiillyy ddoouubbllee\""
      ]
     },
     "execution_count": 2,
     "metadata": {},
     "output_type": "execute_result"
    }
   ],
   "source": [
    "s = \"ddaaiillyy ddoouubbllee\""
   ]
  },
  {
   "cell_type": "code",
   "execution_count": 4,
   "metadata": {},
   "outputs": [
    {
     "data": {
      "text/plain": [
       "0..22"
      ]
     },
     "execution_count": 4,
     "metadata": {},
     "output_type": "execute_result"
    }
   ],
   "source": [
    "new_s = ''\n",
    "\n",
    "(0..(s.size - 1)).each do |idx|\n",
    "  unless s[idx] == s[idx + 1]\n",
    "    new_s += s[idx]\n",
    "  end\n",
    "end"
   ]
  },
  {
   "cell_type": "code",
   "execution_count": 5,
   "metadata": {},
   "outputs": [
    {
     "data": {
      "text/plain": [
       "\"daily double\""
      ]
     },
     "execution_count": 5,
     "metadata": {},
     "output_type": "execute_result"
    }
   ],
   "source": [
    "new_s"
   ]
  },
  {
   "cell_type": "code",
   "execution_count": 8,
   "metadata": {},
   "outputs": [
    {
     "data": {
      "text/plain": [
       ":d"
      ]
     },
     "execution_count": 8,
     "metadata": {},
     "output_type": "execute_result"
    }
   ],
   "source": [
    "dict = { a: 1, b: 2, c: 3 }\n",
    "dict.find(-> {:d}) { |k, v| v == 4}"
   ]
  },
  {
   "cell_type": "code",
   "execution_count": 70,
   "metadata": {},
   "outputs": [
    {
     "data": {
      "text/plain": [
       "19"
      ]
     },
     "execution_count": 70,
     "metadata": {},
     "output_type": "execute_result"
    }
   ],
   "source": [
    "player_total = 19\n",
    "dealer_total = 19"
   ]
  },
  {
   "cell_type": "code",
   "execution_count": 71,
   "metadata": {},
   "outputs": [
    {
     "data": {
      "text/plain": [
       "{:player_21=>false, :dealer_21=>false, :player_busted=>false, :dealer_busted=>false, :player=>false, :dealer=>false}"
      ]
     },
     "execution_count": 71,
     "metadata": {},
     "output_type": "execute_result"
    }
   ],
   "source": [
    "results = {\n",
    "  player_21: player_total == 21,\n",
    "  dealer_21: dealer_total == 21,\n",
    "  player_busted: player_total > 21,\n",
    "  dealer_busted: dealer_total > 21,\n",
    "  player: dealer_total < player_total,\n",
    "  dealer: dealer_total > player_total\n",
    "}"
   ]
  },
  {
   "cell_type": "code",
   "execution_count": 80,
   "metadata": {},
   "outputs": [
    {
     "data": {
      "text/plain": [
       ":tie"
      ]
     },
     "execution_count": 80,
     "metadata": {},
     "output_type": "execute_result"
    }
   ],
   "source": [
    "results.find(-> {[:tie, ]}) { |_, v| v }.first"
   ]
  },
  {
   "cell_type": "code",
   "execution_count": 83,
   "metadata": {},
   "outputs": [
    {
     "ename": "NoMethodError",
     "evalue": "undefined method `try' for :tie:Symbol",
     "output_type": "error",
     "traceback": [
      "\u001b[31mNoMethodError\u001b[0m: undefined method `try' for :tie:Symbol",
      "(irb):in `irb_binding'"
     ]
    }
   ],
   "source": [
    "results.find(-> {:tie}) { |_, v| v }.try(:first)"
   ]
  },
  {
   "cell_type": "code",
   "execution_count": 81,
   "metadata": {},
   "outputs": [
    {
     "data": {
      "text/plain": [
       "[]"
      ]
     },
     "execution_count": 81,
     "metadata": {},
     "output_type": "execute_result"
    }
   ],
   "source": [
    "results.find_all { |k, _| k == true }"
   ]
  },
  {
   "cell_type": "code",
   "execution_count": null,
   "metadata": {},
   "outputs": [],
   "source": [
    "result = :player_busted\n",
    "\n",
    "results = {\n",
    "  \"You hit 21.  You win!\\n\" => :player_21,\n",
    "  \"Dealer hit 21.  Dealer wins!\\n\" => :dealer_21,s\n",
    "  \"You busted! Dealer wins!\\n\" => :player_busted,\n",
    "  \"Dealer busted! You win!\\n\" => :dealer_busted,\n",
    "  \"You win!\\n\" => :player,\n",
    "  \"Dealer wins!\\n\" => :dealer\n",
    "}\n",
    "\n",
    "results.find(-> {[\"It's a tie\\n\", :tie]}) { |_, v| res == v }.first"
   ]
  },
  {
   "cell_type": "code",
   "execution_count": 51,
   "metadata": {},
   "outputs": [
    {
     "data": {
      "text/plain": [
       "{true=>5, false=>10}"
      ]
     },
     "execution_count": 51,
     "metadata": {},
     "output_type": "execute_result"
    }
   ],
   "source": [
    "#   case result\n",
    "#   when :player_21\n",
    "#     puts \"You hit 21.  You win!\\n\"\n",
    "#   when :dealer_21\n",
    "#     puts \"Dealer hit 21.  Dealer wins!\\n\"\n",
    "#   when :player_busted\n",
    "#     puts \"You busted! Dealer wins!\\n\"\n",
    "#   when :dealer_busted\n",
    "#     puts \"Dealer busted! You win!\\n\"\n",
    "#   when :player\n",
    "#     puts \"You win!\\n\"\n",
    "#   when :dealer\n",
    "#     puts \"Dealer wins!\\n\"\n",
    "#   when :tie\n",
    "#     puts \"It's a tie!\\n\"\n",
    "#   end\n",
    "# ends"
   ]
  }
 ],
 "metadata": {
  "kernelspec": {
   "display_name": "Ruby 2.7.5",
   "language": "ruby",
   "name": "ruby"
  },
  "language_info": {
   "file_extension": ".rb",
   "mimetype": "application/x-ruby",
   "name": "ruby",
   "version": "2.7.5"
  },
  "orig_nbformat": 4
 },
 "nbformat": 4,
 "nbformat_minor": 2
}
