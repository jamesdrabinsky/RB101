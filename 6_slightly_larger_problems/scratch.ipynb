{
 "cells": [
  {
   "cell_type": "code",
   "execution_count": 1,
   "metadata": {},
   "outputs": [
    {
     "data": {
      "text/plain": [
       "[[1, 2, 3], [4, 5, 6], [7, 8, 9], [1, 4, 7], [2, 5, 8], [3, 6, 9], [1, 5, 9], [3, 5, 7]]"
      ]
     },
     "execution_count": 1,
     "metadata": {},
     "output_type": "execute_result"
    }
   ],
   "source": [
    "INITIAL_MARKER =  ' '\n",
    "PLAYER_MARKER = 'X'\n",
    "COMPUTER_MARKER = 'O'\n",
    "\n",
    "WINNING_LINES = [\n",
    "  [1, 2, 3], [4, 5, 6], [7, 8, 9],  # rows\n",
    "  [1, 4, 7], [2, 5, 8], [3, 6, 9],  # columns\n",
    "  [1, 5, 9], [3, 5, 7]              # diagonals\n",
    "]"
   ]
  },
  {
   "cell_type": "code",
   "execution_count": 2,
   "metadata": {},
   "outputs": [
    {
     "data": {
      "text/plain": [
       "{1=>\" \", 2=>\" \", 3=>\" \", 4=>\" \", 5=>\" \", 6=>\" \", 7=>\" \", 8=>\" \", 9=>\" \"}"
      ]
     },
     "execution_count": 2,
     "metadata": {},
     "output_type": "execute_result"
    }
   ],
   "source": [
    "board = (1..9).zip([INITIAL_MARKER] * 9).to_h"
   ]
  },
  {
   "cell_type": "code",
   "execution_count": 10,
   "metadata": {},
   "outputs": [
    {
     "data": {
      "text/plain": [
       "{1=>\"X\", 2=>\" \", 3=>\"X\", 4=>\" \", 5=>\" \", 6=>\" \", 7=>\" \", 8=>\" \", 9=>\" \"}"
      ]
     },
     "execution_count": 10,
     "metadata": {},
     "output_type": "execute_result"
    }
   ],
   "source": [
    "[1, 3].each do |key|\n",
    "  board[key] = PLAYER_MARKER\n",
    "end\n",
    "board"
   ]
  },
  {
   "cell_type": "code",
   "execution_count": 16,
   "metadata": {},
   "outputs": [
    {
     "data": {
      "text/plain": [
       "{2=>\" \"}"
      ]
     },
     "execution_count": 16,
     "metadata": {},
     "output_type": "execute_result"
    }
   ],
   "source": [
    "# def find_at_risk_square(line, board)\n",
    "#   if board.values_at(*line).count('X') == 2\n",
    "#     board.select{|k,v| line.include?(k) && v == ' '}.keys.first\n",
    "#   else\n",
    "#     nil\n",
    "#   end\n",
    "# end\n",
    "\n",
    "line = [1, 2, 3]\n",
    "\n",
    "board.select{ |k, v| line.include?(k) && v == ' ' }\n"
   ]
  },
  {
   "cell_type": "code",
   "execution_count": 7,
   "metadata": {},
   "outputs": [
    {
     "data": {
      "text/plain": [
       ":find_computer_square"
      ]
     },
     "execution_count": 7,
     "metadata": {},
     "output_type": "execute_result"
    }
   ],
   "source": [
    "def find_computer_square(brd, attack = true)\n",
    "  marker = attack ? COMPUTER_MARKER : PLAYER_MARKER\n",
    "  line = WINNING_LINES.find do |line|\n",
    "    line_values = brd.values_at(*line)\n",
    "    line_values.count(marker) == 2 && \n",
    "    line_values.count(INITIAL_MARKER) == 1\n",
    "  end\n",
    "  line.find { |num| brd[num] == INITIAL_MARKER } if line\n",
    "end"
   ]
  },
  {
   "cell_type": "code",
   "execution_count": 9,
   "metadata": {},
   "outputs": [
    {
     "data": {
      "text/plain": [
       "2"
      ]
     },
     "execution_count": 9,
     "metadata": {},
     "output_type": "execute_result"
    }
   ],
   "source": [
    "find_computer_square(board)"
   ]
  },
  {
   "cell_type": "markdown",
   "metadata": {},
   "source": [
    "A pangram is a sentence that contains every single letter of the alphabet at least once. For example, the sentence \"The quick brown fox jumps over the lazy dog\" is a pangram, because it uses the letters A-Z at least once (case is irrelevant).\n",
    "\n",
    "Given a string, detect whether or not it is a pangram. Return True if it is, False if not. Ignore numbers and punctuation.\n",
    "\n",
    "Problem\n",
    "Return true if every letter of thr alphabet is present in a given string."
   ]
  },
  {
   "cell_type": "code",
   "execution_count": 45,
   "metadata": {},
   "outputs": [
    {
     "data": {
      "text/plain": [
       "true"
      ]
     },
     "execution_count": 45,
     "metadata": {},
     "output_type": "execute_result"
    }
   ],
   "source": [
    "s = \"The quick brown fox jumps over the lazy dog.\"\n",
    "\n",
    "alphabet_hash = ('a'..'z').each_with_object({}) { |letter, hsh|  hsh[letter] = 1 } \n",
    "s_array = s.downcase.gsub(/[^a-z]/, '').chars\n",
    "s_array.each { |char| alphabet_hash[char] -= 1 }\n",
    "alphabet_hash.values.all? { |v| v < 1 }\n",
    "\n",
    "# ('a'..'z').zip([1]*26).to_h\n"
   ]
  },
  {
   "cell_type": "code",
   "execution_count": 9,
   "metadata": {},
   "outputs": [
    {
     "data": {
      "text/plain": [
       "{\"a\"=>1, \"b\"=>1, \"c\"=>1, \"d\"=>1, \"e\"=>1, \"f\"=>1, \"g\"=>1, \"h\"=>1, \"i\"=>1, \"j\"=>1, \"k\"=>1, \"l\"=>1, \"m\"=>1, \"n\"=>1, \"o\"=>1, \"p\"=>1, \"q\"=>1, \"r\"=>1, \"s\"=>1, \"t\"=>1, \"u\"=>1, \"v\"=>1, \"w\"=>1, \"x\"=>1, \"y\"=>1, \"z\"=>1}"
      ]
     },
     "execution_count": 9,
     "metadata": {},
     "output_type": "execute_result"
    }
   ],
   "source": [
    "# ('a'..'z').zip([1]*26).to_h\n",
    "alphabet_hash = ('a'..'z').each_with_object({}) { |letter, hsh|  hsh[letter] = 1 } "
   ]
  },
  {
   "cell_type": "code",
   "execution_count": 10,
   "metadata": {},
   "outputs": [
    {
     "ename": "NoMethodError",
     "evalue": "undefined method `-' for nil:NilClass",
     "output_type": "error",
     "traceback": [
      "\u001b[31mNoMethodError\u001b[0m: undefined method `-' for nil:NilClass",
      "(irb):in `block in irb_binding'",
      "(irb):in `each'",
      "(irb):in `irb_binding'"
     ]
    }
   ],
   "source": [
    "modified_string = s.chars.split.join\n",
    "# .map(&:downcase).each { |char| alphabet_hash[char] -= 1 }\n",
    "# alphabet_hash.values.all? "
   ]
  },
  {
   "cell_type": "code",
   "execution_count": 7,
   "metadata": {},
   "outputs": [
    {
     "data": {
      "text/plain": [
       "[1, 0]"
      ]
     },
     "execution_count": 7,
     "metadata": {},
     "output_type": "execute_result"
    }
   ],
   "source": [
    "# possible_new_states = [\n",
    "#   state - take for take in (1, 2, 3) if take <= state\n",
    "# ]\n",
    "\n",
    "state = 2\n",
    "\n",
    "(1..3).select { |take| take <= state }.map { |take| state - take }"
   ]
  },
  {
   "cell_type": "code",
   "execution_count": 54,
   "metadata": {},
   "outputs": [
    {
     "data": {
      "text/plain": [
       "[1, 7, 13, 19, 25]"
      ]
     },
     "execution_count": 54,
     "metadata": {},
     "output_type": "execute_result"
    }
   ],
   "source": [
    "[*1..size].each_slice(num + 1).map { |arr| arr[0] }"
   ]
  },
  {
   "cell_type": "markdown",
   "metadata": {},
   "source": [
    "#### Size of Board"
   ]
  },
  {
   "cell_type": "code",
   "execution_count": 87,
   "metadata": {},
   "outputs": [
    {
     "data": {
      "text/plain": [
       "[[[1, 2, 3, 4, 5, 6, 7, 8, 9], [10, 11, 12, 13, 14, 15, 16, 17, 18], [19, 20, 21, 22, 23, 24, 25, 26, 27], [28, 29, 30, 31, 32, 33, 34, 35, 36], [37, 38, 39, 40, 41, 42, 43, 44, 45], [46, 47, 48, 49, 50, 51, 52, 53, 54], [55, 56, 57, 58, 59, 60, 61, 62, 63], [64, 65, 66, 67, 68, 69, 70, 71, 72], [73, 74, 75, 76, 77, 78, 79, 80, 81]], [[1, 10, 19, 28, 37, 46, 55, 64, 73], [2, 11, 20, 29, 38, 47, 56, 65, 74], [3, 12, 21, 30, 39, 48, 57, 66, 75], [4, 13, 22, 31, 40, 49, 58, 67, 76], [5, 14, 23, 32, 41, 50, 59, 68, 77], [6, 15, 24, 33, 42, 51, 60, 69, 78], [7, 16, 25, 34, 43, 52, 61, 70, 79], [8, 17, 26, 35, 44, 53, 62, 71, 80], [9, 18, 27, 36, 45, 54, 63, 72, 81]], [[1, 11, 21, 31, 41, 51, 61, 71, 81], [9, 17, 25, 33, 41, 49, 57, 65, 73]]]"
      ]
     },
     "execution_count": 87,
     "metadata": {},
     "output_type": "execute_result"
    }
   ],
   "source": [
    "num = 5\n",
    "size = num ** 2\n",
    "\n",
    "def winning_lines_list(dimension)\n",
    "  size = dimension ** 2\n",
    "  rows = [*(1..size).each_slice(dimension)]\n",
    "  cols = rows.transpose\n",
    "  diagonals = [rows, rows.map(&:reverse)].map do |arr|\n",
    "    arr.map.with_index { |arr, idx| arr[idx] }\n",
    "  end\n",
    "  [rows, cols, diagonals]\n",
    "end"
   ]
  },
  {
   "cell_type": "code",
   "execution_count": null,
   "metadata": {},
   "outputs": [],
   "source": [
    "# [*1..size].each_slice(num + 1).map { |arr| arr[0] }\n",
    "\n",
    "# rows.map.with_index { |arr, idx| arr[-(idx + 1)] }\n",
    "\n",
    "# diagonal_1 = rows.map.with_index { |arr, idx| arr[idx] }\n",
    "# diagonal_2 = rows.map(&:reverse).map.with_index { |arr, idx| arr[idx] }\n",
    "# diagonals = [diagonal_1, diagonal_2]"
   ]
  },
  {
   "cell_type": "code",
   "execution_count": 63,
   "metadata": {},
   "outputs": [
    {
     "data": {
      "text/plain": [
       "[[1, 2, 3, 4, 5], [6, 7, 8, 9, 10], [11, 12, 13, 14, 15], [16, 17, 18, 19, 20], [21, 22, 23, 24, 25]]"
      ]
     },
     "execution_count": 63,
     "metadata": {},
     "output_type": "execute_result"
    }
   ],
   "source": [
    "# [*1..25].each_slice(5).each_with_object([]) do |slice, arr|\n",
    "#   arr << slice\n",
    "# end\n",
    "\n",
    "# [*(1..size).step(5)].each_with_object([]) do |start, arr|\n",
    "#   arr << [start..]\n",
    "# end\n",
    "\n",
    "# num = 5\n",
    "# size = num ** 2\n",
    "\n",
    "# [*(0..size).step(5)].each_with_object([]) do |start, arr|\n",
    "#   arr << [*(start + 1..start + num)] if start + 1 <= size\n",
    "# end"
   ]
  },
  {
   "cell_type": "code",
   "execution_count": 90,
   "metadata": {},
   "outputs": [
    {
     "data": {
      "text/plain": [
       "{1=>\"X\", 2=>\"X\", 3=>\"X\", 4=>\"X\", 5=>\"X\", 6=>\"X\", 7=>\"X\", 8=>\"X\", 9=>\"X\"}"
      ]
     },
     "execution_count": 90,
     "metadata": {},
     "output_type": "execute_result"
    }
   ],
   "source": [
    "brd = (1..9).zip(['X'] * 9).to_h"
   ]
  },
  {
   "cell_type": "code",
   "execution_count": 132,
   "metadata": {},
   "outputs": [
    {
     "ename": "ArgumentError",
     "evalue": "wrong number of arguments (given 1, expected 0)",
     "output_type": "error",
     "traceback": [
      "\u001b[31mArgumentError\u001b[0m: wrong number of arguments (given 1, expected 0)",
      "(irb):11:in `strip'",
      "(irb):11:in `irb_binding'"
     ]
    }
   ],
   "source": [
    "square = <<-eos\n",
    "      |  \n",
    "   #{brd[1]}  |\n",
    "      |     \n",
    "------+\n",
    "eos\n",
    "\n",
    "row = <<-eos\n",
    "#{square * 3} \n",
    "eos\n",
    "\n",
    "print row.strip('\\n')\n"
   ]
  },
  {
   "cell_type": "code",
   "execution_count": 134,
   "metadata": {},
   "outputs": [
    {
     "data": {
      "text/plain": [
       "{1=>\"\", 2=>\"\", 3=>\"\", 4=>\"\", 5=>\"\", 6=>\"\", 7=>\"\", 8=>\"\", 9=>\"\"}"
      ]
     },
     "execution_count": 134,
     "metadata": {},
     "output_type": "execute_result"
    }
   ],
   "source": [
    "(1..9).zip([''] * 9).to_h"
   ]
  },
  {
   "cell_type": "code",
   "execution_count": 136,
   "metadata": {},
   "outputs": [
    {
     "data": {
      "text/plain": [
       "{1=>1, 2=>2, 3=>3, 4=>4, 5=>5, 6=>6, 7=>7, 8=>8, 9=>9}"
      ]
     },
     "execution_count": 136,
     "metadata": {},
     "output_type": "execute_result"
    }
   ],
   "source": [
    "brd = (1..9).each_with_object({}) do |num, hash|\n",
    "  hash[num] = num\n",
    "end"
   ]
  },
  {
   "cell_type": "code",
   "execution_count": 148,
   "metadata": {},
   "outputs": [
    {
     "data": {
      "text/plain": [
       "[1, 2, 3, 4, 5, 6, 7, 8, 9]"
      ]
     },
     "execution_count": 148,
     "metadata": {},
     "output_type": "execute_result"
    }
   ],
   "source": [
    "brd.values.reject { |v| v.is_a?(String) }"
   ]
  },
  {
   "cell_type": "code",
   "execution_count": 143,
   "metadata": {},
   "outputs": [
    {
     "data": {
      "text/plain": [
       "true"
      ]
     },
     "execution_count": 143,
     "metadata": {},
     "output_type": "execute_result"
    }
   ],
   "source": [
    "'99'.match?(/\\d+/)"
   ]
  },
  {
   "cell_type": "code",
   "execution_count": 155,
   "metadata": {},
   "outputs": [
    {
     "data": {
      "text/plain": [
       ":valid_name?"
      ]
     },
     "execution_count": 155,
     "metadata": {},
     "output_type": "execute_result"
    }
   ],
   "source": [
    "def valid_name?(name)\n",
    "  !name.strip.empty?\n",
    "end"
   ]
  },
  {
   "cell_type": "code",
   "execution_count": 156,
   "metadata": {},
   "outputs": [
    {
     "data": {
      "text/plain": [
       "false"
      ]
     },
     "execution_count": 156,
     "metadata": {},
     "output_type": "execute_result"
    }
   ],
   "source": [
    "valid_name?(\" \")"
   ]
  },
  {
   "cell_type": "code",
   "execution_count": 162,
   "metadata": {},
   "outputs": [
    {
     "data": {
      "text/plain": [
       "false"
      ]
     },
     "execution_count": 162,
     "metadata": {},
     "output_type": "execute_result"
    }
   ],
   "source": [
    "''.match?(/[A-Za-z]/)"
   ]
  },
  {
   "cell_type": "code",
   "execution_count": 163,
   "metadata": {},
   "outputs": [
    {
     "data": {
      "text/plain": [
       "\"me\""
      ]
     },
     "execution_count": 163,
     "metadata": {},
     "output_type": "execute_result"
    }
   ],
   "source": [
    "current_player = 'me'"
   ]
  },
  {
   "cell_type": "code",
   "execution_count": 164,
   "metadata": {},
   "outputs": [
    {
     "data": {
      "text/plain": [
       "\"me\""
      ]
     },
     "execution_count": 164,
     "metadata": {},
     "output_type": "execute_result"
    }
   ],
   "source": [
    "first_mover = current_player.clone"
   ]
  },
  {
   "cell_type": "code",
   "execution_count": 165,
   "metadata": {},
   "outputs": [
    {
     "data": {
      "text/plain": [
       "\"you\""
      ]
     },
     "execution_count": 165,
     "metadata": {},
     "output_type": "execute_result"
    }
   ],
   "source": [
    "current_player = 'you'"
   ]
  },
  {
   "cell_type": "code",
   "execution_count": 166,
   "metadata": {},
   "outputs": [
    {
     "data": {
      "text/plain": [
       "\"me\""
      ]
     },
     "execution_count": 166,
     "metadata": {},
     "output_type": "execute_result"
    }
   ],
   "source": [
    "first_mover"
   ]
  },
  {
   "cell_type": "code",
   "execution_count": 168,
   "metadata": {},
   "outputs": [
    {
     "ename": "NoMethodError",
     "evalue": "undefined method `to_i' for true:TrueClass\nDid you mean?  to_s",
     "output_type": "error",
     "traceback": [
      "\u001b[31mNoMethodError\u001b[0m: undefined method `to_i' for true:TrueClass\nDid you mean?  to_s",
      "(irb):in `irb_binding'"
     ]
    }
   ],
   "source": [
    "true.to_i"
   ]
  },
  {
   "cell_type": "code",
   "execution_count": 169,
   "metadata": {},
   "outputs": [
    {
     "ename": "NoMethodError",
     "evalue": "undefined method `to_sym' for 32:Integer\nDid you mean?  to_s",
     "output_type": "error",
     "traceback": [
      "\u001b[31mNoMethodError\u001b[0m: undefined method `to_sym' for 32:Integer\nDid you mean?  to_s",
      "(irb):in `irb_binding'"
     ]
    }
   ],
   "source": [
    "32.to_sym"
   ]
  },
  {
   "cell_type": "code",
   "execution_count": null,
   "metadata": {},
   "outputs": [],
   "source": []
  }
 ],
 "metadata": {
  "kernelspec": {
   "display_name": "Ruby 2.7.5",
   "language": "ruby",
   "name": "ruby"
  },
  "language_info": {
   "file_extension": ".rb",
   "mimetype": "application/x-ruby",
   "name": "ruby",
   "version": "2.7.5"
  },
  "orig_nbformat": 4
 },
 "nbformat": 4,
 "nbformat_minor": 2
}
