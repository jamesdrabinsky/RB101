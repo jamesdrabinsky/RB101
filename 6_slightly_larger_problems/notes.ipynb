{
 "cells": [
  {
   "cell_type": "markdown",
   "metadata": {},
   "source": [
    "## Problem Solving Approach"
   ]
  },
  {
   "cell_type": "markdown",
   "metadata": {},
   "source": [
    "1. First, break down the problem into smaller pieces. This is probably the most challenging and most important part, because in order to break down the problem, you have to understand it well. Your first stab at breaking it down may not be appropriate. Don't be afraid to start over.\n",
    "\n",
    "2. Map out the flow of the program in a flowchart, using sub-processes to encapsulate well-defined components of the problem.\n",
    "\n",
    "3. When you're ready to tackle a component or sub-process, write out the pseudo-code for that sub-process only. It will most likely translate into a method (or several methods), so come up with clear inputs for the sub-process, and clear outputs you expect from the sub-process.\n",
    "\n",
    "4. Play around with the code. Write every line of code and make sure you understand it. Don't copy/paste.\n",
    "\n",
    "5. Do the assignments in sequence. We'll walk you through the necessary steps to break down the problem.\n",
    "\n",
    "6. Don't be afraid to watch the walk-through videos. Use those as guard rails so you're not spinning your wheels stuck for too long. But don't just sit back and watch the videos without typing or coding along, either."
   ]
  },
  {
   "cell_type": "markdown",
   "metadata": {},
   "source": [
    "## Debugging with Pry"
   ]
  },
  {
   "cell_type": "markdown",
   "metadata": {},
   "source": [
    "### Type of error\n",
    "\n",
    "**Syntax Errors**\n",
    "\n",
    "- The code you have written does not conform to the grammar od the programming language you are using.\n",
    "- Generally stops your code from functioning\n",
    "\n",
    "**Logical Errors**\n",
    "\n",
    "- Errors in the logic of your code.\n",
    "- Code generally runs, but produces unexpected results."
   ]
  },
  {
   "cell_type": "markdown",
   "metadata": {},
   "source": [
    "### What is Pry\n",
    "\n",
    "- `pry` is a RubyGem\n",
    "\n",
    "```\n",
    "gem install pry\n",
    "```\n",
    "```ruby\n",
    "require 'pry'\n",
    "```\n",
    "\n",
    "- pry is a REPL\n",
    "    - Read-Evaluate-Print Loop\n",
    "    - An interactive environment that:\n",
    "        - Takes user input\n",
    "        - Evaluates the input\n",
    "        - Returns the result to the user\n",
    "        - Loops back to the start"
   ]
  },
  {
   "cell_type": "markdown",
   "metadata": {},
   "source": [
    "### Using pry\n",
    "\n",
    "Changing scope with `cd`\n",
    "\n",
    "Learn about context with `ls`\n",
    "\n",
    "Call methods directly within the context\n",
    "\n",
    "Access documentation with `show-source {method} -d`"
   ]
  },
  {
   "cell_type": "markdown",
   "metadata": {},
   "source": [
    "### Involing pry at Runtime\n",
    "\n",
    "- Using `binding.pry`\n",
    "    - A `binding` is something that contains references to any variables that we in scope at the point where it was created.\n",
    "    - `pry` interrupts the program execution and *pries open* the binding so that we can have a look around"
   ]
  },
  {
   "cell_type": "markdown",
   "metadata": {},
   "source": [
    "### Stepping Through and Into Code\n",
    "\n",
    "- `pry-byebug`\n",
    "- Extends `pry` with some additional commands\n",
    "    - `next`\n",
    "    - `step`\n",
    "    - `continue`\n",
    "- Similar gems exist such as `pry-nav` and `pry-debugger`\n",
    "- The concept of stepping through and into code is not limited to `pry` or Ruby\n",
    "- There are equivalents in other langauges like `ipdb` in Python or Chrome Dev Tools Debugger (with JavaScript)"
   ]
  },
  {
   "cell_type": "markdown",
   "metadata": {},
   "source": [
    "### Take-aways\n",
    "\n",
    "- Debugging is an important skill to learn and practice\n",
    "- Tools such as `pry` and `pry-byebug` make debugging easier\n",
    "- Using these tools also helps to learn more about code\n",
    "- These debugging concepts are not limited to Ruby"
   ]
  },
  {
   "cell_type": "markdown",
   "metadata": {},
   "source": [
    "## Tic Tac Toe Problem Decomposition\n",
    "\n",
    "### Decomposing the Problem\n",
    "\n",
    "1. Display the initial empty 3x3 board.\n",
    "2. Ask the user to mark a square.\n",
    "3. Computer marks a square.\n",
    "4. Display the updated board state.\n",
    "5. If winner, display winner.\n",
    "6. If board is full, display tie.\n",
    "7. If neither winner nor board is full, go to #2\n",
    "8. Play again?\n",
    "9. If yes, go to #1\n",
    "10. Good bye!\n",
    "\n",
    "There are two main loops:\n",
    "1. At step #7, after either the winner is found or the board is full\n",
    "2. At step #9, after we ask if the user wants to play again."
   ]
  },
  {
   "cell_type": "markdown",
   "metadata": {},
   "source": [
    "### Flowchart"
   ]
  },
  {
   "cell_type": "markdown",
   "metadata": {},
   "source": [
    "![flowchart](./ttt_flowchart.png)"
   ]
  },
  {
   "cell_type": "markdown",
   "metadata": {},
   "source": [
    "Notice there's a lot of rectangle boxes, which stands for some sort of processing. \n",
    "\n",
    "You can see that the sub-processes will need to work with some sort of \"board\". Every sub-process, from \"Display board\", to \"User marks square\", to \"board full?\", requires inspecting the board. In some cases, like when we need to mark a square, we'll even have to permanently modify the board state."
   ]
  },
  {
   "cell_type": "markdown",
   "metadata": {},
   "source": []
  }
 ],
 "metadata": {
  "kernelspec": {
   "display_name": "Ruby 2.7.5",
   "language": "ruby",
   "name": "ruby"
  },
  "language_info": {
   "name": "ruby"
  },
  "orig_nbformat": 4
 },
 "nbformat": 4,
 "nbformat_minor": 2
}
