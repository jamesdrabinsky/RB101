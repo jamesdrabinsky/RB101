{
 "cells": [
  {
   "cell_type": "markdown",
   "metadata": {},
   "source": [
    "Given an array of integers nums and an integer target, return indices of the two numbers such that they add up to target"
   ]
  },
  {
   "cell_type": "markdown",
   "metadata": {},
   "source": [
    "P:\n",
    "- Input: an array of integers and a target integer\n",
    "- Output: an array of two integers representing the indices of numbers that add up to the target<br><br>\n",
    "- Explicit requirements:\n",
    "    - Input array will contain two integers that add up to the target\n",
    "- Implicit requirements:\n",
    "    - Will there only be two numbers that add up to the target in the input array?\n",
    "\n",
    "A:\n",
    "- Iterate through numbers in from 0 to `arr.size - 1` (idx1)\n",
    "- for each iteration, iterate the numbers after idx1 (idx2)\n",
    "- On each iteraiton, define the `complement` as target - arr[idx1]\n",
    "- If arr[idx2] == complement the add idx1 and idx2 to the returned array"
   ]
  },
  {
   "cell_type": "code",
   "execution_count": 46,
   "metadata": {},
   "outputs": [
    {
     "data": {
      "text/plain": [
       ":two_sum"
      ]
     },
     "execution_count": 46,
     "metadata": {},
     "output_type": "execute_result"
    }
   ],
   "source": [
    "def two_sum(arr, target)\n",
    "  (0...arr.size).each do |idx1|\n",
    "    (idx1 + 1...arr.size).each do |idx2|\n",
    "      complement = target - arr[idx1]\n",
    "      return [idx1, idx2] if arr[idx2] == complement\n",
    "    end\n",
    "  end\n",
    "  pair\n",
    "end"
   ]
  },
  {
   "cell_type": "code",
   "execution_count": 47,
   "metadata": {},
   "outputs": [
    {
     "data": {
      "text/plain": [
       "[0, 2]"
      ]
     },
     "execution_count": 47,
     "metadata": {},
     "output_type": "execute_result"
    }
   ],
   "source": [
    "arr = [2, 11, 7, 15]\n",
    "two_sum([2, 11, 7, 15], 9)"
   ]
  },
  {
   "cell_type": "code",
   "execution_count": 41,
   "metadata": {},
   "outputs": [
    {
     "name": "stdout",
     "output_type": "stream",
     "text": [
      "false\n",
      "false\n",
      "false\n"
     ]
    },
    {
     "data": {
      "text/plain": [
       "false"
      ]
     },
     "execution_count": 41,
     "metadata": {},
     "output_type": "execute_result"
    }
   ],
   "source": [
    "p two_sum([2, 11, 7, 15], 9) == [0, 2]\n",
    "p two_sum([3, 2, 4], 6) == [1, 2]\n",
    "p two_sum([3, 3], 6) == [0, 1]"
   ]
  },
  {
   "cell_type": "markdown",
   "metadata": {},
   "source": [
    "Check if a given string can be constructed by taking a substring of it and appending multiple copies of the substring together"
   ]
  },
  {
   "cell_type": "code",
   "execution_count": 25,
   "metadata": {},
   "outputs": [],
   "source": [
    "# p repeated_substring_pattern(\"abab\") == true\n",
    "# p repeated_substring_pattern(\"aba\") == false\n",
    "# p repeated_substring_pattern(\"aabaaba\") == false\n",
    "# p repeated_substring_pattern(\"abaababaab\") == true\n",
    "# p repeated_substring_pattern(\"abcabcabcabc\") == true"
   ]
  },
  {
   "cell_type": "markdown",
   "metadata": {},
   "source": [
    "P:\n",
    "- Input: string\n",
    "- Output boolean<br><br>\n",
    "- Explicit Requirements:\n",
    "    - The return value must be a boolean\n",
    "- Implicit Requirements:\n",
    "\n"
   ]
  },
  {
   "cell_type": "code",
   "execution_count": 32,
   "metadata": {},
   "outputs": [
    {
     "data": {
      "text/plain": [
       ":repeated_substring_pattern"
      ]
     },
     "execution_count": 32,
     "metadata": {},
     "output_type": "execute_result"
    }
   ],
   "source": [
    "def repeated_substring_pattern(string)\n",
    "  string.chars.tally.values.all?(&:even?)\n",
    "end"
   ]
  },
  {
   "cell_type": "code",
   "execution_count": 33,
   "metadata": {},
   "outputs": [
    {
     "name": "stdout",
     "output_type": "stream",
     "text": [
      "true\n",
      "true\n",
      "true\n",
      "true\n",
      "true\n"
     ]
    },
    {
     "data": {
      "text/plain": [
       "true"
      ]
     },
     "execution_count": 33,
     "metadata": {},
     "output_type": "execute_result"
    }
   ],
   "source": [
    "p repeated_substring_pattern(\"abab\") == true\n",
    "p repeated_substring_pattern(\"aba\") == false\n",
    "p repeated_substring_pattern(\"aabaaba\") == false\n",
    "p repeated_substring_pattern(\"abaababaab\") == true\n",
    "p repeated_substring_pattern(\"abcabcabcabc\") == true"
   ]
  },
  {
   "cell_type": "code",
   "execution_count": null,
   "metadata": {},
   "outputs": [],
   "source": []
  }
 ],
 "metadata": {
  "kernelspec": {
   "display_name": "Ruby 2.7.5",
   "language": "ruby",
   "name": "ruby"
  },
  "language_info": {
   "file_extension": ".rb",
   "mimetype": "application/x-ruby",
   "name": "ruby",
   "version": "2.7.5"
  },
  "orig_nbformat": 4,
  "vscode": {
   "interpreter": {
    "hash": "aee8b7b246df8f9039afb4144a1f6fd8d2ca17a180786b69acc140d282b71a49"
   }
  }
 },
 "nbformat": 4,
 "nbformat_minor": 2
}
