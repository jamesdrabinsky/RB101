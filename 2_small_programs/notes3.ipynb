{
 "cells": [
  {
   "cell_type": "markdown",
   "metadata": {},
   "source": [
    "### Truthiness\n",
    "\n",
    "- Short circuiting occurs when an expression stops evaluating when it can guarantee the return value\n",
    "- Ruby considers everything to be truthy with the exception of `false` and `nil`\n"
   ]
  },
  {
   "cell_type": "code",
   "execution_count": 8,
   "metadata": {},
   "outputs": [
    {
     "name": "stdout",
     "output_type": "stream",
     "text": [
      "false\n",
      "true\n"
     ]
    }
   ],
   "source": [
    "puts false && 3/0\n",
    "puts true || 3/0"
   ]
  },
  {
   "cell_type": "markdown",
   "metadata": {},
   "source": [
    "While 5 evaluates as `true` and `nil` evaluates as `false`:"
   ]
  },
  {
   "cell_type": "code",
   "execution_count": 9,
   "metadata": {},
   "outputs": [
    {
     "name": "stdout",
     "output_type": "stream",
     "text": [
      "false\n",
      "false\n"
     ]
    }
   ],
   "source": [
    "puts 5 == true\n",
    "puts nil == false"
   ]
  },
  {
   "cell_type": "markdown",
   "metadata": {},
   "source": [
    "### Precedence\n",
    "\n",
    "```ruby\n",
    "nil ? 1 / 0 : 1 + 2  # 3\n",
    "nil && 1 / 0         # nil\n",
    "5 || 1 / 0           # 5\n",
    "```"
   ]
  },
  {
   "cell_type": "markdown",
   "metadata": {},
   "source": [
    "- In the first case `1/0` is never evaluated because its the truthy operand for `?` - it only gets run when the value to the left of `?` is truthy.  In this case `nil` is falsy so the second operand is evaluated.\n",
    "- In the second case `1/0` is never evaluated because of short circuiting; in a `&&` expression, if the first part is false there is no need to evaluate the second part.\n",
    "- In the third case, `1/0` is never evaluated because of short circuiting; in a `||` expression, if the first part is true there is no need to evaluate the second part."
   ]
  },
  {
   "cell_type": "markdown",
   "metadata": {},
   "source": [
    "### How `p` interacts with `{}` and `do..end` blocks**"
   ]
  },
  {
   "cell_type": "markdown",
   "metadata": {},
   "source": [
    "- Blocks have the lowest precedence of all operators.  But between `{}` and `do..end`, `{}` has a slightly higher precedence.\n",
    "- The binding between a method name and a method's argument (`p` and `Array#map`) is slightly tighter than a method call and a `do..end` block.  `array.map` gets executed first, then the return value and the block gets passed to `p` as separate arguments.\n",
    "- A `{}` has a higher priority which means that it binds more tightly to `array.map`.  So `array.map` is called with the block, then that return value gets passed to `p`.\n",
    "\n",
    "\n",
    "```ruby\n",
    "array = [1, 2, 3]\n",
    "\n",
    "p(array.map) do |num|\n",
    "  num + 1                           #  <Enumerator: [1, 2, 3]:map>\n",
    "end                                 #  => <Enumerator: [1, 2, 3]:map>\n",
    "\n",
    "p(array.map { |num| num + 1 })      # [2, 3, 4]\n",
    "                                    # => [2, 3, 4]\n",
    "```"
   ]
  },
  {
   "cell_type": "markdown",
   "metadata": {},
   "source": [
    "### Variable Scope\n",
    "\n",
    "- Blocks create a new scope for local variables.  The scope created by a block following a method invocations can be referred  to as an inner scope.\n",
    "- Variables initialized in an outer scope can be accessed in an inner scope, but not vice versa.\n",
    "- Peer scopes do not conflict which means that blocks cannot reference variables initialized in another block.\n",
    "- Nested blocks create their own inner scopes.\n",
    "- **Variable Shadowing**: when you use the same variable for your parameter as the variable in the outer scope, the local variable will be disregarded in the block's inner scope.\n",
    "\n",
    "________\n",
    "\n",
    "- While a block can access variables in the outer scope, a method definition cannot - its scope is self-contained.\n",
    "- A method can only access variables that were initialized in its inner scope of that are defined as parameters.\n",
    "- In situations where a local variable and a method definition (with no arguments) share the same name, Ruby will first search for the local variable and then the method with the given name.  If neither is found, a `NameError` is raised.\n",
    "\n",
    "________________________________________________________________________________________________________________________________\n",
    "\n",
    "- The rules of scope for a method invocation with a block remain in full effect even within a method definition.\n",
    "\n",
    "```ruby\n",
    "def some_method\n",
    "  a = 1\n",
    "  5.times do\n",
    "    puts a\n",
    "    b = 2 # Variables initialized within the inner scope of a block cannot be accessed by the outer scope.\n",
    "  end\n",
    "\n",
    "  puts a\n",
    "  puts b\n",
    "end\n",
    "```\n",
    "\n",
    "- A block is part of the method invocation.  In essence, the block acts as an argument to the method.  In the same way that a local vairable can be passed to a method at invocation (ex. `x = 5` .. `hello(x)`), when a method is called with a block, the block acts as an argument to that method.\n",
    "\n",
    "```ruby\n",
    "def greetings\n",
    "  yield\n",
    "  puts \"Goodbye\"\n",
    "end\n",
    "\n",
    "word = \"Hello\"\n",
    "\n",
    "greetings do\n",
    "  puts word\n",
    "end\n",
    "=> Hello\n",
    "=> Goodbye\n",
    "```\n",
    "\n",
    "- `yield` controls the interaction of the method with the block.  Since the block has access to the local variable `word`, `Hello` is output when the method is invoked and the block is executed.\n",
    "- When invoking a method with a block, we aren't just limited to executing code within the block.  We can also use the return value of the block to perform some other actions.\n",
    "\n",
    "```ruby\n",
    "a = \"hello\"\n",
    "[1, 2, 3].map { |num| a }\n",
    "=> ['hello', 'hello', 'hello']\n",
    "```\n",
    "- With `Array#map` we can use the return value fo the block to perform transformation on each element in its caller (an array).  The block also gives the `map` method access to the local variable `a`.\n",
    "- So methods can access local variables passed in as arguments and through interaction with blocks.\n",
    "________________________________________________________________________________________________________________________________\n",
    "\n",
    "- Constants can be used within blocks and method definitions.  They have lexical scope."
   ]
  },
  {
   "cell_type": "markdown",
   "metadata": {},
   "source": [
    "### Pass by Reference v. Pass by Value\n",
    "\n",
    "- Ruby exhibits a combo of pass by reference and pass by value.  Also referred to as `pass by value of the reference` or `call by sharing`.\n",
    "- When you make copies of method arguments, and pass those copies to the method, since they are copies the original objects cannot be mutated. Objects passed to methods in this way are passed by value (language is using a pass by value object passing strategy).\n",
    "- When you pass references to the methods the reference can be used to mutate the original object, provided the object is mutable.  Objects passed to methods in this way are passed by reference (language is using a pass by reference object passing strategy).\n",
    "________________________________________________________________\n",
    "- The variable doesn't actually contain the value.  Instead, it contains a pointer to a specific area in memory that contains the value.\n",
    "- Some operations mutate the address space (pass by reference) while others make the variable point to a different address space (pass by value).\n",
    "________________________________________________________________\n",
    "```ruby\n",
    ">> greeting = 'Hello'\n",
    "=> \"Hello\"\n",
    "```\n",
    "- In ruby, `greeting` references or is bound to the String object `'Hello'`.\n",
    "- The variable `greeting` stores the object ID of the string.\n",
    "\n",
    "```ruby\n",
    "greeting = 'Hello'\n",
    "wazzup = greeting\n",
    "greeting.upcase!  # Both variables references the same string and have the same object id\n",
    "```\n",
    "\n",
    "```ruby\n",
    "greeting = 'Hello'\n",
    "wazzup = greeting\n",
    "greeting = 'Dude!' # The variable is bound to a different object through assignment. \n",
    "                   # The original object is merely disconnected from the variable. \n",
    "```\n",
    "______________________________________________________________________\n",
    "- In Ruby, numbers and boolean values are immutable.\n",
    "\n",
    "```ruby\n",
    "a = 3 \n",
    "a *= 2\n",
    "```\n",
    "- This is an example of re-assignment.  The original object `3` is disconnected from the variable `a` and a new object `6` is bound to `a`.\n",
    "______________________________________________________________________"
   ]
  },
  {
   "cell_type": "code",
   "execution_count": 17,
   "metadata": {},
   "outputs": [
    {
     "name": "stdout",
     "output_type": "stream",
     "text": [
      "49260\n",
      "49260\n"
     ]
    }
   ],
   "source": [
    "def fix(value)\n",
    "  value.upcase!\n",
    "  value.concat('!')\n",
    "  value\n",
    "end\n",
    "s = 'hello'\n",
    "t = fix(s)\n",
    "\n",
    "puts s.object_id\n",
    "puts t.object_id"
   ]
  },
  {
   "cell_type": "markdown",
   "metadata": {},
   "source": [
    "- We first initialize the local variable `s` as `s = 'Hello'`.\n",
    "- Then we pass `s` to the method invocation of `fix` and bind the return value to `t`.\n",
    "- The String representing `hello` is now bound to `value` in the method.  `String#upcase!` and `String#concat` both mutate the caller so the object ID of the String that references `value` and `s` will remain the same.\n",
    "- `fix(s)` will return `'HELLO!'`"
   ]
  },
  {
   "cell_type": "code",
   "execution_count": 18,
   "metadata": {},
   "outputs": [
    {
     "data": {
      "text/plain": [
       "\"HELLO!\""
      ]
     },
     "execution_count": 18,
     "metadata": {},
     "output_type": "execute_result"
    }
   ],
   "source": [
    "def fix(value)\n",
    "  value = value.upcase\n",
    "  value.concat('!')\n",
    "end\n",
    "\n",
    "s = 'hello'\n",
    "t = fix(s)"
   ]
  },
  {
   "cell_type": "markdown",
   "metadata": {},
   "source": [
    "- We first initialize the local variable `s` as `s = 'Hello'`.\n",
    "- Then we pass `s` to the method invocation of `fix` and bind the return value to `t`.\n",
    "- Within the method, a copy is made of the String referenced by `value` and the copy is mutated before being returning a reference of that copy back to `value`.  \n",
    "- `value` now references a different object than it did before."
   ]
  },
  {
   "cell_type": "code",
   "execution_count": 19,
   "metadata": {},
   "outputs": [
    {
     "name": "stdout",
     "output_type": "stream",
     "text": [
      "49280\n",
      "49280\n"
     ]
    }
   ],
   "source": [
    "def fix(value)\n",
    "  value = value.upcase!\n",
    "  value.concat('!')\n",
    "end\n",
    "\n",
    "s = 'hello'\n",
    "puts s.object_id\n",
    "t = fix(s)\n",
    "puts t.object_id"
   ]
  },
  {
   "cell_type": "markdown",
   "metadata": {},
   "source": [
    "- This time, though we assigned a reference to `value`, we end up with both `s` and `t` referring to the same object. \n",
    "- The reason for this is that `String#upcase!` returns a reference to its caller, `value`. Since the reference returned by `value.upcase!` is the same, albeit **mutated**, String we started with, the assignment effectively rebinds value back to the object it was previously bound to; nothing is mutated by the assignment."
   ]
  }
 ],
 "metadata": {
  "kernelspec": {
   "display_name": "Ruby 2.7.5",
   "language": "ruby",
   "name": "ruby"
  },
  "language_info": {
   "file_extension": ".rb",
   "mimetype": "application/x-ruby",
   "name": "ruby",
   "version": "2.7.5"
  },
  "orig_nbformat": 4,
  "vscode": {
   "interpreter": {
    "hash": "aee8b7b246df8f9039afb4144a1f6fd8d2ca17a180786b69acc140d282b71a49"
   }
  }
 },
 "nbformat": 4,
 "nbformat_minor": 2
}
