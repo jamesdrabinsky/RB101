{
 "cells": [
  {
   "cell_type": "markdown",
   "metadata": {},
   "source": [
    "### When we talk about local varaible scope, what detrmines where a variable is scoped?\n",
    "\n",
    "Local variables scope is determined from where it is initialized."
   ]
  },
  {
   "cell_type": "markdown",
   "metadata": {},
   "source": [
    "### When we discuss local variable scope in what specific cases in our program do we run into local variable scoping rules \n",
    "\n",
    "1) Method definitions\n",
    "    - defining a method and what it will do in our program `def...end`\n",
    "\n",
    "2) Blocks\n",
    "    - A block follows method invocation and is delimited by `{}` or `do...end` \n",
    "    - ex. `{int}.times`"
   ]
  },
  {
   "cell_type": "markdown",
   "metadata": {},
   "source": [
    "### Local Variables Scoping rules\n",
    "\n",
    "Method definitions have self contained scope and can only access a local variable if it is initialized inside the method definition or defined as a parameter.\n",
    "\n",
    "```ruby\n",
    "def say_hello(name) # parameter\n",
    "    puts \"#{name}\"\n",
    "end\n",
    "\n",
    "say_hello(\"Maddy\") # argument\n",
    "```\n",
    "\n",
    "Invoking this method will return `nil`"
   ]
  },
  {
   "cell_type": "code",
   "execution_count": 1,
   "metadata": {},
   "outputs": [
    {
     "data": {
      "text/plain": [
       ":hash_method"
      ]
     },
     "execution_count": 1,
     "metadata": {},
     "output_type": "execute_result"
    }
   ],
   "source": [
    "def hash_method\n",
    "  { 'a': 1, 'b': 2 }\n",
    "end\n",
    "\n",
    "# Return value of methods is always their last evaluated line.\n",
    "\n",
    "def hash_method\n",
    "  { 'a': 1, 'b': 2 }\n",
    "  puts \"hi\"\n",
    "end"
   ]
  },
  {
   "cell_type": "markdown",
   "metadata": {},
   "source": [
    "`puts hash_method` will output hi and return `nil`"
   ]
  },
  {
   "cell_type": "markdown",
   "metadata": {},
   "source": [
    "### Mutating vs, Non-Mutating Methods \n",
    "\n",
    "**What does a  mutating method return?\n",
    "**\n",
    "mutating method returns the same objects passed in, now mutated\n",
    "\n",
    "ruby appears to be pass by reference with mutating methods\n",
    "\n",
    "**What does a non-mutating method return?**\n",
    "\n",
    "mutating methods returns a new Object\n",
    "\n",
    "ruby appears to be pass by value with non-mutating methods \n",
    "\n"
   ]
  }
 ],
 "metadata": {
  "kernelspec": {
   "display_name": "Ruby 2.7.5",
   "language": "ruby",
   "name": "ruby"
  },
  "language_info": {
   "file_extension": ".rb",
   "mimetype": "application/x-ruby",
   "name": "ruby",
   "version": "2.7.5"
  },
  "orig_nbformat": 4
 },
 "nbformat": 4,
 "nbformat_minor": 2
}
