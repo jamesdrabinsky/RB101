{
 "cells": [
  {
   "cell_type": "markdown",
   "metadata": {},
   "source": [
    "## Truthiness\n",
    "\n",
    "### Expressions and Conditionals\n",
    "\n",
    "Short circuiting the `&&` and `||` operators exhibit a behavior called `short circuiting`, which means it will stop evaluating expressions once it can guarantee the return value.<br><br>\n",
    "\n",
    "The `&&` will short circuit when it encounters the first `false` expressions\n",
    "\n",
    "```ruby\n",
    "false && 3/0\n",
    "=> false\n",
    "```\n",
    "\n",
    "Notice the above code doesn't generate a `ZeroDivisionError`. This is because the `&&` operator didn't even evaluate the second expression; since the first expression is `false`, it can short circuit and return `false`.\n",
    "\n",
    "Also, notice that `false || 3/0` will generate an error.\n",
    "\n",
    "```ruby\n",
    "false || 3/0\n",
    "# ZeroDivisionError: divided by 0\n",
    "```\n",
    "\n",
    "The `||` will short circuit when it encounters the first true expression.\n",
    "\n",
    "### Truthiness\n",
    "\n",
    "**Ruby is a very liberal language and considers everything to be truthy other than `false` and `nil`.**\n",
    "\n",
    "It does **not**, however, mean that  `5 == true`:\n",
    "\n",
    "```ruby\n",
    "num = 5\n",
    "num == true        # => false\n",
    "```"
   ]
  },
  {
   "cell_type": "markdown",
   "metadata": {},
   "source": [
    "## Flowchart & Pseudocode\n",
    "\n",
    "Asking the user to give us N collections of numbers. We want to take the largest number out of each collection, and display it.\n",
    "\n",
    "high-level psuedo code:\n",
    "\n",
    "```\n",
    "while user wants to keep going\n",
    "  - ask the user for a collection of numbers\n",
    "  - extract the largest one from that collection and save it  -- Subprocess\n",
    "  - ask the user if they want to input another collection\n",
    "\n",
    "return saved list of numbers\n",
    "```\n",
    "\n",
    "Translating shortened pseudo-code into formal pseudo-code:\n",
    "\n",
    "```\n",
    "START\n",
    "\n",
    "SET large_numbers = []\n",
    "SET keep_going = true\n",
    "\n",
    "WHILE keep_going == true\n",
    "  GET \"enter a collection\"\n",
    "  SET collection\n",
    "  SET largest_number = SUBPROCESS \"extract the largest one from that collection\"\n",
    "  large_numbers.push(largest_number)\n",
    "  GET \"enter another collection?\"\n",
    "  IF \"yes\"\n",
    "    keep_going = true\n",
    "  ELSE\n",
    "    keep_going = false\n",
    "  IF keep_going == false\n",
    "    exit the loop\n",
    "\n",
    "PRINT large_numbers\n",
    "\n",
    "END\n",
    "```\n",
    "\n",
    "A flowchart for this peusdo code would look like this:\n",
    "\n",
    "<img src=\"flowchart_example.jpeg\" width=500>"
   ]
  },
  {
   "cell_type": "markdown",
   "metadata": {},
   "source": [
    "## Precedence\n",
    "\n",
    "### Evaluation Order\n",
    "\n",
    "The ternary operator (`?:`) and the short-circuit operators `&&` and `||` are a common source of unexpected behavior where precedence is concerned. Consider the following expressions:\n",
    "\n",
    "```ruby\n",
    "3 ? 1 / 0 : 1 + 2  # raises error ZeroDivisionError\n",
    "5 && 1 / 0         # raises error ZeroDivisionError\n",
    "nil || 1 / 0       # raises error ZeroDivisionError\n",
    "```\n",
    "\n",
    "What happens, though, if we modify things so that `1 / 0` isn't needed?\n",
    "\n",
    "```ruby\n",
    "nil ? 1 / 0 : 1 + 2  # 3\n",
    "nil && 1 / 0         # nil\n",
    "5 || 1 / 0           # 5\n",
    "```\n",
    "\n",
    "In all 3 cases, `1 / 0 `never gets executed, even though operator precedence would suggest that it should be evaluated first. \n",
    "- In the first expression, `1 / 0` isn't evaluated since it's the truthy operand for the `?:` - it only gets run when the value to the left of `?` is truthy. Instead, the code returns `3 (1 + 2)`.\n",
    "- The other two expressions don't evaluate `1 / 0` due to `short-circuiting`. In all 3 expressions, this is simply the way Ruby works - it treats `?:`, `&&`, and `||` differently from other operators and doesn't evaluate subexpressions unless it needs them.\n",
    "\n",
    "### Diving Deeper"
   ]
  },
  {
   "cell_type": "code",
   "execution_count": 4,
   "metadata": {},
   "outputs": [
    {
     "name": "stdout",
     "output_type": "stream",
     "text": [
      "[2, 3, 4]\n"
     ]
    },
    {
     "data": {
      "text/plain": [
       "[2, 3, 4]"
      ]
     },
     "execution_count": 4,
     "metadata": {},
     "output_type": "execute_result"
    }
   ],
   "source": [
    "array = [1, 2, 3]\n",
    "p array.map { |num| num + 1 } # The return value of `map` then gets passed into p as an argument, which outputs `[2, 3, 4]`."
   ]
  },
  {
   "cell_type": "code",
   "execution_count": 5,
   "metadata": {},
   "outputs": [
    {
     "name": "stdout",
     "output_type": "stream",
     "text": [
      "#<Enumerator: [1, 2, 3]:map>\n"
     ]
    },
    {
     "data": {
      "text/plain": [
       "#<Enumerator: [1, 2, 3]:map>"
      ]
     },
     "execution_count": 5,
     "metadata": {},
     "output_type": "execute_result"
    }
   ],
   "source": [
    "array = [1, 2, 3]\n",
    "p array.map do |num|\n",
    "  num + 1\n",
    "end"
   ]
  },
  {
   "cell_type": "markdown",
   "metadata": {},
   "source": [
    "Blocks have the lowest precedence of all operators. But between the two, `{ }` has slightly higher precedence than `do...end`. This has an effect on which method call the block gets passed to.\n",
    "\n",
    "With `do...end` being the “weakest” of all the operators, `array.map` gets bound to `p`, which first invokes `array.map`, returning an `Enumerator` object. The `Enumerator` is then passed to `p`, along with the block. `p` prints the `Enumerator`, but doesn't do anything with the block.\n",
    "\n",
    "In other words, the binding between a method name and a method's argument (`p` and the return value of `array.map`) is slightly tighter than the binding between a method call and a `do...end` block. Thus, `array.map` gets executed first, then the return value and the block get passed to `p` as separate arguments.\n",
    "\n",
    "A `{}` block, on the other hand, has **higher priority** which means that it binds more tightly to `array.map`. Therefore, when we use `{},` `array.map `is called with the block, then the return value of `array.map` gets passed to `p`.\n",
    "\n",
    "A visualization of both scenarios:\n",
    "\n",
    "```ruby\n",
    "array = [1, 2, 3]\n",
    "\n",
    "p(array.map) do |num|\n",
    "  num + 1                           #  <Enumerator: [1, 2, 3]:map>\n",
    "end                                 #  => <Enumerator: [1, 2, 3]:map>\n",
    "\n",
    "p(array.map { |num| num + 1 })      # [2, 3, 4]\n",
    "                                    # => [2, 3, 4]\n",
    "```"
   ]
  },
  {
   "cell_type": "markdown",
   "metadata": {},
   "source": [
    "## Variable Scope\n",
    "\n",
    "### Variables and Blocks\n",
    "\n",
    "```ruby\n",
    "[1, 2, 3].each do |num|\n",
    "  puts num\n",
    "end\n",
    "```\n",
    "\n",
    "The part of the code that we call the *block* is the part following the `#each` method invocation:\n",
    "\n",
    "The `do..end` can be replaced by `{..}`.\n",
    "\n",
    "**Blocks create a new scope for local variables. You can think of the scope created by a block following a method invocation as an *inner scope***\n",
    "\n",
    "Nested blocks will create nested scopes. A variable's scope is determined by where it is initialized.\n",
    "\n",
    "**Variables initialized in an outer scope can be accessed in an inner scope, but not vice versa.**"
   ]
  },
  {
   "cell_type": "code",
   "execution_count": 7,
   "metadata": {},
   "outputs": [
    {
     "name": "stdout",
     "output_type": "stream",
     "text": [
      "1\n",
      "2\n"
     ]
    }
   ],
   "source": [
    "# Example 1: Outer scope can be accessed by inner scope\n",
    "\n",
    "a = 1\n",
    "\n",
    "loop do \n",
    "  puts a \n",
    "  a += 1\n",
    "  break\n",
    "end\n",
    "\n",
    "puts a"
   ]
  },
  {
   "cell_type": "code",
   "execution_count": 8,
   "metadata": {},
   "outputs": [
    {
     "ename": "NameError",
     "evalue": "undefined local variable or method `b' for #<Object:0x00007fc715b322f0>",
     "output_type": "error",
     "traceback": [
      "\u001b[31mNameError\u001b[0m: undefined local variable or method `b' for #<Object:0x00007fc715b322f0>",
      "(irb):7:in `irb_binding'"
     ]
    }
   ],
   "source": [
    "# Example 2: inner scope variables cannot be accessed in outer scope\n",
    "\n",
    "loop do   # the block following the invocation of the `loop` method creates an inner scope\n",
    "  b = 1\n",
    "  break\n",
    "end\n",
    "\n",
    "puts b"
   ]
  },
  {
   "cell_type": "code",
   "execution_count": null,
   "metadata": {},
   "outputs": [],
   "source": [
    "# Example 3: peer scopes do not conflict\n",
    "\n",
    "2.times do\n",
    "  a = 'hi'\n",
    "  puts a \n",
    "end\n",
    "\n",
    "loop do \n",
    "  puts a \n",
    "  break\n",
    "end\n",
    "\n",
    "# Peer blocks cannot reference variables initialized in other blocks. \n",
    "# This means that we could use the same variable name `a` in the block of code that follows \n",
    "# the `loop` method invocation. However, it's not the same variable as in the first block."
   ]
  },
  {
   "cell_type": "code",
   "execution_count": null,
   "metadata": {},
   "outputs": [],
   "source": [
    "# Example 4: nested blocks\n",
    "\n",
    "a = 1           # first level variable\n",
    "\n",
    "loop do         # second level\n",
    "  b = 2\n",
    "\n",
    "  loop do       # third level\n",
    "    c = 3\n",
    "    puts a      # => 1\n",
    "    puts b      # => 2\n",
    "    puts c      # => 3\n",
    "    break\n",
    "  end\n",
    "\n",
    "  puts a        # => 1\n",
    "  puts b        # => 2\n",
    "  puts c        # => NameError\n",
    "  break\n",
    "end\n",
    "\n",
    "puts a          # => 1\n",
    "puts b          # => NameError\n",
    "puts c          # => NameError"
   ]
  },
  {
   "cell_type": "code",
   "execution_count": 13,
   "metadata": {},
   "outputs": [
    {
     "name": "stdout",
     "output_type": "stream",
     "text": [
      "1\n",
      "2\n",
      "3\n"
     ]
    },
    {
     "data": {
      "text/plain": [
       "[1, 2, 3]"
      ]
     },
     "execution_count": 13,
     "metadata": {},
     "output_type": "execute_result"
    }
   ],
   "source": [
    "# Example 5: variable shadowing\n",
    "\n",
    "n = 10  \n",
    " \n",
    "[1, 2, 3].each do |n|\n",
    "  puts n  # The puts n will use the block parameter n and disregard the outer scoped local variable.\n",
    "end"
   ]
  },
  {
   "cell_type": "code",
   "execution_count": 14,
   "metadata": {},
   "outputs": [
    {
     "name": "stdout",
     "output_type": "stream",
     "text": [
      "10\n"
     ]
    }
   ],
   "source": [
    "n = 10\n",
    "\n",
    "1.times do |n| # Variable Shadowing\n",
    "  n  = 11 \n",
    "end\n",
    "\n",
    "puts n          # => 10"
   ]
  },
  {
   "cell_type": "markdown",
   "metadata": {},
   "source": [
    "### Variables and Method Definitions\n",
    "\n",
    "While a block can access variables that were initialized outside of the block, **a method cannot -- its scope is self-contained.**\n",
    "\n",
    "Methods can only access variables that were initialized inside the method or that are defined as parameters.\n",
    "\n",
    "**local variables that are not initialized inside a method definition must be defined as parameters.**"
   ]
  },
  {
   "cell_type": "code",
   "execution_count": 15,
   "metadata": {},
   "outputs": [
    {
     "ename": "NameError",
     "evalue": "undefined local variable or method `a' for #<Object:0x00007fc715b322f0>",
     "output_type": "error",
     "traceback": [
      "\u001b[31mNameError\u001b[0m: undefined local variable or method `a' for #<Object:0x00007fc715b322f0>",
      "(irb):5:in `some_method'",
      "(irb):9:in `irb_binding'"
     ]
    }
   ],
   "source": [
    "# Example 1: a method definition can't access local variables in another scope\n",
    "\n",
    "a = 'hi'\n",
    "\n",
    "def some_method\n",
    "  puts a\n",
    "end\n",
    "\n",
    "# invoke the method\n",
    "some_method     # => NameError: undefined local variable or method `a' for main:Object"
   ]
  },
  {
   "cell_type": "code",
   "execution_count": 16,
   "metadata": {},
   "outputs": [
    {
     "name": "stdout",
     "output_type": "stream",
     "text": [
      "5\n"
     ]
    }
   ],
   "source": [
    "# Example 2: a method definition can access objects passed in\n",
    "\n",
    "def some_method(a)\n",
    "  puts a\n",
    "end\n",
    "\n",
    "some_method(5)  # => 5"
   ]
  },
  {
   "cell_type": "code",
   "execution_count": 17,
   "metadata": {},
   "outputs": [
    {
     "name": "stdout",
     "output_type": "stream",
     "text": [
      "hi\n"
     ]
    }
   ],
   "source": [
    "# Ruby will first search for the local variable, and if it is not found, then Ruby tries to find a method with the given name. \n",
    "# If neither local variable nor method is found, then a `NameError` message will be thrown. \n",
    "\n",
    "hello = 'hi'\n",
    "\n",
    "def hello\n",
    "  \"Saying hello!\"\n",
    "end\n",
    "\n",
    "puts hello"
   ]
  },
  {
   "cell_type": "markdown",
   "metadata": {},
   "source": [
    "### Blocks within Method Definitions\n",
    "\n",
    "The rules of scope for a method invocation with a block remain in full effect even if we're working inside a method definition."
   ]
  },
  {
   "cell_type": "code",
   "execution_count": null,
   "metadata": {},
   "outputs": [],
   "source": [
    "def some_method\n",
    "  a = 1\n",
    "  5.times do\n",
    "    puts a\n",
    "    b = 2 # Variables initialized within the inner scope of a block cannot be accessed by the outer scope.\n",
    "  end\n",
    "\n",
    "  puts a\n",
    "  puts b\n",
    "end\n",
    "\n",
    "some_method     # => NameError: undefined local variable or method `b' for main:Object"
   ]
  },
  {
   "cell_type": "markdown",
   "metadata": {},
   "source": [
    "### Constants\n",
    "\n",
    "The scoping rules for constants are not the same as local variables. In procedural style programming, constants behave like globals.\n",
    "\n",
    "Constants are said to have **lexical scope**"
   ]
  },
  {
   "cell_type": "code",
   "execution_count": 19,
   "metadata": {},
   "outputs": [
    {
     "name": "stdout",
     "output_type": "stream",
     "text": [
      "Logging in Batman\n"
     ]
    }
   ],
   "source": [
    "USERNAME = 'Batman'\n",
    "\n",
    "def authenticate\n",
    "  puts \"Logging in #{USERNAME}\"\n",
    "end\n",
    "\n",
    "authenticate    # => Logging in Batman"
   ]
  },
  {
   "cell_type": "markdown",
   "metadata": {},
   "source": [
    "## More Variable Scope\n",
    "\n",
    "A block is part of the method invocation. In fact, method invocation followed by curly braces or `do..end` is the way in which we define a block in Ruby.\n",
    "\n",
    "Essentially the block acts as an argument to the method. In the same way that a local variable can be passed as an argument to a method at invocation, when a method is called with a block, the block acts as an argument to that method."
   ]
  },
  {
   "cell_type": "code",
   "execution_count": 20,
   "metadata": {},
   "outputs": [
    {
     "name": "stdout",
     "output_type": "stream",
     "text": [
      "Goodbye\n"
     ]
    }
   ],
   "source": [
    "# Example 1: method parameter not used\n",
    "\n",
    "def greetings(str)\n",
    "  puts \"Goodbye\"\n",
    "end\n",
    "\n",
    "word = \"Hello\"\n",
    "\n",
    "greetings(word)"
   ]
  },
  {
   "cell_type": "code",
   "execution_count": 21,
   "metadata": {},
   "outputs": [
    {
     "name": "stdout",
     "output_type": "stream",
     "text": [
      "Hello\n",
      "Goodbye\n"
     ]
    }
   ],
   "source": [
    "# Example 2: method parameter used\n",
    "\n",
    "def greetings(str)\n",
    "  puts str\n",
    "  puts \"Goodbye\"\n",
    "end\n",
    "\n",
    "word = \"Hello\"\n",
    "\n",
    "greetings(word)"
   ]
  },
  {
   "cell_type": "code",
   "execution_count": 22,
   "metadata": {},
   "outputs": [
    {
     "name": "stdout",
     "output_type": "stream",
     "text": [
      "Goodbye\n"
     ]
    }
   ],
   "source": [
    "# Example 3: block not executed\n",
    "\n",
    "def greetings\n",
    "  puts \"Goodbye\"\n",
    "end\n",
    "\n",
    "word = \"Hello\"\n",
    "\n",
    "greetings do\n",
    "  puts word\n",
    "end"
   ]
  },
  {
   "cell_type": "code",
   "execution_count": 23,
   "metadata": {},
   "outputs": [
    {
     "name": "stdout",
     "output_type": "stream",
     "text": [
      "Hello\n",
      "Goodbye\n"
     ]
    }
   ],
   "source": [
    "# Example 4: block executed\n",
    "\n",
    "def greetings\n",
    "  yield\n",
    "  puts \"Goodbye\"\n",
    "end\n",
    "\n",
    "word = \"Hello\"\n",
    "\n",
    "greetings do\n",
    "  puts word\n",
    "end"
   ]
  },
  {
   "cell_type": "markdown",
   "metadata": {},
   "source": [
    "In Example 3 the `greetings` method is invoked with a block, but the method is not defined to use a block in any way and so the block is not executed.\n",
    "\n",
    "In Example 4 the `yield` keyword is what controls the interaction with the block, in this case it executes the block once. Since the block has access to the local variable `word`, `Hello` is output when the block is executed. \n",
    "\n",
    "Blocks and methods can interact with each other; the level of that interaction is set by the method definition and then used at method invocation.\n",
    "\n",
    "When invoking a method with a block, we aren't just limited to executing code within the block; depending on the method definition, the method can use the *return value* of the block to perform some other action."
   ]
  },
  {
   "cell_type": "code",
   "execution_count": 24,
   "metadata": {},
   "outputs": [
    {
     "data": {
      "text/plain": [
       "[\"hello\", \"hello\", \"hello\"]"
      ]
     },
     "execution_count": 24,
     "metadata": {},
     "output_type": "execute_result"
    }
   ],
   "source": [
    "a = \"hello\"\n",
    "\n",
    "[1, 2, 3].map { |num| a }"
   ]
  },
  {
   "cell_type": "markdown",
   "metadata": {},
   "source": [
    "The `Array#map` method is defined in such a way that it uses the return value of the block to perform transformation on each element in an array. In the above example, the `#map` method doesn't have direct access to the `a` variable. However, the block that we pass to map (and that map calls) does have access to `a`. Thus, the block can use the value of `a` to determine the transformation value for each array element.\n",
    "\n",
    "How a method definition accesses local variables compared to how a method invocation with a block accesses local variables:\n",
    "\n",
    "Method definitions cannot directly access local variables initialized outside of the method definition, nor can local variables initialized outside of the method definition be reassigned from within it.\n",
    "\n",
    "A block **can** access local variables initialized outside of the block and can reassign those variables. We already know that methods can access local variables passed in as arguments, and now we have seen that methods can access local variables through interaction with blocks.\n",
    "\n",
    "We can think of **method definition** as setting a certain scope for any local variables in terms of the parameters that the method definition has, what it does with those parameters, and also how it interacts (if at all) with a block. \n",
    "\n",
    "We can then think of **method invocation** as using the scope set by the method definition. If the method is defined to use a block, then the scope of the block can provide additional flexibility in terms of how the method invocation interacts with its surroundings."
   ]
  },
  {
   "cell_type": "markdown",
   "metadata": {},
   "source": [
    "## Pass by Reference vs Pass by Value\n",
    "\n",
    "### What Ruby does\n",
    "\n",
    "Ruby exhibits a combination of behaviors from both \"pass by reference\" as well as \"pass by value\". Some people call this **pass by value of the reference** or **call by sharing**. \n",
    "\n",
    "**when an operation within the method mutates the caller, it will affect the original object**\n",
    "\n",
    "### [Variables as Pointers](https://launchschool.com/books/ruby/read/more_stuff#variables_as_pointers)\n",
    "\n",
    "The variable doesn't actually contain the value. Instead, it contains a pointer to a specific area in memory that contains the value."
   ]
  },
  {
   "cell_type": "code",
   "execution_count": 27,
   "metadata": {},
   "outputs": [
    {
     "name": "stdout",
     "output_type": "stream",
     "text": [
      "hi there\n"
     ]
    }
   ],
   "source": [
    "a = \"hi there\"\n",
    "b = a\n",
    "a = \"not here\"  # Reassigning a to a different address in memory\n",
    "\n",
    "puts b"
   ]
  },
  {
   "cell_type": "code",
   "execution_count": 28,
   "metadata": {},
   "outputs": [
    {
     "name": "stdout",
     "output_type": "stream",
     "text": [
      "hi there, Bob\n"
     ]
    }
   ],
   "source": [
    "a = \"hi there\"\n",
    "b = a\n",
    "a << \", Bob\"  # Mutating the caller (a).  Since a is still pointing to the same address in memory as b \n",
    "              # this will also mutate b\n",
    "\n",
    "puts b"
   ]
  },
  {
   "cell_type": "markdown",
   "metadata": {},
   "source": [
    "**variables are pointers to physical space in memory**\n",
    "\n",
    "**some operations mutate the address space, while others simply make the variable point to a different address space.**"
   ]
  },
  {
   "cell_type": "code",
   "execution_count": null,
   "metadata": {},
   "outputs": [],
   "source": []
  },
  {
   "cell_type": "code",
   "execution_count": 176,
   "metadata": {},
   "outputs": [
    {
     "data": {
      "text/plain": [
       "[\"Walk\", \"around\", \"the\", \"block\"]"
      ]
     },
     "execution_count": 176,
     "metadata": {},
     "output_type": "execute_result"
    }
   ],
   "source": [
    "s.split.each { |word| word.reverse if word.size >= 5 }"
   ]
  },
  {
   "cell_type": "code",
   "execution_count": 211,
   "metadata": {},
   "outputs": [
    {
     "ename": "SyntaxError",
     "evalue": "(irb):1: syntax error, unexpected end-of-input, expecting `end'",
     "output_type": "error",
     "traceback": [
      "\u001b[31mSyntaxError\u001b[0m: (irb):1: syntax error, unexpected end-of-input, expecting `end'"
     ]
    }
   ],
   "source": [
    "def stringy_2(size)\n",
    "  string = ''\n",
    "  size.times { |idx| idx.even? ? stringy << '1' : stringy << '0' }\n",
    "end"
   ]
  },
  {
   "cell_type": "code",
   "execution_count": 210,
   "metadata": {},
   "outputs": [
    {
     "data": {
      "text/plain": [
       "9"
      ]
     },
     "execution_count": 210,
     "metadata": {},
     "output_type": "execute_result"
    }
   ],
   "source": [
    "stringy_2(9)"
   ]
  },
  {
   "cell_type": "code",
   "execution_count": null,
   "metadata": {},
   "outputs": [],
   "source": []
  }
 ],
 "metadata": {
  "kernelspec": {
   "display_name": "Ruby 2.7.5",
   "language": "ruby",
   "name": "ruby"
  },
  "language_info": {
   "file_extension": ".rb",
   "mimetype": "application/x-ruby",
   "name": "ruby",
   "version": "2.7.5"
  },
  "orig_nbformat": 4,
  "vscode": {
   "interpreter": {
    "hash": "aee8b7b246df8f9039afb4144a1f6fd8d2ca17a180786b69acc140d282b71a49"
   }
  }
 },
 "nbformat": 4,
 "nbformat_minor": 2
}
