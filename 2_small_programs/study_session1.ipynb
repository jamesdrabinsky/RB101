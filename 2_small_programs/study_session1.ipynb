{
 "cells": [
  {
   "cell_type": "code",
   "execution_count": 3,
   "metadata": {},
   "outputs": [
    {
     "name": "stdout",
     "output_type": "stream",
     "text": [
      "Goodbye\n"
     ]
    }
   ],
   "source": [
    "a = 'Hello'\n",
    "\n",
    "loop do\n",
    "  a = 'Goodbye'\n",
    "  break\n",
    "end\n",
    "\n",
    "puts a"
   ]
  },
  {
   "cell_type": "markdown",
   "metadata": {},
   "source": [
    "A block has access to variables outside the block but variables initialized inside the block are not visibile outside the block."
   ]
  },
  {
   "cell_type": "code",
   "execution_count": 2,
   "metadata": {},
   "outputs": [
    {
     "name": "stdout",
     "output_type": "stream",
     "text": [
      "World\n"
     ]
    }
   ],
   "source": [
    "arr = [1]\n",
    "\n",
    "for i in arr do\n",
    "  a = 'World'\n",
    "end\n",
    "\n",
    "puts a # what will be output by this line?"
   ]
  },
  {
   "cell_type": "markdown",
   "metadata": {},
   "source": [
    "This is an edge case because `for` is NOT a method.  So `a` is visible outside the scope of the `for` loops."
   ]
  },
  {
   "cell_type": "code",
   "execution_count": 5,
   "metadata": {},
   "outputs": [
    {
     "name": "stdout",
     "output_type": "stream",
     "text": [
      "\"Hello\"\n"
     ]
    },
    {
     "data": {
      "text/plain": [
       "\"Hello\""
      ]
     },
     "execution_count": 5,
     "metadata": {},
     "output_type": "execute_result"
    }
   ],
   "source": [
    "a = 'Hello'\n",
    "b = a + ' there.'\n",
    "\n",
    "p a # what is returned here?"
   ]
  },
  {
   "cell_type": "code",
   "execution_count": 6,
   "metadata": {},
   "outputs": [
    {
     "name": "stdout",
     "output_type": "stream",
     "text": [
      "\"Hello there.\"\n"
     ]
    },
    {
     "data": {
      "text/plain": [
       "\"Hello there.\""
      ]
     },
     "execution_count": 6,
     "metadata": {},
     "output_type": "execute_result"
    }
   ],
   "source": [
    "p b # what is returned here?"
   ]
  }
 ],
 "metadata": {
  "kernelspec": {
   "display_name": "Ruby 2.7.5",
   "language": "ruby",
   "name": "ruby"
  },
  "language_info": {
   "file_extension": ".rb",
   "mimetype": "application/x-ruby",
   "name": "ruby",
   "version": "2.7.5"
  },
  "orig_nbformat": 4
 },
 "nbformat": 4,
 "nbformat_minor": 2
}
