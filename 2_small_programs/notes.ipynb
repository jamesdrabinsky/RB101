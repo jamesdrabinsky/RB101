{
 "cells": [
  {
   "cell_type": "markdown",
   "metadata": {},
   "source": [
    "## Truthiness\n",
    "\n",
    "Like everything else in Ruby, boolean objects have real classes behind them, and you can call methods on `true` and `false`\n",
    "\n",
    "```ruby\n",
    "true.class          # => TrueClass\n",
    "true.nil?           # => false\n",
    "true.to_s           # => \"true\"\n",
    "true.methods        # => list of methods you can call on the true object\n",
    "\n",
    "false.class         # => FalseClass\n",
    "false.nil?          # => false\n",
    "false.to_s          # => \"false\"\n",
    "false.methods       # => list of methods you can call on the false object\n",
    "```"
   ]
  },
  {
   "cell_type": "markdown",
   "metadata": {},
   "source": [
    "### Expressions and Conditionals\n",
    "\n",
    "Short circuiting the `&&` and `||` operators exhibit a behavior called `short circuiting`, which means it will stop evaluating expressions once it can guarantee the return value.<br><br>\n",
    "\n",
    "The `&&` will short circuit when it encounters the first `false` expressions\n",
    "\n",
    "```ruby\n",
    "false && 3/0\n",
    "=> false\n",
    "```\n",
    "\n",
    "Notice the above code doesn't generate a `ZeroDivisionError`. This is because the `&&` operator didn't even evaluate the second expression; since the first expression is `false`, it can short circuit and return `false`.\n",
    "\n",
    "Also, notice that `false || 3/0` will generate an error.\n",
    "\n",
    "```ruby\n",
    "false || 3/0\n",
    "# ZeroDivisionError: divided by 0\n",
    "```\n",
    "\n",
    "The `||` will short circuit when it encounters the first true expression.\n",
    "\n",
    "```ruby\n",
    "true || 3/0\n",
    "=> true\n",
    "```\n",
    "\n",
    "The above code doesn't generate a `ZeroDivisionError` because `||` didn't evaluate the second expression; it short circuited after encountering `true`."
   ]
  },
  {
   "cell_type": "markdown",
   "metadata": {},
   "source": [
    "### Truthiness\n",
    "\n",
    "Ruby is a very liberal language and considers everything to be truthy other than `false` and `nil`.\n",
    "\n",
    "```ruby\n",
    "num = 5\n",
    "\n",
    "if num\n",
    "  puts \"valid number\"\n",
    "else\n",
    "  puts \"error!\"\n",
    "end\n",
    "```\n",
    "\n",
    "This will actually output `\"valid number\"`. The reason is because Ruby considers any integer to be `\"truthy\"`. It does **not**, however, mean that the num variable from above is equal to `true`:\n",
    "\n",
    "```ruby\n",
    "num = 5\n",
    "num == true        # => false\n",
    "```"
   ]
  },
  {
   "cell_type": "markdown",
   "metadata": {},
   "source": [
    "## Calculator Program\n",
    "\n",
    "In Ruby, `if` expressions can return a value.\n",
    "\n",
    "```ruby\n",
    "answer = if true\n",
    "           'yes'\n",
    "         else\n",
    "           'no'\n",
    "         end\n",
    "Kernel.puts(answer)       # => yes\n",
    "```"
   ]
  },
  {
   "cell_type": "markdown",
   "metadata": {},
   "source": [
    "## Pseudo Code\n",
    "\n",
    "### Formal Pseudo Code\n",
    "\n",
    "We'll use the below keywords to assist us, along with their meaning.\n",
    "\n",
    "```\n",
    "keyword\t                meaning\n",
    "START\t                start of the program\n",
    "SET                     sets a variable we can use for later\n",
    "GET                     retrieve input from user\n",
    "PRINT\t                displays output to user\n",
    "READ\t                retrieve value from variable\n",
    "IF / ELSE IF / ELSE     show conditional branches in logic\n",
    "WHILE\t                show looping logic\n",
    "END                     end of the program\n",
    "```\n",
    "\n",
    "An example of how to iterate through an array and print out the max value:\n",
    "\n",
    "```\n",
    "START\n",
    "\n",
    "# Given a collection of integers called \"numbers\"\n",
    "\n",
    "SET iterator = 1\n",
    "SET saved_number = value within numbers collection at space 1\n",
    "\n",
    "WHILE iterator <= length of numbers\n",
    "  SET current_number = value within numbers collection at space \"iterator\"\n",
    "  IF saved_number >= current_number\n",
    "    go to the next iteration\n",
    "  ELSE\n",
    "    saved_number = current_number\n",
    "\n",
    "  iterator = iterator + 1\n",
    "\n",
    "PRINT saved_number\n",
    "\n",
    "END\n",
    "```\n",
    "\n",
    "### Translating Pseudo-Code to Program Code"
   ]
  },
  {
   "cell_type": "code",
   "execution_count": null,
   "metadata": {},
   "outputs": [],
   "source": [
    "def find_greatest(numbers)\n",
    "  saved_number = numbers[0]\n",
    "\n",
    "  numbers.each do |num|\n",
    "    if saved_number >= num\n",
    "      next\n",
    "    else\n",
    "      saved_number = num\n",
    "    end\n",
    "  end\n",
    "\n",
    "  saved_number\n",
    "end"
   ]
  },
  {
   "cell_type": "code",
   "execution_count": 8,
   "metadata": {},
   "outputs": [
    {
     "name": "stdout",
     "output_type": "stream",
     "text": [
      "101\n"
     ]
    }
   ],
   "source": [
    "def find_greatest_number(arr)\n",
    "  count = 1\n",
    "  saved_number = arr[0]\n",
    "\n",
    "  while count < arr.size\n",
    "    current_number = arr[count]\n",
    "    saved_number = current_number if current_number > saved_number\n",
    "    count += 1\n",
    "  end\n",
    "  \n",
    "  saved_number\n",
    "end\n",
    "\n",
    "puts find_greatest_number([1, 3, 21, 51, 101, 2])"
   ]
  },
  {
   "cell_type": "markdown",
   "metadata": {},
   "source": [
    "## Flowchart\n",
    "\n",
    "Asking the user to give us N collections of numbers. We want to take the largest number out of each collection, and display it.\n",
    "\n",
    "high-level psuedo code:\n",
    "\n",
    "```\n",
    "while user wants to keep going\n",
    "  - ask the user for a collection of numbers\n",
    "  - extract the largest one from that collection and save it  -- Subprocess\n",
    "  - ask the user if they want to input another collection\n",
    "\n",
    "return saved list of numbers\n",
    "```\n",
    "\n",
    "When pseudo-code gets long, it becomes very hard to trust the accuracy of the logic (remember, you can only verify the logic by running actual program code). Therefore, it's prudent to extract a logical grouping into a sub-process, and to tackle the various pieces separately.\n",
    "\n",
    "Translating shortened pseudo-code into formal pseudo-code:\n",
    "\n",
    "```\n",
    "START\n",
    "\n",
    "SET large_numbers = []\n",
    "SET keep_going = true\n",
    "\n",
    "WHILE keep_going == true\n",
    "  GET \"enter a collection\"\n",
    "  SET collection\n",
    "  SET largest_number = SUBPROCESS \"extract the largest one from that collection\"\n",
    "  large_numbers.push(largest_number)\n",
    "  GET \"enter another collection?\"\n",
    "  IF \"yes\"\n",
    "    keep_going = true\n",
    "  ELSE\n",
    "    keep_going = false\n",
    "  IF keep_going == false\n",
    "    exit the loop\n",
    "\n",
    "PRINT large_numbers\n",
    "\n",
    "END\n",
    "```\n",
    "\n",
    "A flowchart for this peusdo code would look like this:\n",
    "\n",
    "<img src=\"flowchart_example.jpeg\" width=500>\n",
    "\n",
    "As you use pseudo-code and flowcharts to help you dissect the logic of a problem, you'll be constantly trying to figure out how detailed the chart and words should be, and what can be extracted to sub-processes. This is exactly what a programmer should be thinking about when designing the solution to a problem.\n",
    "\n",
    "Start at a high level, using declarative syntax. For example, if you're working on a calculator, you can start with something like this:\n",
    "\n",
    "```\n",
    "- Get the first number\n",
    "  - Make sure it's valid, otherwise, ask for another\n",
    "- Get the second number\n",
    "  - Make sure it's valid, otherwise, ask for another\n",
    "- Get the operator\n",
    "  - Make sure it's valid, otherwise, ask again\n",
    "\n",
    "- Perform operation on the two numbers\n",
    "- Display result\n",
    "- Ask if user wants to do another calculation\n",
    "```\n",
    "\n",
    "Taking the high level pseudo-code above, we can come up with a flowchart that looks something like this.\n",
    "\n",
    "<img src=\"flowchart_calculator.jpeg\" width=500>\n",
    "\n",
    "We're only able to come up with this high level flowchart by introducing three sub-processes: `valid_number?`, v`alid_operator?`, and `find_result`. By not worrying about the low-level details of how those sub-processes will be implemented, we can think at a higher level about our overall application logic. "
   ]
  },
  {
   "cell_type": "markdown",
   "metadata": {},
   "source": [
    "## Rubocop\n",
    "\n",
    "```\n",
    "$ rubocop hello.rb\n",
    "Inspecting 1 file\n",
    "C\n",
    "\n",
    "Offenses:\n",
    "\n",
    "hello.rb:1:1: C: Style/FrozenStringLiteralComment: Missing frozen string literal comment.\n",
    "Kernel.puts(\"hello world\")\n",
    "\n",
    "hello.rb:1:13: C: Prefer single-quoted strings when you don't need string interpolation or special symbols.\n",
    "Kernel.puts(\"hello world\")\n",
    "            ^^^^^^^^^^^^^\n",
    "hello.rb:1:27: C: Layout/TrailingEmptyLines: Final newline missing.\n",
    "Kernel.puts(\"hello world\")\n",
    "\n",
    "1 file inspected, 3 offenses detected\n",
    "```\n",
    "\n",
    "the first line tells you how many files were inspected. In this case, there's just 1 file. This should tell you that Rubocop is pretty powerful, and can inspect multiple files at once. In fact, you could use it to inspect your entire project. We'll stick to working with 1 file at a time for now.\n",
    "\n",
    "the C stands for Convention, which means a convention was broken. Other possible offenses are W (warning), E (error), and F (fatal error).\n",
    "\n",
    "the list of offenses appears next; we have three, so you can see they appear sequentially in the order in which the offending code occurs in the inspected file. The first part of the offense tells you where the offense occurred: the file name, the line number, and the column number. Then C again for convention, then the offense message. After that, it even shows you the actual piece of code where the offense occurred.\n",
    "\n",
    "To find out which cop complained, we can do this.\n",
    "\n",
    "```\n",
    "$ rubocop hello.rb --format offenses\n",
    "\n",
    "1  Layout/TrailingEmptyLines\n",
    "1  Style/FrozenStringLiteralComment\n",
    "1  Style/StringLiterals\n",
    "--\n",
    "3  Total\n",
    "```"
   ]
  },
  {
   "cell_type": "markdown",
   "metadata": {},
   "source": [
    "## Debugging\n",
    "\n",
    "### Pry\n",
    "\n",
    "Pry is a powerful Ruby REPL that can replace IRB. \n",
    "\n",
    "In order to use Pry, we have to require it using `require \"pry\"`. Once we've required Pry, we can then insert `binding.pry` anywhere in our code, and when Ruby gets to that line, execution will stop and we'll be able to inspect the state of our program at that point.\n",
    "\n",
    "```ruby\n",
    "require \"pry\" # add this to use Pry\n",
    "\n",
    "counter = 0\n",
    "\n",
    "loop do\n",
    "  counter += 1\n",
    "  binding.pry   # execution will stop here\n",
    "  break if counter == 5\n",
    "end\n",
    "```\n",
    "\n",
    "Pry stops execution at the line where `binding.pry` is declared and gives us a prompt where we can type in an expression, such as `counter`, and see what the return value is. We could also change variable values if we wanted to. This is an incredibly helpful way to systematically debug our program, without spraying our entire program full of `\"puts\"`.\n",
    "\n",
    "In order to continue execution of the program, press `Ctrl + D`. Since we're in a loop, the loop will continue to iterate until `counter` equals 5. This means that `binding.pry` will execute on every iteration until we break out of the loop. We could press `Ctrl + D` every time Pry opens a session, but that could be tiresome if there are a lot of iterations. Alternatively, we can exit the program by entering `exit-program`."
   ]
  },
  {
   "cell_type": "markdown",
   "metadata": {},
   "source": [
    "## Precedence\n",
    "\n",
    "### Evaluation Order\n",
    "\n",
    "The ternary operator (`?:`) and the short-circuit operators `&&` and `||` are a common source of unexpected behavior where precedence is concerned. Consider the following expressions:\n",
    "\n",
    "```ruby\n",
    "3 ? 1 / 0 : 1 + 2  # raises error ZeroDivisionError\n",
    "5 && 1 / 0         # raises error ZeroDivisionError\n",
    "nil || 1 / 0       # raises error ZeroDivisionError\n",
    "```\n",
    "\n",
    "What happens, though, if we modify things so that `1 / 0`isn't needed?\n",
    "\n",
    "```ruby\n",
    "nil ? 1 / 0 : 1 + 2  # 3\n",
    "nil && 1 / 0         # nil\n",
    "5 || 1 / 0           # 5\n",
    "```\n",
    "\n",
    "In all 3 cases, `1 / 0 `never gets executed, even though operator precedence would suggest that it should be evaluated first. \n",
    "- In the first expression, `1 / 0` isn't evaluated since it's the truthy operand for the `?:` - it only gets run when the value to the left of `?` is truthy. Instead, the code returns `3 (1 + 2)`.\n",
    "- The other two expressions don't evaluate `1 / 0` due to `short-circuiting`. In all 3 expressions, this is simply the way Ruby works - it treats `?:`, `&&`, and `||` differently from other operators and doesn't evaluate subexpressions unless it needs them.\n",
    "\n",
    "### Diving Deeper"
   ]
  },
  {
   "cell_type": "code",
   "execution_count": 20,
   "metadata": {},
   "outputs": [
    {
     "data": {
      "text/plain": [
       "[2, 3, 4]"
      ]
     },
     "execution_count": 20,
     "metadata": {},
     "output_type": "execute_result"
    }
   ],
   "source": [
    "array = [1, 2, 3]\n",
    "array.map { |num| num + 1 }"
   ]
  },
  {
   "cell_type": "code",
   "execution_count": 21,
   "metadata": {},
   "outputs": [
    {
     "name": "stdout",
     "output_type": "stream",
     "text": [
      "[2, 3, 4]\n"
     ]
    },
    {
     "data": {
      "text/plain": [
       "[2, 3, 4]"
      ]
     },
     "execution_count": 21,
     "metadata": {},
     "output_type": "execute_result"
    }
   ],
   "source": [
    "array = [1, 2, 3]\n",
    "p array.map { |num| num + 1 }"
   ]
  },
  {
   "cell_type": "markdown",
   "metadata": {},
   "source": [
    "It’s pretty much the same as the first code. The difference is that the return value of `map` then gets passed into p as an argument, which outputs `[2, 3, 4]`."
   ]
  },
  {
   "cell_type": "markdown",
   "metadata": {},
   "source": [
    "Now consider the next example. It’s the same `map` call but now with a `do...end` block. There should be no surprises here as regardless of the form the block takes, the code should do the same thing."
   ]
  },
  {
   "cell_type": "code",
   "execution_count": 22,
   "metadata": {},
   "outputs": [
    {
     "data": {
      "text/plain": [
       "[2, 3, 4]"
      ]
     },
     "execution_count": 22,
     "metadata": {},
     "output_type": "execute_result"
    }
   ],
   "source": [
    "array = [1, 2, 3]\n",
    "array.map do |num|\n",
    "  num + 1\n",
    "end"
   ]
  },
  {
   "cell_type": "code",
   "execution_count": 23,
   "metadata": {},
   "outputs": [
    {
     "name": "stdout",
     "output_type": "stream",
     "text": [
      "#<Enumerator: [1, 2, 3]:map>\n"
     ]
    },
    {
     "data": {
      "text/plain": [
       "#<Enumerator: [1, 2, 3]:map>"
      ]
     },
     "execution_count": 23,
     "metadata": {},
     "output_type": "execute_result"
    }
   ],
   "source": [
    "array = [1, 2, 3]\n",
    "p array.map do |num|\n",
    "  num + 1\n",
    "end"
   ]
  },
  {
   "cell_type": "markdown",
   "metadata": {},
   "source": [
    "As it turns out, blocks have the lowest precedence of all operators. But between the two, `{ }` has slightly higher precedence than `do...end`. This has an effect on which method call the block gets passed to. That's why we get the unexpected result.\n",
    "\n",
    "With `do...end` being the “weakest” of all the operators, `array.map` gets bound to `p`, which first invokes `array.map`, returning an `Enumerator` object. The `Enumerator` is then passed to `p`, along with the block. `p` prints the `Enumerator`, but doesn't do anything with the block.\n",
    "\n",
    "In other words, the binding between a method name and a method's argument (`p` and the return value of `array.map`) is slightly tighter than the binding between a method call and a `do...end` block. Thus, `array.map` gets executed first, then the return value and the block get passed to `p` as separate arguments.\n",
    "\n",
    "A `{}` block, on the other hand, has **higher priority** which means that it binds more tightly to `array.map`. Therefore, when we use `{},` `array.map `is called with the block, then the return value of `array.map` gets passed to `p`.\n",
    "\n",
    "A visualization of both scenarios:\n",
    "\n",
    "```ruby\n",
    "array = [1, 2, 3]\n",
    "\n",
    "p(array.map) do |num|\n",
    "  num + 1                           #  <Enumerator: [1, 2, 3]:map>\n",
    "end                                 #  => <Enumerator: [1, 2, 3]:map>\n",
    "\n",
    "p(array.map { |num| num + 1 })      # [2, 3, 4]\n",
    "                                    # => [2, 3, 4]\n",
    "```\n",
    "\n",
    "### Ruby's `tap` method"
   ]
  },
  {
   "cell_type": "code",
   "execution_count": 29,
   "metadata": {},
   "outputs": [
    {
     "name": "stdout",
     "output_type": "stream",
     "text": [
      "[2, 3, 4]\n"
     ]
    },
    {
     "data": {
      "text/plain": [
       "[2, 3, 4]"
      ]
     },
     "execution_count": 29,
     "metadata": {},
     "output_type": "execute_result"
    }
   ],
   "source": [
    "array = [1, 2, 3]\n",
    "mapped_array = array.map { |num| num + 1 }\n",
    "mapped_and_tapped = mapped_array.tap { |value| p value }              # => [2, 3, 4]"
   ]
  },
  {
   "cell_type": "markdown",
   "metadata": {},
   "source": [
    "`array.map { |num| num + 1 }` resolves to `[2, 3, 4]`, which then gets used to call `tap`. `tap` takes the calling object and passes it to the block argument, then returns that same object. Typically, you will do something like `print` the object inside that block.\n",
    "\n",
    "One other use case for this method is to debug intermediate objects in method chains. Take the example below. As you can see, the transformation done and the resulting object at every step is now visible to us by just using `tap`."
   ]
  },
  {
   "cell_type": "code",
   "execution_count": 30,
   "metadata": {},
   "outputs": [
    {
     "name": "stdout",
     "output_type": "stream",
     "text": [
      "1..10\n",
      "[1, 2, 3, 4, 5, 6, 7, 8, 9, 10]\n",
      "[2, 4, 6, 8, 10]\n",
      "[4, 16, 36, 64, 100]\n"
     ]
    },
    {
     "data": {
      "text/plain": [
       "[4, 16, 36, 64, 100]"
      ]
     },
     "execution_count": 30,
     "metadata": {},
     "output_type": "execute_result"
    }
   ],
   "source": [
    "(1..10)                 .tap { |x| p x }   # 1..10\n",
    " .to_a                  .tap { |x| p x }   # [1, 2, 3, 4, 5, 6, 7, 8, 9, 10]\n",
    " .select {|x| x.even? } .tap { |x| p x }   # [2, 4, 6, 8, 10]\n",
    " .map {|x| x*x }        .tap { |x| p x }   # [4, 16, 36, 64, 100]\n",
    "\n",
    "#  (1..10).select(&:even?).map { |x| x*x }"
   ]
  },
  {
   "cell_type": "markdown",
   "metadata": {},
   "source": [
    "### Calculator Bonus Features\n",
    "\n",
    "**1.Better integer validation.**\n",
    "\n",
    "```ruby\n",
    "def integer?(input)\n",
    "  input.to_i.to_s == input\n",
    "end\n",
    "```\n",
    "\n",
    "This isn't perfect, however, because while \"0\" will return true, if we input \"00\", this method will return false.\n",
    "\n",
    "```ruby\n",
    "def integer?(input)\n",
    "  /^-?\\d+$/.match(input)\n",
    "end\n",
    "```\n",
    "\n",
    "Use regex. Slightly more complex, but we're using the `\\d` regular expression to test against all digits. The `^` means start of string, the `+` means \"one or more\" (of the preceding matcher), and the `$` means end of string. Therefore, it has to be an integer, and a float, like 4.5 won't match. When there's a match, the match method will return a `MatchData` object, which will evaluate to `true`. When there's no match, it'll return `nil`, which will evaluate to `false`.\n",
    "\n",
    "```ruby\n",
    "def integer?(input)\n",
    "  Integer(input) rescue false\n",
    "end\n",
    "```\n",
    "\n",
    "Use built-in conversion method. In Ruby, there's a method called `Kernel#Integer` that will convert parameters to the method into an integer object. It will, however, raise a `TypeError` if the input is not a valid integer.\n",
    "\n",
    "**2. Number validation**\n",
    "\n"
   ]
  },
  {
   "cell_type": "code",
   "execution_count": 60,
   "metadata": {},
   "outputs": [
    {
     "data": {
      "text/plain": [
       ":number?"
      ]
     },
     "execution_count": 60,
     "metadata": {},
     "output_type": "execute_result"
    }
   ],
   "source": [
    "def number?(number)\n",
    "  number.split('.').map(&:to_i).all? { |x| x.is_a? Integer }\n",
    "  # number.chars.select { |x| x != '.' }.map(&:to_i).all? { |x| x.is_a? Integer }\n",
    "end"
   ]
  },
  {
   "cell_type": "markdown",
   "metadata": {},
   "source": [
    "```ruby\n",
    "def float?(input)\n",
    "  input.to_f.to_s == input\n",
    "end\n",
    "```\n",
    "\n",
    "```ruby\n",
    "def number?(input)\n",
    "  integer?(input) || float?(input)\n",
    "end\n",
    "```\n",
    "We already have the integer? method, so all we need to do is implement a float? method.\n",
    "\n",
    "\n",
    "```ruby\n",
    "def float?(input)\n",
    "  /\\d/.match(input) && /^-?\\d*\\.?\\d*$/.match(input)\n",
    "end\n",
    "```\n",
    "\n",
    "Use regex. This regex is similar to the regex in the `integer?` method, except we have to account for more possible formats. We can combine two validations to verify that the input is a valid float. The first validation verifies that there is at least one digit in the input. The second validation incorporates the `*` which stands for \"zero or more\", and the `?` which stands for \"zero or one\". This validation can be read as \"zero or more digits, followed by an optional period, followed by zero or more digits. This validation will accept all of these formats: 11.11, 11., .11, but not a period by itself. Notice that we had to prefix the `.` with a backslash. That is because . matches any single character in regex. By escaping it, we tell Ruby that we are looking for the actual period character.\n",
    "\n",
    "```ruby\n",
    "def float?(input)\n",
    "  Float(input) rescue false\n",
    "end\n",
    "```\n",
    "\n",
    "Use the `Kernel#Float` method, which is analogous to the `Kernel#Integer` method from earlier. Just like that method, `Float` also raises an exception if you don't give it a valid float.\n",
    "\n",
    "**3. `operation_to_message`**\n",
    "\n",
    "```ruby\n",
    "def operation_to_message(op)\n",
    "  string_op = case op\n",
    "              when '1'\n",
    "                'Adding'\n",
    "              when '2'\n",
    "                'Subtracting'\n",
    "              when '3'\n",
    "                'Multiplying'\n",
    "              when '4'\n",
    "                'Dividing'\n",
    "              end\n",
    "  string_op\n",
    "end\n",
    "```\n",
    "\n",
    "If we wanted to add code after the case statement, we would need to save the return value of the case into a variable, then make sure to return that variable, or that variable must be the last line in the method.\n",
    "\n",
    "**4. Extracting messages in the program to a configuration file.**\n",
    "\n",
    "```\n",
    "# calculator_messages.yml\n",
    "\n",
    "welcome: \"Welcome to Calculator! Enter your name:\"\n",
    "valid_name: \"Make sure to enter a valid name.\"\n",
    "\n",
    "# ... rest of file omitted for brevity\n",
    "```\n",
    "\n",
    "To use that module, in your `calculator.rb` file, add `require 'yaml'` and you can parse the `calculator_messages.yml` file, then save the parsed data into a variable.\n",
    "\n",
    "```ruby \n",
    "# at the top of file\n",
    "\n",
    "require 'yaml'\n",
    "MESSAGES = YAML.load_file('calculator_messages.yml')\n",
    "```\n",
    "\n",
    "`MESSAGES` is a normal Ruby hash\n",
    "\n",
    "Now, all we have to do is replace all hard-coded strings with the key in the `MESSAGES` hash.\n",
    "\n",
    "```ruby\n",
    "# replace this:\n",
    "prompt(\"Welcome to Calculator! Enter your name:\")\n",
    "\n",
    "# with this:\n",
    "prompt(MESSAGES['welcome'])\n",
    "```\n",
    "\n",
    "**5. Internationalize the Messages**\n",
    "\n",
    "Reorganize our yml configuration a little bit to account for different languages. We'll nest the message keys under a top-level language, thereby organizing all the values. Here's an example:\n",
    "\n",
    "```\n",
    "# reorganizing the calculator_messages.yml\n",
    "\n",
    "en:\n",
    "  welcome: \"Welcome to Calculator! Enter your name:\"\n",
    "  valid_name: \"Make sure to enter a valid name.\"\n",
    "es:\n",
    "  welcome: \"Bienvenido a la calculadora! Entre su nombre:\"\n",
    "  valid_name: \"Asegúrese de entrar un nombre válido.\"\n",
    "  ```\n",
    "\n",
    "`MESSAGES` is still a hash, except it's now a nested hash. This means we have to grab the language first, then the message.\n",
    "\n",
    "```ruby\n",
    "MESSAGES['es']['welcome']    # => Bienvenido a la calculadora! Entre su nombre:\n",
    "```\n",
    "\n",
    "Because we'll need the language key every time we reference the message, let's move that to a method we can call. That way, we can pass in the language to the method, which can then reference the MESSAGES hash.\n",
    "\n",
    "```ruby\n",
    "# at top of file after initializing MESSAGES\n",
    "\n",
    "def messages(message, lang='en')\n",
    "  MESSAGES[lang][message]\n",
    "end\n",
    "\n",
    "# english\n",
    "prompt(messages('welcome'))       # => Welcome to Calculator! Enter your name:\n",
    "\n",
    "# english\n",
    "prompt(messages('welcome', 'en')) # => Welcome to Calculator! Enter your name:\n",
    "\n",
    "# spanish\n",
    "prompt(messages('welcome', 'es')) # => Bienvenido a la calculadora! Entre su nombre:\n",
    "```\n",
    "\n",
    "The last piece is setting a default language for your program.\n",
    "\n",
    "```ruby\n",
    "# top of calculator.rb\n",
    "\n",
    "LANGUAGE = 'en'\n",
    "```\n",
    "\n",
    "```ruby\n",
    "def prompt(key)\n",
    "  message = messages(key, LANGUAGE)\n",
    "  Kernel.puts(\"=> #{message}\")\n",
    "end\n",
    "\n",
    "# now you can just do:\n",
    "prompt('welcome')\n",
    "```"
   ]
  },
  {
   "cell_type": "markdown",
   "metadata": {},
   "source": [
    "## Variable Scope\n",
    "\n",
    "### Variables and Blocks\n",
    "\n",
    "```ruby\n",
    "[1, 2, 3].each do |num|\n",
    "  puts num\n",
    "end\n",
    "```\n",
    "\n",
    "The part of the code that we call the *block* is the part following the `#each` method invocation:\n",
    "\n",
    "```ruby\n",
    "do |num|\n",
    "  puts num\n",
    "end\n",
    "```\n",
    "\n",
    "The `do..end` can be replaced by `{..}`.\n",
    "\n",
    "```ruby\n",
    "[1, 2, 3].each { |num| puts num }\n",
    "```\n",
    "\n",
    "**Blocks create a new scope for local variables. You can think of the scope created by a block following a method invocation as an *inner scope***\n",
    "\n",
    "Nested blocks will create nested scopes. A variable's scope is determined by where it is initialized.\n",
    "\n",
    "**Variables initialized in an outer scope can be accessed in an inner scope, but not vice versa.**\n",
    "\n",
    "**Example 1:** Outer scope can be accessed by inner scope"
   ]
  },
  {
   "cell_type": "code",
   "execution_count": 1,
   "metadata": {},
   "outputs": [
    {
     "name": "stdout",
     "output_type": "stream",
     "text": [
      "1\n",
      "2\n"
     ]
    }
   ],
   "source": [
    "a = 1\n",
    "\n",
    "loop do \n",
    "  puts a \n",
    "  a += 1\n",
    "  break\n",
    "end\n",
    "\n",
    "puts a"
   ]
  },
  {
   "cell_type": "markdown",
   "metadata": {},
   "source": [
    "This example demonstrates two things:\n",
    "- The first is that inner scope can access outer scope variables. \n",
    "- The second, and less intuitive, concept is that you can change variables from an inner scope and have that change affect the outer scope. \n",
    "\n",
    "**Example 2:** inner scope variables cannot be accessed in outer scope"
   ]
  },
  {
   "cell_type": "code",
   "execution_count": 2,
   "metadata": {},
   "outputs": [
    {
     "ename": "NameError",
     "evalue": "undefined local variable or method `b' for #<Object:0x00007fd3bf326320>",
     "output_type": "error",
     "traceback": [
      "\u001b[31mNameError\u001b[0m: undefined local variable or method `b' for #<Object:0x00007fd3bf326320>",
      "(irb):5:in `irb_binding'"
     ]
    }
   ],
   "source": [
    "loop do   # the block following the invocation of the `loop` method creates an inner scope\n",
    "  b = 1\n",
    "  break\n",
    "end\n",
    "\n",
    "puts b"
   ]
  },
  {
   "cell_type": "markdown",
   "metadata": {},
   "source": [
    "**Example 3:** peer scopes do not conflict"
   ]
  },
  {
   "cell_type": "code",
   "execution_count": 36,
   "metadata": {},
   "outputs": [
    {
     "name": "stdout",
     "output_type": "stream",
     "text": [
      "hi\n",
      "hi\n"
     ]
    },
    {
     "data": {
      "text/plain": [
       "2"
      ]
     },
     "execution_count": 36,
     "metadata": {},
     "output_type": "execute_result"
    }
   ],
   "source": [
    "2.times do\n",
    "  a = 'hi'\n",
    "  puts a \n",
    "end"
   ]
  },
  {
   "cell_type": "code",
   "execution_count": 1,
   "metadata": {},
   "outputs": [
    {
     "ename": "NameError",
     "evalue": "undefined local variable or method `a' for #<Object:0x00007fb99145e0c8>",
     "output_type": "error",
     "traceback": [
      "\u001b[31mNameError\u001b[0m: undefined local variable or method `a' for #<Object:0x00007fb99145e0c8>",
      "(irb):1:in `block in irb_binding'",
      "(irb):in `loop'",
      "(irb):in `irb_binding'"
     ]
    }
   ],
   "source": [
    "loop do \n",
    "  puts a \n",
    "  break\n",
    "end\n",
    "\n",
    "puts a "
   ]
  },
  {
   "cell_type": "markdown",
   "metadata": {},
   "source": [
    "Peer blocks cannot reference variables initialized in other blocks. This means that we could use the same variable name `a` in the block of code that follows the `loop` method invocation. However, it's not the same variable as in the first block."
   ]
  },
  {
   "cell_type": "markdown",
   "metadata": {},
   "source": [
    "**Example 4:** nested blocks"
   ]
  },
  {
   "cell_type": "code",
   "execution_count": 3,
   "metadata": {},
   "outputs": [
    {
     "name": "stdout",
     "output_type": "stream",
     "text": [
      "1\n",
      "2\n",
      "3\n",
      "1\n",
      "2\n"
     ]
    },
    {
     "ename": "NameError",
     "evalue": "undefined local variable or method `c' for #<Object:0x00007f8449256c58>\nDid you mean?  cb",
     "output_type": "error",
     "traceback": [
      "\u001b[31mNameError\u001b[0m: undefined local variable or method `c' for #<Object:0x00007f8449256c58>\nDid you mean?  cb",
      "(irb):15:in `block in irb_binding'",
      "(irb):2:in `loop'",
      "(irb):2:in `irb_binding'"
     ]
    }
   ],
   "source": [
    "a = 1           # first level variable\n",
    "\n",
    "loop do         # second level\n",
    "  b = 2\n",
    "\n",
    "  loop do       # third level\n",
    "    c = 3\n",
    "    puts a      # => 1\n",
    "    puts b      # => 2\n",
    "    puts c      # => 3\n",
    "    break\n",
    "  end\n",
    "\n",
    "  puts a        # => 1\n",
    "  puts b        # => 2\n",
    "  puts c        # => NameError\n",
    "  break\n",
    "end\n",
    "\n",
    "puts a          # => 1\n",
    "puts b          # => NameError\n",
    "puts c          # => NameError"
   ]
  },
  {
   "cell_type": "markdown",
   "metadata": {},
   "source": [
    "**Example 5**: variable shadowing\n",
    "\n",
    "We've been using `loop do...end`, which doesn't take a parameter, but some blocks do take a parameter. Take for example:\n",
    "\n",
    "```ruby\n",
    "[1, 2, 3].each do |n|\n",
    "  puts n\n",
    "end\n",
    "```\n",
    "\n",
    "The block is the `do...end`, and the block parameter is captured between the `|` symbols. In the above example, the block parameter is `n`, which represents each element as the each method iterates through the array.\n",
    "\n",
    "But what if we had a variable named `n` in the outer scope? We know that the inner scope has access to the outer scope, so we'd essentially have two local variables in the inner scope with the same name. When that happens, it's called **variable shadowing**, and it prevents access to the outer scope local variable."
   ]
  },
  {
   "cell_type": "code",
   "execution_count": 6,
   "metadata": {},
   "outputs": [
    {
     "name": "stdout",
     "output_type": "stream",
     "text": [
      "1\n",
      "2\n",
      "3\n"
     ]
    },
    {
     "data": {
      "text/plain": [
       "[1, 2, 3]"
      ]
     },
     "execution_count": 6,
     "metadata": {},
     "output_type": "execute_result"
    }
   ],
   "source": [
    "n = 10  \n",
    " \n",
    "[1, 2, 3].each do |n|\n",
    "  puts n  # The puts n will use the block parameter n and disregard the outer scoped local variable.\n",
    "end"
   ]
  },
  {
   "cell_type": "code",
   "execution_count": 11,
   "metadata": {},
   "outputs": [
    {
     "name": "stdout",
     "output_type": "stream",
     "text": [
      "10\n"
     ]
    }
   ],
   "source": [
    "n = 10\n",
    "\n",
    "1.times do |n| # Variable Shadowing\n",
    "  n  = 11 \n",
    "end\n",
    "\n",
    "puts n          # => 10"
   ]
  },
  {
   "cell_type": "markdown",
   "metadata": {},
   "source": [
    "### Variables and Method Definitions\n",
    "\n",
    "While a block can access variables that were initialized outside of the block, **a method cannot -- its scope is self-contained.**\n",
    "\n",
    "Methods can only access variables that were initialized inside the method or that are defined as parameters.\n",
    "\n",
    "**Example 1**: a method definition can't access local variables in another scope"
   ]
  },
  {
   "cell_type": "code",
   "execution_count": 12,
   "metadata": {},
   "outputs": [
    {
     "ename": "NameError",
     "evalue": "undefined local variable or method `a' for #<Object:0x00007f8449256c58>",
     "output_type": "error",
     "traceback": [
      "\u001b[31mNameError\u001b[0m: undefined local variable or method `a' for #<Object:0x00007f8449256c58>",
      "(irb):3:in `some_method'",
      "(irb):7:in `irb_binding'"
     ]
    }
   ],
   "source": [
    "a = 'hi'\n",
    "\n",
    "def some_method\n",
    "  puts a\n",
    "end\n",
    "\n",
    "# invoke the method\n",
    "some_method     # => NameError: undefined local variable or method `a' for main:Object"
   ]
  },
  {
   "cell_type": "markdown",
   "metadata": {},
   "source": [
    "**Example 2**: a method definition can access objects passed in"
   ]
  },
  {
   "cell_type": "code",
   "execution_count": 13,
   "metadata": {},
   "outputs": [
    {
     "name": "stdout",
     "output_type": "stream",
     "text": [
      "5\n"
     ]
    }
   ],
   "source": [
    "def some_method(a)\n",
    "  puts a\n",
    "end\n",
    "\n",
    "some_method(5)  # => 5"
   ]
  },
  {
   "cell_type": "code",
   "execution_count": 14,
   "metadata": {},
   "outputs": [
    {
     "name": "stdout",
     "output_type": "stream",
     "text": [
      "hi\n"
     ]
    }
   ],
   "source": [
    "hello = 'hi'\n",
    "\n",
    "def hello\n",
    "  \"Saying hello!\"\n",
    "end\n",
    "\n",
    "puts hello"
   ]
  },
  {
   "cell_type": "markdown",
   "metadata": {},
   "source": [
    "Ruby will first search for the local variable, and if it is not found, then Ruby tries to find a method with the given name. If neither local variable nor method is found, then a `NameError` message will be thrown. \n",
    "\n",
    "To remove some of the ambiguity in a situation like this, we can indicate that we want to call the method by including a set of empty argument parentheses with the method invocation. For example, replacing puts hello with puts `hello()` will indicate to Ruby that we want to call the hello method and not the local variable."
   ]
  },
  {
   "cell_type": "code",
   "execution_count": 15,
   "metadata": {},
   "outputs": [
    {
     "name": "stdout",
     "output_type": "stream",
     "text": [
      "hi\n"
     ]
    }
   ],
   "source": [
    "hello = 'hi'\n",
    "\n",
    "def hello\n",
    "  \"Saying hello!\"\n",
    "end\n",
    "\n",
    "puts hello"
   ]
  },
  {
   "cell_type": "markdown",
   "metadata": {},
   "source": [
    "**local variables that are not initialized inside a method definition must be defined as parameters.**"
   ]
  },
  {
   "cell_type": "markdown",
   "metadata": {},
   "source": [
    "### Blocks within Method Definitions\n",
    "\n",
    "the rules of scope for a method invocation with a block remain in full effect even if we're working inside a method definition."
   ]
  },
  {
   "cell_type": "code",
   "execution_count": 16,
   "metadata": {},
   "outputs": [
    {
     "name": "stdout",
     "output_type": "stream",
     "text": [
      "1\n",
      "1\n",
      "1\n",
      "1\n",
      "1\n",
      "1\n"
     ]
    },
    {
     "ename": "NameError",
     "evalue": "undefined local variable or method `b' for #<Object:0x00007f8449256c58>",
     "output_type": "error",
     "traceback": [
      "\u001b[31mNameError\u001b[0m: undefined local variable or method `b' for #<Object:0x00007f8449256c58>",
      "(irb):8:in `some_method'",
      "(irb):11:in `irb_binding'"
     ]
    }
   ],
   "source": [
    "def some_method\n",
    "  a = 1\n",
    "  5.times do\n",
    "    puts a\n",
    "    b = 2\n",
    "  end\n",
    "\n",
    "  puts a\n",
    "  puts b\n",
    "end\n",
    "\n",
    "some_method     # => NameError: undefined local variable or method `b' for main:Object"
   ]
  },
  {
   "cell_type": "markdown",
   "metadata": {},
   "source": [
    "### Constants\n",
    "\n",
    "The scoping rules for constants are not the same as local variables. In procedural style programming, constants behave like globals."
   ]
  },
  {
   "cell_type": "code",
   "execution_count": 17,
   "metadata": {},
   "outputs": [
    {
     "name": "stdout",
     "output_type": "stream",
     "text": [
      "Logging in Batman\n"
     ]
    }
   ],
   "source": [
    "USERNAME = 'Batman'\n",
    "\n",
    "def authenticate\n",
    "  puts \"Logging in #{USERNAME}\"\n",
    "end\n",
    "\n",
    "authenticate    # => Logging in Batman"
   ]
  },
  {
   "cell_type": "code",
   "execution_count": 18,
   "metadata": {},
   "outputs": [
    {
     "name": "stdout",
     "output_type": "stream",
     "text": [
      "I love taupe!\n"
     ]
    },
    {
     "data": {
      "text/plain": [
       "1"
      ]
     },
     "execution_count": 18,
     "metadata": {},
     "output_type": "execute_result"
    }
   ],
   "source": [
    "FAVORITE_COLOR = 'taupe'\n",
    "\n",
    "1.times do\n",
    "  puts \"I love #{FAVORITE_COLOR}!\"  # => I love taupe!\n",
    "end"
   ]
  },
  {
   "cell_type": "code",
   "execution_count": 19,
   "metadata": {},
   "outputs": [
    {
     "name": "stdout",
     "output_type": "stream",
     "text": [
      "Phoenix Suns\n"
     ]
    }
   ],
   "source": [
    "loop do\n",
    "  MY_TEAM = \"Phoenix Suns\"\n",
    "  break\n",
    "end\n",
    "\n",
    "puts MY_TEAM    # => Phoenix Suns"
   ]
  },
  {
   "cell_type": "markdown",
   "metadata": {},
   "source": [
    "Constants are said to have **lexical scope**"
   ]
  },
  {
   "cell_type": "markdown",
   "metadata": {},
   "source": [
    "## More Variable Scope\n",
    "\n",
    "A block is part of the method invocation. In fact, method invocation followed by curly braces or `do..end` is the way in which we define a block in Ruby.\n",
    "\n",
    "Essentially the block acts as an argument to the method. In the same way that a local variable can be passed as an argument to a method at invocation, when a method is called with a block, the block acts as an argument to that method.\n",
    "\n",
    "**Example 1**: method parameter not used"
   ]
  },
  {
   "cell_type": "code",
   "execution_count": 20,
   "metadata": {},
   "outputs": [
    {
     "name": "stdout",
     "output_type": "stream",
     "text": [
      "Goodbye\n"
     ]
    }
   ],
   "source": [
    "def greetings(str)\n",
    "  puts \"Goodbye\"\n",
    "end\n",
    "\n",
    "word = \"Hello\"\n",
    "\n",
    "greetings(word)"
   ]
  },
  {
   "cell_type": "markdown",
   "metadata": {},
   "source": [
    "**Example 2**: method parameter used"
   ]
  },
  {
   "cell_type": "code",
   "execution_count": 21,
   "metadata": {},
   "outputs": [
    {
     "name": "stdout",
     "output_type": "stream",
     "text": [
      "Hello\n",
      "Goodbye\n"
     ]
    }
   ],
   "source": [
    "def greetings(str)\n",
    "  puts str\n",
    "  puts \"Goodbye\"\n",
    "end\n",
    "\n",
    "word = \"Hello\"\n",
    "\n",
    "greetings(word)"
   ]
  },
  {
   "cell_type": "markdown",
   "metadata": {},
   "source": [
    "**Example 3**: block not executed"
   ]
  },
  {
   "cell_type": "code",
   "execution_count": 25,
   "metadata": {},
   "outputs": [
    {
     "name": "stdout",
     "output_type": "stream",
     "text": [
      "Goodbye\n"
     ]
    }
   ],
   "source": [
    "def greetings\n",
    "  puts \"Goodbye\"\n",
    "end\n",
    "\n",
    "word = \"Hello\"\n",
    "\n",
    "greetings do\n",
    "  puts word\n",
    "end"
   ]
  },
  {
   "cell_type": "markdown",
   "metadata": {},
   "source": [
    "**Example 4**: block executed"
   ]
  },
  {
   "cell_type": "code",
   "execution_count": 26,
   "metadata": {},
   "outputs": [
    {
     "name": "stdout",
     "output_type": "stream",
     "text": [
      "Hello\n",
      "Goodbye\n"
     ]
    }
   ],
   "source": [
    "def greetings\n",
    "  yield\n",
    "  puts \"Goodbye\"\n",
    "end\n",
    "\n",
    "word = \"Hello\"\n",
    "\n",
    "greetings do\n",
    "  puts word\n",
    "end\n",
    "\n",
    "# Outputs 'Hello'\n",
    "# Outputs 'Goodbye'"
   ]
  },
  {
   "cell_type": "markdown",
   "metadata": {},
   "source": [
    "In Example 3 the `greetings` method is invoked with a block, but the method is not defined to use a block in any way and so the block is not executed.\n",
    "\n",
    "In Example 4 the `yield` keyword is what controls the interaction with the block, in this case it executes the block once. Since the block has access to the local variable `word`, `Hello` is output when the block is executed. \n",
    "\n",
    "Blocks and methods can interact with each other; the level of that interaction is set by the method definition and then used at method invocation.\n",
    "\n",
    "When invoking a method with a block, we aren't just limited to executing code within the block; depending on the method definition, the method can use the *return value* of the block to perform some other action."
   ]
  },
  {
   "cell_type": "code",
   "execution_count": 32,
   "metadata": {},
   "outputs": [
    {
     "data": {
      "text/plain": [
       "[\"hello\", \"hello\", \"hello\"]"
      ]
     },
     "execution_count": 32,
     "metadata": {},
     "output_type": "execute_result"
    }
   ],
   "source": [
    "a = \"hello\"\n",
    "\n",
    "[1, 2, 3].map { |num| a }"
   ]
  },
  {
   "cell_type": "markdown",
   "metadata": {},
   "source": [
    "The `Array#map` method is defined in such a way that it uses the return value of the block to perform transformation on each element in an array. In the above example, the `#map` method doesn't have direct access to the `a` variable. However, the block that we pass to map (and that map calls) does have access to `a`. Thus, the block can use the value of `a` to determine the transformation value for each array element.\n",
    "\n",
    "How a method definition accesses local variables compared to how a method invocation with a block accesses local variables:\n",
    "\n",
    "Method definitions cannot directly access local variables initialized outside of the method definition, nor can local variables initialized outside of the method definition be reassigned from within it.\n",
    "\n",
    "A block **can** access local variables initialized outside of the block and can reassign those variables. We already know that methods can access local variables passed in as arguments, and now we have seen that methods can access local variables through interaction with blocks.\n",
    "\n",
    "We can think of **method definition** as setting a certain scope for any local variables in terms of the parameters that the method definition has, what it does with those parameters, and also how it interacts (if at all) with a block. \n",
    "\n",
    "We can then think of **method invocation** as using the scope set by the method definition. If the method is defined to use a block, then the scope of the block can provide additional flexibility in terms of how the method invocation interacts with its surroundings.\n",
    "\n",
    "- The d`ef..end` construction in Ruby is method definition\n",
    "- Referencing a method name, either of an existing method or subsequent to definition, is method invocation\n",
    "- Method invocation followed by `{..}` or `do..end` defines a block; the block is part of the method invocation\n",
    "- Method definition sets a **scope** for local variables in terms of parameters and interaction with blocks\n",
    "- Method invocation uses the scope set by the method definition"
   ]
  },
  {
   "cell_type": "markdown",
   "metadata": {},
   "source": [
    "## Pass by Reference vs Pass by Value\n",
    "\n",
    "### What does pass by \"value\" mean?\n",
    "\n",
    "When you \"pass by value\", the method only has a copy of the original object. Operations performed on the object within the method have no effect on the original object outside of the method."
   ]
  },
  {
   "cell_type": "code",
   "execution_count": 33,
   "metadata": {},
   "outputs": [
    {
     "name": "stdout",
     "output_type": "stream",
     "text": [
      "jim\n"
     ]
    }
   ],
   "source": [
    "def change_name(name)\n",
    "  name = 'bob'      # does this reassignment change the object outside the method?\n",
    "end\n",
    "\n",
    "name = 'jim'\n",
    "change_name(name)\n",
    "puts name           # => jim"
   ]
  },
  {
   "cell_type": "markdown",
   "metadata": {},
   "source": [
    "**The question is: when the main scope name is passed into the method, via `change_name(name)`, did we pass in a reference or did we pass in the value?**\n",
    "\n",
    "It looks like it was passed by value, since re-assigning the variable only affected the method-level variable, and not the main scope variable.\n",
    "\n",
    "### What does pass by \"reference\" mean?\n",
    "\n",
    "However, it's not quite that simple. If Ruby was pure \"pass by value\", that means there should be no way for operations within a method to cause changes to the original object."
   ]
  },
  {
   "cell_type": "code",
   "execution_count": 34,
   "metadata": {},
   "outputs": [
    {
     "name": "stdout",
     "output_type": "stream",
     "text": [
      "Jim\n"
     ]
    }
   ],
   "source": [
    "def cap(str)\n",
    "  str.capitalize!   # does this affect the object outside the method?\n",
    "end\n",
    "\n",
    "name = \"jim\"\n",
    "cap(name)\n",
    "puts name           # => Jim"
   ]
  },
  {
   "cell_type": "markdown",
   "metadata": {},
   "source": [
    "This implies that Ruby is \"pass by reference\", because operations within the method affected the original object. However, as we saw with the re-assignment example, not all operations affect the original object."
   ]
  },
  {
   "cell_type": "code",
   "execution_count": 35,
   "metadata": {},
   "outputs": [
    {
     "name": "stdout",
     "output_type": "stream",
     "text": [
      "jim\n"
     ]
    }
   ],
   "source": [
    "def cap(str)\n",
    "  str.capitalize\n",
    "end\n",
    "\n",
    "name = \"jim\"\n",
    "cap(name)\n",
    "puts name           # => jim"
   ]
  },
  {
   "cell_type": "markdown",
   "metadata": {},
   "source": [
    "### What Ruby does\n",
    "\n",
    "Ruby exhibits a combination of behaviors from both \"pass by reference\" as well as \"pass by value\". Some people call this **pass by value of the reference** or **call by sharing**. \n",
    "\n",
    "**when an operation within the method mutates the caller, it will affect the original object**\n",
    "\n",
    "In the Ruby core library, a lot of destructive (another term for mutating the caller) methods end with a `!`. But that's just a naming convention, and it's not a guarantee.\n",
    "\n",
    "For example, the `Array#<<` method is destructive, but doesn't end with a `!`."
   ]
  },
  {
   "cell_type": "code",
   "execution_count": 36,
   "metadata": {},
   "outputs": [
    {
     "name": "stdout",
     "output_type": "stream",
     "text": [
      "[\"bob\", \"kim\", \"jim\"]\n"
     ]
    }
   ],
   "source": [
    "def add_name(arr, name)\n",
    "  arr << name\n",
    "end\n",
    "\n",
    "names = ['bob', 'kim']\n",
    "add_name(names, 'jim')\n",
    "puts names.inspect          # => [\"bob\", \"kim\", \"jim\"]"
   ]
  },
  {
   "cell_type": "markdown",
   "metadata": {},
   "source": [
    "**Remember that re-assignment is not considered a destructive operation.**"
   ]
  },
  {
   "cell_type": "code",
   "execution_count": 37,
   "metadata": {},
   "outputs": [
    {
     "name": "stdout",
     "output_type": "stream",
     "text": [
      "[\"bob\", \"kim\"]\n"
     ]
    }
   ],
   "source": [
    "def add_name(arr, name)\n",
    "  arr = arr + [name]\n",
    "end\n",
    "\n",
    "names = ['bob', 'kim']\n",
    "add_name(names, 'jim')\n",
    "puts names.inspect          # => [\"bob\", \"kim\"]"
   ]
  },
  {
   "cell_type": "markdown",
   "metadata": {},
   "source": [
    "When we use `+` to concatenate two arrays together, it is returning a new array and not mutating the original. However, when we use `<<` to append a new value into an array, it is mutating the original array and not returning a new array."
   ]
  },
  {
   "cell_type": "markdown",
   "metadata": {},
   "source": [
    "### [Variables as Pointers](https://launchschool.com/books/ruby/read/more_stuff#variables_as_pointers)\n",
    "\n",
    "The variable doesn't actually contain the value. Instead, it contains a pointer to a specific area in memory that contains the value."
   ]
  },
  {
   "cell_type": "code",
   "execution_count": 2,
   "metadata": {},
   "outputs": [
    {
     "name": "stdout",
     "output_type": "stream",
     "text": [
      "hi there\n"
     ]
    }
   ],
   "source": [
    "a = \"hi there\"\n",
    "b = a\n",
    "a = \"not here\"\n",
    "\n",
    "puts b"
   ]
  },
  {
   "cell_type": "markdown",
   "metadata": {},
   "source": [
    "We can see that the code `a = \"not here\"` reassigned the variable `a` to a completely different address in memory; it's now pointing to an entirely new string."
   ]
  },
  {
   "cell_type": "code",
   "execution_count": 3,
   "metadata": {},
   "outputs": [
    {
     "name": "stdout",
     "output_type": "stream",
     "text": [
      "hi there, Bob\n"
     ]
    }
   ],
   "source": [
    "a = \"hi there\"\n",
    "b = a\n",
    "a << \", Bob\"\n",
    "\n",
    "puts b"
   ]
  },
  {
   "cell_type": "markdown",
   "metadata": {},
   "source": [
    "The line of code `a << \", Bob\"` did not result in reassigning a to a new string. Rather, it mutated the caller and modified the existing string, which is also pointed to by the variable `b`. This explains why in this code, `b` reflects the changes to `a` - they're both pointing to the same thing.\n",
    "\n",
    "**variables are pointers to physical space in memory**\n",
    "\n",
    "**some operations mutate the address space, while others simply make the variable point to a different address space.**"
   ]
  },
  {
   "cell_type": "code",
   "execution_count": 9,
   "metadata": {},
   "outputs": [
    {
     "name": "stdout",
     "output_type": "stream",
     "text": [
      "[1, 2, 3, 3]\n",
      "[1, 2, 3, 3]\n",
      "[1, 2, 3]"
     ]
    }
   ],
   "source": [
    "a = [1, 2, 3, 3]\n",
    "b = a\n",
    "c = a.uniq\n",
    "\n",
    "print \"#{a}\\n\"\n",
    "print \"#{b}\\n\"\n",
    "print c"
   ]
  },
  {
   "cell_type": "code",
   "execution_count": 10,
   "metadata": {},
   "outputs": [
    {
     "name": "stdout",
     "output_type": "stream",
     "text": [
      "[1, 2, 3]\n",
      "[1, 2, 3]\n",
      "[1, 2, 3]"
     ]
    }
   ],
   "source": [
    "a = [1, 2, 3, 3]\n",
    "b = a\n",
    "c = a.uniq! # Mutation the caller; affects both a AND b\n",
    "\n",
    "print \"#{a}\\n\"\n",
    "print \"#{b}\\n\"\n",
    "print c"
   ]
  },
  {
   "cell_type": "code",
   "execution_count": 15,
   "metadata": {},
   "outputs": [
    {
     "name": "stdout",
     "output_type": "stream",
     "text": [
      "[\"I like the letter: a\", \"I like the letter: b\", \"I like the letter: c\"]\n",
      "[\"a\", \"b\", \"c\"]"
     ]
    }
   ],
   "source": [
    "def test(b)\n",
    "  b.map {|letter| \"I like the letter: #{letter}\"}\n",
    "end\n",
    "\n",
    "a = ['a', 'b', 'c']\n",
    "print \"#{test(a)}\\n\"\n",
    "print a"
   ]
  },
  {
   "cell_type": "code",
   "execution_count": 16,
   "metadata": {},
   "outputs": [
    {
     "name": "stdout",
     "output_type": "stream",
     "text": [
      "[\"aa\", \"bb\", \"cc\"]"
     ]
    }
   ],
   "source": [
    "a = ['a', 'b', 'c']\n",
    "a.map! { |letter| letter * 2 }  # #map! is a destructive method and it mutates the value assigned to a\n",
    "print a "
   ]
  },
  {
   "cell_type": "markdown",
   "metadata": {},
   "source": [
    "## [Variable References and Mutability of Ruby Objects](https://launchschool.medium.com/variable-references-and-mutability-of-ruby-objects-4046bd5b6717)\n",
    "\n",
    "### Variables and References\n",
    "\n",
    "Objects can be assigned to variables, like this:\n",
    "\n",
    "```ruby\n",
    ">> greeting = 'Hello'\n",
    "=> \"Hello\"\n",
    "```\n",
    "\n",
    "In Ruby, `greeting` is said to *reference* (or point to) the String object.  We can also talk of the variable as being *bound* to the String object\n",
    "\n",
    "The literal `'Hello'` is assigned to a variable that has the name `greeting`. This causes the variable greeting to reference the String object whose value is `'Hello'`. It does so by storing the `object id` of the String. \n",
    "\n",
    "Every object in Ruby has a unique object id, and that object id can be retrieved simply by calling `#object_id` on the object in question.\n",
    "\n",
    "```ruby\n",
    ">> whazzup = greeting\n",
    "=> \"Hello\"\n",
    "\n",
    ">> greeting\n",
    "=> \"Hello\"\n",
    "\n",
    ">> whazzup\n",
    "=> \"Hello\"\n",
    "\n",
    ">> greeting.object_id\n",
    "=> 70101471431160\n",
    "\n",
    ">> whazzup.object_id\n",
    "=> 70101471431160\n",
    "```\n",
    "\n",
    "This demonstrates that both `greeting` and `whazzup` not only reference a String with the same value, but are, in fact, references to the same String; `greeting` and `whazzup` are aliases for each other. "
   ]
  },
  {
   "cell_type": "code",
   "execution_count": 23,
   "metadata": {},
   "outputs": [
    {
     "name": "stdout",
     "output_type": "stream",
     "text": [
      "HELLO\n",
      "HELLO\n"
     ]
    }
   ],
   "source": [
    "greeting = 'Hello'\n",
    "wazzup = greeting\n",
    "greeting.upcase!  # Both variables references the same string and have the same object id\n",
    "\n",
    "puts greeting\n",
    "puts wazzup"
   ]
  },
  {
   "cell_type": "markdown",
   "metadata": {},
   "source": [
    "Since both variables are associated with the same object, using either variable to mutate the object is reflected in the other variable. \n",
    "\n",
    "### Reassignment"
   ]
  },
  {
   "cell_type": "code",
   "execution_count": 24,
   "metadata": {},
   "outputs": [
    {
     "name": "stdout",
     "output_type": "stream",
     "text": [
      "49280\n",
      "49300\n"
     ]
    }
   ],
   "source": [
    "greeting = 'Hello'\n",
    "wazzup = greeting\n",
    "greeting = 'Dude!'\n",
    "\n",
    "puts greeting.object_id\n",
    "puts wazzup.object_id"
   ]
  },
  {
   "cell_type": "markdown",
   "metadata": {},
   "source": [
    "What this shows is that reassignment to a variable doesn’t mutate the object referenced by that variable; instead, the variable is bound to a different object. The original object is merely disconnected from the variable. \n",
    "\n",
    "In this example, `greeting` iss bound to the String object whose value is `Dude!`, while `whazzup` continues to reference the String object whose value is `HELLO`!.\n",
    "\n",
    "### Immutable Objects\n",
    "\n",
    "In Ruby, numbers and boolean values are immutable."
   ]
  },
  {
   "cell_type": "code",
   "execution_count": 26,
   "metadata": {},
   "outputs": [
    {
     "name": "stdout",
     "output_type": "stream",
     "text": [
      "3\n",
      "6\n"
     ]
    }
   ],
   "source": [
    "number = 3\n",
    "puts number\n",
    "\n",
    "number *= 2\n",
    "puts number"
   ]
  },
  {
   "cell_type": "markdown",
   "metadata": {},
   "source": [
    "This is reassignment which, as we learned, doesn’t mutate the object. Instead, it binds a different object to the variable.  In this case, we create a new Integer with a value of `6` and assign it to `number`.\n",
    "\n",
    "There are, in fact, no methods available that let you mutate the value of any immutable object. All you can do is reassign the variable so it references a different object. This disconnects the original object from the variable.\n",
    "\n",
    "**Simple assignment never mutates an immutable object**\n",
    "\n",
    "Objects of some complex classes, such as `nil` (the only member of the NilClass class) and Range objects (e.g., `1..10`) are also immutable. \n",
    "\n",
    "### Mutable Objects\n",
    "\n",
    "A setter method (or simply, a setter) is a method defined by a Ruby object that allows a programmer to explicitly change the value of part of an object.  ex. `Array#[]=`"
   ]
  },
  {
   "cell_type": "code",
   "execution_count": 28,
   "metadata": {},
   "outputs": [
    {
     "name": "stdout",
     "output_type": "stream",
     "text": [
      "[1, 2, 3, 0, 5]"
     ]
    }
   ],
   "source": [
    "a = [*1..5]\n",
    "a[3] = 0\n",
    "print(a) # Mutates the caller"
   ]
  },
  {
   "cell_type": "code",
   "execution_count": 31,
   "metadata": {},
   "outputs": [
    {
     "name": "stdout",
     "output_type": "stream",
     "text": [
      "49360\n",
      "[\"a\", \"-\", \"c\"]\n",
      "49360\n"
     ]
    }
   ],
   "source": [
    "a = %w(a b c)\n",
    "puts a.object_id\n",
    "\n",
    "a[1] = '-'\n",
    "print \"#{a}\\n\"\n",
    "puts a.object_id"
   ]
  },
  {
   "cell_type": "markdown",
   "metadata": {},
   "source": [
    "This demonstrates that we can mutate the array that `a` refers to. However, it doesn't create a new array since the object id remains the same.\n",
    "\n",
    "Several Array methods, such as `#delete`, `#fill`, and `#insert` mutate the original object without creating a new one.\n",
    "\n",
    "### A Brief Introduction to Object Passing\n",
    "\n",
    "The ability to mutate arguments depends in part on \n",
    "- The mutability or immutability of the object represented by the argument\n",
    "- How the argument is passed to the method\n",
    "\n",
    "Some languages make copies of method arguments, and pass those copies to the method — since they are merely copies, the original objects can’t be mutated.\n",
    "\n",
    "```\n",
    "Objects passed to methods in this way are said to be passed by value, and the language is said to be using a pass by value object passing strategy.\n",
    "\n",
    "Other languages pass references to the method instead — a reference can be used to mutate the original object, provided that object is mutable. Objects passed to methods in this way are said to be passed by reference, and the language is said to be using a pass by reference object passing strategy.\n",
    "```\n",
    "\n",
    "### Developing A Mental Model\n",
    "\n",
    "Since immutable objects cannot be changed, they act like Ruby passes them around by value. (This isn’t a completely accurate interpretation of how Ruby passes immutable objects, but it helps us determine why the following code works as it does:)\n"
   ]
  },
  {
   "cell_type": "code",
   "execution_count": 32,
   "metadata": {},
   "outputs": [
    {
     "name": "stdout",
     "output_type": "stream",
     "text": [
      "4\n",
      "3\n"
     ]
    }
   ],
   "source": [
    "def increment(a)\n",
    "  a = a + 1\n",
    "end\n",
    "\n",
    "b = 3\n",
    "puts increment(b)    # prints 4\n",
    "puts b               # prints 3"
   ]
  },
  {
   "cell_type": "markdown",
   "metadata": {},
   "source": [
    "Here, the numeric object `3` is immutable. You can reasonably say that b's value is not mutated by `#increment` since `3` is passed by value to `#increment` where it is bound to variable `a`. Even though `a` is assigned to `4` inside the method and returned to the caller, the original object referenced by b is untouched.\n",
    "\n",
    "Mutable objects, on the other hand, can always be mutated simply by calling one of their mutating methods. They act like Ruby passes them around by reference."
   ]
  },
  {
   "cell_type": "code",
   "execution_count": 33,
   "metadata": {},
   "outputs": [
    {
     "name": "stdout",
     "output_type": "stream",
     "text": [
      "abc*\n",
      "abc*\n"
     ]
    }
   ],
   "source": [
    "def append(s)\n",
    "  s << '*'\n",
    "end\n",
    "t = 'abc'\n",
    "puts append(t)    # prints abc*\n",
    "puts t            # prints abc*"
   ]
  },
  {
   "cell_type": "markdown",
   "metadata": {},
   "source": [
    "Here, the String object `abc` is mutable. You can reasonably say that the object referenced by `t` is mutated by `#append` since `t`'s value is passed by reference to `#append` where it is bound to variable `s`.\n",
    "\n",
    "When we apply the `<<` operator to `s`, the change is reflected through `t` as well. Upon return from the method, the value of `t` has been mutated. However, `t` still points to the same object in memory; it merely has a different value."
   ]
  },
  {
   "cell_type": "markdown",
   "metadata": {},
   "source": [
    "## [Ruby Object’s Mutating and Non-Mutating Methods](https://launchschool.medium.com/ruby-objects-mutating-and-non-mutating-methods-78023d849a5f)\n",
    "\n",
    "### Assignment is Non-Mutating\n",
    "\n",
    "Assignment merely tells Ruby to bind an object to a variable. This means that assignment does not mutate an object; it merely connects the variable to a new object."
   ]
  },
  {
   "cell_type": "code",
   "execution_count": 37,
   "metadata": {},
   "outputs": [
    {
     "data": {
      "text/plain": [
       "\"HELLO!\""
      ]
     },
     "execution_count": 37,
     "metadata": {},
     "output_type": "execute_result"
    }
   ],
   "source": [
    "def fix(value)\n",
    "  value.upcase!\n",
    "  value.concat('!')\n",
    "  value\n",
    "end\n",
    "s = 'hello'\n",
    "t = fix(s)"
   ]
  },
  {
   "cell_type": "markdown",
   "metadata": {},
   "source": [
    "We start by passing `s` to `fix`; this binds the String represented by `'hello'` to `value`. In addition, `s` and `value` are now aliases for the String.\n",
    "\n",
    "Next, we call `#upcase!` which converts the String to uppercase. A new String is not created; the String that is referenced by both `s` and `value` now contains the value `'HELLO'`.\n",
    "\n",
    "We then call `#concat` on `value`, which also mutates `value` instead of creating a new String; the String now has a value of `\"HELLO!\"`, and both `s` and `value` reference that object.\n",
    "\n",
    "Finally, we return a reference to the String and store it in `t`.\n",
    "\n",
    "```\n",
    "The only place we create a new String in this code is when we assign `'hello'` to `s`. The rest of the time, we operate directly on the object, mutating it as needed. Thus, both `s` and `t` reference the same String, and that String has the value `'HELLO!'``\n",
    "```"
   ]
  },
  {
   "cell_type": "code",
   "execution_count": 38,
   "metadata": {},
   "outputs": [
    {
     "data": {
      "text/plain": [
       "\"HELLO!\""
      ]
     },
     "execution_count": 38,
     "metadata": {},
     "output_type": "execute_result"
    }
   ],
   "source": [
    "def fix(value)\n",
    "  value = value.upcase\n",
    "  value.concat('!')\n",
    "end\n",
    "\n",
    "s = 'hello'\n",
    "t = fix(s)"
   ]
  },
  {
   "cell_type": "markdown",
   "metadata": {},
   "source": [
    "In this modified code, we assign the return value of `value.upcase` back to `value`. Unlike `#upcase!`, `#upcase` doesn't mutate the String referenced by `value`; instead, it creates a new **copy** of the String referenced by `value`, mutates the new copy, and then returns a reference to the copy."
   ]
  },
  {
   "cell_type": "code",
   "execution_count": 39,
   "metadata": {},
   "outputs": [
    {
     "name": "stdout",
     "output_type": "stream",
     "text": [
      "49380\n",
      "49400\n"
     ]
    }
   ],
   "source": [
    "puts s.object_id\n",
    "puts t.object_id"
   ]
  },
  {
   "cell_type": "code",
   "execution_count": 46,
   "metadata": {},
   "outputs": [
    {
     "name": "stdout",
     "output_type": "stream",
     "text": [
      "original object 49560\n",
      "initial object 49560\n",
      "upcased object 49580\n",
      "final object 49580\n"
     ]
    }
   ],
   "source": [
    "def fix(value)\n",
    "  puts \"initial object #{value.object_id}\"\n",
    "  value = value.upcase\n",
    "  puts \"upcased object #{value.object_id}\"\n",
    "  value.concat('!')\n",
    "end\n",
    "\n",
    "s = 'hello'\n",
    "puts \"original object #{s.object_id}\"\n",
    "t = fix(s)\n",
    "puts \"final object #{t.object_id}\""
   ]
  },
  {
   "cell_type": "markdown",
   "metadata": {},
   "source": [
    "This shows that `value = value.upcase` bound the return value of `value.upcase` to `value`; `value` now references a different object than it did before. Prior to the assignment, `value` referenced the same String as referenced by `s`, but after the assignment, value references a completely new String; the String referenced by `#upcase's` return value.\n",
    "\n",
    "Assignment always binds the target variable on the left hand side of the = to the object referenced by the right hand side. The object originally referenced by the target variable is never mutated.\n",
    "\n",
    "Be aware that any mutating operations prior to the assignment may still take place:"
   ]
  },
  {
   "cell_type": "code",
   "execution_count": 53,
   "metadata": {},
   "outputs": [
    {
     "name": "stdout",
     "output_type": "stream",
     "text": [
      "HELLOXYZ!\n"
     ]
    }
   ],
   "source": [
    "def fix(value)\n",
    "  value << 'xyz'\n",
    "  value = value.upcase\n",
    "  value.concat('!')\n",
    "end\n",
    "\n",
    "s = 'hello'\n",
    "t = fix(s)\n",
    "puts t"
   ]
  },
  {
   "cell_type": "code",
   "execution_count": 52,
   "metadata": {},
   "outputs": [
    {
     "name": "stdout",
     "output_type": "stream",
     "text": [
      "49600\n",
      "49620\n"
     ]
    }
   ],
   "source": [
    "puts s.object_id\n",
    "puts t.object_id"
   ]
  },
  {
   "cell_type": "markdown",
   "metadata": {},
   "source": [
    "This program mutates the original string so its value is `helloxyz`. However, thanks to the assignment on line 3, it is not mutated to `HELLOXYZ` or `HELLOXYZ!`; those mutations are made to the (different) object that the method returns.\n",
    "\n",
    "These types of issues arise not only with assignment, but also with assignment operators like `*=`, `+=`, and `%=`.\n"
   ]
  },
  {
   "cell_type": "code",
   "execution_count": 60,
   "metadata": {},
   "outputs": [
    {
     "name": "stdout",
     "output_type": "stream",
     "text": [
      "49660\n",
      "49660\n"
     ]
    }
   ],
   "source": [
    "def fix(value)\n",
    "  value = value.upcase!\n",
    "  value.concat('!')\n",
    "end\n",
    "\n",
    "s = 'hello'\n",
    "puts s.object_id\n",
    "t = fix(s)\n",
    "puts t.object_id"
   ]
  },
  {
   "cell_type": "markdown",
   "metadata": {},
   "source": [
    "This time, though we assigned a reference to `value`, we end up with both `s` and `t` referring to the same object. \n",
    "\n",
    "The reason for this is that `String#upcase!` returns a reference to its caller, `value`. Since the reference returned by `value.upcase!` is the same, albeit **mutated**, String we started with, the assignment effectively rebinds value back to the object it was previously bound to; nothing is mutated by the assignment.\n",
    "\n",
    "### Mutating Methods\n",
    "\n",
    "A method is said to be mutating with respect to an argument or its caller if it mutates its value in the process.\n",
    "\n",
    "Consider the `String#strip!` method that removes leading and trailing whitespace from a String object:"
   ]
  },
  {
   "cell_type": "code",
   "execution_count": 61,
   "metadata": {},
   "outputs": [
    {
     "name": "stdout",
     "output_type": "stream",
     "text": [
      "49680\n",
      "49680\n"
     ]
    }
   ],
   "source": [
    "s = '   hey   '\n",
    "puts s.object_id\n",
    "s.strip!\n",
    "puts s.object_id"
   ]
  },
  {
   "cell_type": "markdown",
   "metadata": {},
   "source": [
    "Here, we mutate the original String object; `s` references the same object both before and after `#strip` is called. Only the state of the object has changed.\n",
    "\n",
    "### Indexed Assignment is Mutating\n",
    "\n",
    "```ruby\n",
    "str[3] = 'x'\n",
    "array[5] = Person.new\n",
    "hash[:age] = 25\n",
    "```\n",
    "\n",
    "`#[]` mutates the original object (the `String`, `Array`, or `Hash`). It doesn't change the binding of each variable (`str`, `array`, `hash`)."
   ]
  },
  {
   "cell_type": "code",
   "execution_count": 65,
   "metadata": {},
   "outputs": [
    {
     "name": "stdout",
     "output_type": "stream",
     "text": [
      "[\"apple\", \"x\", \"peanut butter\"]\n",
      "49760\n",
      "49760\n"
     ]
    }
   ],
   "source": [
    "def fix(value)\n",
    "  value[1] = 'x'\n",
    "  value\n",
    "end\n",
    "\n",
    "arr = ['apple', 'carrots', 'peanut butter']\n",
    "new_arr = fix(arr)\n",
    "print \"#{hash}\\n\"\n",
    "puts arr.object_id\n",
    "puts new_arr.object_id"
   ]
  },
  {
   "cell_type": "markdown",
   "metadata": {},
   "source": [
    "Earlier, we saw similar code that merely assigned to `value`, and we saw that performing assignment bound `value` to a completely new String. Thus, `s` and `t` referenced different objects.\n",
    "\n",
    "Here, though, we are using indexed assignment instead, and, perhaps surprisingly, the binding does not change. Even after the assignment to `value[1]`, `value` still references the same (albeit mutated) String object."
   ]
  },
  {
   "cell_type": "code",
   "execution_count": 66,
   "metadata": {},
   "outputs": [
    {
     "name": "stdout",
     "output_type": "stream",
     "text": [
      "49780\n",
      "11\n",
      "19\n",
      "[3, 9, 8]\n",
      "49780\n"
     ]
    }
   ],
   "source": [
    "a = [3, 5, 8]\n",
    "puts a.object_id\n",
    "\n",
    "puts a[1].object_id\n",
    "a[1] = 9\n",
    "puts a[1].object_id\n",
    "\n",
    "print \"#{a}\\n\"\n",
    "puts a.object_id"
   ]
  },
  {
   "cell_type": "markdown",
   "metadata": {},
   "source": [
    "Here, we can see that we have mutated the Array `a` by assigning a new value to `a[1]`, but have not created a new Array. `a[1] = 9` isn't assigning anything to `a`; it is assigning `9` to `a[1]`; that is, this assignment reassigns `a[1]` to the new object `9`. \n",
    "\n",
    "You can see this by looking at `a[1].object_id` both before and after the assignment. Despite this change, though, `a` itself still points to the same (now mutated) Array we started with.\n",
    "\n",
    "**The assignment does cause a new reference to be made, but it is the collection element e.g., (`a[1]`) that is bound to the new object, not the collection (enclosing object) itself.**\n",
    "\n",
    "### Concatenation is Mutating\n",
    "\n",
    "The `#<<` method used by collections like Arrays and Hashes, as well as the String class, implements concatenation; this is very similar to the `+=` operator. However, there is a major difference; **`+=` is non-mutating, but `#<<` is mutating.**"
   ]
  },
  {
   "cell_type": "code",
   "execution_count": 69,
   "metadata": {},
   "outputs": [
    {
     "name": "stdout",
     "output_type": "stream",
     "text": [
      "hello\n",
      "49840\n",
      "hello world\n",
      "49840\n"
     ]
    }
   ],
   "source": [
    "s = 'hello'\n",
    "puts s\n",
    "puts s.object_id\n",
    "s << ' world'\n",
    "puts s\n",
    "puts s.object_id"
   ]
  },
  {
   "cell_type": "markdown",
   "metadata": {},
   "source": [
    "### Setters are Mutating\n",
    "\n",
    "Setters are very similar to indexed assignment; they are methods that are defined to mutate the state of an object.\n",
    "\n",
    "With indexed assignment, the elements of a collection (or the characters of a String) are replaced; with setters, the state of the object is altered, usually by mutating or reassigning an instance variable.\n",
    "\n",
    "```ruby\n",
    "person.name = 'Bill'\n",
    "person.age = 23\n",
    "```\n",
    "\n",
    "This looks exactly like assignment, which is non-mutating, but, since these are setter calls, they actually mutate the object bound to `person`.\n",
    "\n",
    "### Refining the Mental Model\n",
    "\n",
    "Immutable objects still seem to be passed by value, while mutable objects seemed to be passed by reference."
   ]
  },
  {
   "cell_type": "markdown",
   "metadata": {},
   "source": [
    "## [Object Passing in Ruby — Pass by Reference or Pass by Value](https://launchschool.medium.com/object-passing-in-ruby-pass-by-reference-or-pass-by-value-6886e8cdc34a)\n",
    "\n",
    "### Evaluation Strategies\n",
    "\n",
    "With strict evaluation, every expression is evaluated and converted to an object before it is passed along to a method. Ruby uses strict evaluation exclusively.\n",
    "\n",
    "The two most common strict evaluation strategies are pass by value and pass by reference. Collectively, we will refer to pass by value and pass by reference as object passing strategies.\n",
    "\n",
    "### Why is the Object Passing Strategy Important?"
   ]
  },
  {
   "cell_type": "code",
   "execution_count": 74,
   "metadata": {},
   "outputs": [
    {
     "name": "stdout",
     "output_type": "stream",
     "text": [
      "ab\n"
     ]
    }
   ],
   "source": [
    "def increment(x)\n",
    "  x << 'b'\n",
    "end\n",
    "\n",
    "y = \"a\"\n",
    "increment(x)\n",
    "puts x"
   ]
  },
  {
   "cell_type": "markdown",
   "metadata": {},
   "source": [
    "Hypothetically, if ruby is pass by value, this code prints `a`. The reason for this is that a pass by value strategy creates a **copy** of `y` before passing it to `#increment`; since `#increment` has only a copy of `y`, it can't actually mutate `y`.\n",
    "\n",
    "However, if ruby is pass by reference, this code prints `ab`. Here, ruby passes a **reference** to `y` to `#increment`, so `x` becomes an alias for `y`. When you mutate `x`, you can see the results by looking at `y`.\n",
    "\n",
    "### Pass by Value\n",
    "\n",
    "With pass by value, a copy of an object is created, and it is that copy that gets passed around. Since it is merely a copy, it is impossible to change the original object; any attempt to change the copy just changes the copy and leaves the original object unchanged.\n",
    "\n",
    "Passing around immutable values in ruby acts a lot like pass by value:"
   ]
  },
  {
   "cell_type": "code",
   "execution_count": 76,
   "metadata": {},
   "outputs": [
    {
     "name": "stdout",
     "output_type": "stream",
     "text": [
      "3\n",
      "13\n"
     ]
    }
   ],
   "source": [
    "def plus(x, y)\n",
    "  x = x + y\n",
    "end\n",
    "\n",
    "a = 3\n",
    "b = plus(a, 10)\n",
    "puts a\n",
    "puts b"
   ]
  },
  {
   "cell_type": "markdown",
   "metadata": {},
   "source": [
    "As you can see, although we assign a new value to `x` in `#plus`, the original argument, `a`, is left unchanged.\n",
    "\n",
    "### Pass by Reference\n",
    "\n",
    "With pass by reference, a reference to an object is passed around. This establishes an alias between the argument and the original object: both the argument and object refer to the same location in memory. If you mutate the argument, you also mutate the original object."
   ]
  },
  {
   "cell_type": "code",
   "execution_count": 77,
   "metadata": {},
   "outputs": [
    {
     "name": "stdout",
     "output_type": "stream",
     "text": [
      "JAMES\n"
     ]
    }
   ],
   "source": [
    "def uppercase(value)\n",
    "  value.upcase!\n",
    "end\n",
    "\n",
    "name = 'James'\n",
    "name.upcase!\n",
    "puts name"
   ]
  },
  {
   "cell_type": "markdown",
   "metadata": {},
   "source": [
    "Here, our method can mutate the `name` String through the alias `value`, so it looks like ruby is pass by reference here.\n",
    "\n",
    "### It’s References All The Way Down\n",
    "\n",
    "The key here is that pass by reference isn’t limited to mutating methods. A non-mutating method can use pass by reference as well, so pass by reference can be used with immutable objects. There may be a reference passed, but the reference isn’t a guarantee that the object can be mutated.\n",
    "\n",
    "### Pass By Reference Value\n",
    "\n",
    "While we can change which object is bound to a variable inside of a method, we can’t change the binding of the original arguments. We can change the objects if the objects are mutable, but the references themselves are immutable as far as the method is concerned.\n",
    "\n",
    "In short, ruby is neither pass by value nor pass by reference, but instead employs a third strategy that blends the two strategies.\n",
    "\n",
    "### Final Mental Model\n",
    "\n",
    "pass by reference is accurate so long as you account for assignment and immutability.\n",
    "\n",
    "Ruby acts like pass by value for immutable objects, pass by reference for mutable objects is a reasonable answer when learning about ruby, so long as you keep in mind that ruby only appears to act like this.\n",
    "\n"
   ]
  },
  {
   "cell_type": "code",
   "execution_count": 108,
   "metadata": {},
   "outputs": [
    {
     "name": "stdout",
     "output_type": "stream",
     "text": [
      "It's a tie!\n"
     ]
    }
   ],
   "source": [
    "possible_choices = {\n",
    "  'You won!': [%w[rock scissors], %w[paper rock], %w[scissors paper]],\n",
    "  'Computer won!': [%w[rock paper], %w[paper scissors], %w[scissors rock]]\n",
    "}\n",
    "\n",
    "choice = 'rock'\n",
    "computer_choice = 'rock'\n",
    "\n",
    "result = possible_choices.find { |_,v| v.include? [choice, computer_choice] }\n",
    "\n",
    "puts result ? result.first : \"It's a tie!\"\n",
    "\n"
   ]
  }
 ],
 "metadata": {
  "kernelspec": {
   "display_name": "Ruby 2.7.5",
   "language": "ruby",
   "name": "ruby"
  },
  "language_info": {
   "file_extension": ".rb",
   "mimetype": "application/x-ruby",
   "name": "ruby",
   "version": "2.7.5"
  },
  "orig_nbformat": 4,
  "vscode": {
   "interpreter": {
    "hash": "aee8b7b246df8f9039afb4144a1f6fd8d2ca17a180786b69acc140d282b71a49"
   }
  }
 },
 "nbformat": 4,
 "nbformat_minor": 2
}
