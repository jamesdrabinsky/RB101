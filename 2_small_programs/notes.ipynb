{
 "cells": [
  {
   "cell_type": "markdown",
   "metadata": {},
   "source": [
    "## Truthiness\n",
    "\n",
    "Like everything else in Ruby, booleab objects have real classes behind them, and you can call methods on `true` and `false`\n",
    "\n",
    "```ruby\n",
    "true.class          # => TrueClass\n",
    "true.nil?           # => false\n",
    "true.to_s           # => \"true\"\n",
    "true.methods        # => list of methods you can call on the true object\n",
    "\n",
    "false.class         # => FalseClass\n",
    "false.nil?          # => false\n",
    "false.to_s          # => \"false\"\n",
    "false.methods       # => list of methods you can call on the false object\n",
    "```"
   ]
  },
  {
   "cell_type": "markdown",
   "metadata": {},
   "source": [
    "### Expressions and Conditionals\n",
    "\n",
    "Short circuiting the `&&` and `||` operators exhibit a behavior called `short circuiting`, which means it will stop evaluating expressions once it can guarantee the return value.<br><br>\n",
    "\n",
    "The `&&` will short circuit when it encounters the first `false` expressions\n",
    "\n",
    "```ruby\n",
    "false && 3/0\n",
    "=> false\n",
    "```\n",
    "\n",
    "Notice the above code doesn't generate a `ZeroDivisionError`. This is because the `&&` operator didn't even evaluate the second expression; since the first expression is `false`, it can short circuit and return `false`.\n",
    "\n",
    "Also, notice that `false || 3/0` will generate an error.\n",
    "\n",
    "```ruby\n",
    "false || 3/0\n",
    "# ZeroDivisionError: divided by 0\n",
    "```\n",
    "\n",
    "The `||` will short circuit when it encounters the first true expression.\n",
    "\n",
    "```ruby\n",
    "true || 3/0\n",
    "=> true\n",
    "```\n",
    "\n",
    "The above code doesn't generate a `ZeroDivisionError` because `||` didn't evaluate the second expression; it short circuited after encountering `true`."
   ]
  },
  {
   "cell_type": "markdown",
   "metadata": {},
   "source": [
    "### Truthiness\n",
    "\n",
    "Ruby is a very liberal language and considers everything to be truthy other than `false` and `nil`.\n",
    "\n",
    "```ruby\n",
    "num = 5\n",
    "\n",
    "if num\n",
    "  puts \"valid number\"\n",
    "else\n",
    "  puts \"error!\"\n",
    "end\n",
    "```\n",
    "\n",
    "This will actually output `\"valid number\"`. The reason is because Ruby considers any integer to be `\"truthy\"`. It does **not**, however, mean that the num variable from above is equal to `true`:\n",
    "\n",
    "```ruby\n",
    "num = 5\n",
    "num == true        # => false\n",
    "```"
   ]
  },
  {
   "cell_type": "markdown",
   "metadata": {},
   "source": [
    "## Calculator Program\n",
    "\n",
    "In Ruby, `if` expressions can return a value.\n",
    "\n",
    "```ruby\n",
    "answer = if true\n",
    "           'yes'\n",
    "         else\n",
    "           'no'\n",
    "         end\n",
    "Kernel.puts(answer)       # => yes\n",
    "```"
   ]
  },
  {
   "cell_type": "markdown",
   "metadata": {},
   "source": [
    "## Pseudo Code\n",
    "\n",
    "### Formal Pseudo Code\n",
    "\n",
    "We'll use the below keywords to assist us, along with their meaning.\n",
    "\n",
    "```\n",
    "keyword\t                meaning\n",
    "START\t                start of the program\n",
    "SET                     sets a variable we can use for later\n",
    "GET                     retrieve input from user\n",
    "PRINT\t                displays output to user\n",
    "READ\t                retrieve value from variable\n",
    "IF / ELSE IF / ELSE     show conditional branches in logic\n",
    "WHILE\t                show looping logic\n",
    "END                     end of the program\n",
    "```\n",
    "\n",
    "An example of how to iterate through an array and print out the max value:\n",
    "\n",
    "```\n",
    "START\n",
    "\n",
    "# Given a collection of integers called \"numbers\"\n",
    "\n",
    "SET iterator = 1\n",
    "SET saved_number = value within numbers collection at space 1\n",
    "\n",
    "WHILE iterator <= length of numbers\n",
    "  SET current_number = value within numbers collection at space \"iterator\"\n",
    "  IF saved_number >= current_number\n",
    "    go to the next iteration\n",
    "  ELSE\n",
    "    saved_number = current_number\n",
    "\n",
    "  iterator = iterator + 1\n",
    "\n",
    "PRINT saved_number\n",
    "\n",
    "END\n",
    "```\n",
    "\n",
    "### Translating Pseudo-Code to Program Code"
   ]
  },
  {
   "cell_type": "code",
   "execution_count": null,
   "metadata": {},
   "outputs": [],
   "source": [
    "def find_greatest(numbers)\n",
    "  saved_number = numbers[0]\n",
    "\n",
    "  numbers.each do |num|\n",
    "    if saved_number >= num\n",
    "      next\n",
    "    else\n",
    "      saved_number = num\n",
    "    end\n",
    "  end\n",
    "\n",
    "  saved_number\n",
    "end"
   ]
  },
  {
   "cell_type": "code",
   "execution_count": 8,
   "metadata": {},
   "outputs": [
    {
     "name": "stdout",
     "output_type": "stream",
     "text": [
      "101\n"
     ]
    }
   ],
   "source": [
    "def find_greatest_number(arr)\n",
    "  count = 1\n",
    "  saved_number = arr[0]\n",
    "\n",
    "  while count < arr.size\n",
    "    current_number = arr[count]\n",
    "    saved_number = current_number if current_number > saved_number\n",
    "    count += 1\n",
    "  end\n",
    "  \n",
    "  saved_number\n",
    "end\n",
    "\n",
    "puts find_greatest_number([1, 3, 21, 51, 101, 2])"
   ]
  },
  {
   "cell_type": "markdown",
   "metadata": {},
   "source": [
    "## Flowchart\n",
    "\n",
    "Asking the user to give us N collections of numbers. We want to take the largest number out of each collection, and display it.\n",
    "\n",
    "high-level psuedo code:\n",
    "\n",
    "```\n",
    "while user wants to keep going\n",
    "  - ask the user for a collection of numbers\n",
    "  - extract the largest one from that collection and save it  -- Subprocess\n",
    "  - ask the user if they want to input another collection\n",
    "\n",
    "return saved list of numbers\n",
    "```\n",
    "\n",
    "When pseudo-code gets long, it becomes very hard to trust the accuracy of the logic (remember, you can only verify the logic by running actual program code). Therefore, it's prudent to extract a logical grouping into a sub-process, and to tackle the various pieces separately.\n",
    "\n",
    "Translating shortened pseudo-code into formal pseudo-code:\n",
    "\n",
    "```\n",
    "START\n",
    "\n",
    "SET large_numbers = []\n",
    "SET keep_going = true\n",
    "\n",
    "WHILE keep_going == true\n",
    "  GET \"enter a collection\"\n",
    "  SET collection\n",
    "  SET largest_number = SUBPROCESS \"extract the largest one from that collection\"\n",
    "  large_numbers.push(largest_number)\n",
    "  GET \"enter another collection?\"\n",
    "  IF \"yes\"\n",
    "    keep_going = true\n",
    "  ELSE\n",
    "    keep_going = false\n",
    "  IF keep_going == false\n",
    "    exit the loop\n",
    "\n",
    "PRINT large_numbers\n",
    "\n",
    "END\n",
    "```\n",
    "\n",
    "A flowchart for this peusdo code would look like this:\n",
    "\n",
    "<img src=\"flowchart_example.jpeg\" width=500>\n",
    "\n",
    "As you use pseudo-code and flowcharts to help you dissect the logic of a problem, you'll be constantly trying to figure out how detailed the chart and words should be, and what can be extracted to sub-processes. This is exactly what a programmer should be thinking about when designing the solution to a problem.\n",
    "\n",
    "Start at a high level, using declarative syntax. For example, if you're working on a calculator, you can start with something like this:\n",
    "\n",
    "```\n",
    "- Get the first number\n",
    "  - Make sure it's valid, otherwise, ask for another\n",
    "- Get the second number\n",
    "  - Make sure it's valid, otherwise, ask for another\n",
    "- Get the operator\n",
    "  - Make sure it's valid, otherwise, ask again\n",
    "\n",
    "- Perform operation on the two numbers\n",
    "- Display result\n",
    "- Ask if user wants to do another calculation\n",
    "```\n",
    "\n",
    "Taking the high level pseudo-code above, we can come up with a flowchart that looks something like this.\n",
    "\n",
    "<img src=\"flowchart_calculator.jpeg\" width=500>\n",
    "\n",
    "We're only able to come up with this high level flowchart by introducing three sub-processes: `valid_number?`, v`alid_operator?`, and `find_result`. By not worrying about the low-level details of how those sub-processes will be implemented, we can think at a higher level about our overall application logic. "
   ]
  },
  {
   "cell_type": "markdown",
   "metadata": {},
   "source": [
    "## Rubocop\n",
    "\n",
    "```\n",
    "$ rubocop hello.rb\n",
    "Inspecting 1 file\n",
    "C\n",
    "\n",
    "Offenses:\n",
    "\n",
    "hello.rb:1:1: C: Style/FrozenStringLiteralComment: Missing frozen string literal comment.\n",
    "Kernel.puts(\"hello world\")\n",
    "\n",
    "hello.rb:1:13: C: Prefer single-quoted strings when you don't need string interpolation or special symbols.\n",
    "Kernel.puts(\"hello world\")\n",
    "            ^^^^^^^^^^^^^\n",
    "hello.rb:1:27: C: Layout/TrailingEmptyLines: Final newline missing.\n",
    "Kernel.puts(\"hello world\")\n",
    "\n",
    "1 file inspected, 3 offenses detected\n",
    "```\n",
    "\n",
    "the first line tells you how many files were inspected. In this case, there's just 1 file. This should tell you that Rubocop is pretty powerful, and can inspect multiple files at once. In fact, you could use it to inspect your entire project. We'll stick to working with 1 file at a time for now.\n",
    "\n",
    "the C stands for Convention, which means a convention was broken. Other possible offenses are W (warning), E (error), and F (fatal error).\n",
    "\n",
    "the list of offenses appears next; we have three, so you can see they appear sequentially in the order in which the offending code occurs in the inspected file. The first part of the offense tells you where the offense occurred: the file name, the line number, and the column number. Then C again for convention, then the offense message. After that, it even shows you the actual piece of code where the offense occurred.\n",
    "\n",
    "To find out which cop complained, we can do this.\n",
    "\n",
    "```\n",
    "$ rubocop hello.rb --format offenses\n",
    "\n",
    "1  Layout/TrailingEmptyLines\n",
    "1  Style/FrozenStringLiteralComment\n",
    "1  Style/StringLiterals\n",
    "--\n",
    "3  Total\n",
    "```"
   ]
  },
  {
   "cell_type": "markdown",
   "metadata": {},
   "source": [
    "## Debugging\n",
    "\n",
    "### Pry\n",
    "\n",
    "Pry is a powerful Ruby REPL that can replace IRB. \n",
    "\n",
    "In order to use Pry, we have to require it using `require \"pry\"`. Once we've required Pry, we can then insert `binding.pry` anywhere in our code, and when Ruby gets to that line, execution will stop and we'll be able to inspect the state of our program at that point.\n",
    "\n",
    "```ruby\n",
    "require \"pry\" # add this to use Pry\n",
    "\n",
    "counter = 0\n",
    "\n",
    "loop do\n",
    "  counter += 1\n",
    "  binding.pry   # execution will stop here\n",
    "  break if counter == 5\n",
    "end\n",
    "```\n",
    "\n",
    "Pry stops execution at the line where `binding.pry` is declared and gives us a prompt where we can type in an expression, such as `counter`, and see what the return value is. We could also change variable values if we wanted to. This is an incredibly helpful way to systematically debug our program, without spraying our entire program full of `\"puts\"`.\n",
    "\n",
    "In order to continue execution of the program, press `Ctrl + D`. Since we're in a loop, the loop will continue to iterate until `counter` equals 5. This means that `binding.pry` will execute on every iteration until we break out of the loop. We could press `Ctrl + D` every time Pry opens a session, but that could be tiresome if there are a lot of iterations. Alternatively, we can exit the program by entering `exit-program`."
   ]
  },
  {
   "cell_type": "markdown",
   "metadata": {},
   "source": [
    "## Precedence\n",
    "\n",
    "### Evaluation Order\n",
    "\n",
    "The ternary operator (`?:`) and the short-circuit operators `&&` and `||` are a common source of unexpected behavior where precedence is concerned. Consider the following expressions:\n",
    "\n",
    "```ruby\n",
    "3 ? 1 / 0 : 1 + 2  # raises error ZeroDivisionError\n",
    "5 && 1 / 0         # raises error ZeroDivisionError\n",
    "nil || 1 / 0       # raises error ZeroDivisionError\n",
    "```\n",
    "\n",
    "What happens, though, if we modify things so that `1 / 0`isn't needed?\n",
    "\n",
    "```ruby\n",
    "nil ? 1 / 0 : 1 + 2  # 3\n",
    "nil && 1 / 0         # nil\n",
    "5 || 1 / 0           # 5\n",
    "```\n",
    "\n",
    "In all 3 cases, `1 / 0 `never gets executed, even though operator precedence would suggest that it should be evaluated first. \n",
    "- In the first expression, `1 / 0` isn't evaluated since it's the truthy operand for the `?:` - it only gets run when the value to the left of `?` is truthy. Instead, the code returns `3 (1 + 2)`.\n",
    "- The other two expressions don't evaluate `1 / 0` due to `short-circuiting`. In all 3 expressions, this is simply the way Ruby works - it treats `?:`, `&&`, and `||` differently from other operators and doesn't evaluate subexpressions unless it needs them.\n",
    "\n",
    "### Diving Deeper"
   ]
  },
  {
   "cell_type": "code",
   "execution_count": 20,
   "metadata": {},
   "outputs": [
    {
     "data": {
      "text/plain": [
       "[2, 3, 4]"
      ]
     },
     "execution_count": 20,
     "metadata": {},
     "output_type": "execute_result"
    }
   ],
   "source": [
    "array = [1, 2, 3]\n",
    "array.map { |num| num + 1 }"
   ]
  },
  {
   "cell_type": "code",
   "execution_count": 21,
   "metadata": {},
   "outputs": [
    {
     "name": "stdout",
     "output_type": "stream",
     "text": [
      "[2, 3, 4]\n"
     ]
    },
    {
     "data": {
      "text/plain": [
       "[2, 3, 4]"
      ]
     },
     "execution_count": 21,
     "metadata": {},
     "output_type": "execute_result"
    }
   ],
   "source": [
    "array = [1, 2, 3]\n",
    "p array.map { |num| num + 1 }"
   ]
  },
  {
   "cell_type": "markdown",
   "metadata": {},
   "source": [
    "It’s pretty much the same as the first code. The difference is that the return value of `map` then gets passed into p as an argument, which outputs `[2, 3, 4]`."
   ]
  },
  {
   "cell_type": "markdown",
   "metadata": {},
   "source": [
    "Now consider the next example. It’s the same `map` call but now with a `do...end` block. There should be no surprises here as regardless of the form the block takes, the code should do the same thing."
   ]
  },
  {
   "cell_type": "code",
   "execution_count": 22,
   "metadata": {},
   "outputs": [
    {
     "data": {
      "text/plain": [
       "[2, 3, 4]"
      ]
     },
     "execution_count": 22,
     "metadata": {},
     "output_type": "execute_result"
    }
   ],
   "source": [
    "array = [1, 2, 3]\n",
    "array.map do |num|\n",
    "  num + 1\n",
    "end"
   ]
  },
  {
   "cell_type": "code",
   "execution_count": 23,
   "metadata": {},
   "outputs": [
    {
     "name": "stdout",
     "output_type": "stream",
     "text": [
      "#<Enumerator: [1, 2, 3]:map>\n"
     ]
    },
    {
     "data": {
      "text/plain": [
       "#<Enumerator: [1, 2, 3]:map>"
      ]
     },
     "execution_count": 23,
     "metadata": {},
     "output_type": "execute_result"
    }
   ],
   "source": [
    "array = [1, 2, 3]\n",
    "p array.map do |num|\n",
    "  num + 1\n",
    "end"
   ]
  },
  {
   "cell_type": "markdown",
   "metadata": {},
   "source": [
    "As it turns out, blocks have the lowest precedence of all operators. But between the two, `{ }` has slightly higher precedence than `do...end`. This has an effect on which method call the block gets passed to. That's why we get the unexpected result.\n",
    "\n",
    "With `do...end` being the “weakest” of all the operators, `array.map` gets bound to `p`, which first invokes `array.map`, returning an `Enumerator` object. The `Enumerator` is then passed to `p`, along with the block. `p` prints the `Enumerator`, but doesn't do anything with the block.\n",
    "\n",
    "In other words, the binding between a method name and a method's argument (`p` and the return value of `array.map`) is slightly tighter than the binding between a method call and a `do...end` block. Thus, `array.map` gets executed first, then the return value and the block get passed to `p` as separate arguments.\n",
    "\n",
    "A `{}` block, on the other hand, has **higher priority** which means that it binds more tightly to `array.map`. Therefore, when we use `{},` `array.map `is called with the block, then the return value of `array.map` gets passed to `p`.\n",
    "\n",
    "A visualization of both scenarios:\n",
    "\n",
    "```ruby\n",
    "array = [1, 2, 3]\n",
    "\n",
    "p(array.map) do |num|\n",
    "  num + 1                           #  <Enumerator: [1, 2, 3]:map>\n",
    "end                                 #  => <Enumerator: [1, 2, 3]:map>\n",
    "\n",
    "p(array.map { |num| num + 1 })      # [2, 3, 4]\n",
    "                                    # => [2, 3, 4]\n",
    "```\n",
    "\n",
    "### Ruby's `tap` method"
   ]
  },
  {
   "cell_type": "code",
   "execution_count": 29,
   "metadata": {},
   "outputs": [
    {
     "name": "stdout",
     "output_type": "stream",
     "text": [
      "[2, 3, 4]\n"
     ]
    },
    {
     "data": {
      "text/plain": [
       "[2, 3, 4]"
      ]
     },
     "execution_count": 29,
     "metadata": {},
     "output_type": "execute_result"
    }
   ],
   "source": [
    "array = [1, 2, 3]\n",
    "mapped_array = array.map { |num| num + 1 }\n",
    "mapped_and_tapped = mapped_array.tap { |value| p value }              # => [2, 3, 4]"
   ]
  },
  {
   "cell_type": "markdown",
   "metadata": {},
   "source": [
    "`array.map { |num| num + 1 }` resolves to `[2, 3, 4]`, which then gets used to call `tap`. `tap` takes the calling object and passes it to the block argument, then returns that same object. Typically, you will do something like `print` the object inside that block.\n",
    "\n",
    "One other use case for this method is to debug intermediate objects in method chains. Take the example below. As you can see, the transformation done and the resulting object at every step is now visible to us by just using `tap`."
   ]
  },
  {
   "cell_type": "code",
   "execution_count": 30,
   "metadata": {},
   "outputs": [
    {
     "name": "stdout",
     "output_type": "stream",
     "text": [
      "1..10\n",
      "[1, 2, 3, 4, 5, 6, 7, 8, 9, 10]\n",
      "[2, 4, 6, 8, 10]\n",
      "[4, 16, 36, 64, 100]\n"
     ]
    },
    {
     "data": {
      "text/plain": [
       "[4, 16, 36, 64, 100]"
      ]
     },
     "execution_count": 30,
     "metadata": {},
     "output_type": "execute_result"
    }
   ],
   "source": [
    "(1..10)                 .tap { |x| p x }   # 1..10\n",
    " .to_a                  .tap { |x| p x }   # [1, 2, 3, 4, 5, 6, 7, 8, 9, 10]\n",
    " .select {|x| x.even? } .tap { |x| p x }   # [2, 4, 6, 8, 10]\n",
    " .map {|x| x*x }        .tap { |x| p x }   # [4, 16, 36, 64, 100]\n",
    "\n",
    "#  (1..10).select(&:even?).map { |x| x*x }"
   ]
  },
  {
   "cell_type": "markdown",
   "metadata": {},
   "source": [
    "### Calculator Bonus Features\n",
    "\n",
    "**1.Better integer validation.**\n",
    "\n",
    "```ruby\n",
    "def integer?(input)\n",
    "  input.to_i.to_s == input\n",
    "end\n",
    "```\n",
    "\n",
    "This isn't perfect, however, because while \"0\" will return true, if we input \"00\", this method will return false.\n",
    "\n",
    "```ruby\n",
    "def integer?(input)\n",
    "  /^-?\\d+$/.match(input)\n",
    "end\n",
    "```\n",
    "\n",
    "Use regex. Slightly more complex, but we're using the `\\d` regular expression to test against all digits. The `^` means start of string, the `+` means \"one or more\" (of the preceding matcher), and the `$` means end of string. Therefore, it has to be an integer, and a float, like 4.5 won't match. When there's a match, the match method will return a `MatchData` object, which will evaluate to `true`. When there's no match, it'll return `nil`, which will evaluate to `false`.\n",
    "\n",
    "```ruby\n",
    "def integer?(input)\n",
    "  Integer(input) rescue false\n",
    "end\n",
    "```\n",
    "\n",
    "Use built-in conversion method. In Ruby, there's a method called `Kernel#Integer` that will convert parameters to the method into an integer object. It will, however, raise a `TypeError` if the input is not a valid integer.\n",
    "\n",
    "**2. Number validation**\n",
    "\n"
   ]
  },
  {
   "cell_type": "code",
   "execution_count": 60,
   "metadata": {},
   "outputs": [
    {
     "data": {
      "text/plain": [
       ":number?"
      ]
     },
     "execution_count": 60,
     "metadata": {},
     "output_type": "execute_result"
    }
   ],
   "source": [
    "def number?(number)\n",
    "  number.split('.').map(&:to_i).all? { |x| x.is_a? Integer }\n",
    "  # number.chars.select { |x| x != '.' }.map(&:to_i).all? { |x| x.is_a? Integer }\n",
    "end"
   ]
  },
  {
   "cell_type": "markdown",
   "metadata": {},
   "source": [
    "```ruby\n",
    "def float?(input)\n",
    "  input.to_f.to_s == input\n",
    "end\n",
    "```\n",
    "\n",
    "```ruby\n",
    "def number?(input)\n",
    "  integer?(input) || float?(input)\n",
    "end\n",
    "```\n",
    "We already have the integer? method, so all we need to do is implement a float? method.\n",
    "\n",
    "\n",
    "```ruby\n",
    "def float?(input)\n",
    "  /\\d/.match(input) && /^-?\\d*\\.?\\d*$/.match(input)\n",
    "end\n",
    "```\n",
    "\n",
    "Use regex. This regex is similar to the regex in the `integer?` method, except we have to account for more possible formats. We can combine two validations to verify that the input is a valid float. The first validation verifies that there is at least one digit in the input. The second validation incorporates the `*` which stands for \"zero or more\", and the `?` which stands for \"zero or one\". This validation can be read as \"zero or more digits, followed by an optional period, followed by zero or more digits. This validation will accept all of these formats: 11.11, 11., .11, but not a period by itself. Notice that we had to prefix the `.` with a backslash. That is because . matches any single character in regex. By escaping it, we tell Ruby that we are looking for the actual period character.\n",
    "\n",
    "```ruby\n",
    "def float?(input)\n",
    "  Float(input) rescue false\n",
    "end\n",
    "```\n",
    "\n",
    "Use the `Kernel#Float` method, which is analogous to the `Kernel#Integer` method from earlier. Just like that method, `Float` also raises an exception if you don't give it a valid float.\n",
    "\n",
    "**3. `operation_to_message`**\n",
    "\n",
    "```ruby\n",
    "def operation_to_message(op)\n",
    "  string_op = case op\n",
    "              when '1'\n",
    "                'Adding'\n",
    "              when '2'\n",
    "                'Subtracting'\n",
    "              when '3'\n",
    "                'Multiplying'\n",
    "              when '4'\n",
    "                'Dividing'\n",
    "              end\n",
    "  string_op\n",
    "end\n",
    "```\n",
    "\n",
    "If we wanted to add code after the case statement, we would need to save the return value of the case into a variable, then make sure to return that variable, or that variable must be the last line in the method.\n",
    "\n",
    "**4. Extracting messages in the program to a configuration file.**\n",
    "\n",
    "```\n",
    "# calculator_messages.yml\n",
    "\n",
    "welcome: \"Welcome to Calculator! Enter your name:\"\n",
    "valid_name: \"Make sure to enter a valid name.\"\n",
    "\n",
    "# ... rest of file omitted for brevity\n",
    "```\n",
    "\n",
    "To use that module, in your `calculator.rb` file, add `require 'yaml'` and you can parse the `calculator_messages.yml` file, then save the parsed data into a variable.\n",
    "\n",
    "```ruby \n",
    "# at the top of file\n",
    "\n",
    "require 'yaml'\n",
    "MESSAGES = YAML.load_file('calculator_messages.yml')\n",
    "```\n",
    "\n",
    "`MESSAGES` is a normal Ruby hash\n",
    "\n",
    "Now, all we have to do is replace all hard-coded strings with the key in the `MESSAGES` hash.\n",
    "\n",
    "```ruby\n",
    "# replace this:\n",
    "prompt(\"Welcome to Calculator! Enter your name:\")\n",
    "\n",
    "# with this:\n",
    "prompt(MESSAGES['welcome'])\n",
    "```\n",
    "\n",
    "**5. Internationalize the Messages**\n",
    "\n",
    "Reorganize our yml configuration a little bit to account for different languages. We'll nest the message keys under a top-level language, thereby organizing all the values. Here's an example:\n",
    "\n",
    "```\n",
    "# reorganizing the calculator_messages.yml\n",
    "\n",
    "en:\n",
    "  welcome: \"Welcome to Calculator! Enter your name:\"\n",
    "  valid_name: \"Make sure to enter a valid name.\"\n",
    "es:\n",
    "  welcome: \"Bienvenido a la calculadora! Entre su nombre:\"\n",
    "  valid_name: \"Asegúrese de entrar un nombre válido.\"\n",
    "  ```\n",
    "\n",
    "`MESSAGES` is still a hash, except it's now a nested hash. This means we have to grab the language first, then the message.\n",
    "\n",
    "```ruby\n",
    "MESSAGES['es']['welcome']    # => Bienvenido a la calculadora! Entre su nombre:\n",
    "```\n",
    "\n",
    "Because we'll need the language key every time we reference the message, let's move that to a method we can call. That way, we can pass in the language to the method, which can then reference the MESSAGES hash.\n",
    "\n",
    "```ruby\n",
    "# at top of file after initializing MESSAGES\n",
    "\n",
    "def messages(message, lang='en')\n",
    "  MESSAGES[lang][message]\n",
    "end\n",
    "\n",
    "# english\n",
    "prompt(messages('welcome'))       # => Welcome to Calculator! Enter your name:\n",
    "\n",
    "# english\n",
    "prompt(messages('welcome', 'en')) # => Welcome to Calculator! Enter your name:\n",
    "\n",
    "# spanish\n",
    "prompt(messages('welcome', 'es')) # => Bienvenido a la calculadora! Entre su nombre:\n",
    "```\n",
    "\n",
    "The last piece is setting a default language for your program.\n",
    "\n",
    "```ruby\n",
    "# top of calculator.rb\n",
    "\n",
    "LANGUAGE = 'en'\n",
    "```\n",
    "\n",
    "```ruby\n",
    "def prompt(key)\n",
    "  message = messages(key, LANGUAGE)\n",
    "  Kernel.puts(\"=> #{message}\")\n",
    "end\n",
    "\n",
    "# now you can just do:\n",
    "prompt('welcome')\n",
    "```"
   ]
  },
  {
   "cell_type": "markdown",
   "metadata": {},
   "source": []
  }
 ],
 "metadata": {
  "kernelspec": {
   "display_name": "Ruby 2.7.5",
   "language": "ruby",
   "name": "ruby"
  },
  "language_info": {
   "file_extension": ".rb",
   "mimetype": "application/x-ruby",
   "name": "ruby",
   "version": "2.7.5"
  },
  "orig_nbformat": 4,
  "vscode": {
   "interpreter": {
    "hash": "aee8b7b246df8f9039afb4144a1f6fd8d2ca17a180786b69acc140d282b71a49"
   }
  }
 },
 "nbformat": 4,
 "nbformat_minor": 2
}
