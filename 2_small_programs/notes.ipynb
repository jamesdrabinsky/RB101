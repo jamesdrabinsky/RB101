{
 "cells": [
  {
   "cell_type": "markdown",
   "metadata": {},
   "source": [
    "## Truthiness\n",
    "\n",
    "Like everything else in Ruby, booleab objects have real classes behind them, and you can call methods on `true` and `false`\n",
    "\n",
    "```ruby\n",
    "true.class          # => TrueClass\n",
    "true.nil?           # => false\n",
    "true.to_s           # => \"true\"\n",
    "true.methods        # => list of methods you can call on the true object\n",
    "\n",
    "false.class         # => FalseClass\n",
    "false.nil?          # => false\n",
    "false.to_s          # => \"false\"\n",
    "false.methods       # => list of methods you can call on the false object\n",
    "```"
   ]
  },
  {
   "cell_type": "markdown",
   "metadata": {},
   "source": [
    "### Expressions and Conditionals\n",
    "\n",
    "Short circuiting the `&&` and `||` operators exhibit a behavior called `short circuiting`, which means it will stop evaluating expressions once it can guarantee the return value.<br><br>\n",
    "\n",
    "The `&&` will short circuit when it encounters the first `false` expressions\n",
    "\n",
    "```ruby\n",
    "false && 3/0\n",
    "=> false\n",
    "```\n",
    "\n",
    "Notice the above code doesn't generate a `ZeroDivisionError`. This is because the `&&` operator didn't even evaluate the second expression; since the first expression is `false`, it can short circuit and return `false`.\n",
    "\n",
    "Also, notice that `false || 3/0` will generate an error.\n",
    "\n",
    "```ruby\n",
    "false || 3/0\n",
    "# ZeroDivisionError: divided by 0\n",
    "```\n",
    "\n",
    "The `||` will short circuit when it encounters the first true expression.\n",
    "\n",
    "```ruby\n",
    "true || 3/0\n",
    "=> true\n",
    "```\n",
    "\n",
    "The above code doesn't generate a `ZeroDivisionError` because `||` didn't evaluate the second expression; it short circuited after encountering `true`."
   ]
  },
  {
   "cell_type": "markdown",
   "metadata": {},
   "source": [
    "### Truthiness\n",
    "\n",
    "Ruby is a very liberal language and considers everything to be truthy other than `false` and `nil`.\n",
    "\n",
    "```ruby\n",
    "num = 5\n",
    "\n",
    "if num\n",
    "  puts \"valid number\"\n",
    "else\n",
    "  puts \"error!\"\n",
    "end\n",
    "```\n",
    "\n",
    "This will actually output `\"valid number\"`. The reason is because Ruby considers any integer to be `\"truthy\"`. It does **not**, however, mean that the num variable from above is equal to `true`:\n",
    "\n",
    "```ruby\n",
    "num = 5\n",
    "num == true        # => false\n",
    "```"
   ]
  },
  {
   "cell_type": "markdown",
   "metadata": {},
   "source": [
    "## Calculator Program\n",
    "\n",
    "In Ruby, `if` expressions can return a value.\n",
    "\n",
    "```ruby\n",
    "answer = if true\n",
    "           'yes'\n",
    "         else\n",
    "           'no'\n",
    "         end\n",
    "Kernel.puts(answer)       # => yes\n",
    "```"
   ]
  },
  {
   "cell_type": "markdown",
   "metadata": {},
   "source": [
    "## Pseudo Code\n",
    "\n",
    "### Formal Pseudo Code\n",
    "\n",
    "We'll use the below keywords to assist us, along with their meaning.\n",
    "\n",
    "```\n",
    "keyword\t                meaning\n",
    "START\t                start of the program\n",
    "SET                     sets a variable we can use for later\n",
    "GET                     retrieve input from user\n",
    "PRINT\t                displays output to user\n",
    "READ\t                retrieve value from variable\n",
    "IF / ELSE IF / ELSE     show conditional branches in logic\n",
    "WHILE\t                show looping logic\n",
    "END                     end of the program\n",
    "```\n",
    "\n",
    "An example of how to iterate through an array and print out the max value:\n",
    "\n",
    "```\n",
    "START\n",
    "\n",
    "# Given a collection of integers called \"numbers\"\n",
    "\n",
    "SET iterator = 1\n",
    "SET saved_number = value within numbers collection at space 1\n",
    "\n",
    "WHILE iterator <= length of numbers\n",
    "  SET current_number = value within numbers collection at space \"iterator\"\n",
    "  IF saved_number >= current_number\n",
    "    go to the next iteration\n",
    "  ELSE\n",
    "    saved_number = current_number\n",
    "\n",
    "  iterator = iterator + 1\n",
    "\n",
    "PRINT saved_number\n",
    "\n",
    "END\n",
    "```\n",
    "\n",
    "### Translating Pseudo-Code to Program Code"
   ]
  },
  {
   "cell_type": "code",
   "execution_count": null,
   "metadata": {},
   "outputs": [],
   "source": [
    "def find_greatest(numbers)\n",
    "  saved_number = numbers[0]\n",
    "\n",
    "  numbers.each do |num|\n",
    "    if saved_number >= num\n",
    "      next\n",
    "    else\n",
    "      saved_number = num\n",
    "    end\n",
    "  end\n",
    "\n",
    "  saved_number\n",
    "end"
   ]
  },
  {
   "cell_type": "code",
   "execution_count": 8,
   "metadata": {},
   "outputs": [
    {
     "name": "stdout",
     "output_type": "stream",
     "text": [
      "101\n"
     ]
    }
   ],
   "source": [
    "def find_greatest_number(arr)\n",
    "  count = 1\n",
    "  saved_number = arr[0]\n",
    "\n",
    "  while count < arr.size\n",
    "    current_number = arr[count]\n",
    "    saved_number = current_number if current_number > saved_number\n",
    "    count += 1\n",
    "  end\n",
    "  \n",
    "  saved_number\n",
    "end\n",
    "\n",
    "puts find_greatest_number([1, 3, 21, 51, 101, 2])"
   ]
  }
 ],
 "metadata": {
  "kernelspec": {
   "display_name": "Ruby 2.7.5",
   "language": "ruby",
   "name": "ruby"
  },
  "language_info": {
   "file_extension": ".rb",
   "mimetype": "application/x-ruby",
   "name": "ruby",
   "version": "2.7.5"
  },
  "orig_nbformat": 4,
  "vscode": {
   "interpreter": {
    "hash": "aee8b7b246df8f9039afb4144a1f6fd8d2ca17a180786b69acc140d282b71a49"
   }
  }
 },
 "nbformat": 4,
 "nbformat_minor": 2
}
