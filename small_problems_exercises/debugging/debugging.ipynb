{
 "cells": [
  {
   "cell_type": "markdown",
   "metadata": {},
   "source": [
    "<b>1.\n",
    "\n",
    "Our countdown to launch isn't behaving as expected. Why? Change the code so that our program successfully counts down from 10 to 1.\n",
    "\n",
    "```ruby\n",
    "def decrease(counter)\n",
    "  counter -= 1\n",
    "end\n",
    "\n",
    "counter = 10\n",
    "\n",
    "10.times do\n",
    "  puts counter\n",
    "  decrease(counter)\n",
    "end\n",
    "\n",
    "puts 'LAUNCH!'\n",
    "```\n",
    "</b>"
   ]
  },
  {
   "cell_type": "code",
   "execution_count": null,
   "metadata": {},
   "outputs": [],
   "source": [
    "def decrease(counter)\n",
    "  counter - 1\n",
    "end\n",
    "\n",
    "counter = 10\n",
    "\n",
    "10.times do\n",
    "  puts counter\n",
    "  counter = decrease(counter)\n",
    "end\n",
    "\n",
    "puts 'LAUNCH!'"
   ]
  },
  {
   "cell_type": "markdown",
   "metadata": {},
   "source": [
    "<b>\n",
    "Further Exploration\n",
    "\n",
    "We specify 10 two times, which looks a bit redundant. It should be possible to specify it only once. Can you refactor the code accordingly?\n",
    "</b>"
   ]
  },
  {
   "cell_type": "code",
   "execution_count": 2,
   "metadata": {},
   "outputs": [
    {
     "name": "stdout",
     "output_type": "stream",
     "text": [
      "10\n",
      "9\n",
      "8\n",
      "7\n",
      "6\n",
      "5\n",
      "4\n",
      "3\n",
      "2\n",
      "1\n",
      "LAUNCH!\n"
     ]
    }
   ],
   "source": [
    "def decrease(counter)\n",
    "  counter - 1\n",
    "end\n",
    "\n",
    "counter = 10\n",
    "\n",
    "counter.times do |i|\n",
    "  puts counter - i\n",
    "end\n",
    "\n",
    "puts 'LAUNCH!'"
   ]
  },
  {
   "cell_type": "code",
   "execution_count": null,
   "metadata": {},
   "outputs": [],
   "source": [
    "def decrease(counter)\n",
    "  counter - 1\n",
    "end\n",
    "\n",
    "counter = 10\n",
    "\n",
    "counter.downto(1).each do |count|\n",
    "  puts count\n",
    "end\n",
    "\n",
    "puts 'LAUNCH!'"
   ]
  },
  {
   "cell_type": "markdown",
   "metadata": {},
   "source": [
    "<b>2.\n",
    "\n",
    "`String#upcase!` is a destructive method, so why does this code print `HEY you` instead of `HEY YOU?` Modify the code so that it produces the expected output.\n",
    "\n",
    "```ruby\n",
    "def shout_out_to(name)\n",
    "  name.chars.each { |c| c.upcase! }\n",
    "\n",
    "  puts 'HEY ' + name\n",
    "end\n",
    "\n",
    "shout_out_to('you') # expected: 'HEY YOU'\n",
    "```\n",
    "\n",
    "</b>"
   ]
  },
  {
   "cell_type": "code",
   "execution_count": 8,
   "metadata": {},
   "outputs": [
    {
     "name": "stdout",
     "output_type": "stream",
     "text": [
      "HEY YOU\n"
     ]
    }
   ],
   "source": [
    "def shout_out_to(name)\n",
    "  # (0..name.size - 1).each { |idx| name[idx] = name[idx].upcase }\n",
    "  # puts 'HEY ' + name\n",
    "\n",
    "  puts 'HEY ' + name.upcase\n",
    "end\n",
    "\n",
    "shout_out_to('you') # expected: 'HEY YOU'"
   ]
  },
  {
   "cell_type": "code",
   "execution_count": 9,
   "metadata": {},
   "outputs": [
    {
     "name": "stdout",
     "output_type": "stream",
     "text": [
      "HEY YOU\n"
     ]
    }
   ],
   "source": [
    "def shout_out_to(name)\n",
    "  name.upcase!\n",
    "  puts 'HEY ' + name\n",
    "end\n",
    "\n",
    "shout_out_to('you') # expected: 'HEY YOU'"
   ]
  },
  {
   "cell_type": "markdown",
   "metadata": {},
   "source": [
    "<b>3.\n",
    "\n",
    "The `valid_series?` method checks whether a series of numbers is valid. For the purposes of this exercise, a valid series of numbers must contain exactly three odd numbers. Additionally, the numbers in the series must sum to 47.\n",
    "\n",
    "Unfortunately, our last test case is not returning the expected result. Why is that?\n",
    "\n",
    "```ruby\n",
    "def valid_series?(nums)\n",
    "  return false if nums.sum != 47\n",
    "\n",
    "  odd_count = nums.count { |n| n.odd? }\n",
    "  odd_count = 3 ? true : false\n",
    "end\n",
    "\n",
    "p valid_series?([5, 6, 2, 7, 3, 12, 4, 8])        # should return true\n",
    "p valid_series?([1, 12, 2, 5, 16, 6])             # should return false\n",
    "p valid_series?([28, 3, 4, 7, 9, 14])             # should return false\n",
    "p valid_series?([20, 6, 9, 4, 2, 1, 2, 3])        # should return true\n",
    "p valid_series?([10, 6, 19, 2, 6, 4])  \n",
    "```\n",
    "\n",
    "</b>"
   ]
  },
  {
   "cell_type": "code",
   "execution_count": 15,
   "metadata": {},
   "outputs": [
    {
     "name": "stdout",
     "output_type": "stream",
     "text": [
      "true\n",
      "false\n",
      "false\n",
      "true\n",
      "false\n"
     ]
    },
    {
     "data": {
      "text/plain": [
       "false"
      ]
     },
     "execution_count": 15,
     "metadata": {},
     "output_type": "execute_result"
    }
   ],
   "source": [
    "def valid_series?(nums)\n",
    "  return false if nums.sum != 47\n",
    "\n",
    "  odd_count = nums.count { |n| n.odd? }\n",
    "  odd_count == 3 ? true : false # comparison instead of assignment\n",
    "end\n",
    "\n",
    "p valid_series?([5, 6, 2, 7, 3, 12, 4, 8])        # should return true\n",
    "p valid_series?([1, 12, 2, 5, 16, 6])             # should return false\n",
    "p valid_series?([28, 3, 4, 7, 9, 14])             # should return false\n",
    "p valid_series?([20, 6, 9, 4, 2, 1, 2, 3])        # should return true\n",
    "p valid_series?([10, 6, 19, 2, 6, 4])             # should return false"
   ]
  },
  {
   "cell_type": "code",
   "execution_count": 16,
   "metadata": {},
   "outputs": [
    {
     "data": {
      "text/plain": [
       ":valid_series?"
      ]
     },
     "execution_count": 16,
     "metadata": {},
     "output_type": "execute_result"
    }
   ],
   "source": [
    "def valid_series?(series)\n",
    "  (series.sum == 47) && (series.count(&:odd?) == 3)\n",
    "end"
   ]
  },
  {
   "cell_type": "markdown",
   "metadata": {},
   "source": [
    "<b>4.\n",
    "\n",
    "The `reverse_sentence` method should return a new string with the words of its argument in reverse order, without using any of Ruby's built-in reverse methods. However, the code below raises an error. Change it so that it behaves as expected.\n",
    "\n",
    "```ruby\n",
    "def reverse_sentence(sentence)\n",
    "  words = sentence.split(' ')\n",
    "  reversed_words = []\n",
    "\n",
    "  i = 0\n",
    "  while i < words.length\n",
    "    reversed_words = words[i] + reversed_words\n",
    "    i += 1\n",
    "  end\n",
    "\n",
    "  reversed_words.join(' ')\n",
    "end\n",
    "\n",
    "p reverse_sentence('how are you doing')\n",
    "# expected output: 'doing you are how'\n",
    "```\n",
    "\n",
    "</b>"
   ]
  },
  {
   "cell_type": "code",
   "execution_count": 30,
   "metadata": {},
   "outputs": [
    {
     "data": {
      "text/plain": [
       "\"doing you are how\""
      ]
     },
     "execution_count": 30,
     "metadata": {},
     "output_type": "execute_result"
    }
   ],
   "source": [
    "def reverse_sentence(sentence)\n",
    "  words = sentence.split(' ')\n",
    "  reversed_words = []\n",
    "\n",
    "  i = 0\n",
    "  while i < words.length\n",
    "    reversed_words = [words[i]] + reversed_words # Store return value of words[i] in array\n",
    "    i += 1\n",
    "  end\n",
    "\n",
    "  reversed_words.join(' ')\n",
    "end\n",
    "\n",
    "s = 'how are you doing'\n",
    "reverse_sentence(s)"
   ]
  },
  {
   "cell_type": "code",
   "execution_count": null,
   "metadata": {},
   "outputs": [],
   "source": [
    "def reverse_sentence(sentence)\n",
    "  words = sentence.split(' ')\n",
    "  reversed_words = []\n",
    "\n",
    "  i = 0\n",
    "  while i < words.length\n",
    "    reversed_words.unshift(words[i]) # Use Array#unshift to prepend the String object to the front of our array\n",
    "    i += 1\n",
    "  end\n",
    "\n",
    "  reversed_words.join(' ')\n",
    "end"
   ]
  },
  {
   "cell_type": "code",
   "execution_count": 47,
   "metadata": {},
   "outputs": [
    {
     "data": {
      "text/plain": [
       "\"doing you are how\""
      ]
     },
     "execution_count": 47,
     "metadata": {},
     "output_type": "execute_result"
    }
   ],
   "source": [
    "def reverse_sentence(string)\n",
    "  arr = string.split\n",
    "  arr.map.with_index(1) { |_, i| arr[-i] }.join( ' ' )\n",
    "end\n",
    "\n",
    "s = 'how are you doing'\n",
    "reverse_sentence(s)"
   ]
  },
  {
   "cell_type": "markdown",
   "metadata": {},
   "source": [
    "<b>5.\n",
    "\n",
    "We started working on a card game but got stuck. Check out why the code below raises a `TypeError`.\n",
    "\n",
    "Once you get the program to run and produce a sum, you might notice that the sum is off: It's lower than it should be. Why is that?\n",
    "</b>"
   ]
  },
  {
   "cell_type": "code",
   "execution_count": 55,
   "metadata": {},
   "outputs": [
    {
     "name": "stdout",
     "output_type": "stream",
     "text": [
      "[10, 5, 10, 4, 11, 3, 9, 2, 10]\n",
      "[10, 5, 10, 4, 11, 3, 9, 2, 10]\n",
      "[10, 5, 10, 4, 11, 3, 9, 2, 10]\n",
      "[10, 5, 10, 4, 11, 3, 9, 2, 10]\n",
      "256\n"
     ]
    }
   ],
   "source": [
    "cards = [2, 3, 4, 5, 6, 7, 8, 9, 10, :jack, :queen, :king, :ace]\n",
    "\n",
    "deck = { :hearts   => cards,\n",
    "         :diamonds => cards,\n",
    "         :clubs    => cards,\n",
    "         :spades   => cards }\n",
    "\n",
    "def score(card)\n",
    "  case card\n",
    "  when :ace   then 11\n",
    "  when :king  then 10\n",
    "  when :queen then 10\n",
    "  when :jack  then 10\n",
    "  else card\n",
    "  end\n",
    "end\n",
    "\n",
    "# Pick one random card per suit\n",
    "\n",
    "player_cards = []\n",
    "deck.keys.each do |suit|\n",
    "  cards = deck[suit]\n",
    "  cards.shuffle!\n",
    "  player_cards << cards.pop\n",
    "end\n",
    "\n",
    "# Determine the score of the remaining cards in the deck\n",
    "\n",
    "sum = deck.reduce(0) do |sum, (_, remaining_cards)|\n",
    "  converted_cards = remaining_cards.map do |card| # Must assign the new array that `map` returns to a variable\n",
    "    score(card)\n",
    "  end\n",
    "  puts converted_cards.inspect\n",
    "\n",
    "  sum += converted_cards.sum  # Replace `remaining_cards` with `converted_cards`\n",
    "end\n",
    "\n",
    "puts sum"
   ]
  },
  {
   "cell_type": "markdown",
   "metadata": {},
   "source": [
    "<b>7.\n",
    "\n",
    "We wrote a neutralize method that removes negative words from sentences. However, it fails to remove all of them. What exactly happens?\n",
    "\n",
    "```ruby\n",
    "def neutralize(sentence)\n",
    "  words = sentence.split(' ')\n",
    "  words.each do |word|\n",
    "    words.delete(word) if negative?(word)\n",
    "  end\n",
    "\n",
    "  words.join(' ')\n",
    "end\n",
    "\n",
    "def negative?(word)\n",
    "  [ 'dull',\n",
    "    'boring',\n",
    "    'annoying',\n",
    "    'chaotic'\n",
    "  ].include?(word)\n",
    "end\n",
    "\n",
    "puts neutralize('These dull boring cards are part of a chaotic board game.')\n",
    "# Expected: These cards are part of a board game.\n",
    "# Actual: These boring cards are part of a board game.\n",
    "```\n",
    "</b>"
   ]
  },
  {
   "cell_type": "code",
   "execution_count": 60,
   "metadata": {},
   "outputs": [
    {
     "name": "stdout",
     "output_type": "stream",
     "text": [
      "These cards are part of a board game.\n"
     ]
    }
   ],
   "source": [
    "def negative?(word)\n",
    "  [ 'dull',\n",
    "    'boring',\n",
    "    'annoying',\n",
    "    'chaotic'\n",
    "  ].include?(word)\n",
    "end\n",
    "\n",
    "def neutralize(sentence)\n",
    "  words = sentence.split(' ')\n",
    "  words.reject { |word| negative?(word) }.join(' ')\n",
    "end\n",
    "\n",
    "puts neutralize('These dull boring cards are part of a chaotic board game.')"
   ]
  },
  {
   "cell_type": "markdown",
   "metadata": {},
   "source": [
    "**DO NOT MUTATE COLLECTIONS WHILE ITERATING THROUGH THEM**"
   ]
  },
  {
   "cell_type": "markdown",
   "metadata": {},
   "source": [
    "<b>8.\n",
    "\n",
    "The following code prompts the user to set their own password if they haven't done so already, and then prompts them to login with that password. However, the program throws an error. What is the problem and how can you fix it?\n",
    "\n",
    "Once you get the program to run without error, does it behave as expected? Verify that you are able to log in with your new password.\n",
    "\n",
    "```ruby\n",
    "password = nil\n",
    "\n",
    "def set_password\n",
    "  puts 'What would you like your password to be?'\n",
    "  new_password = gets.chomp\n",
    "  new_password\n",
    "end\n",
    "\n",
    "def verify_password(password)\n",
    "  puts '** Login **'\n",
    "  print 'Password: '\n",
    "  input = gets.chomp\n",
    "\n",
    "  if input == password\n",
    "    puts 'Welcome to the inside!'\n",
    "  else\n",
    "    puts 'Authentication failed.'\n",
    "  end\n",
    "end\n",
    "\n",
    "if !password\n",
    "  password = set_password\n",
    "end\n",
    "\n",
    "verify_password(password)\n",
    "```\n",
    "</b>"
   ]
  },
  {
   "cell_type": "code",
   "execution_count": null,
   "metadata": {},
   "outputs": [],
   "source": [
    "password = nil\n",
    "\n",
    "def set_password\n",
    "  puts 'What would you like your password to be?'\n",
    "  new_password = gets.chomp\n",
    "  new_password\n",
    "end\n",
    "\n",
    "def verify_password(password)\n",
    "  puts '** Login **'\n",
    "  print 'Password: '\n",
    "  input = gets.chomp\n",
    "\n",
    "  if input == password\n",
    "    puts 'Welcome to the inside!'\n",
    "  else\n",
    "    puts 'Authentication failed.'\n",
    "  end\n",
    "end\n",
    "\n",
    "unless password\n",
    "  password = set_password\n",
    "end\n",
    "\n",
    "verify_password(password)"
   ]
  },
  {
   "cell_type": "markdown",
   "metadata": {},
   "source": [
    "<b>9.\n",
    "\n",
    "A friend of yours wrote a number guessing game. The first version he shows you picks a random number between 1 and a provided maximum number and offers you a given number of attempts to guess it.\n",
    "\n",
    "However, when you try it, you notice that it's not working as expected. Run the code and observe its behavior. Can you figure out what is wrong?\n",
    "\n",
    "```ruby\n",
    "def valid_integer?(string)\n",
    "  string.to_i.to_s == string\n",
    "end\n",
    "\n",
    "def guess_number(max_number, max_attempts)\n",
    "  winning_number = (1..max_number).to_a.sample\n",
    "  attempts = 0\n",
    "\n",
    "  loop do\n",
    "    attempts += 1\n",
    "    break if attempts > max_attempts\n",
    "\n",
    "    input = nil\n",
    "    until valid_integer?(input)\n",
    "      print 'Make a guess: '\n",
    "      input = gets.chomp\n",
    "    end\n",
    "\n",
    "    guess = input.to_i\n",
    "\n",
    "    if guess == winning_number\n",
    "      puts 'Yes! You win.'\n",
    "    else\n",
    "      puts 'Nope. Too small.' if guess < winning_number\n",
    "      puts 'Nope. Too big.'   if guess > winning_number\n",
    "\n",
    "      # Try again:\n",
    "      guess_number(max_number, max_attempts)\n",
    "    end\n",
    "  end\n",
    "end\n",
    "\n",
    "guess_number(10, 3)\n",
    "```\n",
    "</b>"
   ]
  },
  {
   "cell_type": "markdown",
   "metadata": {},
   "source": [
    "<b>10.\n",
    "\n",
    "Josh wants to print an array of numeric strings in reverse numerical order. However, the output is wrong. Without removing any code, help Josh get the expected output.\n",
    "\n",
    "```ruby\n",
    "arr = [\"9\", \"8\", \"7\", \"10\", \"11\"]\n",
    "p arr.sort do |x, y|\n",
    "    y.to_i <=> x.to_i\n",
    "  end\n",
    "\n",
    "# Expected output: [\"11\", \"10\", \"9\", \"8\", \"7\"] \n",
    "# Actual output: [\"10\", \"11\", \"7\", \"8\", \"9\"] \n",
    "```\n",
    "\n",
    "</b>"
   ]
  },
  {
   "cell_type": "code",
   "execution_count": 73,
   "metadata": {},
   "outputs": [
    {
     "name": "stdout",
     "output_type": "stream",
     "text": [
      "[\"10\", \"11\", \"7\", \"8\", \"9\"]\n"
     ]
    },
    {
     "data": {
      "text/plain": [
       "[\"10\", \"11\", \"7\", \"8\", \"9\"]"
      ]
     },
     "execution_count": 73,
     "metadata": {},
     "output_type": "execute_result"
    }
   ],
   "source": [
    "arr = [\"9\", \"8\", \"7\", \"10\", \"11\"]\n",
    "\n",
    "p (arr.sort do |x, y|\n",
    "  y.to_i <=> x.to_i\n",
    "end)"
   ]
  },
  {
   "cell_type": "code",
   "execution_count": 72,
   "metadata": {},
   "outputs": [
    {
     "name": "stdout",
     "output_type": "stream",
     "text": [
      "[91, 80, 76, 76, 56, 54, 41, 32, 7, 5]\n"
     ]
    },
    {
     "data": {
      "text/plain": [
       "[91, 80, 76, 76, 56, 54, 41, 32, 7, 5]"
      ]
     },
     "execution_count": 72,
     "metadata": {},
     "output_type": "execute_result"
    }
   ],
   "source": [
    "arr = 10.times.map { [*0..100].sample }\n",
    "p arr.sort_by { |num| -num }"
   ]
  }
 ],
 "metadata": {
  "kernelspec": {
   "display_name": "Ruby 2.7.5",
   "language": "ruby",
   "name": "ruby"
  },
  "language_info": {
   "file_extension": ".rb",
   "mimetype": "application/x-ruby",
   "name": "ruby",
   "version": "2.7.5"
  },
  "orig_nbformat": 4
 },
 "nbformat": 4,
 "nbformat_minor": 2
}
