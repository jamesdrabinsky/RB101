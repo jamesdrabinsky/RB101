{
 "cells": [
  {
   "cell_type": "markdown",
   "metadata": {},
   "source": [
    "1. Write a loop that prints numbers 1-5 and whether the number is even or odd. Use the code below to get started."
   ]
  },
  {
   "cell_type": "code",
   "execution_count": null,
   "metadata": {},
   "outputs": [],
   "source": [
    "count = 1\n",
    "\n",
    "loop do\n",
    "  puts count.to_s + (count.even? ? \" is even\" : \" is odd\")\n",
    "  count += 1\n",
    "  break if count > 5\n",
    "end\n",
    "\n",
    "############################################################\n",
    "\n",
    "(1..5).each_with_index { |num, idx| puts \"#{num} #{idx.even? ? ' is even': ' is odd'}\" }\n",
    "\n",
    "###########################################################\n",
    "\n",
    "5.times { |num| puts \"#{num + 1} #{(num).even? ? ' is odd': ' is even'}\" } "
   ]
  },
  {
   "cell_type": "markdown",
   "metadata": {},
   "source": [
    "2. Modify the following code so that the loop stops if number is equal to or between 0 and 10."
   ]
  },
  {
   "cell_type": "code",
   "execution_count": null,
   "metadata": {},
   "outputs": [],
   "source": [
    "loop do\n",
    "  number = rand(100)\n",
    "  puts number\n",
    "  break if number.between?(0, 10)\n",
    "end"
   ]
  },
  {
   "cell_type": "markdown",
   "metadata": {},
   "source": [
    "3. \n",
    "- When process_the_loop is true, execute a loop that iterates exactly once and prints The loop was processed during that iteration.\n",
    "- When process_the_loop is false, just print The loop wasn't processed!."
   ]
  },
  {
   "cell_type": "code",
   "execution_count": 2,
   "metadata": {},
   "outputs": [
    {
     "name": "stdout",
     "output_type": "stream",
     "text": [
      "true\n",
      "The loop was processed during the iteration\n"
     ]
    },
    {
     "data": {
      "text/plain": [
       "1"
      ]
     },
     "execution_count": 2,
     "metadata": {},
     "output_type": "execute_result"
    }
   ],
   "source": [
    "process_the_loop = [true, false].sample\n",
    "puts process_the_loop\n",
    "\n",
    "if process_the_loop\n",
    "  1.times { puts 'The loop was processed during the iteration' }\n",
    "else\n",
    "  puts \"The loop wasn't processed\"\n",
    "end"
   ]
  },
  {
   "cell_type": "markdown",
   "metadata": {},
   "source": [
    "4. Modify the code so \"That's correct!\" is printed and the loop stops when the user's answer equals 4. Print \"Wrong answer. Try again!\" if the user's answer doesn't equal 4."
   ]
  },
  {
   "cell_type": "code",
   "execution_count": null,
   "metadata": {},
   "outputs": [],
   "source": [
    "loop do\n",
    "  puts 'What does 2 + 2 equal?'\n",
    "  answer = gets.chomp.to_i\n",
    "  if answer == 4\n",
    "    puts \"That's correct\"\n",
    "    break\n",
    "  end\n",
    "  puts \"Wrong answer.  Try again!\"\n",
    "end"
   ]
  },
  {
   "cell_type": "markdown",
   "metadata": {},
   "source": [
    "5. Modify the code below so that the user's input gets added to the numbers array. Stop the loop when the array contains 5 numbers."
   ]
  },
  {
   "cell_type": "code",
   "execution_count": null,
   "metadata": {},
   "outputs": [],
   "source": [
    "numbers = []\n",
    "\n",
    "loop do\n",
    "  puts 'Enter any number:'\n",
    "  input = gets.chomp.to_i\n",
    "  numbers << input\n",
    "  break if numbers.size == 5\n",
    "end\n",
    "\n",
    "puts numbers"
   ]
  },
  {
   "cell_type": "markdown",
   "metadata": {},
   "source": [
    "6.  Use loop to remove and print each name from first to last. Stop the loop once names doesn't contain any more elements."
   ]
  },
  {
   "cell_type": "code",
   "execution_count": null,
   "metadata": {},
   "outputs": [],
   "source": [
    "names = ['Sally', 'Joe', 'Lisa', 'Henry']\n",
    "\n",
    "loop do\n",
    "  puts names.shift\n",
    "  break if names.empty?\n",
    "end\n",
    "\n",
    "###########################################################\n",
    "\n",
    "names = ['Sally', 'Joe', 'Lisa', 'Henry']\n",
    "\n",
    "loop do\n",
    "  puts names.pop\n",
    "  break if names.empty?\n",
    "end"
   ]
  },
  {
   "cell_type": "markdown",
   "metadata": {},
   "source": [
    "7. Modify the block so that it prints the current number and stops iterating when the current number equals 2."
   ]
  },
  {
   "cell_type": "code",
   "execution_count": 6,
   "metadata": {},
   "outputs": [
    {
     "name": "stdout",
     "output_type": "stream",
     "text": [
      "0\n",
      "1\n",
      "2\n"
     ]
    }
   ],
   "source": [
    "5.times do |index|\n",
    "  puts index\n",
    "  break if index == 2\n",
    "end"
   ]
  },
  {
   "cell_type": "markdown",
   "metadata": {},
   "source": [
    "8. Using next, modify the code below so that it only prints even numbers."
   ]
  },
  {
   "cell_type": "code",
   "execution_count": 11,
   "metadata": {},
   "outputs": [
    {
     "name": "stdout",
     "output_type": "stream",
     "text": [
      "2\n",
      "4\n",
      "6\n",
      "8\n",
      "10\n"
     ]
    }
   ],
   "source": [
    "number = 0\n",
    "\n",
    "until number == 10\n",
    "  number += 1\n",
    "  next if number.odd?\n",
    "  puts number\n",
    "end"
   ]
  },
  {
   "cell_type": "markdown",
   "metadata": {},
   "source": [
    "9. Use next to modify the code so that the loop iterates until either number_a or number_b equals 5. Print \"5 was reached!\" before breaking out of the loop."
   ]
  },
  {
   "cell_type": "code",
   "execution_count": 29,
   "metadata": {},
   "outputs": [
    {
     "name": "stdout",
     "output_type": "stream",
     "text": [
      "5 was reached!\n",
      "5\n",
      "4\n"
     ]
    }
   ],
   "source": [
    "number_a = 0\n",
    "number_b = 0\n",
    "\n",
    "loop do\n",
    "  number_a += rand(2)\n",
    "  number_b += rand(2)\n",
    "\n",
    "  next if (number_a != 5) && (number_b != 5)\n",
    "  # next unless (number_a == 5) || (number_b == 5)\n",
    "\n",
    "  puts \"5 was reached!\"\n",
    "  break\n",
    "end\n",
    "\n",
    "###########################################################\n",
    "\n",
    "loop do \n",
    "  number_a += rand(2)\n",
    "  number_b += rand(2)\n",
    "\n",
    "  if (number_a == 5) || (number_b == 5)\n",
    "    puts '5 was reached!'\n",
    "    break\n",
    "  end\n",
    "\n",
    "end\n",
    "\n",
    "puts number_a\n",
    "puts number_b"
   ]
  },
  {
   "cell_type": "markdown",
   "metadata": {},
   "source": [
    "10. Given the code below, use a while loop to print \"Hello!\" twice."
   ]
  },
  {
   "cell_type": "code",
   "execution_count": 31,
   "metadata": {},
   "outputs": [
    {
     "name": "stdout",
     "output_type": "stream",
     "text": [
      "Hello!\n",
      "Hello!\n"
     ]
    }
   ],
   "source": [
    "def greeting\n",
    "  puts 'Hello!'\n",
    "end\n",
    "\n",
    "number_of_greetings = 2\n",
    "\n",
    "while number_of_greetings > 0\n",
    "  greeting\n",
    "  number_of_greetings -= 1 \n",
    "end"
   ]
  }
 ],
 "metadata": {
  "kernelspec": {
   "display_name": "Ruby 2.7.5",
   "language": "ruby",
   "name": "ruby"
  },
  "language_info": {
   "file_extension": ".rb",
   "mimetype": "application/x-ruby",
   "name": "ruby",
   "version": "2.7.5"
  },
  "orig_nbformat": 4
 },
 "nbformat": 4,
 "nbformat_minor": 2
}
