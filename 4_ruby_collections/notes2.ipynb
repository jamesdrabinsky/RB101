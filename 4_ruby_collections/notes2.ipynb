{
 "cells": [
  {
   "cell_type": "markdown",
   "metadata": {},
   "source": [
    "## Collection Basics\n",
    "\n",
    "### Element Reference\n",
    "\n",
    "#### String Element Reference"
   ]
  },
  {
   "cell_type": "code",
   "execution_count": 1,
   "metadata": {},
   "outputs": [
    {
     "name": "stdout",
     "output_type": "stream",
     "text": [
      "c\n",
      "cde\n"
     ]
    }
   ],
   "source": [
    "str = 'abcdefghi'\n",
    "puts str[2]\n",
    "puts str[2, 3]"
   ]
  },
  {
   "cell_type": "markdown",
   "metadata": {},
   "source": [
    "`str[2, 3]` is a call to the `String#slice` method and is an alternative to `str.slice(2, 3)`."
   ]
  },
  {
   "cell_type": "code",
   "execution_count": 7,
   "metadata": {},
   "outputs": [
    {
     "name": "stdout",
     "output_type": "stream",
     "text": [
      "grass\n",
      "grass\n"
     ]
    }
   ],
   "source": [
    "str = 'The grass is green'\n",
    "\n",
    "puts str[str.index('grass'), 5]\n",
    "puts str.split[1]"
   ]
  },
  {
   "cell_type": "markdown",
   "metadata": {},
   "source": [
    "Strings are not true collections:\n",
    "- Collections contain multiple objects\n",
    "- Strings contain only a singl object.  The individual characters are not objects, but are just part of the object that contains the string value.\n",
    "\n",
    "Each time you call `str[2]` it returns a new string"
   ]
  },
  {
   "cell_type": "code",
   "execution_count": 9,
   "metadata": {},
   "outputs": [
    {
     "data": {
      "text/plain": [
       "false"
      ]
     },
     "execution_count": 9,
     "metadata": {},
     "output_type": "execute_result"
    }
   ],
   "source": [
    "str = \"Random string\"\n",
    "char1 = str[2]\n",
    "char2 = str[2]\n",
    "char1.object_id == char2.object_id"
   ]
  },
  {
   "cell_type": "markdown",
   "metadata": {},
   "source": [
    "If `str` were a real collection, the `char1` and `char2` objects would have the same object_id."
   ]
  },
  {
   "cell_type": "markdown",
   "metadata": {},
   "source": [
    "#### Array element reference\n",
    "\n",
    "Just as with String, `arr[2, 3]` is an alternative to `arr.slice(2, 3)`.  \n",
    "\n",
    "However, `str.slice` returns a new string, whereas `arr.slice` returns a new array.\n",
    "\n",
    "`Array#slice` does not return a new array when you only pass the method a single index.  In this case, the element at that index is returned."
   ]
  },
  {
   "cell_type": "code",
   "execution_count": 12,
   "metadata": {},
   "outputs": [
    {
     "name": "stdout",
     "output_type": "stream",
     "text": [
      "[\"4\"]\n",
      "\"4\"\n"
     ]
    }
   ],
   "source": [
    "arr = [1, 'two', :three, '4']\n",
    "\n",
    "puts arr.slice(3, 1).inspect\n",
    "puts arr.slice(3).inspect"
   ]
  },
  {
   "cell_type": "markdown",
   "metadata": {},
   "source": [
    "#### Hash Element Reference\n",
    "\n",
    "When initialize a hash, the keys must be unique.  The value can be duplicated.\n",
    "\n",
    "To access the keys or values of a hash, use the `Hash#keys` or `Hash#values` methods.  These methods return an array.\n",
    "\n",
    "It is common practices to use `symbols` for hash keys. `symbols` are immutable."
   ]
  },
  {
   "cell_type": "markdown",
   "metadata": {},
   "source": [
    "#### Element Reference Gotchas\n",
    "\n",
    "**Out of Bounds Indices**\n",
    "\n",
    "Referencing an out of bounds index returns a `nil` value.  To avoid this, use the `#fetch` method, which will throw an `IndexError` exception if the referenced index lies outside of the array bounds.\n",
    "\n",
    "**Negative Indices** \n",
    "\n",
    "Elements in String and Array objects can be referenced using negative indices, starting from the last index in the collection `-1` and working backwards\n",
    "\n",
    "**Invalid Hash Keys**\n",
    "\n",
    "`Hash` also has a `#fetch` method, which is useful when trying to disambiguate actual keys with a `nil` value from invalid hash keys."
   ]
  },
  {
   "cell_type": "markdown",
   "metadata": {},
   "source": [
    "### Conversion\n",
    "\n",
    "`Hash` has a `#to_a` method which returns an array"
   ]
  },
  {
   "cell_type": "code",
   "execution_count": 13,
   "metadata": {},
   "outputs": [
    {
     "data": {
      "text/plain": [
       "[[:sky, \"blue\"], [:grass, \"green\"]]"
      ]
     },
     "execution_count": 13,
     "metadata": {},
     "output_type": "execute_result"
    }
   ],
   "source": [
    "hsh = { sky: \"blue\", grass: \"green\" }\n",
    "hsh.to_a"
   ]
  },
  {
   "cell_type": "markdown",
   "metadata": {},
   "source": [
    "`Array` has a `#to_h` method that returns a hash"
   ]
  },
  {
   "cell_type": "code",
   "execution_count": 14,
   "metadata": {},
   "outputs": [
    {
     "data": {
      "text/plain": [
       "{:name=>\"Joe\", :age=>10, :favorite_color=>\"blue\"}"
      ]
     },
     "execution_count": 14,
     "metadata": {},
     "output_type": "execute_result"
    }
   ],
   "source": [
    "arr = [[:name, 'Joe'], [:age, 10], [:favorite_color, 'blue']]\n",
    "arr.to_h"
   ]
  },
  {
   "cell_type": "markdown",
   "metadata": {},
   "source": [
    "### Element Assigment\n",
    "\n",
    "#### String Element Assignment\n",
    "\n",
    "We can use the element assignment notation of `String` in order to change the value of a specific character within a string by referring to its index.\n",
    "\n",
    "This way of modifying a string is **destructive**. "
   ]
  },
  {
   "cell_type": "code",
   "execution_count": 23,
   "metadata": {},
   "outputs": [
    {
     "name": "stdout",
     "output_type": "stream",
     "text": [
      "49380\n",
      "49380\n"
     ]
    }
   ],
   "source": [
    "str = \"Joe\"\n",
    "puts str.object_id\n",
    "str[0] = 'j'\n",
    "puts str.object_id"
   ]
  },
  {
   "cell_type": "markdown",
   "metadata": {},
   "source": [
    "#### Array Element Assignment\n",
    "\n",
    "Similar to how we can assign individual characters in a string using their index, we can assign elements of an array in the same way."
   ]
  },
  {
   "cell_type": "code",
   "execution_count": 24,
   "metadata": {},
   "outputs": [
    {
     "name": "stdout",
     "output_type": "stream",
     "text": [
      "[2, 2, 3, 4, 5]"
     ]
    }
   ],
   "source": [
    "arr = [*1..5]\n",
    "arr[0] += 1 # This combined array element reference and array element assignment\n",
    "print arr"
   ]
  },
  {
   "cell_type": "markdown",
   "metadata": {},
   "source": [
    "#### Hash Element Asssignment\n",
    "\n",
    "A hash key is used instead of an index to assign a value."
   ]
  },
  {
   "cell_type": "markdown",
   "metadata": {},
   "source": [
    "## Selection and Transformation\n",
    "\n",
    "Selection and transformation both use the basics of looping:\n",
    "- a loop\n",
    "- a counter\n",
    "- a way to retrieve the current value\n",
    "- a way to exit the loop\n",
    "\n",
    "In addition, selection and transformation require some criteria\n",
    "- selection uses this criteria to determine which elements are selected\n",
    "- transformation uses this criteria to determine how to perform the transformation"
   ]
  },
  {
   "cell_type": "markdown",
   "metadata": {},
   "source": [
    "## Methods\n",
    "\n",
    "### `each`\n",
    "\n",
    "Once `each` is done iterating, it returns the original collection."
   ]
  },
  {
   "cell_type": "code",
   "execution_count": 25,
   "metadata": {},
   "outputs": [
    {
     "name": "stdout",
     "output_type": "stream",
     "text": [
      "2\n",
      "4\n",
      "6\n"
     ]
    },
    {
     "data": {
      "text/plain": [
       "[1, 2, 3]"
      ]
     },
     "execution_count": 25,
     "metadata": {},
     "output_type": "execute_result"
    }
   ],
   "source": [
    "def a_method\n",
    "  [1, 2, 3].each do |num|\n",
    "    puts num * 2\n",
    "  end\n",
    "end\n",
    "\n",
    "a_method # Return value is [1, 2, 3]"
   ]
  },
  {
   "cell_type": "markdown",
   "metadata": {},
   "source": [
    "The code within the block is executed for each iteration. In this case the code within the block is `puts num` which means each element in the array will be output by the `puts` method.\n",
    "\n",
    "For each iteration, `each` sends the value of the current element to the block in the form of an argument. In this block, the argument to the block is `num` and it represents the value of the current element in the array.\n",
    "\n",
    "Note that `[1, 2, 3].each `is the last expression in the example above, despite there being some code in the block. Therefore, the return value of the entire expression is the return value of the `each` invocation, which is the original collection `([1, 2, 3])`."
   ]
  },
  {
   "cell_type": "code",
   "execution_count": 29,
   "metadata": {},
   "outputs": [
    {
     "name": "stdout",
     "output_type": "stream",
     "text": [
      "2\n",
      "4\n",
      "6\n",
      "hi\n"
     ]
    }
   ],
   "source": [
    "def a_method\n",
    "  [1, 2, 3].each do |num|\n",
    "    puts num * 2\n",
    "  end\n",
    "\n",
    "  puts 'hi'\n",
    "end\n",
    "\n",
    "a_method # => nil"
   ]
  },
  {
   "cell_type": "markdown",
   "metadata": {},
   "source": [
    "The return value of this method is now `nil` since the `each` block is no long the last line evaluated and `puts` always returns `nil`."
   ]
  },
  {
   "cell_type": "markdown",
   "metadata": {},
   "source": [
    "### `select` \n",
    "\n",
    "To perform selection, `select` evaluated the return value of the block.  The block returns a value on each iteration, which then gets evaluated by `select`.\n",
    "\n",
    "When evaluating the return block, `select` only cares about its \"truthiness\".  If the return value of the block is \"truthy\" then the element during that iteration will be selected.  If the return value is \"falsey\" then that element will not be selected.\n",
    "\n",
    "When an element is selected, it is placed in a *new collection*."
   ]
  },
  {
   "cell_type": "code",
   "execution_count": 30,
   "metadata": {},
   "outputs": [
    {
     "name": "stdout",
     "output_type": "stream",
     "text": [
      "1\n",
      "2\n",
      "3\n"
     ]
    },
    {
     "data": {
      "text/plain": [
       "[]"
      ]
     },
     "execution_count": 30,
     "metadata": {},
     "output_type": "execute_result"
    }
   ],
   "source": [
    "[1, 2, 3].select do |num|\n",
    "  num + 1\n",
    "  puts num\n",
    "end "
   ]
  },
  {
   "cell_type": "markdown",
   "metadata": {},
   "source": [
    "`select` will now return an empty array.  Since `puts num` is now the last evaluated expression in the block, it is the return value of this expression which determines the return value of the block.  \n",
    "\n",
    "`select` won't return any elements because the return value of the block will always be considered \"falsey\" (`nil`)."
   ]
  },
  {
   "cell_type": "markdown",
   "metadata": {},
   "source": [
    "### `map`\n",
    "\n",
    "`map` also considers the return value of the block.  The main difference between these two methods is that `map` uses the return value of the block to perform transformation instead of selection."
   ]
  },
  {
   "cell_type": "code",
   "execution_count": 31,
   "metadata": {},
   "outputs": [
    {
     "data": {
      "text/plain": [
       "[2, 4, 6]"
      ]
     },
     "execution_count": 31,
     "metadata": {},
     "output_type": "execute_result"
    }
   ],
   "source": [
    "[1, 2, 3].map do |num|\n",
    "  num * 2\n",
    "end"
   ]
  },
  {
   "cell_type": "markdown",
   "metadata": {},
   "source": [
    "In this example, the return value of the block is the product and `num` and `2`.  `map` then take this value and places it in a new collection.  The process is repeated for each element of the original collection."
   ]
  },
  {
   "cell_type": "code",
   "execution_count": 32,
   "metadata": {},
   "outputs": [
    {
     "name": "stdout",
     "output_type": "stream",
     "text": [
      "1\n",
      "2\n",
      "3\n"
     ]
    },
    {
     "data": {
      "text/plain": [
       "[nil, nil, nil]"
      ]
     },
     "execution_count": 32,
     "metadata": {},
     "output_type": "execute_result"
    }
   ],
   "source": [
    "[1, 2, 3].map do |num|\n",
    "  num.odd?\n",
    "  puts num\n",
    "end"
   ]
  },
  {
   "cell_type": "markdown",
   "metadata": {},
   "source": [
    "In this code, the last evaluated expression within the block is `puts num`, which return `nil`. Therefore, the collection returned by `map` is a new array of `nil`s.\n",
    "\n",
    "`map` doesn't care anout truthiness and takes the return value as the transformation criteria."
   ]
  },
  {
   "cell_type": "code",
   "execution_count": 34,
   "metadata": {},
   "outputs": [
    {
     "data": {
      "text/plain": [
       "[\"hi\", \"hi\", \"hi\"]"
      ]
     },
     "execution_count": 34,
     "metadata": {},
     "output_type": "execute_result"
    }
   ],
   "source": [
    "[1, 2, 3].map do |num|\n",
    "  'hi'\n",
    "end"
   ]
  },
  {
   "cell_type": "markdown",
   "metadata": {},
   "source": [
    "`hi` is the only line within the block so the return value of the block is `hi`, which `map` will use as the transformation criteria.  Therefore, `map` returns a new array in which each element is `hi`."
   ]
  },
  {
   "cell_type": "markdown",
   "metadata": {},
   "source": [
    "![Methods Summary](methods_summary.png)"
   ]
  },
  {
   "cell_type": "markdown",
   "metadata": {},
   "source": [
    "## More Methods"
   ]
  },
  {
   "cell_type": "markdown",
   "metadata": {},
   "source": [
    "**`Enumerable#any?`**\n",
    "- looks at the truthiness of the block's return value in order to determine what the method's return value will be.  If the block returns a \"truthy\" value for any elememt in the collection, then the method returns `true`.\n",
    "\n",
    "**`Enumerable#all?`**\n",
    "- looks at the truthiness of the block's return value in order to determine what the method's return value will be. If the block returns a \"truthy\" value for all elements in the original collection, then the method returns `true`.\n",
    "\n",
    "**`Enumerable#each_with_index`**\n",
    "- Similar to `each`, this method takes a block and executes the code within that block, but the return value is ignored.  Also, like `each`, the original collection is returned.  Unlike `each`, this method takes a second argument which represents the index of each element.\n",
    "\n",
    "**`Enumerable#each_with_object`**\n",
    "- In addition to take a block like the methods above, this method also takes a method argumement.  The method argument is a collection object that will be returned by the method.  Also, the block takes 2 arguments of its own.  The first block argument represents the current element and the second argument represents the collection that was passed as an argument into the method.\n",
    "\n",
    "**`Enumerable#partition`**\n",
    "\n",
    "- This method divides up elements in the current collection into two collection, depending on the\n"
   ]
  },
  {
   "cell_type": "markdown",
   "metadata": {},
   "source": [
    "## Practice Problems"
   ]
  },
  {
   "cell_type": "code",
   "execution_count": null,
   "metadata": {},
   "outputs": [],
   "source": [
    "[1, 2, 3].select do |num|\n",
    "  num > 5\n",
    "  'hi'\n",
    "end"
   ]
  },
  {
   "cell_type": "markdown",
   "metadata": {},
   "source": [
    "The `select` method performs selection based on the truthiness of the block's return value.  In this case, the return value is `'hi'` which is truthy, so the method will return a new array will all three elements."
   ]
  },
  {
   "cell_type": "code",
   "execution_count": null,
   "metadata": {},
   "outputs": [],
   "source": [
    "['ant', 'bat', 'caterpillar'].count do |str|\n",
    "  str.length < 4\n",
    "end"
   ]
  },
  {
   "cell_type": "markdown",
   "metadata": {},
   "source": [
    "The `count` method will counts the number of elements for which the block returns a `true` value.  In this case, only two of the elements return `true`."
   ]
  },
  {
   "cell_type": "code",
   "execution_count": null,
   "metadata": {},
   "outputs": [],
   "source": [
    "[1, 2, 3].reject do |num|\n",
    "  puts num\n",
    "end"
   ]
  },
  {
   "cell_type": "markdown",
   "metadata": {},
   "source": [
    "`reject` will return all values for which the block returns a \"falsey\" value.  In this case, `puts` always return `nil` which is falsey, so `reject` will return a new array consisting of the same elements."
   ]
  },
  {
   "cell_type": "code",
   "execution_count": null,
   "metadata": {},
   "outputs": [],
   "source": [
    "['ant', 'bear', 'cat'].each_with_object({}) do |value, hash|\n",
    "  hash[value[0]] = value\n",
    "end"
   ]
  },
  {
   "cell_type": "markdown",
   "metadata": {},
   "source": [
    "`each_with_object` iterates through the calling collection.  It has a method argument which is a collection object; in this case a hash. It also has two block arguments.  The first block argument is the current value and the second argument is the collection object that was passed to the method.  \n",
    "\n",
    "This code is updating the hash by setting the keys as the first character in each string of the original colletion and the value aas that string.  `each_with_object` returns the new collection object after all iterations are completion."
   ]
  },
  {
   "cell_type": "code",
   "execution_count": null,
   "metadata": {},
   "outputs": [],
   "source": [
    "hash = { a: 'ant', b: 'bear' }\n",
    "hash.shift"
   ]
  },
  {
   "cell_type": "markdown",
   "metadata": {},
   "source": [
    "`Hash#shift` deletes the first item from a hash and returns the item as a list of two items (key and value).  This method mutates the caller; it is destructive."
   ]
  },
  {
   "cell_type": "code",
   "execution_count": null,
   "metadata": {},
   "outputs": [],
   "source": [
    "['ant', 'bear', 'caterpillar'].pop.size"
   ]
  },
  {
   "cell_type": "markdown",
   "metadata": {},
   "source": [
    "`Array#pop` removes the last item from an array destructively and returns that item.  In this code, the last item is `catepillar`.  This string then calls the `String#size` method to return the length of `catepillar`, which is 11"
   ]
  },
  {
   "cell_type": "code",
   "execution_count": null,
   "metadata": {},
   "outputs": [],
   "source": [
    "[1, 2, 3].any? do |num|\n",
    "  puts num\n",
    "  num.odd?\n",
    "end"
   ]
  },
  {
   "cell_type": "markdown",
   "metadata": {},
   "source": [
    "`Enumerable#any?` looks at the truthiness of the block's return value.  If the block returns a truthy value for one or more of the original collection elements, then the `any?` method will return `true`.\n",
    "\n",
    "The return value of the block is determined by the last expression within the block. In this case, the block will return `true` when the block returns `true` on the first iteration (`1.odd? == true`).  `any?` stops iterating after this point since there is no need to evaluate the remaining items in the array."
   ]
  },
  {
   "cell_type": "code",
   "execution_count": null,
   "metadata": {},
   "outputs": [],
   "source": [
    "arr = [1, 2, 3, 4, 5]\n",
    "new_arr = arr.take(2)\n",
    "\n",
    "puts arr.inspect\n",
    "puts new_arr.inspect"
   ]
  },
  {
   "cell_type": "markdown",
   "metadata": {},
   "source": [
    "`take` takes the the first `n` elements of an array and stores them in a new array.  This method does not mutate the original array so it is not destructive. "
   ]
  },
  {
   "cell_type": "code",
   "execution_count": null,
   "metadata": {},
   "outputs": [],
   "source": [
    "{ a: 'ant', b: 'bear' }.map do |key, value|\n",
    "  if value.size > 3\n",
    "    value\n",
    "  end\n",
    "end "
   ]
  },
  {
   "cell_type": "markdown",
   "metadata": {},
   "source": [
    "`map` looks at the return value of block to determine the transformation criteria.  This block contains a conditional statement.  For all elements in the original collection with a value length greater than three, `map` will return a new array with that value.  The elemens that don't satsify that condition are not returned.  \n",
    "\n",
    "When none of the conditions in an `if` statement evaluates as `true`, the `if` statement returns a `nil`.  This code will return `[nil, 'bear']`"
   ]
  },
  {
   "cell_type": "code",
   "execution_count": null,
   "metadata": {},
   "outputs": [],
   "source": [
    "[1, 2, 3].map do |num|\n",
    "  if num > 1\n",
    "    puts num\n",
    "  else\n",
    "    num\n",
    "  end\n",
    "end"
   ]
  },
  {
   "cell_type": "markdown",
   "metadata": {},
   "source": [
    "The `map` method returns a new array.  It looks at the return value of the block to determine its transformation criteria.  We can determine the return value of a block by looking at the last line evaluated within the block. In this case, the transformation depends on a conditional statement.  \n",
    "\n",
    "All elements in the original collection that are great than one (the `if` statement evaluates as `true`) will return `nil` because `puts num` (the last expression in the block) returns `nil`.  For items less or equal to num, the block will return the number (`num`).  So `map` will return `[1, nil, nil]`."
   ]
  },
  {
   "cell_type": "markdown",
   "metadata": {},
   "source": [
    "_____________"
   ]
  },
  {
   "cell_type": "code",
   "execution_count": 1,
   "metadata": {},
   "outputs": [
    {
     "data": {
      "text/plain": [
       "[\"Fred\", \"Barney\", \"Wilma\", \"Betty\", \"Pebbles\", \"BamBam\"]"
      ]
     },
     "execution_count": 1,
     "metadata": {},
     "output_type": "execute_result"
    }
   ],
   "source": [
    "flintstones = [\"Fred\", \"Barney\", \"Wilma\", \"Betty\", \"Pebbles\", \"BamBam\"]"
   ]
  },
  {
   "cell_type": "code",
   "execution_count": 23,
   "metadata": {},
   "outputs": [
    {
     "data": {
      "text/plain": [
       "[\"Fred\", 0]"
      ]
     },
     "execution_count": 23,
     "metadata": {},
     "output_type": "execute_result"
    }
   ],
   "source": [
    "each_elem = flintstones.each_with_index\n",
    "each_elem.next"
   ]
  },
  {
   "cell_type": "code",
   "execution_count": 30,
   "metadata": {},
   "outputs": [
    {
     "data": {
      "text/plain": [
       "\"Herman\""
      ]
     },
     "execution_count": 30,
     "metadata": {},
     "output_type": "execute_result"
    }
   ],
   "source": [
    "ages = { \"Herman\" => 32, \"Lily\" => 30, \"Grandpa\" => 5843, \"Eddie\" => 10, \"Marilyn\" => 22, \"Spot\" => 237 }\n",
    "ages.each.next { |k, v| v > 30 }"
   ]
  },
  {
   "cell_type": "code",
   "execution_count": 55,
   "metadata": {},
   "outputs": [
    {
     "data": {
      "text/plain": [
       "[\"Fruit\", \"Vegetable\", \"Fruit\", \"Vegetable\"]"
      ]
     },
     "execution_count": 55,
     "metadata": {},
     "output_type": "execute_result"
    }
   ],
   "source": [
    "hsh = { apple: 'Produce', carrot: 'Produce', pear: 'Produce', broccoli: 'Produce' }\n",
    "\n",
    "hsh.map { |k, v| [:apple, :pear].include?(k) ? v = 'Fruit' : 'Vegetable' }"
   ]
  }
 ],
 "metadata": {
  "kernelspec": {
   "display_name": "Ruby 2.7.5",
   "language": "ruby",
   "name": "ruby"
  },
  "language_info": {
   "file_extension": ".rb",
   "mimetype": "application/x-ruby",
   "name": "ruby",
   "version": "2.7.5"
  },
  "orig_nbformat": 4
 },
 "nbformat": 4,
 "nbformat_minor": 2
}
