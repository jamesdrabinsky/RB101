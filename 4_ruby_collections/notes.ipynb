{
 "cells": [
  {
   "cell_type": "markdown",
   "metadata": {},
   "source": [
    "## Collection Basics\n",
    "\n",
    "### Element Reference\n",
    "\n",
    "#### String Element Reference\n",
    "\n",
    "You can reference a specific character using the index.  You can also reference multiple characters within a string by using an index starting point and the number of characters to return."
   ]
  },
  {
   "cell_type": "code",
   "execution_count": 6,
   "metadata": {},
   "outputs": [
    {
     "name": "stdout",
     "output_type": "stream",
     "text": [
      "c\n",
      "cde\n"
     ]
    }
   ],
   "source": [
    "str = 'abcdefghi'\n",
    "puts str[2]\n",
    "puts str[2, 3]"
   ]
  },
  {
   "cell_type": "markdown",
   "metadata": {},
   "source": [
    "`str[2, 3]` is actually a call to the `#slice` method of String and is alternative syntax for `str.slice(2, 3)`. The fact that we can use this alternative form of `#slice`is part of Ruby's syntactical sugar.\n",
    "\n",
    "How would you reference `'grass'` from within this string?"
   ]
  },
  {
   "cell_type": "code",
   "execution_count": 9,
   "metadata": {},
   "outputs": [
    {
     "name": "stdout",
     "output_type": "stream",
     "text": [
      "grass\n",
      "grass\n",
      "grass\n"
     ]
    }
   ],
   "source": [
    "str = 'The grass is green'\n",
    "puts str[4,5]\n",
    "puts str.slice(4, 5)\n",
    "puts str.split[1]"
   ]
  },
  {
   "cell_type": "markdown",
   "metadata": {},
   "source": [
    "Strings are not true collections. Collections contain multiple objects, while strings contain only a single object. The individual characters are not objects, but are just part of the object that contains the string value.\n",
    "\n",
    "Strings act like collections since in that you can access and assign each character individually. However, when you access a single character of the string with something like `str[2]`, the return value is a brand new string - each time you call `str[2]`, it returns a new string."
   ]
  },
  {
   "cell_type": "code",
   "execution_count": 10,
   "metadata": {},
   "outputs": [
    {
     "data": {
      "text/plain": [
       "false"
      ]
     },
     "execution_count": 10,
     "metadata": {},
     "output_type": "execute_result"
    }
   ],
   "source": [
    "char1 = str[2]                     # => \"c\"\n",
    "char2 = str[2]                     # => \"c\"\n",
    "char1.object_id == char2.object_id # => false"
   ]
  },
  {
   "cell_type": "markdown",
   "metadata": {},
   "source": [
    "If `str` were a real collection, the `char1` and `char2` objects would have the same object_id."
   ]
  },
  {
   "cell_type": "markdown",
   "metadata": {},
   "source": [
    "#### Array Element Reference\n",
    "\n",
    "What do you think would be returned here? "
   ]
  },
  {
   "cell_type": "code",
   "execution_count": 14,
   "metadata": {},
   "outputs": [
    {
     "name": "stdout",
     "output_type": "stream",
     "text": [
      "[\"c\", \"d\", \"e\"]\n",
      "c"
     ]
    }
   ],
   "source": [
    "arr = ['a', 'b', 'c', 'd', 'e', 'f', 'g']\n",
    "print arr[2, 3] # ['c', 'd', 'e']\n",
    "print(\"\\n\")\n",
    "print arr[2, 3][0] # 'c'"
   ]
  },
  {
   "cell_type": "markdown",
   "metadata": {},
   "source": [
    "Just as with String, `arr[2, 3]` is alternative syntax for the `Array#slice` method. It is important to be aware, however, that `Array#slice` and `String#slice` are not the same method, even though they have the same name. They do share a lot of the same functionality, but are separate implementations. \n",
    "\n",
    "One key distinction is that `String#slice` returns a new string whereas `Array#slice` returns a new array.\n",
    "\n",
    "One situation where `Array#slice` does not return a new array is when we only pass the method a single index, rather than a start and length or a range; in this case the element at that index is returned rather than a new array."
   ]
  },
  {
   "cell_type": "code",
   "execution_count": 18,
   "metadata": {},
   "outputs": [
    {
     "name": "stdout",
     "output_type": "stream",
     "text": [
      "[\"4\"]\n",
      "[\"4\"]\n",
      "4"
     ]
    }
   ],
   "source": [
    "arr = [1, 'two', :three, '4']\n",
    "print arr.slice(3, 1) # => [\"4\"]\n",
    "print \"\\n\"\n",
    "print arr.slice(3..3) # => [\"4\"]\n",
    "print \"\\n\"\n",
    "print arr.slice(3)    # => \"4\""
   ]
  },
  {
   "cell_type": "markdown",
   "metadata": {},
   "source": [
    "#### Hash Element Reference\n",
    "\n",
    "When initializing a hash, the keys must be **unique**."
   ]
  },
  {
   "cell_type": "code",
   "execution_count": 19,
   "metadata": {},
   "outputs": [
    {
     "name": "stderr",
     "output_type": "stream",
     "text": [
      "(irb): warning: key \"fruit\" is duplicated and overwritten on line 0\n"
     ]
    },
    {
     "data": {
      "text/plain": [
       "{\"fruit\"=>\"pear\", \"vegetable\"=>\"carrot\"}"
      ]
     },
     "execution_count": 19,
     "metadata": {},
     "output_type": "execute_result"
    }
   ],
   "source": [
    "hsh = { 'fruit' => 'apple', 'vegetable' => 'carrot', 'fruit' => 'pear' }"
   ]
  },
  {
   "cell_type": "markdown",
   "metadata": {},
   "source": [
    "Our hash ends up with only two key-value pairs. The first one is over-written by the third as they have identical keys.\n",
    "\n",
    "Values, however, **can** be duplicated:\n",
    "\n",
    "We can access just the keys or just the values from a hash with the `#keys` and `#values` methods of Hash. These methods return an array:"
   ]
  },
  {
   "cell_type": "code",
   "execution_count": 22,
   "metadata": {},
   "outputs": [
    {
     "name": "stdout",
     "output_type": "stream",
     "text": [
      "[:uk, :france, :germany]\n",
      "[\"London\", \"Paris\", \"Berlin\"]\n",
      "London"
     ]
    }
   ],
   "source": [
    "country_capitals = { uk: 'London', france: 'Paris', germany: 'Berlin' }\n",
    "puts country_capitals.keys.inspect      # => [:uk, :france, :germany]\n",
    "puts country_capitals.values.inspect      # => [\"London\", \"Paris\", \"Berlin\"]\n",
    "print country_capitals.values[0] # => \"London\""
   ]
  },
  {
   "cell_type": "markdown",
   "metadata": {},
   "source": [
    "Although both hash keys and values can be any object in Ruby, it is common practice to use symbols as the keys. Symbols in Ruby can be thought of as immutable strings. There's a number of advantages to using symbols for hash keys"
   ]
  },
  {
   "cell_type": "markdown",
   "metadata": {},
   "source": [
    "#### Element Reference Gotchas\n",
    "\n",
    "**Out of Bounds Indices**\n",
    "\n",
    "Referencing an out-of-bounds index in this way returns `nil`. This is not necessarily a problem for a string, since we know that `nil` is an invalid return value; with an array, `nil` could be a valid return value since arrays can contain any other type of object, including `nil`.\n",
    "\n",
    "Array has a method called `#fetch` which tries to return the element at position index, but throws an `IndexError` exception if the referenced index lies outside of the array bounds."
   ]
  },
  {
   "cell_type": "code",
   "execution_count": 23,
   "metadata": {},
   "outputs": [
    {
     "name": "stdout",
     "output_type": "stream",
     "text": [
      "\n"
     ]
    },
    {
     "ename": "IndexError",
     "evalue": "index 3 outside of array bounds: -3...3",
     "output_type": "error",
     "traceback": [
      "\u001b[31mIndexError\u001b[0m: index 3 outside of array bounds: -3...3",
      "(irb):3:in `fetch'",
      "(irb):3:in `irb_binding'"
     ]
    }
   ],
   "source": [
    "arr = [3, 'd', nil]\n",
    "\n",
    "puts arr.fetch(2) # => nil\n",
    "puts arr.fetch(3) # => IndexError: index 3 outside of array bounds: -3...3\n",
    "             #        from (irb):3:in `fetch'\n",
    "             #        from (irb):3\n",
    "             #        from /usr/bin/irb:11:in `<main>'"
   ]
  },
  {
   "cell_type": "markdown",
   "metadata": {},
   "source": [
    "**Negative Indices**\n",
    "\n",
    "Elements in `String` and `Array` objects can be referenced using negative indices, starting from the last index in the collection -1 and working backwards."
   ]
  },
  {
   "cell_type": "code",
   "execution_count": 32,
   "metadata": {},
   "outputs": [
    {
     "name": "stdout",
     "output_type": "stream",
     "text": [
      "elem is out of bounds\n"
     ]
    }
   ],
   "source": [
    "str = 'ghijk'\n",
    "arr = ['g', 'h', 'i', 'j', 'k']\n",
    "\n",
    "str[-6] # nil\n",
    "arr[-6] # nil\n",
    "arr.fetch(-6) { |elem| puts \"elem is out of bounds\"}"
   ]
  },
  {
   "cell_type": "markdown",
   "metadata": {},
   "source": [
    "**Invalid Hash Keys**\n",
    "\n",
    "`Hash` also has a `#fetch` method which can be useful when trying to disambiguate valid hash keys with a `nil` value from invalid hash keys."
   ]
  },
  {
   "cell_type": "code",
   "execution_count": null,
   "metadata": {},
   "outputs": [],
   "source": [
    "hsh = { :a => 1, 'b' => 'two', :c => nil }\n",
    "\n",
    "hsh['b']       # => \"two\"\n",
    "hsh[:c]        # => nil\n",
    "hsh['c']       # => nil\n",
    "hsh[:d]        # => nil\n",
    "\n",
    "hsh.fetch(:c)  # => nil\n",
    "hsh.fetch('c') # => KeyError: key not found: \"c\"\n",
    "               #        from (irb):2:in `fetch'\n",
    "               #        from (irb):2\n",
    "               #        from /usr/bin/irb:11:in `<main>'\n",
    "hsh.fetch(:d)  # => KeyError: key not found: :d\n",
    "               #        from (irb):3:in `fetch'\n",
    "               #        from (irb):3\n",
    "               #        from /usr/bin/irb:11:in `<main>'"
   ]
  },
  {
   "cell_type": "markdown",
   "metadata": {},
   "source": [
    "### Conversion\n",
    "\n",
    "`String#chars` returns an array of individual characters."
   ]
  },
  {
   "cell_type": "code",
   "execution_count": 34,
   "metadata": {},
   "outputs": [
    {
     "data": {
      "text/plain": [
       "[\"P\", \"r\", \"a\", \"c\", \"t\", \"i\", \"c\", \"e\"]"
      ]
     },
     "execution_count": 34,
     "metadata": {},
     "output_type": "execute_result"
    }
   ],
   "source": [
    "str = 'Practice'\n",
    "\n",
    "arr = str.chars # => [\"P\", \"r\", \"a\", \"c\", \"t\", \"i\", \"c\", \"e\"]"
   ]
  },
  {
   "cell_type": "markdown",
   "metadata": {},
   "source": [
    "`Array#join` returns a string with the elements of the array joined together.\n",
    "\n"
   ]
  },
  {
   "cell_type": "code",
   "execution_count": 44,
   "metadata": {},
   "outputs": [
    {
     "name": "stdout",
     "output_type": "stream",
     "text": [
      "HowdoyougettoCarnegieHall?\n",
      "How do you get to Carnegie Hall?\n"
     ]
    }
   ],
   "source": [
    "puts arr.join # => \"Practice\"\n",
    "\n",
    "str = 'How do you get to Carnegie Hall?'\n",
    "arr = str.split # => [\"How\", \"do\", \"you\", \"get\", \"to\", \"Carnegie\", \"Hall?\"]\n",
    "puts arr.join(' ')        "
   ]
  },
  {
   "cell_type": "markdown",
   "metadata": {},
   "source": [
    "`Hash` has a `#to_a` method, which returns an array."
   ]
  },
  {
   "cell_type": "code",
   "execution_count": 46,
   "metadata": {},
   "outputs": [
    {
     "data": {
      "text/plain": [
       "[[:sky, \"blue\"], [:grass, \"green\"]]"
      ]
     },
     "execution_count": 46,
     "metadata": {},
     "output_type": "execute_result"
    }
   ],
   "source": [
    "hsh = { sky: \"blue\", grass: \"green\" }\n",
    "hsh.to_a # => [[:sky, \"blue\"], [:grass, \"green\"]]"
   ]
  },
  {
   "cell_type": "markdown",
   "metadata": {},
   "source": [
    "`Array` has a `#to_h` method"
   ]
  },
  {
   "cell_type": "code",
   "execution_count": 47,
   "metadata": {},
   "outputs": [
    {
     "data": {
      "text/plain": [
       "{:name=>\"Joe\", :age=>10, :favorite_color=>\"blue\"}"
      ]
     },
     "execution_count": 47,
     "metadata": {},
     "output_type": "execute_result"
    }
   ],
   "source": [
    "arr = [[:name, 'Joe'], [:age, 10], [:favorite_color, 'blue']]\n",
    "arr.to_h"
   ]
  },
  {
   "cell_type": "markdown",
   "metadata": {},
   "source": [
    "### Element Assignment\n",
    "\n",
    "#### String Element Assignment\n",
    "\n",
    "We can use the element assignment notation of `String` in order to change the value of a specific character within a string by referring to its index.\n",
    "\n",
    "Note that this way of modifying a string is a destructive action; that is, the `str` string is changed permanently."
   ]
  },
  {
   "cell_type": "code",
   "execution_count": 54,
   "metadata": {},
   "outputs": [
    {
     "data": {
      "text/plain": [
       "\"Joe's favorite color is blue\""
      ]
     },
     "execution_count": 54,
     "metadata": {},
     "output_type": "execute_result"
    }
   ],
   "source": [
    "str = \"joe's favorite color is blue\"\n",
    "str[0] = 'J'\n",
    "str # => \"Joe's favorite color is blue\""
   ]
  },
  {
   "cell_type": "markdown",
   "metadata": {},
   "source": [
    "Using the same element assignment method, how would you change the first letter of the remaining words in the sentence to their uppercase versions"
   ]
  },
  {
   "cell_type": "code",
   "execution_count": 55,
   "metadata": {},
   "outputs": [
    {
     "data": {
      "text/plain": [
       "\"Joe's Favorite Color Is Blue\""
      ]
     },
     "execution_count": 55,
     "metadata": {},
     "output_type": "execute_result"
    }
   ],
   "source": [
    "str.split.map { |word| word.capitalize }.join(' ')\n",
    "# str.split.map { |word| word[0].upcase + word[1..] }.join(' ')"
   ]
  },
  {
   "cell_type": "markdown",
   "metadata": {},
   "source": [
    "#### Array Element Assignment\n",
    "\n",
    "Similar to how we can assign individual characters in a string using their index, we can assign elements of an array in the same way."
   ]
  },
  {
   "cell_type": "code",
   "execution_count": 56,
   "metadata": {},
   "outputs": [
    {
     "data": {
      "text/plain": [
       "[2, 2, 3, 4, 5]"
      ]
     },
     "execution_count": 56,
     "metadata": {},
     "output_type": "execute_result"
    }
   ],
   "source": [
    "arr = [1, 2, 3, 4, 5]\n",
    "arr[0] += 1 # => 2\n",
    "arr         # => [2, 2, 3, 4, 5]"
   ]
  },
  {
   "cell_type": "markdown",
   "metadata": {},
   "source": [
    "The statement `arr[0] += 1` in this example is shorthand for `arr[0] = arr[0] + 1`.\n",
    "\n",
    "This combines array element reference and array element assignment and is another example of Ruby's syntactical sugar.\n",
    "\n",
    "Use the same method to increase the value of the rest of the integers in the array by 1:"
   ]
  },
  {
   "cell_type": "code",
   "execution_count": 73,
   "metadata": {},
   "outputs": [
    {
     "data": {
      "text/plain": [
       "[2, 3, 4, 5, 6]"
      ]
     },
     "execution_count": 73,
     "metadata": {},
     "output_type": "execute_result"
    }
   ],
   "source": [
    "arr = [2, 2, 3, 4, 5]\n",
    "arr.map.with_index { |num, idx| idx > 0 ? arr[idx] += 1 : arr[idx] } "
   ]
  },
  {
   "cell_type": "markdown",
   "metadata": {},
   "source": [
    "#### Hash Element Assignment\n",
    "\n",
    "The hash key is used instead of assigning a value using an index."
   ]
  },
  {
   "cell_type": "code",
   "execution_count": 61,
   "metadata": {},
   "outputs": [
    {
     "data": {
      "text/plain": [
       "{:apple=>\"Fruit\", :carrot=>\"Produce\", :pear=>\"Produce\", :broccoli=>\"Produce\"}"
      ]
     },
     "execution_count": 61,
     "metadata": {},
     "output_type": "execute_result"
    }
   ],
   "source": [
    "hsh = { apple: 'Produce', carrot: 'Produce', pear: 'Produce', broccoli: 'Produce' }\n",
    "hsh[:apple] = 'Fruit'\n",
    "hsh"
   ]
  },
  {
   "cell_type": "markdown",
   "metadata": {},
   "source": [
    "Use the same method to set a value of either `'Fruit'` or `'Vegetable'` to each element in the hash."
   ]
  },
  {
   "cell_type": "code",
   "execution_count": 71,
   "metadata": {},
   "outputs": [
    {
     "data": {
      "text/plain": [
       "{:apple=>\"Fruit\", :carrot=>\"Fruit\", :pear=>\"Fruit\", :broccoli=>\"Fruit\"}"
      ]
     },
     "execution_count": 71,
     "metadata": {},
     "output_type": "execute_result"
    }
   ],
   "source": [
    "hsh.each { |k, v|  hsh[k] = 'Fruit' if k != :apple } # This is destructive"
   ]
  },
  {
   "cell_type": "markdown",
   "metadata": {},
   "source": [
    "## Looping"
   ]
  },
  {
   "cell_type": "code",
   "execution_count": 75,
   "metadata": {},
   "outputs": [
    {
     "data": {
      "text/plain": [
       "[2, 3, 4, 5, 6]"
      ]
     },
     "execution_count": 75,
     "metadata": {},
     "output_type": "execute_result"
    }
   ],
   "source": [
    "arr = [1, 2, 3, 4, 5]\n",
    "counter = 0\n",
    "\n",
    "loop do\n",
    "  arr[counter] += 1\n",
    "  counter += 1\n",
    "  break if counter == arr.size\n",
    "end\n",
    "\n",
    "arr # => [2, 3, 4, 5, 6]"
   ]
  },
  {
   "cell_type": "markdown",
   "metadata": {},
   "source": [
    "### Controlling Loop"
   ]
  },
  {
   "cell_type": "markdown",
   "metadata": {},
   "source": [
    "If we want loop to iterate more than once, we can use a conditional statement so that `break` is only called when a specific condition occurs."
   ]
  },
  {
   "cell_type": "code",
   "execution_count": 79,
   "metadata": {},
   "outputs": [
    {
     "name": "stdout",
     "output_type": "stream",
     "text": [
      "Hello!\n",
      "Hello!\n",
      "Exiting...\n"
     ]
    }
   ],
   "source": [
    "loop do\n",
    "  number = rand(1..10)   # a random number between 1 and 10\n",
    "  puts 'Hello!'\n",
    "  if number == 5\n",
    "    puts 'Exiting...'\n",
    "    break\n",
    "  end\n",
    "end"
   ]
  },
  {
   "cell_type": "markdown",
   "metadata": {},
   "source": [
    "1. 'Hello!' is output one or more times\n",
    "2. 'Exiting...' is output once\n",
    "\n",
    "On each iteration:\n",
    "- number is assigned to a random number between 1 and 10\n",
    "- 'Hello!' is output\n",
    "- The if statement checks if number is equal to 5\n",
    "    - If so 'Exiting...' is output and break is called (which ends the loop)\n",
    "    - If not then the loop repeats"
   ]
  },
  {
   "cell_type": "markdown",
   "metadata": {},
   "source": [
    "### Iteration"
   ]
  },
  {
   "cell_type": "markdown",
   "metadata": {},
   "source": [
    "We can tell `loop` to iterate a specific number of times by using a variable that tracks the number of iterations performed. Before `loop` is implemented, let's assign a variable `counter` that represents the current iteration number.\n",
    "\n",
    "In order to align the value of `counter` and the number of iterations, we need to increment `counter` by 1 during each iteration. This will ensure that loop only iterates five times."
   ]
  },
  {
   "cell_type": "code",
   "execution_count": 80,
   "metadata": {},
   "outputs": [
    {
     "name": "stdout",
     "output_type": "stream",
     "text": [
      "Hello!\n",
      "Hello!\n",
      "Hello!\n",
      "Hello!\n",
      "Hello!\n"
     ]
    }
   ],
   "source": [
    "counter = 0\n",
    "\n",
    "loop do\n",
    "  puts 'Hello!'\n",
    "  counter += 1\n",
    "  break if counter == 5\n",
    "end"
   ]
  },
  {
   "cell_type": "markdown",
   "metadata": {},
   "source": [
    "#### Break Placement\n",
    "\n",
    "If we move `break` to the first line within the loop and change the condition to `counter == 0`, then the loop will stop immediately and not execute any code after break."
   ]
  },
  {
   "cell_type": "code",
   "execution_count": 81,
   "metadata": {},
   "outputs": [],
   "source": [
    "counter = 0\n",
    "\n",
    "loop do\n",
    "  break if counter == 0\n",
    "  puts 'Hello!'\n",
    "  counter += 1\n",
    "end"
   ]
  },
  {
   "cell_type": "markdown",
   "metadata": {},
   "source": [
    "#### Next\n",
    "\n",
    "When `next` is executed, it tells the `loop` to skip the rest of the current iteration and begin the next one. We can choose to skip the current iteration when `counter` represents an odd number by adding an if modifier to `next` with the condition `counter.odd?`."
   ]
  },
  {
   "cell_type": "code",
   "execution_count": 82,
   "metadata": {},
   "outputs": [
    {
     "name": "stdout",
     "output_type": "stream",
     "text": [
      "2\n",
      "4\n",
      "6\n"
     ]
    }
   ],
   "source": [
    "counter = 0\n",
    "\n",
    "loop do\n",
    "  counter += 1\n",
    "  next if counter.odd?\n",
    "  puts counter\n",
    "  break if counter > 5\n",
    "end"
   ]
  },
  {
   "cell_type": "markdown",
   "metadata": {},
   "source": [
    "Notice that when we added `next`, we also had to move `counter += 1` so that it's executed first. Similar to `break`, when `next` is executed, any code after it will be ignored. If the counter incrementation code was placed after `next`, then it wouldn't be incremented if `next` is executed, which will result in an infinite loop.\n",
    "\n",
    "The `if` condition also had to be changed from `counter == 5` to `counter > 5` since `5` is an odd number."
   ]
  },
  {
   "cell_type": "markdown",
   "metadata": {},
   "source": [
    "### Iterating Over Collections\n",
    "\n",
    "#### String\n",
    "\n",
    "Let's implement a loop that iterates over a given string and prints each character."
   ]
  },
  {
   "cell_type": "code",
   "execution_count": null,
   "metadata": {},
   "outputs": [],
   "source": [
    "str = \"I am going to the mall\"\n",
    "counter = 0\n",
    "\n",
    "loop do \n",
    "  break if counter == str.size\n",
    "  puts str[counter] if str[counter] != ' '\n",
    "  counter += 1\n",
    "end"
   ]
  },
  {
   "cell_type": "markdown",
   "metadata": {},
   "source": [
    "Using a more general condition in our if modifier like, `break if counter >= str.size`, would always guarantee that we break out of the loop regardless of whether counter is exactly equal to `str.size` or not."
   ]
  },
  {
   "cell_type": "markdown",
   "metadata": {},
   "source": [
    "#### Array\n",
    "\n",
    "To iterate over an array, we can use `loop` in the same way we did with a string."
   ]
  },
  {
   "cell_type": "code",
   "execution_count": 3,
   "metadata": {},
   "outputs": [
    {
     "name": "stdout",
     "output_type": "stream",
     "text": [
      "I'm the color green!\n",
      "I'm the color blue!\n",
      "I'm the color purple!\n",
      "I'm the color orange!\n"
     ]
    }
   ],
   "source": [
    "colors = ['green', 'blue', 'purple', 'orange']\n",
    "counter = 0\n",
    "\n",
    "loop do\n",
    "  break if counter == colors.size\n",
    "  puts \"I'm the color #{colors[counter]}!\"\n",
    "  counter += 1\n",
    "end"
   ]
  },
  {
   "cell_type": "markdown",
   "metadata": {},
   "source": [
    "#### Hash\n",
    "\n",
    "Hashes use key-value pairs instead of a zero-based index. A simple counter variable won't allow us to fetch the values we want.\n",
    "\n",
    "To remedy this, we have to create an array containing all of the keys in the hash. We can do this by using `Hash#keys`, which returns an array containing all of the keys in the hash. We can then use the new array of keys, `pets`, to iterate over the hash."
   ]
  },
  {
   "cell_type": "code",
   "execution_count": 4,
   "metadata": {},
   "outputs": [
    {
     "name": "stdout",
     "output_type": "stream",
     "text": [
      "I have 2 dogs!\n",
      "I have 4 cats!\n",
      "I have 1 fish!\n"
     ]
    }
   ],
   "source": [
    "number_of_pets = {\n",
    "  'dogs' => 2,\n",
    "  'cats' => 4,\n",
    "  'fish' => 1\n",
    "}\n",
    "pets = number_of_pets.keys # => ['dogs', 'cats', 'fish']\n",
    "counter = 0\n",
    "\n",
    "loop do\n",
    "  break if counter == number_of_pets.size\n",
    "  current_pet = pets[counter]\n",
    "  current_pet_number = number_of_pets[current_pet]\n",
    "  puts \"I have #{current_pet_number} #{current_pet}!\"\n",
    "  counter += 1\n",
    "end"
   ]
  },
  {
   "cell_type": "markdown",
   "metadata": {},
   "source": [
    "### Summary"
   ]
  },
  {
   "cell_type": "markdown",
   "metadata": {},
   "source": [
    "Looping comprises four basic elements: \n",
    "- a `loop`, \n",
    "- a `counter`\n",
    "- a way to retrieve the current value, \n",
    "- and a way to exit the loop. "
   ]
  },
  {
   "cell_type": "markdown",
   "metadata": {},
   "source": [
    "## Introduction to the PEDAC Process\n",
    "\n",
    "```\n",
    "P - [Understand the] Problem\n",
    "\n",
    "E - Examples / Test cases\n",
    "\n",
    "D - Data Structure\n",
    "\n",
    "A - Algorithm\n",
    "\n",
    "C - Code\n",
    "```"
   ]
  },
  {
   "cell_type": "markdown",
   "metadata": {},
   "source": [
    "### P - [Understand the] Problem\n",
    "\n",
    "Understanding the problem has three steps.\n",
    "\n",
    "1. Read the problem description.\n",
    "2. Check the test cases, if any.\n",
    "3. If any part of the problem is unclear, ask the interviewer or problem requester to clarify the matter.\n",
    "\n",
    "```\n",
    "PROBLEM:\n",
    "\n",
    "Given a string, write a method change_me which returns the same\n",
    "string but with all the words in it that are palindromes uppercased.\n",
    "\n",
    "change_me(\"We will meet at noon\") == \"We will meet at NOON\"\n",
    "change_me(\"No palindromes here\") == \"No palindromes here\"\n",
    "change_me(\"\") == \"\"\n",
    "change_me(\"I LOVE my mom and dad equally\") == \"I LOVE my MOM and DAD equally\"\n",
    "```\n",
    "\n",
    "After reading this problem, some items may need clarification:\n",
    "1. What is a palindrome?\n",
    "2. Should the words in the string remain the same if they already use uppercase? \n",
    "3. How should I deal with empty strings provided as input? \n",
    "4. Can I assume that all inputs are strings? \n",
    "5. Should I consider letter case when deciding whether a word is a palindrome? \n",
    "6. Do I need to return the same string object or an entirely new string? \n",
    "    - This question is one of the most important and most overlooked that you can ask. In this problem, you should return an entirely new string.\n",
    "7. Always verify your assumptions either by looking at the test cases or by asking the interviewer.\n",
    "\n",
    "To conclude this part of the PEDAC process, you need to write down what the inputs and outputs for the problem are. You should also describe the rules that you must follow. The rules should encapsulate all the explicit and implicit requirements in the problem. So, you should identify what the explicit requirements are, write them down, and then repeat the process for the implicit requirements:\n",
    "\n",
    "```\n",
    "input: string\n",
    "output: string (not the same object)\n",
    "rules:\n",
    "     Explicit requirements:\n",
    "       - every palindrome in the string must be converted to\n",
    "         uppercase. (Reminder: a palindrome is a word that reads\n",
    "         the same forwards and backward).\n",
    "       - Palindromes are case sensitive (\"Dad\" is not a palindrome, but \"dad\" is.)\n",
    "\n",
    "     Implicit requirements:\n",
    "       - the returned string shouldn't be the same string object.\n",
    "       - if the string is an empty string, the result should be an empty\n",
    "         string\n",
    "```"
   ]
  },
  {
   "cell_type": "code",
   "execution_count": 14,
   "metadata": {},
   "outputs": [
    {
     "name": "stdout",
     "output_type": "stream",
     "text": [
      "We will meet at NOON\n",
      "No palindromes here\n",
      "\n",
      "I LOVE my MOM and DAD equally\n"
     ]
    }
   ],
   "source": [
    "def change_me(string)\n",
    "  string.split.map { |word| word.reverse == word ? word.upcase : word }.join(' ')\n",
    "end\n",
    "\n",
    "puts change_me(\"We will meet at noon\")\n",
    "puts change_me(\"No palindromes here\")\n",
    "puts change_me(\"\")\n",
    "puts change_me(\"I LOVE my mom and dad equally\")"
   ]
  },
  {
   "cell_type": "markdown",
   "metadata": {},
   "source": [
    "### Data Structure / Algorithm\n",
    "\n",
    "```\n",
    "# PROBLEM:\n",
    "\n",
    "# Given a string, write a method `palindrome_substrings` which returns\n",
    "# all the substrings from a given string which are palindromes. Consider\n",
    "# palindrome words case sensitive.\n",
    "\n",
    "# Test cases:\n",
    "\n",
    "# palindrome_substrings(\"supercalifragilisticexpialidocious\") == [\"ili\"]\n",
    "# palindrome_substrings(\"abcddcbA\") == [\"bcddcb\", \"cddc\", \"dd\"]\n",
    "# palindrome_substrings(\"palindrome\") == []\n",
    "# palindrome_substrings(\"\") == []\n",
    "````\n",
    "\n",
    "Some questions you might have?\n",
    "```\n",
    "# 1. What is a substring?\n",
    "# 2. What is a palindrome?\n",
    "# 3. Will inputs always be strings?\n",
    "# 4. What does it mean to treat palindrome words case-sensitively?\n",
    "```\n",
    "\n",
    "input: string<br>\n",
    "output: an array of substrings\n",
    "\n",
    "Explicit requirements:\n",
    "- Every substring from the string argument that is a palindrome must be added to an array\n",
    "- Palindromes are case sensitive\n",
    "\n",
    "Implicit requirements:\n",
    "- If the string is an empty string, then the return value should be an empty array"
   ]
  },
  {
   "cell_type": "markdown",
   "metadata": {},
   "source": [
    "Here's the complete informal pseudocode for this problem:\n",
    "\n",
    "```\n",
    "# input: a string\n",
    "# output: an array of substrings\n",
    "# rules: palindrome words should be case sensitive, meaning \"abBA\"\n",
    "#        is not a palindrome\n",
    "\n",
    "# Algorithm:\n",
    "#  substrings method\n",
    "#  =================\n",
    "#    - create an empty array called `result` that will contain all required substrings\n",
    "#    - create a `starting_index` variable (value `0`) for the starting index of a substring\n",
    "#    - start a loop that iterates over `starting_index` from `0` to the length of the string minus 2\n",
    "#      - create a `num_chars` variable (value `2`) for the length of a substring\n",
    "#      - start an inner loop that iterates over `num_chars` from `2` to `string.length - starting_index`\n",
    "#        - extract a substring of length `num_chars` from `string` starting at `starting_index`\n",
    "#        - append the extracted substring to the `result` array\n",
    "#        - increment the `num_chars` variable by `1`\n",
    "#      - end the inner loop\n",
    "#      - increment the `starting_index` variable by `1`\n",
    "#    - end the outer loop\n",
    "#    - return the `result` array\n",
    "\n",
    "#  is_palindrome? method\n",
    "#  =====================\n",
    "# - Inside the `is_palindrome?` method, check whether the string\n",
    "#   value is equal to its reversed value. You can use the\n",
    "#   String#reverse method.\n",
    "\n",
    "#  palindrome_substrings method\n",
    "#  ============================\n",
    "#  - initialize a result variable to an empty array\n",
    "#  - create an array named substring_arr that contains all of the\n",
    "#    substrings of the input string that are at least 2 characters long.\n",
    "#  - loop through the words in the substring_arr array.\n",
    "#  - if the word is a palindrome, append it to the result\n",
    "#    array\n",
    "#  - return the result array\n",
    "```"
   ]
  },
  {
   "cell_type": "code",
   "execution_count": 13,
   "metadata": {},
   "outputs": [
    {
     "data": {
      "text/plain": [
       ":palindrome_substrings"
      ]
     },
     "execution_count": 13,
     "metadata": {},
     "output_type": "execute_result"
    }
   ],
   "source": [
    "def substrings(str)\n",
    "  result = []\n",
    "  starting_index = 0;\n",
    "\n",
    "  while (starting_index <= str.length - 2)\n",
    "    num_chars = 2\n",
    "    while (num_chars <= str.length - starting_index)\n",
    "      substring = str.slice(starting_index, num_chars)\n",
    "      result << substring\n",
    "      num_chars += 1\n",
    "    end\n",
    "    starting_index += 1\n",
    "  end\n",
    "  result\n",
    "end\n",
    "\n",
    "def is_palindrome?(str)\n",
    "  str == str.reverse\n",
    "end\n",
    "\n",
    "def palindrome_substrings(str)\n",
    "  result = []\n",
    "  substrings_arr = substrings(str)\n",
    "  substrings_arr.each do |substring|\n",
    "    result << substring if is_palindrome?(substring)\n",
    "  end\n",
    "  result\n",
    "end"
   ]
  },
  {
   "cell_type": "markdown",
   "metadata": {},
   "source": [
    "### Testing Frequently"
   ]
  },
  {
   "cell_type": "code",
   "execution_count": null,
   "metadata": {},
   "outputs": [],
   "source": [
    "def substrings(str)\n",
    "  result = []\n",
    "  starting_index = 0\n",
    "  num_chars = 2\n",
    "end\n",
    "\n",
    "def substrings(str)\n",
    "  result = []\n",
    "  starting_index = 0\n",
    "  num_chars = 2\n",
    "  str.slice(starting_index, num_chars)\n",
    "end\n",
    "\n",
    "substrings(\"abc\") # \"ab\"\n",
    "\n",
    "def substrings(str)\n",
    "  result = []\n",
    "  starting_index = 0\n",
    "  num_chars = 2\n",
    "  while starting_index <= str.length - 2\n",
    "    p str.slice(starting_index, num_chars)\n",
    "    starting_index += 1\n",
    "  end\n",
    "end\n",
    "\n",
    "substrings(\"abc\");\n",
    "\n",
    "# Expected output:\n",
    "# \"ab\"\n",
    "# \"bc\""
   ]
  },
  {
   "cell_type": "markdown",
   "metadata": {},
   "source": [
    "## The PEDAC Problem Solving Process\n",
    "\n",
    "### Understanding the Problem\n",
    "\n",
    "- Establish the rules/ define the boundaries of the problem. (Spend time in this step.  Don't rush it.)\n",
    "    - Assessing all available information about the problem.\n",
    "    - Restating explicit requirements\n",
    "    - Identifying implicit requirements.\n",
    "- Explicit requirements (those that are stated in the problem)\n",
    "- Implicit requirements (those that are not state in the problem and can be extrapolated from test cases ...)\n",
    "\n",
    "**General Example**\n",
    "\n",
    "Given a string, produce a new string with every other word removed.\n",
    "\n",
    "- Explicit requirements:\n",
    "    - Input: string\n",
    "    - Output: string\n",
    "    - Remove every other word from the input string\n",
    "\n",
    "- Questions:\n",
    "    - What to we mean by every other word?\n",
    "    - How do we define what word means in this context?\n",
    "        - Word are delimited by spaces."
   ]
  },
  {
   "cell_type": "code",
   "execution_count": 62,
   "metadata": {},
   "outputs": [
    {
     "data": {
      "text/plain": [
       "\"All in together\""
      ]
     },
     "execution_count": 62,
     "metadata": {},
     "output_type": "execute_result"
    }
   ],
   "source": [
    "s = 'All alone in this together'\n",
    "\n",
    "s.split.select.with_index { |word, idx| word if idx.even? }.join(' ')"
   ]
  },
  {
   "cell_type": "markdown",
   "metadata": {},
   "source": [
    "#### Sum Even Number Rows\n",
    "\n",
    "Imagines a sequences of consecutive integers beginning with 2. The integers are grouped in rows, with the first row containing one integer, the second row containing two integers, and the third row containing three integers and so on.  Given an integer representing the number of a particular row, return an integer representing the sum of all the integers in that row.\n",
    "\n",
    "**Rules and Requirements**\n",
    "- Sequence of even integers.\n",
    "- Sequence begins with 2\n",
    "- Integers are consecutive\n",
    "- Sequence is grouped into rows\n",
    "- Each integer is incrementally larger than the last: 1, 2, 3...\n",
    "- The row number equals the number of elements in the row.\n",
    "    - Row 1 has 1 element.\n",
    "    - Row 2 has 2 elements.\n",
    "    - Row 3 has 3 elements ...\n",
    "- Input: an integer\n",
    "    - Indetifies a 'row', which is a subset of integers.\n",
    "- Output: an integer   \n",
    "    - The sum of integers in row identified by the input integer."
   ]
  },
  {
   "cell_type": "markdown",
   "metadata": {},
   "source": [
    "- Sequence:\n",
    "\n",
    "    `0, 2, 4, 6, 8, 10, 12, 14, 16, 18, 20 ...`\n",
    "\n",
    "    ```\n",
    "    2\n",
    "    4, 6\n",
    "    8, 10, 12\n",
    "    14, 16, 18, 20\n",
    "    ```\n",
    "\n",
    " - How do we create the structure?"
   ]
  },
  {
   "cell_type": "markdown",
   "metadata": {},
   "source": [
    "### Examples and Test Cases\n",
    "\n",
    "- Can confirm or refute assumptions\n",
    "- Help answer questions about implicit requirements\n",
    "- Act as assertions which help to codify rules and boundaries.\n",
    "\n",
    "**Examples**\n",
    "\n",
    "```\n",
    "row number: 1 --> sum of integers in row: 2\n",
    "row number : 2 --> sum of integers in row: 10\n",
    "row nunber : 4 --> sum of integers in row: 68\n",
    "```"
   ]
  },
  {
   "cell_type": "markdown",
   "metadata": {},
   "source": [
    "### Data Structures\n",
    "\n",
    "- Help to reason with data more logically.\n",
    "- Help interact with data at an implemention level.\n",
    "- Thinking in terms of data structures is part of the problem solving process.\n",
    "- Data strcutures are closely linked to algorithms\n",
    "    - Set of steps from input to output\n",
    "        - Involves structuring data in a certain way.\n",
    "\n",
    "**Data Strucures**\n",
    "\n",
    "    ```\n",
    "    2\n",
    "    4, 6\n",
    "    8, 10, 12\n",
    "    14, 16, 18, 20\n",
    "    ```\n",
    "\n",
    "- Overall structure representing a sequence as a whole\n",
    "- Individual rows within overall structure\n",
    "- Individual rows in a set order in context of sequence\n",
    "- Individual rows contain integers.\n",
    "- Can assume that integers are in a set order in the context of the sequence."
   ]
  },
  {
   "cell_type": "markdown",
   "metadata": {},
   "source": [
    "```\n",
    "[\n",
    "    [2],\n",
    "    [4, 6],\n",
    "    [8, 10, 12],\n",
    "    [14, 16, 18, 20]\n",
    "]\n",
    "```"
   ]
  },
  {
   "cell_type": "markdown",
   "metadata": {},
   "source": [
    "### Algorithms\n",
    "\n",
    "- A logical sequence of steps for accomplishing a task or objective\n",
    "    - Closely linked to data structures \n",
    "    - Series of steps to structure data to produce the required output\n",
    "- Stay abstract/ high level\n",
    "    - Avoid implementation detail\n",
    "    - Don't worry about efficiency for now\n",
    "\n",
    "**Algorithm**\n",
    "\n",
    "1. Create an empty 'rows' array to contain all of the rows\n",
    "2. Create a 'row' and add it to the overall 'rows' array\n",
    "3. Repeat step 2 until all necessary rows have been created\n",
    "    - All rows have been created when the length of the 'rows' array is equal to the input integer.\n",
    "4. Sum the final row \n",
    "5. Return the sum of the final row.\n",
    "\n",
    "*Problem: Create a Row*\n",
    "\n",
    "Rules:\n",
    "- Row is an array\n",
    "- The array contains integers\n",
    "- The integers are consecutive even numbers\n",
    "- Integers in each row form part of an overall larger sequence\n",
    "- rows are of different length.\n",
    "- Input: the information needed to create the output\n",
    "     - The starting integer\n",
    "     - Length of the row\n",
    "- Output: the row itself: `[8, 10. 12]`\n",
    "\n",
    "Examples:<br>\n",
    "start: 2, length 1 --> [2]<br>\n",
    "start: 4, length 2 --> [4, 6]<br>\n",
    "start: 8, length 3 --> [8, 10, 12]\n",
    "\n",
    "Data Structures:\n",
    "- A flat array of integers\n",
    "\n",
    "Algorithm:\n",
    "1. Create an emptry row to contain the integers\n",
    "2. Add the starting integer \n",
    "3. Increment the starting integer by two to get the next integer in the sequence.\n",
    "4. Repeat steps 2 & 3 until the array has reached the correct lenght.\n",
    "5. Return the 'row' array.\n"
   ]
  },
  {
   "cell_type": "markdown",
   "metadata": {},
   "source": [
    "### Implementing a Solution in Code\n",
    "- Translating our solution algorithm to code\n",
    "- Think about the algorithm in context of programming language\n",
    "     - Language features and constraints\n",
    "     - Characteristics of data structures\n",
    "     - Built in functions/ methods\n",
    "     - Syntax and coding patterns\n",
    "- Create test cases\n",
    "- Code with intent"
   ]
  },
  {
   "cell_type": "code",
   "execution_count": 79,
   "metadata": {},
   "outputs": [
    {
     "name": "stdout",
     "output_type": "stream",
     "text": [
      "true\n",
      "true\n",
      "true\n",
      "true\n",
      "true\n",
      "true\n"
     ]
    },
    {
     "data": {
      "text/plain": [
       "true"
      ]
     },
     "execution_count": 79,
     "metadata": {},
     "output_type": "execute_result"
    }
   ],
   "source": [
    "# solution.rb\n",
    "\n",
    "def sum_even_number_row(row_number)\n",
    "  rows = []\n",
    "  start_integer = 2\n",
    "  # Steps 2 & 3\n",
    "  (1..row_number).each do |current_row_number|\n",
    "    rows << create_row(start_integer, current_row_number)\n",
    "    start_integer = rows[-1][-1] + 2 \n",
    "  end\n",
    "  rows[-1].sum\n",
    "end\n",
    "\n",
    "# 1. Create an empty 'rows' array to contain all of the rows\n",
    "# 2. Create a 'row' and add it to the overall 'rows' array\n",
    "# 3. Repeat step 2 until all necessary rows have been created\n",
    "#     - All rows have been created when the length of the 'rows' array is equal to the input integer.\n",
    "# 4. Sum the final row \n",
    "# 5. Return the sum of the final row.\n",
    "\n",
    "# [\n",
    "#     [2],\n",
    "#     [4, 6],\n",
    "#     [8, 10, 12],\n",
    "#     [14, 16, 18, 20]\n",
    "# ]\n",
    "\n",
    "# Calculating the start integer:\n",
    "# Rule: first integer of row is equal to the last integer of preceding row + 2\n",
    "# Algorithm:\n",
    "#   - Get the last row of the rows array\n",
    "#   - Get last integer of that row\n",
    "#   - Add 2 to the integer\n",
    "\n",
    "def create_row(start_integer, row_length)\n",
    "  row = []\n",
    "  current_integer = start_integer\n",
    "  loop do \n",
    "    row << current_integer\n",
    "    current_integer += 2\n",
    "    break if row.size == row_length\n",
    "  end\n",
    "  row\n",
    "end\n",
    "\n",
    "# 1. Create an emptry row to contain the integers\n",
    "# 2. Add the starting integer \n",
    "# 3. Increment the starting integer by two to get the next integer in the sequence.\n",
    "# 4. Repeat steps 2 & 3 until the array has reached the correct lenght.\n",
    "# 5. Return the 'row' array.\n",
    "\n",
    "\n",
    "# Start the loop\n",
    "#   - Add the start integer to the row (step 2)\n",
    "#   - Increment the start integer by 2 (step 3)\n",
    "#   - Break out of the loop if length of row equals row_length (step 4)\n",
    "\n",
    "# row number: 1 --> sum of integers in row: 2\n",
    "# row number : 2 --> sum of integers in row: 10\n",
    "# row nunber : 4 --> sum of integers in row: 68\n",
    "\n",
    "p sum_even_number_row(1) == 2\n",
    "p sum_even_number_row(2) == 10\n",
    "p sum_even_number_row(4) == 68\n",
    "\n",
    "# start: 2, length 1 --> [2]\n",
    "# start: 4, length 2 --> [4, 6]\n",
    "# start: 8, length 3 --> [8, 10, 12]\n",
    "\n",
    "p create_row(2, 1) == [2]\n",
    "p create_row(4, 2) == [4, 6]\n",
    "p create_row(8, 3) == [8, 10, 12]"
   ]
  },
  {
   "cell_type": "markdown",
   "metadata": {},
   "source": [
    "### Final Thoughts\n",
    "\n",
    "- Don't think of the PEDAC process linearly.  \n",
    "- Move back and forth between steps.\n",
    "- You should move back and forth between implementation mode and abstract problem-solving mode.\n",
    "- Don't try to problem solve at the code level."
   ]
  },
  {
   "cell_type": "markdown",
   "metadata": {},
   "source": [
    "## Selection and Transformation\n",
    "\n",
    "Selection and transformation both utilize the basics of looping: \n",
    "- a loop, \n",
    "- a counter, \n",
    "- a way to retrieve the current value\n",
    "- a way to exit the loop\n",
    "\n",
    "In addition, selection and transformation require **some criteria**; \n",
    "- selection uses this criteria to determine which elements are selected\n",
    "- transformation uses this criteria to determine how to perform the transformation."
   ]
  },
  {
   "cell_type": "markdown",
   "metadata": {},
   "source": [
    "### Looping to Select and Transform"
   ]
  },
  {
   "cell_type": "code",
   "execution_count": 2,
   "metadata": {},
   "outputs": [
    {
     "data": {
      "text/plain": [
       "\"ggggggg\""
      ]
     },
     "execution_count": 2,
     "metadata": {},
     "output_type": "execute_result"
    }
   ],
   "source": [
    "alphabet = 'giggle gig gog'\n",
    "selected_chars = ''\n",
    "counter = 0\n",
    "\n",
    "loop do\n",
    "  current_char = alphabet[counter]\n",
    "\n",
    "  if current_char == 'g'\n",
    "    selected_chars << current_char    # appends current_char into the selected_chars string\n",
    "  end\n",
    "\n",
    "  counter += 1\n",
    "  break if counter == alphabet.size\n",
    "end\n",
    "\n",
    "selected_chars"
   ]
  },
  {
   "cell_type": "code",
   "execution_count": 8,
   "metadata": {},
   "outputs": [
    {
     "data": {
      "text/plain": [
       "\"ggggggggggggg\""
      ]
     },
     "execution_count": 8,
     "metadata": {},
     "output_type": "execute_result"
    }
   ],
   "source": [
    "alphabet.chars.select { |letter| letter == 'g'}.join('g')"
   ]
  },
  {
   "cell_type": "code",
   "execution_count": 9,
   "metadata": {},
   "outputs": [
    {
     "data": {
      "text/plain": [
       "[\"apples\", \"bananas\", \"pears\"]"
      ]
     },
     "execution_count": 9,
     "metadata": {},
     "output_type": "execute_result"
    }
   ],
   "source": [
    "fruits = ['apple', 'banana', 'pear']\n",
    "transformed_elements = []\n",
    "counter = 0\n",
    "\n",
    "loop do\n",
    "  current_element = fruits[counter]\n",
    "\n",
    "  transformed_elements << current_element + 's'   # appends transformed string into array\n",
    "\n",
    "  counter += 1\n",
    "  break if counter == fruits.size\n",
    "end\n",
    "\n",
    "transformed_elements"
   ]
  },
  {
   "cell_type": "code",
   "execution_count": 11,
   "metadata": {},
   "outputs": [
    {
     "data": {
      "text/plain": [
       "[\"apples\", \"bananas\", \"pears\"]"
      ]
     },
     "execution_count": 11,
     "metadata": {},
     "output_type": "execute_result"
    }
   ],
   "source": [
    "transformed_elements = fruits.map { |fruit| fruit + 's' } # This does not transform the elements of the original array\n",
    "transformed_elements"
   ]
  },
  {
   "cell_type": "markdown",
   "metadata": {},
   "source": [
    "**When performing transformation, it's always important to pay attention to whether the original collection was mutated or if a new collection was returned.**"
   ]
  },
  {
   "cell_type": "markdown",
   "metadata": {},
   "source": [
    "### Extracting to Methods"
   ]
  },
  {
   "cell_type": "code",
   "execution_count": 12,
   "metadata": {},
   "outputs": [
    {
     "name": "stdout",
     "output_type": "stream",
     "text": [
      "euioo\n",
      "Iaeeoeaaou\n"
     ]
    }
   ],
   "source": [
    "def select_vowels(str)\n",
    "  selected_chars = ''\n",
    "  counter = 0\n",
    "\n",
    "  loop do\n",
    "    current_char = str[counter]\n",
    "\n",
    "    if 'aeiouAEIOU'.include?(current_char)\n",
    "      selected_chars << current_char\n",
    "    end\n",
    "\n",
    "    counter += 1\n",
    "    break if counter == str.size\n",
    "  end\n",
    "\n",
    "  selected_chars\n",
    "end\n",
    "\n",
    "puts select_vowels('the quick brown fox')      # => \"euioo\"\n",
    "\n",
    "sentence = 'I wandered lonely as a cloud'\n",
    "puts select_vowels(sentence)                   # => \"Iaeeoeaaou\""
   ]
  },
  {
   "cell_type": "code",
   "execution_count": 17,
   "metadata": {},
   "outputs": [
    {
     "name": "stdout",
     "output_type": "stream",
     "text": [
      "euioo\n",
      "Iaeeoeaaou\n"
     ]
    }
   ],
   "source": [
    "def select_vowels(str)\n",
    "  str.chars.select { |char| 'aeiouAEIOU'.include?(char) }.join\n",
    "end\n",
    "\n",
    "puts select_vowels('the quick brown fox')      # => \"euioo\"\n",
    "\n",
    "sentence = 'I wandered lonely as a cloud'\n",
    "puts select_vowels(sentence)                   # => \"Iaeeoeaaou\""
   ]
  },
  {
   "cell_type": "markdown",
   "metadata": {},
   "source": [
    "Select the key-value pairs where the value is `'Fruit'`."
   ]
  },
  {
   "cell_type": "code",
   "execution_count": 53,
   "metadata": {},
   "outputs": [
    {
     "name": "stdout",
     "output_type": "stream",
     "text": [
      "{\"apple\"=>\"Fruit\", \"pear\"=>\"Fruit\"}\n",
      "{\"apple\"=>\"Fruit\", \"pear\"=>\"Fruit\"}\n"
     ]
    }
   ],
   "source": [
    "produce = {\n",
    "  'apple' => 'Fruit',\n",
    "  'carrot' => 'Vegetable',\n",
    "  'pear' => 'Fruit',\n",
    "  'broccoli' => 'Vegetable'\n",
    "}\n",
    "\n",
    "def select_fruit(hsh)\n",
    "  hsh.select { |_, v| v == 'Fruit' }\n",
    "end\n",
    "\n",
    "def select_fruit_2(hsh)\n",
    "  fruits = {}\n",
    "  counter = 0\n",
    "  pairs = [*hsh.each_pair]\n",
    "  \n",
    "  loop do\n",
    "    break if counter == hsh.size  # This is at the top in case hash is empty\n",
    "    key, value = pairs[counter]\n",
    "    fruits[key] = value if value == 'Fruit'\n",
    "    counter += 1\n",
    "  end\n",
    "  fruits\n",
    "end\n",
    "\n",
    "puts select_fruit(produce)\n",
    "puts select_fruit_2(produce)"
   ]
  },
  {
   "cell_type": "code",
   "execution_count": 51,
   "metadata": {},
   "outputs": [
    {
     "data": {
      "text/plain": [
       "[2, 8, 6, 14, 4, 12]"
      ]
     },
     "execution_count": 51,
     "metadata": {},
     "output_type": "execute_result"
    }
   ],
   "source": [
    "def double_numbers(numbers)\n",
    "  doubled_numbers = []\n",
    "  counter = 0\n",
    "\n",
    "  loop do\n",
    "    break if counter == numbers.size\n",
    "\n",
    "    current_number = numbers[counter]\n",
    "    doubled_numbers << current_number * 2\n",
    "\n",
    "    counter += 1\n",
    "  end\n",
    "\n",
    "  doubled_numbers\n",
    "end\n",
    "\n",
    "my_numbers = [1, 4, 3, 7, 2, 6]\n",
    "double_numbers(my_numbers)"
   ]
  },
  {
   "cell_type": "code",
   "execution_count": 62,
   "metadata": {},
   "outputs": [
    {
     "name": "stdout",
     "output_type": "stream",
     "text": [
      "[2, 8, 6, 14, 4, 12]\n",
      "[1, 4, 3, 7, 2, 6]\n"
     ]
    }
   ],
   "source": [
    "def double_numbers(numbers)\n",
    "  numbers.map { |num| num * 2 }\n",
    "end\n",
    "\n",
    "my_numbers = [1, 4, 3, 7, 2, 6]\n",
    "puts double_numbers(my_numbers).inspect\n",
    "puts my_numbers.inspect"
   ]
  },
  {
   "cell_type": "markdown",
   "metadata": {},
   "source": [
    "Can you implement a double_numbers! method that mutates its argument?"
   ]
  },
  {
   "cell_type": "code",
   "execution_count": 69,
   "metadata": {},
   "outputs": [
    {
     "name": "stdout",
     "output_type": "stream",
     "text": [
      "49300\n",
      "49300\n",
      "[2, 8, 6, 14, 4, 12]\n"
     ]
    }
   ],
   "source": [
    "def double_numbers!(numbers)\n",
    "  counter = 0\n",
    "  \n",
    "  loop do\n",
    "    break if counter == numbers.size\n",
    "\n",
    "    numbers[counter] *= 2\n",
    "    counter += 1\n",
    "  end\n",
    "  numbers\n",
    "end\n",
    "\n",
    "my_numbers = [1, 4, 3, 7, 2, 6]\n",
    "puts my_numbers.object_id\n",
    "double_numbers!(my_numbers)\n",
    "puts my_numbers.object_id\n",
    "puts my_numbers.inspect"
   ]
  },
  {
   "cell_type": "markdown",
   "metadata": {},
   "source": [
    "Rather than returning a new array, this method returns a reference to the (mutated) original array"
   ]
  },
  {
   "cell_type": "code",
   "execution_count": 70,
   "metadata": {},
   "outputs": [
    {
     "name": "stdout",
     "output_type": "stream",
     "text": [
      "49320\n",
      "49320\n",
      "[2, 8, 6, 14, 4, 12]\n"
     ]
    }
   ],
   "source": [
    "def double_numbers!(numbers)\n",
    "  numbers.map! { |num| num * 2 }\n",
    "end\n",
    "\n",
    "my_numbers = [1, 4, 3, 7, 2, 6]\n",
    "puts my_numbers.object_id\n",
    "double_numbers!(my_numbers).inspect\n",
    "puts my_numbers.object_id\n",
    "puts my_numbers.inspect"
   ]
  },
  {
   "cell_type": "markdown",
   "metadata": {},
   "source": [
    "This is a method that only transforms a subset of the elements in the collection. Here, we only multiply by `2` if the value is odd. The if condition will only evaluate to `true` if current_number is odd (we check this using `Integer#odd?`)."
   ]
  },
  {
   "cell_type": "code",
   "execution_count": 73,
   "metadata": {},
   "outputs": [
    {
     "data": {
      "text/plain": [
       "[2, 4, 6, 14, 2, 6]"
      ]
     },
     "execution_count": 73,
     "metadata": {},
     "output_type": "execute_result"
    }
   ],
   "source": [
    "def double_odd_numbers(numbers)\n",
    "  doubled_numbers = []\n",
    "  counter = 0\n",
    "\n",
    "  loop do\n",
    "    break if counter == numbers.size\n",
    "\n",
    "    current_number = numbers[counter]\n",
    "    current_number *= 2 if current_number.odd? # This method that does not mutate its argument and instead returns a new array.\n",
    "    doubled_numbers << current_number\n",
    "\n",
    "    counter += 1\n",
    "  end\n",
    "\n",
    "  doubled_numbers\n",
    "end\n",
    "\n",
    "my_numbers = [1, 4, 3, 7, 2, 6]\n",
    "double_odd_numbers(my_numbers)"
   ]
  },
  {
   "cell_type": "markdown",
   "metadata": {},
   "source": [
    "Code a solution that doubles the numbers that have odd indices:"
   ]
  },
  {
   "cell_type": "code",
   "execution_count": 7,
   "metadata": {},
   "outputs": [
    {
     "data": {
      "text/plain": [
       "[1, 8, 3, 14, 2, 12]"
      ]
     },
     "execution_count": 7,
     "metadata": {},
     "output_type": "execute_result"
    }
   ],
   "source": [
    "def double_odd_indexed_numbers(numbers)\n",
    "  doubled_numbers = []\n",
    "  counter = 0\n",
    "\n",
    "  loop do\n",
    "    break if counter == numbers.size\n",
    "\n",
    "    current_number = numbers[counter]\n",
    "    current_number *= 2 if counter.odd?\n",
    "    doubled_numbers << current_number\n",
    "\n",
    "    counter += 1\n",
    "  end\n",
    "  doubled_numbers\n",
    "end\n",
    "\n",
    "my_numbers = [1, 4, 3, 7, 2, 6]\n",
    "double_odd_indexed_numbers(my_numbers)"
   ]
  },
  {
   "cell_type": "code",
   "execution_count": 8,
   "metadata": {},
   "outputs": [
    {
     "name": "stdout",
     "output_type": "stream",
     "text": [
      "[1, 8, 3, 14, 2, 12]\n"
     ]
    }
   ],
   "source": [
    "def double_odd_indexed_numbers(numbers)\n",
    "  numbers.map.with_index { |num, idx| idx.odd? ? num * 2 : num } \n",
    "end\n",
    "\n",
    "my_numbers = [1, 4, 3, 7, 2, 6]\n",
    "puts double_odd_indexed_numbers(my_numbers).inspect"
   ]
  },
  {
   "cell_type": "markdown",
   "metadata": {},
   "source": [
    "### More Flexible Methods\n",
    "\n",
    "Suppose we wish to now write a more generic `general_select` method so that we can specify whether we're interested in selecting fruits or vegetables. Here's how we could build such a method:"
   ]
  },
  {
   "cell_type": "code",
   "execution_count": 10,
   "metadata": {},
   "outputs": [
    {
     "name": "stdout",
     "output_type": "stream",
     "text": [
      "{\"apple\"=>\"Fruit\", \"pear\"=>\"Fruit\"}\n",
      "{\"carrot\"=>\"Vegetable\", \"broccoli\"=>\"Vegetable\"}\n",
      "{}\n"
     ]
    }
   ],
   "source": [
    "def general_select(produce_list, selection_criteria)\n",
    "  produce_keys = produce_list.keys\n",
    "  counter = 0\n",
    "  selected_produce = {}\n",
    "\n",
    "  loop do\n",
    "    break if counter == produce_keys.size\n",
    "\n",
    "    current_key = produce_keys[counter]\n",
    "    current_value = produce_list[current_key]\n",
    "\n",
    "    # used to be current_value == 'Fruit'\n",
    "    if current_value == selection_criteria\n",
    "      selected_produce[current_key] = current_value\n",
    "    end\n",
    "\n",
    "    counter += 1\n",
    "  end\n",
    "\n",
    "  selected_produce\n",
    "end\n",
    "\n",
    "produce = {\n",
    "  'apple' => 'Fruit',\n",
    "  'carrot' => 'Vegetable',\n",
    "  'pear' => 'Fruit',\n",
    "  'broccoli' => 'Vegetable'\n",
    "}\n",
    "\n",
    "puts general_select(produce, 'Fruit')     \n",
    "puts general_select(produce, 'Vegetable') \n",
    "puts general_select(produce, 'Meat')"
   ]
  },
  {
   "cell_type": "code",
   "execution_count": 13,
   "metadata": {},
   "outputs": [
    {
     "name": "stdout",
     "output_type": "stream",
     "text": [
      "{\"apple\"=>\"Fruit\", \"pear\"=>\"Fruit\"}\n",
      "{\"carrot\"=>\"Vegetable\", \"broccoli\"=>\"Vegetable\"}\n",
      "{}\n"
     ]
    }
   ],
   "source": [
    "def general_select(produce_list, selection_criteria)\n",
    "  produce_list.select { |_, v| v == selection_criteria }\n",
    "end\n",
    "\n",
    "puts general_select(produce, 'Fruit')     \n",
    "puts general_select(produce, 'Vegetable') \n",
    "puts general_select(produce, 'Meat')"
   ]
  },
  {
   "cell_type": "markdown",
   "metadata": {},
   "source": [
    "Try coding a method that allows you to multiply every array item by a specified value:"
   ]
  },
  {
   "cell_type": "code",
   "execution_count": 17,
   "metadata": {},
   "outputs": [
    {
     "data": {
      "text/plain": [
       "[3, 12, 9, 21, 6, 18]"
      ]
     },
     "execution_count": 17,
     "metadata": {},
     "output_type": "execute_result"
    }
   ],
   "source": [
    "def multiply(numbers, multiplier)\n",
    "  transformed_numbers = []\n",
    "  counter = 0\n",
    "\n",
    "  loop do\n",
    "    break if counter == numbers.size\n",
    "    current_number = numbers[counter]\n",
    "    transformed_numbers << (current_number * multiplier)\n",
    "    counter += 1\n",
    "  end\n",
    "  transformed_numbers\n",
    "end\n",
    "\n",
    "my_numbers = [1, 4, 3, 7, 2, 6]\n",
    "multiply(my_numbers, 3)"
   ]
  },
  {
   "cell_type": "code",
   "execution_count": 18,
   "metadata": {},
   "outputs": [
    {
     "data": {
      "text/plain": [
       "[3, 12, 9, 21, 6, 18]"
      ]
     },
     "execution_count": 18,
     "metadata": {},
     "output_type": "execute_result"
    }
   ],
   "source": [
    "def multiply(numbers, multiplier)\n",
    "  numbers.map { |num| num * multiplier }\n",
    "end\n",
    "\n",
    "my_numbers = [1, 4, 3, 7, 2, 6]\n",
    "multiply(my_numbers, 3)\n"
   ]
  },
  {
   "cell_type": "markdown",
   "metadata": {},
   "source": [
    "Let's write a method called `select_letter`, that takes a string and returns a new string containing only the letter that we specified. We want it to behave like this:"
   ]
  },
  {
   "cell_type": "code",
   "execution_count": 21,
   "metadata": {},
   "outputs": [
    {
     "name": "stdout",
     "output_type": "stream",
     "text": [
      "aaaaaaaa\n",
      "ttttt\n",
      "\n"
     ]
    }
   ],
   "source": [
    "def select_letter(sentence, character)\n",
    "  selected_chars = ''\n",
    "  counter = 0\n",
    "\n",
    "  loop do\n",
    "    break if counter == sentence.size\n",
    "    current_char = sentence[counter]\n",
    "\n",
    "    if current_char == character\n",
    "      selected_chars << current_char\n",
    "    end\n",
    "\n",
    "    counter += 1\n",
    "  end\n",
    "\n",
    "  selected_chars\n",
    "end\n",
    "\n",
    "question = 'How many times does a particular character appear in this sentence?'\n",
    "puts select_letter(question, 'a') \n",
    "puts select_letter(question, 't') \n",
    "puts select_letter(question, 'z') "
   ]
  },
  {
   "cell_type": "code",
   "execution_count": 25,
   "metadata": {},
   "outputs": [
    {
     "name": "stdout",
     "output_type": "stream",
     "text": [
      "aaaaaaaa\n",
      "ttttt\n",
      "\n"
     ]
    }
   ],
   "source": [
    "def select_letter(sentence, character)\n",
    "  sentence.chars.select { |char| char == character }.join \n",
    "end\n",
    "\n",
    "question = 'How many times does a particular character appear in this sentence?'\n",
    "puts select_letter(question, 'a') \n",
    "puts select_letter(question, 't') \n",
    "puts select_letter(question, 'z') "
   ]
  },
  {
   "cell_type": "markdown",
   "metadata": {},
   "source": [
    "## Methods\n",
    "\n",
    "### `each`"
   ]
  },
  {
   "cell_type": "markdown",
   "metadata": {},
   "source": [
    "We can iterate over an array or hash in a manual way by using `loop`, or we can iterate more idiomatically using `each` -- they're equivalent, for the most part. \n",
    "\n",
    "One of the main differences between them, however, is the return value. Once each is done iterating, **it returns the original collection.**"
   ]
  },
  {
   "cell_type": "code",
   "execution_count": 28,
   "metadata": {},
   "outputs": [
    {
     "name": "stdout",
     "output_type": "stream",
     "text": [
      "2\n",
      "4\n",
      "6\n"
     ]
    },
    {
     "data": {
      "text/plain": [
       "[1, 2, 3]"
      ]
     },
     "execution_count": 28,
     "metadata": {},
     "output_type": "execute_result"
    }
   ],
   "source": [
    "def a_method\n",
    "  [1, 2, 3].each do |num|\n",
    "    puts num * 2\n",
    "  end\n",
    "end\n",
    "\n",
    "a_method # Return value is [1, 2, 3]"
   ]
  },
  {
   "cell_type": "code",
   "execution_count": 30,
   "metadata": {},
   "outputs": [
    {
     "name": "stdout",
     "output_type": "stream",
     "text": [
      "2\n",
      "4\n",
      "6\n",
      "hi\n"
     ]
    }
   ],
   "source": [
    "def a_method\n",
    "  [1, 2, 3].each do |num|\n",
    "    puts num * 2\n",
    "  end\n",
    "\n",
    "  puts 'hi'\n",
    "end\n",
    "\n",
    "a_method # Return value is nil since each block is no longer the last line evaluated\n",
    "         # and the return value of puts is nil"
   ]
  },
  {
   "cell_type": "markdown",
   "metadata": {},
   "source": [
    "### `select`\n",
    "\n",
    "To perform selection, `select` evaluates the **return value of the block**. The block returns a value on each iteration, which then gets evaluated by `select`.\n",
    "\n",
    "When evaluating the block's return value, `select` only cares about its `truthiness`. Everything in Ruby is considered \"truthy\" except for `nil` and `false`. That's not exactly the same thing as saying everything except `nil` and `false` has a value of `true` in Ruby, but only that it is \"truthy\". \n",
    "\n",
    "If the return value of the block is \"truthy\", then the element during that iteration will be selected. If the return value of the block is \"falsey\" then the element will not be selected.\n",
    "\n",
    " When an element is selected, it's placed in a *new collection*."
   ]
  },
  {
   "cell_type": "code",
   "execution_count": 37,
   "metadata": {},
   "outputs": [
    {
     "data": {
      "text/plain": [
       "[1, 2, 3]"
      ]
     },
     "execution_count": 37,
     "metadata": {},
     "output_type": "execute_result"
    }
   ],
   "source": [
    "[1, 2, 3].select do |num|\n",
    "  num + 1\n",
    "end # The return value is [1, 2, 3] because all elements in original list evaluate as truthey"
   ]
  },
  {
   "cell_type": "code",
   "execution_count": 34,
   "metadata": {},
   "outputs": [
    {
     "name": "stdout",
     "output_type": "stream",
     "text": [
      "1\n",
      "2\n",
      "3\n"
     ]
    },
    {
     "data": {
      "text/plain": [
       "[]"
      ]
     },
     "execution_count": 34,
     "metadata": {},
     "output_type": "execute_result"
    }
   ],
   "source": [
    "[1, 2, 3].select do |num|\n",
    "  num + 1\n",
    "  puts num\n",
    "end "
   ]
  },
  {
   "cell_type": "markdown",
   "metadata": {},
   "source": [
    "`select` will now return an empty array. Since `puts num` is now the last evaluated expression in the block, it is the return value of this expression which determines the return value of the block. \n",
    "\n",
    "We know that `puts` always returns `nil`, therefore the return value of the block will now be `nil`, which is considered a \"falsey\" value. In other words, `select` won't select any elements because the return value will always be falsey."
   ]
  },
  {
   "cell_type": "markdown",
   "metadata": {},
   "source": [
    "\n",
    "### `map`\n",
    "\n",
    "Similar to `select`, `map` also considers the return value of the block. The main difference between these two methods is that `map` uses the return value of the block to perform transformation instead of selection."
   ]
  },
  {
   "cell_type": "code",
   "execution_count": 38,
   "metadata": {},
   "outputs": [
    {
     "data": {
      "text/plain": [
       "[2, 4, 6]"
      ]
     },
     "execution_count": 38,
     "metadata": {},
     "output_type": "execute_result"
    }
   ],
   "source": [
    "[1, 2, 3].map do |num|\n",
    "  num * 2\n",
    "end"
   ]
  },
  {
   "cell_type": "markdown",
   "metadata": {},
   "source": [
    "In this example, the return value of the block is the product of `num and 2`. `map` then takes this value and places it in a new collection. This process is repeated for each element in the original collection."
   ]
  },
  {
   "cell_type": "code",
   "execution_count": 39,
   "metadata": {},
   "outputs": [
    {
     "data": {
      "text/plain": [
       "[true, false, true]"
      ]
     },
     "execution_count": 39,
     "metadata": {},
     "output_type": "execute_result"
    }
   ],
   "source": [
    "[1, 2, 3].map do |num|\n",
    "  num.odd?\n",
    "end"
   ]
  },
  {
   "cell_type": "markdown",
   "metadata": {},
   "source": [
    "`map` always performs transformation based on the return value of the block. In this case, the return value of the block will be a `boolean`. This means that the collection returned by `map` will be an array of `booleans`."
   ]
  },
  {
   "cell_type": "code",
   "execution_count": 40,
   "metadata": {},
   "outputs": [
    {
     "name": "stdout",
     "output_type": "stream",
     "text": [
      "1\n",
      "2\n",
      "3\n"
     ]
    },
    {
     "data": {
      "text/plain": [
       "[nil, nil, nil]"
      ]
     },
     "execution_count": 40,
     "metadata": {},
     "output_type": "execute_result"
    }
   ],
   "source": [
    "[1, 2, 3].map do |num|\n",
    "  num.odd?\n",
    "  puts num\n",
    "end"
   ]
  },
  {
   "cell_type": "markdown",
   "metadata": {},
   "source": [
    "By looking at the last expression within the block, we know that the return value of the block will always be `nil`. `map` doesn't care about truthiness, and takes this return value as the transformation criteria. Therefore, the collection returned by `map` is a new array of `nil`s."
   ]
  },
  {
   "cell_type": "code",
   "execution_count": 41,
   "metadata": {},
   "outputs": [
    {
     "data": {
      "text/plain": [
       "[\"hi\", \"hi\", \"hi\"]"
      ]
     },
     "execution_count": 41,
     "metadata": {},
     "output_type": "execute_result"
    }
   ],
   "source": [
    "[1, 2, 3].map do |num|\n",
    "  'hi'\n",
    "end"
   ]
  },
  {
   "cell_type": "markdown",
   "metadata": {},
   "source": [
    "Since `'hi'` is the only statement within the block, the return value of the block is `'hi'`, which `map` will use as the transformation criteria. Therefore, the above code will return an array where each element is `'hi'`."
   ]
  },
  {
   "cell_type": "markdown",
   "metadata": {},
   "source": [
    "### Summary \n",
    "\n",
    "![Methods Summary](methods_summary.png)"
   ]
  },
  {
   "cell_type": "markdown",
   "metadata": {},
   "source": [
    "## More Methods\n",
    "\n",
    "### `Enumerable#any?`"
   ]
  },
  {
   "cell_type": "code",
   "execution_count": 43,
   "metadata": {},
   "outputs": [
    {
     "data": {
      "text/plain": [
       "true"
      ]
     },
     "execution_count": 43,
     "metadata": {},
     "output_type": "execute_result"
    }
   ],
   "source": [
    "[1, 2, 3].any? do |num|\n",
    "  num > 2\n",
    "end"
   ]
  },
  {
   "cell_type": "markdown",
   "metadata": {},
   "source": [
    "`any? `looks at the truthiness of the **block's** return value in order to determine what the method's return value will be. If the block returns a \"truthy\" value for any element in the collection, then the method will return `true`.\n",
    "\n",
    "`any?` can also be used with a hash. The only difference is that the block requires two parameters in order to access the key and the value."
   ]
  },
  {
   "cell_type": "code",
   "execution_count": 44,
   "metadata": {},
   "outputs": [
    {
     "data": {
      "text/plain": [
       "false"
      ]
     },
     "execution_count": 44,
     "metadata": {},
     "output_type": "execute_result"
    }
   ],
   "source": [
    "{ a: \"ant\", b: \"bear\", c: \"cat\" }.any? do |key, value|\n",
    "  value.size > 4\n",
    "end"
   ]
  },
  {
   "cell_type": "markdown",
   "metadata": {},
   "source": [
    "### `Enumerable#all?`\n",
    "\n",
    "`all?` functions in a similar way to `any?`. It also looks at the truthiness of the **block's** return value, but the method only returns `true` if the block's return value in every iteration is truthy (that is, not `false` or `nil`)."
   ]
  },
  {
   "cell_type": "code",
   "execution_count": 45,
   "metadata": {},
   "outputs": [
    {
     "data": {
      "text/plain": [
       "false"
      ]
     },
     "execution_count": 45,
     "metadata": {},
     "output_type": "execute_result"
    }
   ],
   "source": [
    "[1, 2, 3].all? do |num|\n",
    "  num > 2\n",
    "end"
   ]
  },
  {
   "cell_type": "code",
   "execution_count": 46,
   "metadata": {},
   "outputs": [
    {
     "data": {
      "text/plain": [
       "true"
      ]
     },
     "execution_count": 46,
     "metadata": {},
     "output_type": "execute_result"
    }
   ],
   "source": [
    "{ a: \"ant\", b: \"bear\", c: \"cat\" }.all? do |key, value|\n",
    "  value.length >= 3\n",
    "end"
   ]
  },
  {
   "cell_type": "markdown",
   "metadata": {},
   "source": [
    "### `Enumerable#each_with_index`\n",
    "\n",
    "`each_with_index` is nearly identical to `each`. While both methods take a block and execute the code within the block, **the block's return value is ignored**. Unlike `each`, `each_with_index` takes a second argument which represents the index of each element."
   ]
  },
  {
   "cell_type": "code",
   "execution_count": 50,
   "metadata": {},
   "outputs": [
    {
     "name": "stdout",
     "output_type": "stream",
     "text": [
      "The index of 1 is 0.\n",
      "The index of 2 is 1.\n",
      "The index of 3 is 2.\n"
     ]
    },
    {
     "data": {
      "text/plain": [
       "[1, 2, 3]"
      ]
     },
     "execution_count": 50,
     "metadata": {},
     "output_type": "execute_result"
    }
   ],
   "source": [
    "[1, 2, 3].each_with_index do |num, index|\n",
    "  puts \"The index of #{num} is #{index}.\"\n",
    "end"
   ]
  },
  {
   "cell_type": "code",
   "execution_count": 51,
   "metadata": {},
   "outputs": [
    {
     "name": "stdout",
     "output_type": "stream",
     "text": [
      "The index of 1 is 1.\n",
      "The index of 2 is 2.\n",
      "The index of 3 is 3.\n"
     ]
    },
    {
     "data": {
      "text/plain": [
       "[1, 2, 3]"
      ]
     },
     "execution_count": 51,
     "metadata": {},
     "output_type": "execute_result"
    }
   ],
   "source": [
    "[1, 2, 3].each.with_index(1) do |num, index|\n",
    "  puts \"The index of #{num} is #{index}.\"\n",
    "end"
   ]
  },
  {
   "cell_type": "markdown",
   "metadata": {},
   "source": [
    "When calling `each_with_index` on a `hash`, the first argument now represents an `array` containing both the `key` and the `value`."
   ]
  },
  {
   "cell_type": "code",
   "execution_count": 53,
   "metadata": {},
   "outputs": [
    {
     "name": "stdout",
     "output_type": "stream",
     "text": [
      "The index of a and horse is 0 \n",
      "The index of b and cat is 1 \n",
      "The index of c and dog is 2 \n"
     ]
    },
    {
     "data": {
      "text/plain": [
       "{:a=>\"horse\", :b=>\"cat\", :c=>\"dog\"}"
      ]
     },
     "execution_count": 53,
     "metadata": {},
     "output_type": "execute_result"
    }
   ],
   "source": [
    "{ a: 'horse', b: 'cat', c: 'dog' }.each_with_index do |pair, idx|\n",
    "  puts \"The index of #{pair.join(' and ' )} is #{idx} \"\n",
    "end"
   ]
  },
  {
   "cell_type": "markdown",
   "metadata": {},
   "source": [
    "Finally note that just like `each`, `each_with_index` always returns the original calling collection."
   ]
  },
  {
   "cell_type": "markdown",
   "metadata": {},
   "source": [
    "### `Enumerable#each_with_object`\n",
    "\n",
    "Besides taking a block like the methods above, `each_with_object` takes a **method argument**. The method argument is a collection object that will be returned by the method. On top of that, the block takes 2 arguments of its own. The first block argument represents the current element and the second block argument represents the collection object that was passed in as an argument to the method. Once it's done iterating, the method returns the collection object that was passed in."
   ]
  },
  {
   "cell_type": "code",
   "execution_count": 57,
   "metadata": {},
   "outputs": [
    {
     "data": {
      "text/plain": [
       "[1, 3]"
      ]
     },
     "execution_count": 57,
     "metadata": {},
     "output_type": "execute_result"
    }
   ],
   "source": [
    "[1, 2, 3].each_with_object([]) do |num, array|\n",
    "  array << num if num.odd?\n",
    "end"
   ]
  },
  {
   "cell_type": "markdown",
   "metadata": {},
   "source": [
    "In the above example, `array` is initialized to an empty array, `[]`. Inside the block, we can now manipulate `array`. In this case, we're just appending the current num into it if it's odd.\n",
    "\n",
    "Similar to `each_with_index`, the first block argument turns into an `array` when we invoke `each_with_object` on a `hash`."
   ]
  },
  {
   "cell_type": "code",
   "execution_count": 58,
   "metadata": {},
   "outputs": [
    {
     "data": {
      "text/plain": [
       "[\"ant\", \"bear\", \"cat\"]"
      ]
     },
     "execution_count": 58,
     "metadata": {},
     "output_type": "execute_result"
    }
   ],
   "source": [
    "{ a: \"ant\", b: \"bear\", c: \"cat\" }.each_with_object([]) do |pair, array|\n",
    "  array << pair.last\n",
    "end"
   ]
  },
  {
   "cell_type": "markdown",
   "metadata": {},
   "source": [
    "As an additional quirk, it's possible to use parentheses to capture the `key` and `value` in the first block argument."
   ]
  },
  {
   "cell_type": "code",
   "execution_count": 59,
   "metadata": {},
   "outputs": [
    {
     "data": {
      "text/plain": [
       "{\"ant\"=>:a, \"bear\"=>:b, \"cat\"=>:c}"
      ]
     },
     "execution_count": 59,
     "metadata": {},
     "output_type": "execute_result"
    }
   ],
   "source": [
    "{ a: \"ant\", b: \"bear\", c: \"cat\" }.each_with_object({}) do |(key, value), hash|\n",
    "  hash[value] = key\n",
    "end"
   ]
  },
  {
   "cell_type": "markdown",
   "metadata": {},
   "source": [
    "### `Enumerable#first`\n",
    "\n",
    "`first` doesn't take a block, but it does take an optional argument which represents the number of elements to return. When no argument is given, it returns only the first element in the collection."
   ]
  },
  {
   "cell_type": "code",
   "execution_count": 65,
   "metadata": {},
   "outputs": [
    {
     "data": {
      "text/plain": [
       "[:a, \"ant\"]"
      ]
     },
     "execution_count": 65,
     "metadata": {},
     "output_type": "execute_result"
    }
   ],
   "source": [
    "{ a: \"ant\", b: \"bear\", c: \"cat\" }.first"
   ]
  },
  {
   "cell_type": "code",
   "execution_count": 66,
   "metadata": {},
   "outputs": [
    {
     "data": {
      "text/plain": [
       "[[:a, \"ant\"], [:b, \"bear\"]]"
      ]
     },
     "execution_count": 66,
     "metadata": {},
     "output_type": "execute_result"
    }
   ],
   "source": [
    "{ a: \"ant\", b: \"bear\", c: \"cat\" }.first(2)"
   ]
  },
  {
   "cell_type": "markdown",
   "metadata": {},
   "source": [
    "### `Enumerable#include?`\n",
    "\n",
    "`include?` doesn't take a block, but it does require one argument. It returns `true` if the argument exists in the collection and `false` if it doesn't."
   ]
  },
  {
   "cell_type": "code",
   "execution_count": 74,
   "metadata": {},
   "outputs": [
    {
     "name": "stdout",
     "output_type": "stream",
     "text": [
      "true\n",
      "false\n",
      "true\n"
     ]
    }
   ],
   "source": [
    "puts [1, 2, 3].include?(1)\n",
    "puts ({ a: \"ant\", b: \"bear\", c: \"cat\" }.include?(\"ant\"))\n",
    "puts ({ a: \"ant\", b: \"bear\", c: \"cat\" }.include?(:a))"
   ]
  },
  {
   "cell_type": "markdown",
   "metadata": {},
   "source": [
    "`Hash#include?` is essentially an alias for `Hash#key?` or `Hash#has_key?`. In practice, Rubyists would usually prefer to use `key?` over `include?` as it makes the intention more explicit. The Ruby style guide recommends using `key?` instead of `has_key?` as well.\n",
    "\n",
    "We could use the `Hash#value?` or `Hash#has_value?` methods to find out if a value exists within a hash.  As with `key?` and `has_key?`, the style guide recommends using `value?` instead of `has_value?`."
   ]
  },
  {
   "cell_type": "markdown",
   "metadata": {},
   "source": [
    "### `Enumerable#partition`\n",
    "\n",
    "`partition` divides up elements in the current collection into two collections, depending on the block's return value."
   ]
  },
  {
   "cell_type": "code",
   "execution_count": 75,
   "metadata": {},
   "outputs": [
    {
     "data": {
      "text/plain": [
       "[[1, 3], [2]]"
      ]
     },
     "execution_count": 75,
     "metadata": {},
     "output_type": "execute_result"
    }
   ],
   "source": [
    "[1, 2, 3].partition do |num|\n",
    "  num.odd?\n",
    "end"
   ]
  },
  {
   "cell_type": "code",
   "execution_count": 76,
   "metadata": {},
   "outputs": [
    {
     "data": {
      "text/plain": [
       "[[3], [1, 2]]"
      ]
     },
     "execution_count": 76,
     "metadata": {},
     "output_type": "execute_result"
    }
   ],
   "source": [
    "[1, 2, 3].partition do |num|\n",
    "  num > 2\n",
    "end"
   ]
  },
  {
   "cell_type": "markdown",
   "metadata": {},
   "source": [
    "The return value is a nested array, with the inner arrays separated based on the return value of the block. The most idiomatic way to use `partition` is to parallel assign variables to capture the divided inner arrays"
   ]
  },
  {
   "cell_type": "code",
   "execution_count": 77,
   "metadata": {},
   "outputs": [
    {
     "name": "stdout",
     "output_type": "stream",
     "text": [
      "[1, 3]\n",
      "[2]\n"
     ]
    }
   ],
   "source": [
    "odd, even = [1, 2, 3].partition do |num|\n",
    "  num.odd?\n",
    "end\n",
    "\n",
    "puts odd.inspect\n",
    "puts even.inspect"
   ]
  },
  {
   "cell_type": "code",
   "execution_count": 78,
   "metadata": {},
   "outputs": [
    {
     "data": {
      "text/plain": [
       "[[[:b, \"bear\"]], [[:a, \"ant\"], [:c, \"cat\"]]]"
      ]
     },
     "execution_count": 78,
     "metadata": {},
     "output_type": "execute_result"
    }
   ],
   "source": [
    "long, short = { a: \"ant\", b: \"bear\", c: \"cat\" }.partition do |key, value|\n",
    "  value.size > 3\n",
    "end"
   ]
  },
  {
   "cell_type": "markdown",
   "metadata": {},
   "source": [
    "To transform these arrays back into a hash, we can invoke `Array#to_h`."
   ]
  },
  {
   "cell_type": "code",
   "execution_count": 87,
   "metadata": {},
   "outputs": [
    {
     "data": {
      "text/plain": [
       "{:a=>\"ant\", :c=>\"cat\"}"
      ]
     },
     "execution_count": 87,
     "metadata": {},
     "output_type": "execute_result"
    }
   ],
   "source": [
    "long.to_h\n",
    "short.to_h "
   ]
  },
  {
   "cell_type": "markdown",
   "metadata": {},
   "source": []
  }
 ],
 "metadata": {
  "kernelspec": {
   "display_name": "Ruby 2.7.5",
   "language": "ruby",
   "name": "ruby"
  },
  "language_info": {
   "file_extension": ".rb",
   "mimetype": "application/x-ruby",
   "name": "ruby",
   "version": "2.7.5"
  },
  "orig_nbformat": 4
 },
 "nbformat": 4,
 "nbformat_minor": 2
}
