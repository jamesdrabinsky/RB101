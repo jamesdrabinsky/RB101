{
 "cells": [
  {
   "cell_type": "markdown",
   "metadata": {},
   "source": [
    "1. Modify the code so the loop stops after the first iteration."
   ]
  },
  {
   "cell_type": "code",
   "execution_count": 1,
   "metadata": {},
   "outputs": [
    {
     "name": "stdout",
     "output_type": "stream",
     "text": [
      "Just keep printing...\n"
     ]
    }
   ],
   "source": [
    "loop do\n",
    "  puts 'Just keep printing...'\n",
    "  break\n",
    "end"
   ]
  },
  {
   "cell_type": "markdown",
   "metadata": {},
   "source": [
    "2. Modify the code so each loop stops after the first iteration."
   ]
  },
  {
   "cell_type": "code",
   "execution_count": 2,
   "metadata": {},
   "outputs": [
    {
     "name": "stdout",
     "output_type": "stream",
     "text": [
      "This is the outer loop.\n",
      "This is the inner loop.\n",
      "This is outside all loops.\n"
     ]
    }
   ],
   "source": [
    "loop do\n",
    "  puts 'This is the outer loop.'\n",
    "  loop do\n",
    "    puts 'This is the inner loop.'\n",
    "    break\n",
    "  end\n",
    "  break\n",
    "end\n",
    "\n",
    "puts 'This is outside all loops.'"
   ]
  },
  {
   "cell_type": "markdown",
   "metadata": {},
   "source": [
    "3. Modify the following loop so it iterates 5 times instead of just once."
   ]
  },
  {
   "cell_type": "code",
   "execution_count": null,
   "metadata": {},
   "outputs": [],
   "source": [
    "iteration = 1\n",
    "\n",
    "loop do \n",
    "  puts \"Number of iterations = #{iteration}\"\n",
    "  iteration += 1\n",
    "  break if iteration > 5\n",
    "end\n",
    "\n",
    "################################################################\n",
    "\n",
    "5.times do |idx|\n",
    "  puts \"Number of iterations = #{idx + 1}\"\n",
    "end\n",
    "\n",
    "################################################################\n",
    "\n",
    "(1..5).each do |num|\n",
    "  puts \"Number of iterations = #{num}\"\n",
    "end"
   ]
  },
  {
   "cell_type": "markdown",
   "metadata": {},
   "source": [
    "4. Modify the code below so the loop stops iterating when the user inputs 'yes'."
   ]
  },
  {
   "cell_type": "code",
   "execution_count": null,
   "metadata": {},
   "outputs": [],
   "source": [
    "loop do\n",
    "  puts 'Should I stop looping?'\n",
    "  answer = gets.chomp\n",
    "  break if answer.downcase == 'yes'\n",
    "  puts 'Incorrect answer. Please answer \"yes\".'\n",
    "end"
   ]
  },
  {
   "cell_type": "markdown",
   "metadata": {},
   "source": [
    "5. Modify the code below so \"Hello!\" is printed 5 times."
   ]
  },
  {
   "cell_type": "code",
   "execution_count": 8,
   "metadata": {},
   "outputs": [
    {
     "name": "stdout",
     "output_type": "stream",
     "text": [
      "Hello!\n",
      "Hello!\n",
      "Hello!\n",
      "Hello!\n",
      "Hello!\n",
      "Hello!\n",
      "Hello!\n",
      "Hello!\n",
      "Hello!\n",
      "Hello!\n"
     ]
    },
    {
     "data": {
      "text/plain": [
       "5"
      ]
     },
     "execution_count": 8,
     "metadata": {},
     "output_type": "execute_result"
    }
   ],
   "source": [
    "say_hello = true\n",
    "counter = 0\n",
    "\n",
    "while say_hello\n",
    "  puts 'Hello!'\n",
    "  counter += 1\n",
    "  say_hello = false if counter == 5\n",
    "end\n",
    "\n",
    "################################################################\n",
    "\n",
    "5.times do \n",
    "  puts \"Hello!\"\n",
    "end"
   ]
  },
  {
   "cell_type": "markdown",
   "metadata": {},
   "source": [
    "6. Using a while loop, print 5 random numbers between 0 and 99."
   ]
  },
  {
   "cell_type": "code",
   "execution_count": 26,
   "metadata": {},
   "outputs": [
    {
     "name": "stdout",
     "output_type": "stream",
     "text": [
      "63\n",
      "58\n",
      "16\n",
      "88\n",
      "7\n"
     ]
    }
   ],
   "source": [
    "numbers = 5.times.map { rand(0..99) }\n",
    "\n",
    "while !numbers.empty? \n",
    "  puts numbers.shift\n",
    "end"
   ]
  },
  {
   "cell_type": "markdown",
   "metadata": {},
   "source": [
    "7. Modify the code so that it counts from 1 to 10 instead."
   ]
  },
  {
   "cell_type": "code",
   "execution_count": null,
   "metadata": {},
   "outputs": [],
   "source": [
    "count = 10\n",
    "\n",
    "(1..count).each do |num|\n",
    "  puts num\n",
    "end\n",
    "\n",
    "################################################################\n",
    "\n",
    "count = 1\n",
    "\n",
    "until count > 10\n",
    "  puts count\n",
    "  count += 1\n",
    "end"
   ]
  },
  {
   "cell_type": "markdown",
   "metadata": {},
   "source": [
    "8. Given the array of several numbers below, use an until loop to print each number."
   ]
  },
  {
   "cell_type": "code",
   "execution_count": 37,
   "metadata": {},
   "outputs": [
    {
     "name": "stdout",
     "output_type": "stream",
     "text": [
      "7\n",
      "9\n",
      "13\n",
      "25\n",
      "18\n"
     ]
    }
   ],
   "source": [
    "numbers = [7, 9, 13, 25, 18]\n",
    "\n",
    "numbers.each { |num| puts num }\n",
    "\n",
    "################################################################\n",
    "\n",
    "numbers = [7, 9, 13, 25, 18]\n",
    "\n",
    "until numbers.empty?\n",
    "  puts numbers.shift\n",
    "end\n",
    "\n",
    "################################################################\n",
    "\n",
    "numbers = [7, 9, 13, 25, 18]\n",
    "count = 0\n",
    "\n",
    "until count == numbers.size\n",
    "  puts numbers[count]\n",
    "  count += 1\n",
    "end"
   ]
  },
  {
   "cell_type": "markdown",
   "metadata": {},
   "source": [
    "9. Modify the code so that it only outputs i if i is an odd number."
   ]
  },
  {
   "cell_type": "code",
   "execution_count": null,
   "metadata": {},
   "outputs": [],
   "source": [
    "for i in 1..10\n",
    "  puts i if i.odd?\n",
    "end"
   ]
  },
  {
   "cell_type": "markdown",
   "metadata": {},
   "source": [
    "10. Given the following array of names, use a for loop to greet each friend individually."
   ]
  },
  {
   "cell_type": "code",
   "execution_count": 42,
   "metadata": {},
   "outputs": [
    {
     "name": "stdout",
     "output_type": "stream",
     "text": [
      "Hello Sarah!\n",
      "Hello John!\n",
      "Hello Hannah!\n",
      "Hello Dave!\n"
     ]
    },
    {
     "data": {
      "text/plain": [
       "[\"Sarah\", \"John\", \"Hannah\", \"Dave\"]"
      ]
     },
     "execution_count": 42,
     "metadata": {},
     "output_type": "execute_result"
    }
   ],
   "source": [
    "friends = ['Sarah', 'John', 'Hannah', 'Dave']\n",
    "\n",
    "for friend in friends\n",
    "  puts \"Hello #{friend}!\"\n",
    "end\n"
   ]
  }
 ],
 "metadata": {
  "kernelspec": {
   "display_name": "Ruby 2.7.5",
   "language": "ruby",
   "name": "ruby"
  },
  "language_info": {
   "file_extension": ".rb",
   "mimetype": "application/x-ruby",
   "name": "ruby",
   "version": "2.7.5"
  },
  "orig_nbformat": 4
 },
 "nbformat": 4,
 "nbformat_minor": 2
}
