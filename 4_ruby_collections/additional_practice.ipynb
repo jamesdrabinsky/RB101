{
 "cells": [
  {
   "cell_type": "markdown",
   "metadata": {},
   "source": [
    "**1. Given the array below, turn this array into a hash where the names are the keys and the values are the positions in the array.**"
   ]
  },
  {
   "cell_type": "code",
   "execution_count": 40,
   "metadata": {},
   "outputs": [
    {
     "data": {
      "text/plain": [
       "{\"Fred\"=>0, \"Barney\"=>1, \"Wilma\"=>2, \"Betty\"=>3, \"Pebbles\"=>4, \"BamBam\"=>5}"
      ]
     },
     "execution_count": 40,
     "metadata": {},
     "output_type": "execute_result"
    }
   ],
   "source": [
    "flintstones.each_with_index.to_h"
   ]
  },
  {
   "cell_type": "code",
   "execution_count": 41,
   "metadata": {},
   "outputs": [
    {
     "data": {
      "text/plain": [
       "{\"Fred\"=>0, \"Barney\"=>1, \"Wilma\"=>2, \"Betty\"=>3, \"Pebbles\"=>4, \"BamBam\"=>5}"
      ]
     },
     "execution_count": 41,
     "metadata": {},
     "output_type": "execute_result"
    }
   ],
   "source": [
    "flintstones.map.with_index.to_h"
   ]
  },
  {
   "cell_type": "code",
   "execution_count": 18,
   "metadata": {},
   "outputs": [
    {
     "data": {
      "text/plain": [
       "{\"Fred\"=>0, \"Barney\"=>1, \"Wilma\"=>2, \"Betty\"=>3, \"Pebbles\"=>4, \"BamBam\"=>5}"
      ]
     },
     "execution_count": 18,
     "metadata": {},
     "output_type": "execute_result"
    }
   ],
   "source": [
    "flintstones = [\"Fred\", \"Barney\", \"Wilma\", \"Betty\", \"Pebbles\", \"BamBam\"]\n",
    "\n",
    "flintstones.map.with_index { |name, idx| [name, idx] }.to_h"
   ]
  },
  {
   "cell_type": "code",
   "execution_count": 51,
   "metadata": {},
   "outputs": [
    {
     "data": {
      "text/plain": [
       "{\"Fred\"=>0, \"Barney\"=>1, \"Wilma\"=>2, \"Betty\"=>3, \"Pebbles\"=>4, \"BamBam\"=>5}"
      ]
     },
     "execution_count": 51,
     "metadata": {},
     "output_type": "execute_result"
    }
   ],
   "source": [
    "hsh = Hash.new\n",
    "flintstones.each_with_index { |name, idx| hsh[name] = idx } \n",
    "\n",
    "hsh"
   ]
  },
  {
   "cell_type": "code",
   "execution_count": 19,
   "metadata": {},
   "outputs": [
    {
     "data": {
      "text/plain": [
       "{\"Fred\"=>0, \"Barney\"=>1, \"Wilma\"=>2, \"Betty\"=>3, \"Pebbles\"=>4, \"BamBam\"=>5}"
      ]
     },
     "execution_count": 19,
     "metadata": {},
     "output_type": "execute_result"
    }
   ],
   "source": [
    "flintstones = [\"Fred\", \"Barney\", \"Wilma\", \"Betty\", \"Pebbles\", \"BamBam\"]\n",
    "\n",
    "flintstones.each_with_index.each_with_object({}) { |(value, idx), hash| hash[value] = idx }"
   ]
  },
  {
   "cell_type": "markdown",
   "metadata": {},
   "source": [
    "**2. Add up all of the ages from the Munster family hash**"
   ]
  },
  {
   "cell_type": "code",
   "execution_count": 42,
   "metadata": {},
   "outputs": [
    {
     "data": {
      "text/plain": [
       "6174"
      ]
     },
     "execution_count": 42,
     "metadata": {},
     "output_type": "execute_result"
    }
   ],
   "source": [
    "ages = { \"Herman\" => 32, \"Lily\" => 30, \"Grandpa\" => 5843, \"Eddie\" => 10, \"Marilyn\" => 22, \"Spot\" => 237 }\n",
    "\n",
    "ages.each_value.sum"
   ]
  },
  {
   "cell_type": "code",
   "execution_count": 47,
   "metadata": {},
   "outputs": [
    {
     "data": {
      "text/plain": [
       "6174"
      ]
     },
     "execution_count": 47,
     "metadata": {},
     "output_type": "execute_result"
    }
   ],
   "source": [
    "ages.values.sum"
   ]
  },
  {
   "cell_type": "code",
   "execution_count": 49,
   "metadata": {},
   "outputs": [
    {
     "data": {
      "text/plain": [
       "6174"
      ]
     },
     "execution_count": 49,
     "metadata": {},
     "output_type": "execute_result"
    }
   ],
   "source": [
    "ages.each_value.reduce(&:+)"
   ]
  },
  {
   "cell_type": "code",
   "execution_count": 50,
   "metadata": {},
   "outputs": [
    {
     "data": {
      "text/plain": [
       "6174"
      ]
     },
     "execution_count": 50,
     "metadata": {},
     "output_type": "execute_result"
    }
   ],
   "source": [
    "ages.each_value.reduce { |total, value| total += value } "
   ]
  },
  {
   "cell_type": "markdown",
   "metadata": {},
   "source": [
    "**3. In the age hash remove people with age 100 and greater.**"
   ]
  },
  {
   "cell_type": "code",
   "execution_count": 57,
   "metadata": {},
   "outputs": [
    {
     "name": "stdout",
     "output_type": "stream",
     "text": [
      "{\"Herman\"=>32, \"Lily\"=>30, \"Eddie\"=>10}"
     ]
    }
   ],
   "source": [
    "ages = { \"Herman\" => 32, \"Lily\" => 30, \"Grandpa\" => 402, \"Eddie\" => 10 }\n",
    "\n",
    "ages.select! { |_, v| v < 100 }\n",
    "print ages"
   ]
  },
  {
   "cell_type": "code",
   "execution_count": 58,
   "metadata": {},
   "outputs": [
    {
     "name": "stdout",
     "output_type": "stream",
     "text": [
      "{\"Herman\"=>32, \"Lily\"=>30, \"Eddie\"=>10}"
     ]
    }
   ],
   "source": [
    "ages = { \"Herman\" => 32, \"Lily\" => 30, \"Grandpa\" => 402, \"Eddie\" => 10 }\n",
    "\n",
    "ages.delete_if { |_, v| v >= 100 }\n",
    "print ages"
   ]
  },
  {
   "cell_type": "code",
   "execution_count": 59,
   "metadata": {},
   "outputs": [
    {
     "name": "stdout",
     "output_type": "stream",
     "text": [
      "{\"Herman\"=>32, \"Lily\"=>30, \"Eddie\"=>10}"
     ]
    }
   ],
   "source": [
    "ages = { \"Herman\" => 32, \"Lily\" => 30, \"Grandpa\" => 402, \"Eddie\" => 10 }\n",
    "\n",
    "ages.keep_if { |_, v| v < 100}\n",
    "print ages"
   ]
  },
  {
   "cell_type": "markdown",
   "metadata": {},
   "source": [
    "`Hash#select!` is equivalent to `Hash#keep_if`, but returns `nil` if no changes were made, though in this case that wouldn't have made any difference."
   ]
  },
  {
   "cell_type": "markdown",
   "metadata": {},
   "source": [
    "**4. Pick out the minimum age from our current Munster family hash**"
   ]
  },
  {
   "cell_type": "code",
   "execution_count": 68,
   "metadata": {},
   "outputs": [
    {
     "data": {
      "text/plain": [
       "10"
      ]
     },
     "execution_count": 68,
     "metadata": {},
     "output_type": "execute_result"
    }
   ],
   "source": [
    "ages = { \"Herman\" => 32, \"Lily\" => 30, \"Grandpa\" => 5843, \"Eddie\" => 10, \"Marilyn\" => 22, \"Spot\" => 237 }\n",
    "\n",
    "ages.sort_by { |_, v| v }[0][1]"
   ]
  },
  {
   "cell_type": "code",
   "execution_count": 71,
   "metadata": {},
   "outputs": [
    {
     "data": {
      "text/plain": [
       "10"
      ]
     },
     "execution_count": 71,
     "metadata": {},
     "output_type": "execute_result"
    }
   ],
   "source": [
    "ages = { \"Herman\" => 32, \"Lily\" => 30, \"Grandpa\" => 5843, \"Eddie\" => 10, \"Marilyn\" => 22, \"Spot\" => 237 }\n",
    "\n",
    "ages.values.sort[0]"
   ]
  },
  {
   "cell_type": "code",
   "execution_count": 100,
   "metadata": {},
   "outputs": [
    {
     "data": {
      "text/plain": [
       "10"
      ]
     },
     "execution_count": 100,
     "metadata": {},
     "output_type": "execute_result"
    }
   ],
   "source": [
    "ages = { \"Herman\" => 32, \"Lily\" => 30, \"Grandpa\" => 5843, \"Eddie\" => 10, \"Marilyn\" => 22, \"Spot\" => 237 }\n",
    "\n",
    "ages.values.min"
   ]
  },
  {
   "cell_type": "code",
   "execution_count": 87,
   "metadata": {},
   "outputs": [
    {
     "data": {
      "text/plain": [
       "10"
      ]
     },
     "execution_count": 87,
     "metadata": {},
     "output_type": "execute_result"
    }
   ],
   "source": [
    "ages = { \"Herman\" => 32, \"Lily\" => 30, \"Grandpa\" => 5843, \"Eddie\" => 10, \"Marilyn\" => 22, \"Spot\" => 237 }\n",
    "\n",
    "ages.sort_by(&:last).map(&:last)[0]"
   ]
  },
  {
   "cell_type": "code",
   "execution_count": 95,
   "metadata": {},
   "outputs": [
    {
     "data": {
      "text/plain": [
       "10"
      ]
     },
     "execution_count": 95,
     "metadata": {},
     "output_type": "execute_result"
    }
   ],
   "source": [
    "ages = { \"Herman\" => 32, \"Lily\" => 30, \"Grandpa\" => 5843, \"Eddie\" => 10, \"Marilyn\" => 22, \"Spot\" => 237 }\n",
    "\n",
    "ages.sort {|a1, a2| a1[1] <=> a2[1] }.map(&:last)[0]"
   ]
  },
  {
   "cell_type": "markdown",
   "metadata": {},
   "source": [
    "**5. In the array Find the index of the first name that starts with \"Be\"**"
   ]
  },
  {
   "cell_type": "code",
   "execution_count": 129,
   "metadata": {},
   "outputs": [
    {
     "data": {
      "text/plain": [
       "3"
      ]
     },
     "execution_count": 129,
     "metadata": {},
     "output_type": "execute_result"
    }
   ],
   "source": [
    "flintstones = %w(Fred Barney Wilma Betty BamBam Pebbles)\n",
    "\n",
    "flintstones.each_with_index.find { |name, _| name.start_with?('Be') }.last"
   ]
  },
  {
   "cell_type": "code",
   "execution_count": 130,
   "metadata": {},
   "outputs": [
    {
     "data": {
      "text/plain": [
       "3"
      ]
     },
     "execution_count": 130,
     "metadata": {},
     "output_type": "execute_result"
    }
   ],
   "source": [
    "flintstones = %w(Fred Barney Wilma Betty BamBam Pebbles)\n",
    "\n",
    "flintstones.each_with_index.select { |name, _| name.start_with?('Be') }.first.last"
   ]
  },
  {
   "cell_type": "code",
   "execution_count": 134,
   "metadata": {},
   "outputs": [
    {
     "data": {
      "text/plain": [
       "3"
      ]
     },
     "execution_count": 134,
     "metadata": {},
     "output_type": "execute_result"
    }
   ],
   "source": [
    "flintstones = %w(Fred Barney Wilma Betty BamBam Pebbles)\n",
    "\n",
    "flintstones.index { |name| name.start_with?('Be') }"
   ]
  },
  {
   "cell_type": "markdown",
   "metadata": {},
   "source": [
    "**6. Amend this array so that the names are all shortened to just the first three characters:**"
   ]
  },
  {
   "cell_type": "code",
   "execution_count": 141,
   "metadata": {},
   "outputs": [
    {
     "name": "stdout",
     "output_type": "stream",
     "text": [
      "[\"Fre\", \"Bar\", \"Wil\", \"Bet\", \"Bam\", \"Peb\"]"
     ]
    }
   ],
   "source": [
    "flintstones = %w(Fred Barney Wilma Betty BamBam Pebbles)\n",
    "\n",
    "flintstones.map! { |word| word[0, 3] }\n",
    "print flintstones"
   ]
  },
  {
   "cell_type": "code",
   "execution_count": 137,
   "metadata": {},
   "outputs": [
    {
     "name": "stdout",
     "output_type": "stream",
     "text": [
      "[\"Fre\", \"Bar\", \"Wil\", \"Bet\", \"Bam\", \"Peb\"]"
     ]
    }
   ],
   "source": [
    "flintstones = %w(Fred Barney Wilma Betty BamBam Pebbles)\n",
    "\n",
    "flintstones.map! { |word| word[..2] }\n",
    "print flintstones"
   ]
  },
  {
   "cell_type": "code",
   "execution_count": 140,
   "metadata": {},
   "outputs": [
    {
     "name": "stdout",
     "output_type": "stream",
     "text": [
      "[\"Fre\", \"Bar\", \"Wil\", \"Bet\", \"Bam\", \"Peb\"]"
     ]
    }
   ],
   "source": [
    "flintstones = %w(Fred Barney Wilma Betty BamBam Pebbles)\n",
    "\n",
    "flintstones.map! { |word| word.slice(0, 3) }\n",
    "print flintstones"
   ]
  },
  {
   "cell_type": "markdown",
   "metadata": {},
   "source": [
    "**7. Create a hash that expresses the frequency with which each letter occurs in this string**"
   ]
  },
  {
   "cell_type": "code",
   "execution_count": 143,
   "metadata": {},
   "outputs": [
    {
     "data": {
      "text/plain": [
       "{\"T\"=>1, \"h\"=>1, \"e\"=>2, \" \"=>2, \"F\"=>1, \"l\"=>1, \"i\"=>1, \"n\"=>2, \"t\"=>2, \"s\"=>2, \"o\"=>2, \"R\"=>1, \"c\"=>1, \"k\"=>1}"
      ]
     },
     "execution_count": 143,
     "metadata": {},
     "output_type": "execute_result"
    }
   ],
   "source": [
    "statement = \"The Flintstones Rock\"\n",
    "\n",
    "statement.each_char.tally"
   ]
  },
  {
   "cell_type": "code",
   "execution_count": 145,
   "metadata": {},
   "outputs": [
    {
     "data": {
      "text/plain": [
       "{\"T\"=>1, \"h\"=>1, \"e\"=>2, \" \"=>2, \"F\"=>1, \"l\"=>1, \"i\"=>1, \"n\"=>2, \"t\"=>2, \"s\"=>2, \"o\"=>2, \"R\"=>1, \"c\"=>1, \"k\"=>1}"
      ]
     },
     "execution_count": 145,
     "metadata": {},
     "output_type": "execute_result"
    }
   ],
   "source": [
    "statement = \"The Flintstones Rock\"\n",
    "\n",
    "statement.chars.each_with_object(Hash.new(0)) { |value, hash| hash[value] += 1 }"
   ]
  },
  {
   "cell_type": "code",
   "execution_count": 147,
   "metadata": {},
   "outputs": [
    {
     "name": "stdout",
     "output_type": "stream",
     "text": [
      "{\"T\"=>1, \"h\"=>1, \"e\"=>2, \" \"=>2, \"F\"=>1, \"l\"=>1, \"i\"=>1, \"n\"=>2, \"t\"=>2, \"s\"=>2, \"o\"=>2, \"R\"=>1, \"c\"=>1, \"k\"=>1}"
     ]
    }
   ],
   "source": [
    "statement = \"The Flintstones Rock\"\n",
    "counter = Hash.new(0)\n",
    "\n",
    "statement.each_char.map { |value| counter[value] += 1 } \n",
    "\n",
    "print counter"
   ]
  },
  {
   "cell_type": "markdown",
   "metadata": {},
   "source": [
    "**8. What happens when we modify an array while we are iterating over it? What would be output by this code?**"
   ]
  },
  {
   "cell_type": "code",
   "execution_count": 164,
   "metadata": {},
   "outputs": [
    {
     "name": "stdout",
     "output_type": "stream",
     "text": [
      "1\n",
      "3\n"
     ]
    },
    {
     "data": {
      "text/plain": [
       "[3, 4]"
      ]
     },
     "execution_count": 164,
     "metadata": {},
     "output_type": "execute_result"
    }
   ],
   "source": [
    "numbers = [1, 2, 3, 4]\n",
    "numbers.each do |number|\n",
    "  p number\n",
    "  numbers.shift(1)\n",
    "end"
   ]
  },
  {
   "cell_type": "code",
   "execution_count": 166,
   "metadata": {},
   "outputs": [
    {
     "name": "stdout",
     "output_type": "stream",
     "text": [
      "\"0  [1, 2, 3, 4]  1\"\n",
      "\"1  [2, 3, 4]  3\"\n"
     ]
    },
    {
     "data": {
      "text/plain": [
       "[3, 4]"
      ]
     },
     "execution_count": 166,
     "metadata": {},
     "output_type": "execute_result"
    }
   ],
   "source": [
    "numbers = [1, 2, 3, 4]\n",
    "numbers.each_with_index do |number, index|\n",
    "  p \"#{index}  #{numbers.inspect}  #{number}\"\n",
    "  numbers.shift(1)\n",
    "end"
   ]
  },
  {
   "cell_type": "code",
   "execution_count": 160,
   "metadata": {},
   "outputs": [
    {
     "name": "stdout",
     "output_type": "stream",
     "text": [
      "1\n",
      "2\n"
     ]
    },
    {
     "data": {
      "text/plain": [
       "[1, 2]"
      ]
     },
     "execution_count": 160,
     "metadata": {},
     "output_type": "execute_result"
    }
   ],
   "source": [
    "numbers = [1, 2, 3, 4]\n",
    "numbers.each do |number|\n",
    "  p number\n",
    "  numbers.pop(1)\n",
    "end"
   ]
  },
  {
   "cell_type": "markdown",
   "metadata": {},
   "source": [
    "From this we see that our array is being changed as we go (shortened and shifted), and the loop counter used by `#each` is compared against the current length of the array rather than its original length.\n",
    "\n",
    "In our first example, the removal of the first item in the first pass changes the value found for the second pass.\n",
    "\n",
    "In our second example, we are shortening the array each pass just as in the first example...but the items removed are beyond the point we are sampling from in the abbreviated loop.\n",
    "\n",
    "In both cases we see that iterators DO NOT work on a copy of the original array or from stale meta-data (length) about the array. They operate on the original array in real time."
   ]
  },
  {
   "cell_type": "markdown",
   "metadata": {},
   "source": [
    "**9. A notably missing method is something provided in Rails, but not in Ruby itself...`titleize`. This method in Ruby on Rails creates a string that has each word capitalized as it would be in a title. For example, the string.  Write your own version of the rails titleize implementation.**"
   ]
  },
  {
   "cell_type": "code",
   "execution_count": 170,
   "metadata": {},
   "outputs": [
    {
     "data": {
      "text/plain": [
       "\"The Flintstones Rock\""
      ]
     },
     "execution_count": 170,
     "metadata": {},
     "output_type": "execute_result"
    }
   ],
   "source": [
    "words = \"the flintstones rock\"\n",
    "words.split.map { |word| word.capitalize }.join(' ')"
   ]
  },
  {
   "cell_type": "code",
   "execution_count": 169,
   "metadata": {},
   "outputs": [
    {
     "data": {
      "text/plain": [
       "\"The Flintstones Rock\""
      ]
     },
     "execution_count": 169,
     "metadata": {},
     "output_type": "execute_result"
    }
   ],
   "source": [
    "words = \"the flintstones rock\"\n",
    "words.split.map { |word| word[0].upcase + word[1..] }.join(' ')"
   ]
  },
  {
   "cell_type": "markdown",
   "metadata": {},
   "source": [
    "**10. Given the munsters hash below, Modify the hash such that each member of the Munster family has an additional \"age_group\" key that has one of three values describing the age group the family member is in (kid, adult, or senior). Your solution should produce the hash below**\n",
    "\n",
    "**Note: a kid is in the age range 0 - 17, an adult is in the range 18 - 64 and a senior is aged 65+.**"
   ]
  },
  {
   "cell_type": "code",
   "execution_count": 178,
   "metadata": {},
   "outputs": [
    {
     "data": {
      "text/plain": [
       "{\"Herman\"=>{\"age\"=>32, \"gender\"=>\"male\", \"age_group\"=>\"adult\"}, \"Lily\"=>{\"age\"=>30, \"gender\"=>\"female\", \"age_group\"=>\"adult\"}, \"Grandpa\"=>{\"age\"=>402, \"gender\"=>\"male\", \"age_group\"=>\"senior\"}, \"Eddie\"=>{\"age\"=>10, \"gender\"=>\"male\", \"age_group\"=>\"kid\"}, \"Marilyn\"=>{\"age\"=>23, \"gender\"=>\"female\", \"age_group\"=>\"adult\"}}"
      ]
     },
     "execution_count": 178,
     "metadata": {},
     "output_type": "execute_result"
    }
   ],
   "source": [
    "munsters = {\n",
    "  \"Herman\" => { \"age\" => 32, \"gender\" => \"male\" },\n",
    "  \"Lily\" => { \"age\" => 30, \"gender\" => \"female\" },\n",
    "  \"Grandpa\" => { \"age\" => 402, \"gender\" => \"male\" },\n",
    "  \"Eddie\" => { \"age\" => 10, \"gender\" => \"male\" },\n",
    "  \"Marilyn\" => { \"age\" => 23, \"gender\" => \"female\"}\n",
    "}\n",
    "\n",
    "munsters.each do |_, value| \n",
    "  value['age_group'] = case value['age']\n",
    "                       when 0..18 then 'kid'\n",
    "                       when 18..64 then 'adult'\n",
    "                       else 'senior'\n",
    "                       end \n",
    "end"
   ]
  }
 ],
 "metadata": {
  "kernelspec": {
   "display_name": "Ruby 2.7.5",
   "language": "ruby",
   "name": "ruby"
  },
  "language_info": {
   "file_extension": ".rb",
   "mimetype": "application/x-ruby",
   "name": "ruby",
   "version": "2.7.5"
  },
  "orig_nbformat": 4
 },
 "nbformat": 4,
 "nbformat_minor": 2
}
