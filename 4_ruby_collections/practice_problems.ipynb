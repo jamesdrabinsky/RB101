{
 "cells": [
  {
   "cell_type": "markdown",
   "metadata": {},
   "source": [
    "1. What is the return value of the select method below? Why?"
   ]
  },
  {
   "cell_type": "code",
   "execution_count": 4,
   "metadata": {},
   "outputs": [
    {
     "data": {
      "text/plain": [
       "[1, 2, 3]"
      ]
     },
     "execution_count": 4,
     "metadata": {},
     "output_type": "execute_result"
    }
   ],
   "source": [
    "[1, 2, 3].select do |num|\n",
    "  num > 5\n",
    "  'hi'\n",
    "end"
   ]
  },
  {
   "cell_type": "markdown",
   "metadata": {},
   "source": [
    "`select` performs selection based on the truthiness of the block's return value. In this case the return value will always be `'hi'`, which is a \"truthy\" value. Therefore select will return a new array containing all of the elements in the original array."
   ]
  },
  {
   "cell_type": "markdown",
   "metadata": {},
   "source": [
    "2. How does `count` treat the block's return value? How can we find out?"
   ]
  },
  {
   "cell_type": "code",
   "execution_count": 7,
   "metadata": {},
   "outputs": [
    {
     "data": {
      "text/plain": [
       "2"
      ]
     },
     "execution_count": 7,
     "metadata": {},
     "output_type": "execute_result"
    }
   ],
   "source": [
    "['ant', 'bat', 'caterpillar'].count do |str|\n",
    "  str.length < 4\n",
    "end"
   ]
  },
  {
   "cell_type": "markdown",
   "metadata": {},
   "source": [
    "If a block is given, `count` counts the number of elements for which the block returns a `true` value.  This means that count considers the truthiness of the block's return value."
   ]
  },
  {
   "cell_type": "markdown",
   "metadata": {},
   "source": [
    "3. What is the return value of `reject` in the following code? Why?"
   ]
  },
  {
   "cell_type": "code",
   "execution_count": 10,
   "metadata": {},
   "outputs": [
    {
     "name": "stdout",
     "output_type": "stream",
     "text": [
      "1\n",
      "2\n",
      "3\n"
     ]
    },
    {
     "data": {
      "text/plain": [
       "[1, 2, 3]"
      ]
     },
     "execution_count": 10,
     "metadata": {},
     "output_type": "execute_result"
    }
   ],
   "source": [
    "[1, 2, 3].reject do |num|\n",
    "  puts num\n",
    "end"
   ]
  },
  {
   "cell_type": "markdown",
   "metadata": {},
   "source": [
    "`reject` returns a new array containing the items in self for which the given block is `not true` or \"falsey\". In other words, if the return value was `false` or `nil` the element would be selected.\n",
    "\n",
    "`puts num` returns `nil`, which is falsy, therefore `reject` will return a new array with the same values."
   ]
  },
  {
   "cell_type": "markdown",
   "metadata": {},
   "source": [
    "4. What is the return value of each_with_object in the following code? Why?"
   ]
  },
  {
   "cell_type": "code",
   "execution_count": 11,
   "metadata": {},
   "outputs": [
    {
     "data": {
      "text/plain": [
       "{\"a\"=>\"ant\", \"b\"=>\"bear\", \"c\"=>\"cat\"}"
      ]
     },
     "execution_count": 11,
     "metadata": {},
     "output_type": "execute_result"
    }
   ],
   "source": [
    "['ant', 'bear', 'cat'].each_with_object({}) do |value, hash|\n",
    "  hash[value[0]] = value\n",
    "end"
   ]
  },
  {
   "cell_type": "markdown",
   "metadata": {},
   "source": [
    "`each_with_object` iterates the given block for each element with an arbitrary object given, and returns the initially given object.\n",
    "\n",
    "Based on our knowledge of `each`, it might be reasonable to think that `each_with_object` returns the original collection. That isn't the case, though. When we invoke `each_with_object`, we pass in an object (`{}` here) as an argument. That object is then passed into the block and its updated value is returned at the end of each iteration. Once `each_with_object` has iterated over the calling collection, it returns the initially given object, which now contains all of the updates.\n",
    "\n",
    "In this code, we start with the `hash` object, `{}`. On the first iteration, we add `\"a\" => \"ant\"` to the hash. On the second, we add `\"b\" => \"bear\"`, and on the last iteration, we add `\"c\" => \"cat\"`. Thus, `#each_with_object` in this example returns a hash with those 3 elements.\n"
   ]
  },
  {
   "cell_type": "markdown",
   "metadata": {},
   "source": [
    "5. What does `shift` do in the following code? How can we find out?"
   ]
  },
  {
   "cell_type": "code",
   "execution_count": 12,
   "metadata": {},
   "outputs": [
    {
     "data": {
      "text/plain": [
       "[:a, \"ant\"]"
      ]
     },
     "execution_count": 12,
     "metadata": {},
     "output_type": "execute_result"
    }
   ],
   "source": [
    "hash = { a: 'ant', b: 'bear' }\n",
    "hash.shift"
   ]
  },
  {
   "cell_type": "markdown",
   "metadata": {},
   "source": [
    "`shift` removes a key-value pair from `hsh` destructively and returns it as the two-item array `[ key, value ]`, or the hash's default value if the hash is empty.\n",
    "\n",
    "In this code, `shift` will remove `[:a, 'ant']` from the hash and return it.  "
   ]
  },
  {
   "cell_type": "markdown",
   "metadata": {},
   "source": [
    "6. What is the return value of the following statement? Why?"
   ]
  },
  {
   "cell_type": "code",
   "execution_count": 16,
   "metadata": {},
   "outputs": [
    {
     "data": {
      "text/plain": [
       "11"
      ]
     },
     "execution_count": 16,
     "metadata": {},
     "output_type": "execute_result"
    }
   ],
   "source": [
    "['ant', 'bear', 'caterpillar'].pop.size"
   ]
  },
  {
   "cell_type": "markdown",
   "metadata": {},
   "source": [
    "`pop` removes the last item of an array destructively and returns that item.  \n",
    "\n",
    "This code will return the result of call `String#size` on `'captepillar'` which is `11`"
   ]
  },
  {
   "cell_type": "markdown",
   "metadata": {},
   "source": [
    "7. What is the **block's** return value in the following code? How is it determined? Also, what is the return value of `any?` in this code and what does it output?"
   ]
  },
  {
   "cell_type": "code",
   "execution_count": 19,
   "metadata": {},
   "outputs": [
    {
     "name": "stdout",
     "output_type": "stream",
     "text": [
      "1\n"
     ]
    },
    {
     "data": {
      "text/plain": [
       "true"
      ]
     },
     "execution_count": 19,
     "metadata": {},
     "output_type": "execute_result"
    }
   ],
   "source": [
    "[1, 2, 3].any? do |num|\n",
    "  puts num\n",
    "  num.odd?\n",
    "end"
   ]
  },
  {
   "cell_type": "markdown",
   "metadata": {},
   "source": [
    "`any?` passes each element of the collection to the given block. The method returns `true` if the block ever returns a value other than `false` or `nil`. \n",
    "\n",
    "The return value of the block is determined by the return value of the last expression within the block. In this case the last statement evaluated is `num.odd?`, which returns a `boolean`. Therefore the block's return value will be a `boolean`, since `Integer#odd?` can only return `true` or `false`.\n",
    "\n",
    "Since the `Array#any?` method returns `true` if the block ever returns a value other than `false` or `nil`, and the block returns `true` on the first iteration, we know that `any?` will return `true`. \n",
    "\n",
    "What is also interesting here is `any?` stops iterating after this point since there is no need to evaluate the remaining items in the array; therefore, `puts num `is only ever invoked for the first item in the array: `1`."
   ]
  },
  {
   "cell_type": "markdown",
   "metadata": {},
   "source": [
    "8. How does `take` work? Is it destructive? How can we find out?"
   ]
  },
  {
   "cell_type": "code",
   "execution_count": 23,
   "metadata": {},
   "outputs": [
    {
     "name": "stdout",
     "output_type": "stream",
     "text": [
      "[1, 2, 3, 4, 5]\n",
      "[1, 2]\n"
     ]
    }
   ],
   "source": [
    "arr = [1, 2, 3, 4, 5]\n",
    "new_arr = arr.take(2)\n",
    "\n",
    "puts arr.inspect\n",
    "puts new_arr.inspect"
   ]
  },
  {
   "cell_type": "markdown",
   "metadata": {},
   "source": [
    "`take` returns first `n` elements from the array and returns a new array.  It is not destructive."
   ]
  },
  {
   "cell_type": "markdown",
   "metadata": {},
   "source": [
    "9. What is the return value of map in the following code? Why?"
   ]
  },
  {
   "cell_type": "code",
   "execution_count": 24,
   "metadata": {},
   "outputs": [
    {
     "data": {
      "text/plain": [
       "[nil, \"bear\"]"
      ]
     },
     "execution_count": 24,
     "metadata": {},
     "output_type": "execute_result"
    }
   ],
   "source": [
    "{ a: 'ant', b: 'bear' }.map do |key, value|\n",
    "  if value.size > 3\n",
    "    value\n",
    "  end\n",
    "end "
   ]
  },
  {
   "cell_type": "markdown",
   "metadata": {},
   "source": [
    "The return value of `map` is an `array`, which is the collection type that `map` always returns. \n",
    "\n",
    "If we look at the `if` condition (`value.size > 3`), we'll notice that it evaluates as `true` when the length of `value` is greater than 3. In this case, the only value with a length greater than 3 is `'bear'`. This means that for the first element, 'ant', the condition evaluates as `false` and value isn't returned.\n",
    "\n",
    "When none of the conditions in an `if` statement evaluates as `true`, the `if` statement itself returns `nil`. That's why we see `nil` as the first element in the returned array."
   ]
  },
  {
   "cell_type": "markdown",
   "metadata": {},
   "source": [
    "10. What is the return value of the following code? Why?"
   ]
  },
  {
   "cell_type": "code",
   "execution_count": 25,
   "metadata": {},
   "outputs": [
    {
     "name": "stdout",
     "output_type": "stream",
     "text": [
      "2\n",
      "3\n"
     ]
    },
    {
     "data": {
      "text/plain": [
       "[1, nil, nil]"
      ]
     },
     "execution_count": 25,
     "metadata": {},
     "output_type": "execute_result"
    }
   ],
   "source": [
    "[1, 2, 3].map do |num|\n",
    "  if num > 1\n",
    "    puts num\n",
    "  else\n",
    "    num\n",
    "  end\n",
    "end"
   ]
  },
  {
   "cell_type": "markdown",
   "metadata": {},
   "source": [
    "When the `if` condition in the block evaluates as `true`, it outputs the number from the array and returns `nil`. When it evaluates as `false` it returns the number.  Therefore, the return value of the code will be `[1, nil, nil]`."
   ]
  },
  {
   "cell_type": "markdown",
   "metadata": {},
   "source": [
    "We can determine the block's return value by looking at the return value of the last statement evaluated within the block. In this case it's a bit tricky because of the `if` statement. \n",
    "s\n",
    "For the first element, the `if` condition evaluates as `false`, which means `num` is the block's return value for that iteration.\n",
    "\n",
    "For the rest of the elements in the array, `num > 1` evaluates as `true`, which means `puts num` is the last statement evaluated, which in turn, means that the block's return value is `nil` for those iterations."
   ]
  }
 ],
 "metadata": {
  "kernelspec": {
   "display_name": "Ruby 2.7.5",
   "language": "ruby",
   "name": "ruby"
  },
  "language_info": {
   "file_extension": ".rb",
   "mimetype": "application/x-ruby",
   "name": "ruby",
   "version": "2.7.5"
  },
  "orig_nbformat": 4
 },
 "nbformat": 4,
 "nbformat_minor": 2
}
