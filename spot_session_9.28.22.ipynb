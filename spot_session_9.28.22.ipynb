{
 "cells": [
  {
   "cell_type": "markdown",
   "metadata": {},
   "source": [
    "Given an array of integers, count all pairs in that array and return their count.\n",
    "\n",
    "```ruby\n",
    "pairs([1, 2, 5, 6, 5, 2]) # => 2\n",
    "pairs([1, 2, 2, 20, 6, 20, 2, 6, 2]) # => 4\n",
    "pairs([0, 0, 0, 0]) # => 2\n",
    "```"
   ]
  },
  {
   "cell_type": "markdown",
   "metadata": {},
   "source": [
    "### P:\n",
    "\n",
    "Input: array of integers\n",
    "Output: integer (representing number of pairs in array)\n",
    "\n",
    "- If there are multiple pairs, count each pair once\n",
    "- If input is an empty array, return `0`.\n",
    "- If the input array contains only one value then return `0`.\n",
    "- Each element in the array can only be part of one pair.\n",
    "- Pairs don't have to be consecutive\n",
    "\n",
    "### D\n",
    "\n",
    "Input: array<br>\n",
    "Output: integer\n",
    "Possibly use a hash to keep track of counts?\n",
    "\n",
    "### A\n",
    "\n",
    "- Initialize a hash with a default value of 0:\n",
    "    - keys: elements in an array\n",
    "    - values: increment by one each time the value in occurs in the array\n",
    "\n"
   ]
  },
  {
   "cell_type": "code",
   "execution_count": null,
   "metadata": {},
   "outputs": [],
   "source": [
    "# pairs([1, 2, 5, 6, 5, 2]) # => 2\n",
    "# pairs([1, 2, 2, 20, 6, 20, 2, 6, 2]) # => 4\n",
    "# pairs([0, 0, 0, 0]) # => 2"
   ]
  },
  {
   "cell_type": "code",
   "execution_count": 17,
   "metadata": {},
   "outputs": [
    {
     "data": {
      "text/plain": [
       ":pairs"
      ]
     },
     "execution_count": 17,
     "metadata": {},
     "output_type": "execute_result"
    }
   ],
   "source": [
    "def pairs(arr)\n",
    "  hsh = Hash.new(0)\n",
    "  count = 0\n",
    "\n",
    "  arr.each do |num|\n",
    "    hsh[num] += 1\n",
    "    if hsh[num] == 2\n",
    "      count += 1\n",
    "      hsh[num] = 0\n",
    "    end\n",
    "  end\n",
    "  count\n",
    "end"
   ]
  },
  {
   "cell_type": "code",
   "execution_count": 27,
   "metadata": {},
   "outputs": [
    {
     "data": {
      "text/plain": [
       ":pairs"
      ]
     },
     "execution_count": 27,
     "metadata": {},
     "output_type": "execute_result"
    }
   ],
   "source": [
    "def pairs(arr)\n",
    "  count = arr.tally\n",
    "  count.each_value.map { |v| v / 2 }.sum\n",
    "end"
   ]
  },
  {
   "cell_type": "code",
   "execution_count": 41,
   "metadata": {},
   "outputs": [
    {
     "data": {
      "text/plain": [
       ":pairs"
      ]
     },
     "execution_count": 41,
     "metadata": {},
     "output_type": "execute_result"
    }
   ],
   "source": [
    "def pairs(arr)\n",
    "  arr.tally.sum { |_, v| v / 2 }\n",
    "end"
   ]
  }
 ],
 "metadata": {
  "kernelspec": {
   "display_name": "Ruby 2.7.5",
   "language": "ruby",
   "name": "ruby"
  },
  "language_info": {
   "file_extension": ".rb",
   "mimetype": "application/x-ruby",
   "name": "ruby",
   "version": "2.7.5"
  },
  "orig_nbformat": 4
 },
 "nbformat": 4,
 "nbformat_minor": 2
}
